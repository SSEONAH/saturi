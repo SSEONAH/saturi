{
 "cells": [
  {
   "cell_type": "code",
   "execution_count": 1,
   "id": "ecf24f1d",
   "metadata": {},
   "outputs": [],
   "source": [
    "import pandas as pd"
   ]
  },
  {
   "cell_type": "code",
   "execution_count": 2,
   "id": "042d563c",
   "metadata": {},
   "outputs": [],
   "source": [
    "import os\n",
    "directory = os.getenv('HOME') + '/aiffel/aiffelthon/'"
   ]
  },
  {
   "cell_type": "code",
   "execution_count": 3,
   "id": "48340bc4",
   "metadata": {},
   "outputs": [
    {
     "data": {
      "text/plain": [
       "['MODELtf_ckpts_gd12_r1',\n",
       " 'reg_2',\n",
       " 'past_files',\n",
       " '.ipynb_checkpoints',\n",
       " '[라벨]제주도_학습용데이터_1.zip',\n",
       " 'corpus_ko.txt',\n",
       " '[라벨]전라도_학습데이터_1.zip',\n",
       " 'added',\n",
       " 'final',\n",
       " '[라벨]경상도_학습데이터_1.zip',\n",
       " 'reg_1',\n",
       " 'reg_4',\n",
       " 'datset_full_raw_needs_translation_0221_v2.csv',\n",
       " '[라벨]충청도_학습데이터_1.zip',\n",
       " 'reg_5',\n",
       " 'saturi_crawling_thesaurus_0223.csv',\n",
       " 'final_dataset.zip',\n",
       " '[라벨]강원도_학습데이터_1.zip',\n",
       " 'reg_3',\n",
       " 'corpus_en.txt']"
      ]
     },
     "execution_count": 3,
     "metadata": {},
     "output_type": "execute_result"
    }
   ],
   "source": [
    "os.listdir(directory)"
   ]
  },
  {
   "cell_type": "code",
   "execution_count": 5,
   "id": "2a705758",
   "metadata": {},
   "outputs": [],
   "source": [
    "df = pd.read_csv(directory + 'saturi_crawling_thesaurus_0223.csv')"
   ]
  },
  {
   "cell_type": "code",
   "execution_count": 6,
   "id": "0550e938",
   "metadata": {},
   "outputs": [
    {
     "name": "stdout",
     "output_type": "stream",
     "text": [
      "<class 'pandas.core.frame.DataFrame'>\n",
      "RangeIndex: 82401 entries, 0 to 82400\n",
      "Data columns (total 4 columns):\n",
      " #   Column    Non-Null Count  Dtype \n",
      "---  ------    --------------  ----- \n",
      " 0   dial      82401 non-null  object\n",
      " 1   original  82401 non-null  object\n",
      " 2   meaning   82401 non-null  object\n",
      " 3   reg       82401 non-null  object\n",
      "dtypes: object(4)\n",
      "memory usage: 2.5+ MB\n"
     ]
    }
   ],
   "source": [
    "df.info()"
   ]
  },
  {
   "cell_type": "code",
   "execution_count": 7,
   "id": "ca1ff717",
   "metadata": {},
   "outputs": [
    {
     "data": {
      "text/plain": [
       "gs    25859\n",
       "jd    18487\n",
       "jj    16794\n",
       "kw    15075\n",
       "cc     6186\n",
       "Name: reg, dtype: int64"
      ]
     },
     "execution_count": 7,
     "metadata": {},
     "output_type": "execute_result"
    }
   ],
   "source": [
    "df.reg.value_counts()"
   ]
  },
  {
   "cell_type": "code",
   "execution_count": 8,
   "id": "52aadb2a",
   "metadata": {},
   "outputs": [
    {
     "data": {
      "text/html": [
       "<div>\n",
       "<style scoped>\n",
       "    .dataframe tbody tr th:only-of-type {\n",
       "        vertical-align: middle;\n",
       "    }\n",
       "\n",
       "    .dataframe tbody tr th {\n",
       "        vertical-align: top;\n",
       "    }\n",
       "\n",
       "    .dataframe thead th {\n",
       "        text-align: right;\n",
       "    }\n",
       "</style>\n",
       "<table border=\"1\" class=\"dataframe\">\n",
       "  <thead>\n",
       "    <tr style=\"text-align: right;\">\n",
       "      <th></th>\n",
       "      <th>dial</th>\n",
       "      <th>original</th>\n",
       "      <th>meaning</th>\n",
       "      <th>reg</th>\n",
       "    </tr>\n",
       "  </thead>\n",
       "  <tbody>\n",
       "    <tr>\n",
       "      <th>0</th>\n",
       "      <td>분쉬</td>\n",
       "      <td>분수</td>\n",
       "      <td>분수의 방언, 사물을 분별하는 지혜.</td>\n",
       "      <td>jj</td>\n",
       "    </tr>\n",
       "    <tr>\n",
       "      <th>1</th>\n",
       "      <td>분시</td>\n",
       "      <td>분수</td>\n",
       "      <td>분수의 방언, 사물을 분별하는 지혜.</td>\n",
       "      <td>jj</td>\n",
       "    </tr>\n",
       "    <tr>\n",
       "      <th>2</th>\n",
       "      <td>분절</td>\n",
       "      <td>분결</td>\n",
       "      <td>분결의 방언, 분한 마음이 왈칵 일어난 바람.</td>\n",
       "      <td>jj</td>\n",
       "    </tr>\n",
       "    <tr>\n",
       "      <th>3</th>\n",
       "      <td>분채</td>\n",
       "      <td>부채</td>\n",
       "      <td>부채의 방언, 손으로 흔들어 바람을 일으키는 물건. 대오리로 살을 하고 종이나 헝...</td>\n",
       "      <td>jj</td>\n",
       "    </tr>\n",
       "    <tr>\n",
       "      <th>4</th>\n",
       "      <td>분채질</td>\n",
       "      <td>부채질</td>\n",
       "      <td>부채질의 방언, 부채를 흔들어 바람을 일으키는 일.</td>\n",
       "      <td>jj</td>\n",
       "    </tr>\n",
       "  </tbody>\n",
       "</table>\n",
       "</div>"
      ],
      "text/plain": [
       "  dial original                                            meaning reg\n",
       "0   분쉬       분수                               분수의 방언, 사물을 분별하는 지혜.  jj\n",
       "1  분시        분수                               분수의 방언, 사물을 분별하는 지혜.  jj\n",
       "2   분절       분결                          분결의 방언, 분한 마음이 왈칵 일어난 바람.  jj\n",
       "3   분채       부채   부채의 방언, 손으로 흔들어 바람을 일으키는 물건. 대오리로 살을 하고 종이나 헝...  jj\n",
       "4  분채질      부채질                       부채질의 방언, 부채를 흔들어 바람을 일으키는 일.  jj"
      ]
     },
     "execution_count": 8,
     "metadata": {},
     "output_type": "execute_result"
    }
   ],
   "source": [
    "df.head()"
   ]
  },
  {
   "cell_type": "code",
   "execution_count": 9,
   "id": "eb35ebca",
   "metadata": {},
   "outputs": [
    {
     "data": {
      "text/plain": [
       "0                              분쉬 분수\n",
       "1                             분시  분수\n",
       "2                              분절 분결\n",
       "3                              분채 부채\n",
       "4                            분채질 부채질\n",
       "                    ...             \n",
       "82396                      대근하다 고단하다\n",
       "82397                        대무하다 크다\n",
       "82398                      대장실하다 담차다\n",
       "82399                      덜퍽시다 덜퍽지다\n",
       "82400    덩시렇다 둥그스름한 것이 높이 솟은 상태에 있다,\n",
       "Length: 82401, dtype: object"
      ]
     },
     "execution_count": 9,
     "metadata": {},
     "output_type": "execute_result"
    }
   ],
   "source": [
    "input_word = df['dial'] + df['original']\n",
    "input_word"
   ]
  },
  {
   "cell_type": "code",
   "execution_count": 14,
   "id": "e4900783",
   "metadata": {},
   "outputs": [],
   "source": [
    "txt_lst = input_word.tolist()"
   ]
  },
  {
   "cell_type": "code",
   "execution_count": 15,
   "id": "1b139dd3",
   "metadata": {},
   "outputs": [],
   "source": [
    "from gensim.test.utils import datapath\n",
    "from gensim import utils\n",
    "\n",
    "class MyCorpus:\n",
    "    \"\"\"An iterator that yields sentences (lists of str).\"\"\"\n",
    "\n",
    "    def __iter__(self):\n",
    "        corpus_path = datapath(txt_lst)\n",
    "        for line in open(corpus_path):\n",
    "            # assume there's one document per line, tokens separated by whitespace\n",
    "            yield utils.simple_preprocess(line)"
   ]
  },
  {
   "cell_type": "code",
   "execution_count": null,
   "id": "13b659e8",
   "metadata": {},
   "outputs": [],
   "source": [
    "sentences = MyCorpus"
   ]
  }
 ],
 "metadata": {
  "kernelspec": {
   "display_name": "Python 3 (ipykernel)",
   "language": "python",
   "name": "python3"
  },
  "language_info": {
   "codemirror_mode": {
    "name": "ipython",
    "version": 3
   },
   "file_extension": ".py",
   "mimetype": "text/x-python",
   "name": "python",
   "nbconvert_exporter": "python",
   "pygments_lexer": "ipython3",
   "version": "3.9.7"
  }
 },
 "nbformat": 4,
 "nbformat_minor": 5
}
