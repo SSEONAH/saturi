{
 "cells": [
  {
   "cell_type": "code",
   "execution_count": 1,
   "id": "5d579a0c",
   "metadata": {},
   "outputs": [],
   "source": [
    "# !pip install transformers --upgrade\n",
    "from transformers import pipeline\n",
    "import torch"
   ]
  },
  {
   "cell_type": "code",
   "execution_count": 2,
   "id": "ba6fd61c",
   "metadata": {},
   "outputs": [],
   "source": [
    "model_ckpt = 'Helsinki-NLP/opus-mt-ko-en'\n",
    "model_ckpt2 = 'alphahg/opus-mt-ko-en-finetuned-ko-to-en100'"
   ]
  },
  {
   "cell_type": "code",
   "execution_count": 78,
   "id": "089acced",
   "metadata": {},
   "outputs": [],
   "source": [
    "pipe = pipeline('translation', model = model_ckpt,  device=0)"
   ]
  },
  {
   "cell_type": "code",
   "execution_count": 79,
   "id": "bcef1a34",
   "metadata": {},
   "outputs": [],
   "source": [
    "pipe2 = pipeline('translation', model=model_ckpt2, device=0)"
   ]
  },
  {
   "cell_type": "code",
   "execution_count": 80,
   "id": "480d6ee3",
   "metadata": {},
   "outputs": [
    {
     "data": {
      "text/plain": [
       "[{'translation_text': 'Hi. What are you doing today?'}]"
      ]
     },
     "execution_count": 80,
     "metadata": {},
     "output_type": "execute_result"
    }
   ],
   "source": [
    "pipe('안녕하세요 오늘 뭐해요?')"
   ]
  },
  {
   "cell_type": "code",
   "execution_count": 81,
   "id": "2ed63360",
   "metadata": {},
   "outputs": [
    {
     "data": {
      "text/plain": [
       "[{'translation_text': 'Hi. What are you doing today?'}]"
      ]
     },
     "execution_count": 81,
     "metadata": {},
     "output_type": "execute_result"
    }
   ],
   "source": [
    "pipe2('안녕하세요 오늘 뭐해요?')"
   ]
  },
  {
   "cell_type": "code",
   "execution_count": 82,
   "id": "9d67ec00",
   "metadata": {},
   "outputs": [],
   "source": [
    "import os"
   ]
  },
  {
   "cell_type": "code",
   "execution_count": 83,
   "id": "23a0367d",
   "metadata": {},
   "outputs": [],
   "source": [
    "directory = os.getenv('HOME') + '/aiffel/aiffelthon/'"
   ]
  },
  {
   "cell_type": "code",
   "execution_count": 84,
   "id": "c0103234",
   "metadata": {},
   "outputs": [
    {
     "data": {
      "text/plain": [
       "['reg_2',\n",
       " '[라벨]제주도_학습용데이터_1.zip',\n",
       " 'dataset_full_v1.csv',\n",
       " '[라벨]전라도_학습데이터_1.zip',\n",
       " 'dataset_v1.csv',\n",
       " '[라벨]경상도_학습데이터_1.zip',\n",
       " 'reg_1',\n",
       " 'reg_4',\n",
       " '[라벨]충청도_학습데이터_1.zip',\n",
       " 'dataset_full_v2.csv',\n",
       " 'reg_5',\n",
       " '[라벨]강원도_학습데이터_1.zip',\n",
       " 'reg_3']"
      ]
     },
     "execution_count": 84,
     "metadata": {},
     "output_type": "execute_result"
    }
   ],
   "source": [
    "os.listdir(directory)"
   ]
  },
  {
   "cell_type": "code",
   "execution_count": 10,
   "id": "461a5c84",
   "metadata": {},
   "outputs": [],
   "source": [
    "import pandas as pd\n",
    "df = pd.read_csv(directory + 'dataset_full_v1.csv')"
   ]
  },
  {
   "cell_type": "code",
   "execution_count": 11,
   "id": "aa36df2f",
   "metadata": {},
   "outputs": [],
   "source": [
    "df['text'] = df['text'].str.replace('[\\(\\)]','',regex=True)"
   ]
  },
  {
   "cell_type": "code",
   "execution_count": 85,
   "id": "5c88b942",
   "metadata": {},
   "outputs": [],
   "source": [
    "from tqdm.auto import tqdm\n",
    "import datasets\n",
    "from transformers.pipelines.pt_utils import KeyDataset"
   ]
  },
  {
   "cell_type": "code",
   "execution_count": 23,
   "id": "d0f4daaf",
   "metadata": {},
   "outputs": [],
   "source": [
    "df.drop_duplicates(inplace=True)"
   ]
  },
  {
   "cell_type": "code",
   "execution_count": 24,
   "id": "8a1bdc80",
   "metadata": {},
   "outputs": [],
   "source": [
    "dataset = datasets.Dataset.from_pandas(df)"
   ]
  },
  {
   "cell_type": "code",
   "execution_count": 25,
   "id": "9e9234e3",
   "metadata": {},
   "outputs": [
    {
     "data": {
      "text/plain": [
       "Dataset({\n",
       "    features: ['text', 'dial', 'reg', 'pair', '__index_level_0__'],\n",
       "    num_rows: 2540360\n",
       "})"
      ]
     },
     "execution_count": 25,
     "metadata": {},
     "output_type": "execute_result"
    }
   ],
   "source": [
    "dataset"
   ]
  },
  {
   "cell_type": "code",
   "execution_count": 86,
   "id": "fedd095d",
   "metadata": {},
   "outputs": [
    {
     "name": "stdout",
     "output_type": "stream",
     "text": [
      "cuda\n"
     ]
    }
   ],
   "source": [
    "device = torch.device('cuda' if torch.cuda.is_available() else 'cpu')\n",
    "print(device)"
   ]
  },
  {
   "cell_type": "code",
   "execution_count": null,
   "id": "648c2f01",
   "metadata": {},
   "outputs": [],
   "source": [
    "df['eng'] = df['text'].apply(lambda x : pipe(x)[0]['translation_text'])"
   ]
  },
  {
   "cell_type": "code",
   "execution_count": null,
   "id": "6a2a00ba",
   "metadata": {},
   "outputs": [],
   "source": [
    "df.head()"
   ]
  },
  {
   "cell_type": "code",
   "execution_count": null,
   "id": "1777cbed",
   "metadata": {},
   "outputs": [],
   "source": [
    "df.to_csv(directory + 'dataset_full_en_ko_dial_v1.csv')"
   ]
  }
 ],
 "metadata": {
  "kernelspec": {
   "display_name": "Python 3 (ipykernel)",
   "language": "python",
   "name": "python3"
  },
  "language_info": {
   "codemirror_mode": {
    "name": "ipython",
    "version": 3
   },
   "file_extension": ".py",
   "mimetype": "text/x-python",
   "name": "python",
   "nbconvert_exporter": "python",
   "pygments_lexer": "ipython3",
   "version": "3.9.7"
  }
 },
 "nbformat": 4,
 "nbformat_minor": 5
}
