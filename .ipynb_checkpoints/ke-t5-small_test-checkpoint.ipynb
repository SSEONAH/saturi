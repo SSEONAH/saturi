{
 "cells": [
  {
   "cell_type": "markdown",
   "id": "3694d425",
   "metadata": {},
   "source": [
    "# Test_pretrained_ke-t5-small"
   ]
  },
  {
   "cell_type": "markdown",
   "id": "68675f6e",
   "metadata": {},
   "source": [
    "## git"
   ]
  },
  {
   "cell_type": "code",
   "execution_count": 35,
   "id": "035d4637",
   "metadata": {},
   "outputs": [
    {
     "name": "stdout",
     "output_type": "stream",
     "text": [
      "Cloning into 'saturi'...\n",
      "remote: Enumerating objects: 6, done.\u001b[K\n",
      "remote: Counting objects: 100% (6/6), done.\u001b[K\n",
      "remote: Compressing objects: 100% (4/4), done.\u001b[K\n",
      "remote: Total 6 (delta 0), reused 3 (delta 0), pack-reused 0\u001b[K\n",
      "Unpacking objects: 100% (6/6), 1.20 KiB | 614.00 KiB/s, done.\n"
     ]
    }
   ],
   "source": [
    "# !git config --global user.name candym1\n",
    "# !git config --global user.email tmxk5283@gmail.com\n",
    "# !git clone https://github.com/seuyon0101/saturi.git"
   ]
  },
  {
   "cell_type": "code",
   "execution_count": 37,
   "id": "2773eb22",
   "metadata": {},
   "outputs": [],
   "source": [
    "# !cd saturi"
   ]
  },
  {
   "cell_type": "markdown",
   "id": "79c92339",
   "metadata": {},
   "source": [
    "## import"
   ]
  },
  {
   "cell_type": "code",
   "execution_count": 7,
   "id": "324bab9a",
   "metadata": {},
   "outputs": [],
   "source": [
    "import torch\n",
    "import os\n",
    "import re\n",
    "\n",
    "from transformers import AutoModel, AutoTokenizer"
   ]
  },
  {
   "cell_type": "markdown",
   "id": "82ccacfa",
   "metadata": {},
   "source": [
    "## Test data upload"
   ]
  },
  {
   "cell_type": "code",
   "execution_count": 8,
   "id": "f1b3b151",
   "metadata": {},
   "outputs": [],
   "source": [
    "data_dir = os.getenv('HOME')+'/aiffel/transformer/data'\n",
    "kor_path = data_dir+\"/korean-english-park.train.ko\"\n",
    "eng_path = data_dir+\"/korean-english-park.train.en\""
   ]
  },
  {
   "cell_type": "code",
   "execution_count": 27,
   "id": "6e90ab55",
   "metadata": {},
   "outputs": [],
   "source": [
    "def clean_corpus(kor_path, eng_path):\n",
    "    with open(kor_path, \"r\") as f: kor = f.read().splitlines()\n",
    "    with open(eng_path, \"r\") as f: eng = f.read().splitlines()\n",
    "    assert len(kor) == len(eng)\n",
    "    \n",
    "    cleaned_corpus = []\n",
    "    test_corpus = str(kor) + '\\t' + str(eng)\n",
    "    for i in test_corpus:\n",
    "        cleaned_corpus.append(i)\n",
    "    return cleaned_corpus\n",
    "\n",
    "cleaned_corpus = clean_corpus(kor_path, eng_path)"
   ]
  },
  {
   "cell_type": "code",
   "execution_count": 29,
   "id": "4b68c387",
   "metadata": {},
   "outputs": [
    {
     "name": "stdout",
     "output_type": "stream",
     "text": [
      "['[', \"'\", '개', '인', '용', ' ', '컴', '퓨', '터', ' ', '사', '용', '의', ' ', '상', '당', ' ', '부', '분', '은', ' ', '\"', '이', '것', '보', '다', ' ', '뛰', '어', '날', ' ', '수', ' ', '있', '느', '냐', '?', '\"', \"'\", ',', ' ', \"'\", '모', '든', ' ', '광', '마', '우', '스', '와']\n"
     ]
    }
   ],
   "source": [
    "print(cleaned_corpus[:50])"
   ]
  },
  {
   "cell_type": "markdown",
   "id": "c050ac84",
   "metadata": {},
   "source": [
    "## pretrained_model_t5_small"
   ]
  },
  {
   "cell_type": "code",
   "execution_count": 4,
   "id": "311d5d52",
   "metadata": {},
   "outputs": [
    {
     "name": "stderr",
     "output_type": "stream",
     "text": [
      "Some weights of the model checkpoint at KETI-AIR/ke-t5-small were not used when initializing T5Model: ['lm_head.weight']\n",
      "- This IS expected if you are initializing T5Model from the checkpoint of a model trained on another task or with another architecture (e.g. initializing a BertForSequenceClassification model from a BertForPreTraining model).\n",
      "- This IS NOT expected if you are initializing T5Model from the checkpoint of a model that you expect to be exactly identical (initializing a BertForSequenceClassification model from a BertForSequenceClassification model).\n"
     ]
    }
   ],
   "source": [
    "device = torch.device(\"cuda\" if torch.cuda.is_available() else \"cpu\")\n",
    "model = AutoModel.from_pretrained(\"KETI-AIR/ke-t5-small\")\n",
    "tokenizer = AutoTokenizer.from_pretrained(\"KETI-AIR/ke-t5-small\")"
   ]
  },
  {
   "cell_type": "code",
   "execution_count": null,
   "id": "1ffee001",
   "metadata": {},
   "outputs": [],
   "source": []
  }
 ],
 "metadata": {
  "kernelspec": {
   "display_name": "Python 3 (ipykernel)",
   "language": "python",
   "name": "python3"
  },
  "language_info": {
   "codemirror_mode": {
    "name": "ipython",
    "version": 3
   },
   "file_extension": ".py",
   "mimetype": "text/x-python",
   "name": "python",
   "nbconvert_exporter": "python",
   "pygments_lexer": "ipython3",
   "version": "3.9.7"
  }
 },
 "nbformat": 4,
 "nbformat_minor": 5
}
