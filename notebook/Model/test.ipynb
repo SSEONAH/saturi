{
 "cells": [
  {
   "cell_type": "code",
   "execution_count": 3,
   "id": "9763c1c2",
   "metadata": {},
   "outputs": [],
   "source": [
    "import sys\n",
    "import os\n",
    "sys.path.insert(0,os.getenv('HOME') + '/aiffel/saturi/MODEL/')\n",
    "sys.path.insert(0,os.getenv('HOME') + '/aiffel/saturi/POST/')\n",
    "sys.path.insert(0,os.getenv('HOME') + '/aiffel/saturi/PRE/')"
   ]
  },
  {
   "cell_type": "code",
   "execution_count": 4,
   "id": "dae0e9cb",
   "metadata": {},
   "outputs": [],
   "source": [
    "import evaluation"
   ]
  }
 ],
 "metadata": {
  "kernelspec": {
   "display_name": "Python 3 (ipykernel)",
   "language": "python",
   "name": "python3"
  },
  "language_info": {
   "codemirror_mode": {
    "name": "ipython",
    "version": 3
   },
   "file_extension": ".py",
   "mimetype": "text/x-python",
   "name": "python",
   "nbconvert_exporter": "python",
   "pygments_lexer": "ipython3",
   "version": "3.9.7"
  }
 },
 "nbformat": 4,
 "nbformat_minor": 5
}
