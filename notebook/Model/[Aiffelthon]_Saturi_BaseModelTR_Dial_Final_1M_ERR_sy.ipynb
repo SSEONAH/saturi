{
 "cells": [
  {
<<<<<<< HEAD
   "cell_type": "code",
   "execution_count": 1,
   "id": "e71a0b58",
=======
   "cell_type": "markdown",
   "id": "79b7e70c",
   "metadata": {
    "toc": true
   },
   "source": [
    "<h1>Table of Contents<span class=\"tocSkip\"></span></h1>\n",
    "<div class=\"toc\"><ul class=\"toc-item\"><li><span><a href=\"#Step-1.-데이터-다운로드\" data-toc-modified-id=\"Step-1.-데이터-다운로드-1\"><span class=\"toc-item-num\">1&nbsp;&nbsp;</span>Step 1. 데이터 다운로드</a></span></li><li><span><a href=\"#Step-2.-데이터-정제-및-토큰화\" data-toc-modified-id=\"Step-2.-데이터-정제-및-토큰화-2\"><span class=\"toc-item-num\">2&nbsp;&nbsp;</span>Step 2. 데이터 정제 및 토큰화</a></span></li><li><span><a href=\"#Step-3.-모델설계\" data-toc-modified-id=\"Step-3.-모델설계-3\"><span class=\"toc-item-num\">3&nbsp;&nbsp;</span>Step 3. 모델설계</a></span><ul class=\"toc-item\"><li><span><a href=\"#Positional-Encoding\" data-toc-modified-id=\"Positional-Encoding-3.1\"><span class=\"toc-item-num\">3.1&nbsp;&nbsp;</span>Positional Encoding</a></span></li><li><span><a href=\"#Multi-Head-Attention\" data-toc-modified-id=\"Multi-Head-Attention-3.2\"><span class=\"toc-item-num\">3.2&nbsp;&nbsp;</span>Multi-Head Attention</a></span></li><li><span><a href=\"#Position-wise-Feed-Forward-Network\" data-toc-modified-id=\"Position-wise-Feed-Forward-Network-3.3\"><span class=\"toc-item-num\">3.3&nbsp;&nbsp;</span>Position-wise Feed-Forward Network</a></span></li><li><span><a href=\"#Encoder-레이어-구현하기\" data-toc-modified-id=\"Encoder-레이어-구현하기-3.4\"><span class=\"toc-item-num\">3.4&nbsp;&nbsp;</span>Encoder 레이어 구현하기</a></span></li><li><span><a href=\"#Decoder-레이어-구현하기\" data-toc-modified-id=\"Decoder-레이어-구현하기-3.5\"><span class=\"toc-item-num\">3.5&nbsp;&nbsp;</span>Decoder 레이어 구현하기</a></span></li><li><span><a href=\"#Encoder와-Decoder-클래스를-정의\" data-toc-modified-id=\"Encoder와-Decoder-클래스를-정의-3.6\"><span class=\"toc-item-num\">3.6&nbsp;&nbsp;</span>Encoder와 Decoder 클래스를 정의</a></span></li><li><span><a href=\"#Transformer-완성하기\" data-toc-modified-id=\"Transformer-완성하기-3.7\"><span class=\"toc-item-num\">3.7&nbsp;&nbsp;</span>Transformer 완성하기</a></span></li><li><span><a href=\"#Mask\" data-toc-modified-id=\"Mask-3.8\"><span class=\"toc-item-num\">3.8&nbsp;&nbsp;</span>Mask</a></span></li></ul></li><li><span><a href=\"#Step-4.-훈련하기\" data-toc-modified-id=\"Step-4.-훈련하기-4\"><span class=\"toc-item-num\">4&nbsp;&nbsp;</span>Step 4. 훈련하기</a></span><ul class=\"toc-item\"><li><span><a href=\"#Learning-Rate-Scheduler를-선언하고,-이를-포함하는-Adam-Optimizer를-선언\" data-toc-modified-id=\"Learning-Rate-Scheduler를-선언하고,-이를-포함하는-Adam-Optimizer를-선언-4.1\"><span class=\"toc-item-num\">4.1&nbsp;&nbsp;</span>Learning Rate Scheduler를 선언하고, 이를 포함하는 Adam Optimizer를 선언</a></span></li><li><span><a href=\"#Loss-함수를-정의\" data-toc-modified-id=\"Loss-함수를-정의-4.2\"><span class=\"toc-item-num\">4.2&nbsp;&nbsp;</span>Loss 함수를 정의</a></span></li><li><span><a href=\"#train_step-함수를-정의\" data-toc-modified-id=\"train_step-함수를-정의-4.3\"><span class=\"toc-item-num\">4.3&nbsp;&nbsp;</span>train_step 함수를 정의</a></span></li><li><span><a href=\"#Attention-시각화-함수\" data-toc-modified-id=\"Attention-시각화-함수-4.4\"><span class=\"toc-item-num\">4.4&nbsp;&nbsp;</span>Attention 시각화 함수</a></span></li><li><span><a href=\"#번역생성함수\" data-toc-modified-id=\"번역생성함수-4.5\"><span class=\"toc-item-num\">4.5&nbsp;&nbsp;</span>번역생성함수</a></span></li><li><span><a href=\"#학습\" data-toc-modified-id=\"학습-4.6\"><span class=\"toc-item-num\">4.6&nbsp;&nbsp;</span>학습</a></span></li></ul></li><li><span><a href=\"#Step-5.-평가\" data-toc-modified-id=\"Step-5.-평가-5\"><span class=\"toc-item-num\">5&nbsp;&nbsp;</span>Step 5. 평가</a></span></li></ul></div>"
   ]
  },
  {
   "cell_type": "code",
   "execution_count": 1,
   "id": "891173ef",
   "metadata": {},
   "outputs": [],
   "source": [
    "# np.__version__\n",
    "# tf.__version__\n",
    "# !pip install -U numpy\n",
    "# !pip3 list"
   ]
  },
  {
   "cell_type": "code",
   "execution_count": 65,
   "id": "5600a0f9",
>>>>>>> 15d789c7df9f076903fba9a10fccd7605db40e4d
   "metadata": {},
   "outputs": [
    {
     "name": "stdout",
     "output_type": "stream",
     "text": [
      "2.8.0\n",
      "1.23.5\n"
     ]
    }
   ],
   "source": [
    "import warnings\n",
    "warnings.filterwarnings('ignore')\n",
    "\n",
    "import tensorflow as tf\n",
    "import numpy as np\n",
    "import pandas as pd\n",
    "\n",
    "import matplotlib as mpl\n",
    "import matplotlib.ticker as ticker\n",
    "import matplotlib.pyplot as plt\n",
    "\n",
    "import time\n",
    "import re\n",
    "import os\n",
    "import io\n",
    "\n",
    "\n",
    "# from tqdm import tqdm_notebook \n",
    "from tqdm.notebook import tqdm \n",
    "import random\n",
    "\n",
    "import sentencepiece as spm\n",
    "from konlpy.tag import Mecab\n",
    "\n",
    "print(tf.__version__)\n",
    "print(np.__version__)"
   ]
  },
  {
   "cell_type": "markdown",
<<<<<<< HEAD
   "id": "eb7b55f7",
=======
   "id": "6c15c160",
>>>>>>> 15d789c7df9f076903fba9a10fccd7605db40e4d
   "metadata": {},
   "source": [
    "# Step 1. 데이터 불러오기\n",
    "   "
   ]
  },
  {
   "cell_type": "code",
<<<<<<< HEAD
   "execution_count": 2,
   "id": "5e5620ba",
=======
   "execution_count": 118,
   "id": "e797e6f5",
>>>>>>> 15d789c7df9f076903fba9a10fccd7605db40e4d
   "metadata": {},
   "outputs": [],
   "source": [
    "# train data load\n",
<<<<<<< HEAD
    "data_dir = os.getenv('HOME')+'/aiffel/DATA' # 파일 경로 지정\n",
    "data_train_path = data_dir+\"/data_train_spm_4000.pkl\"\n",
    "data_test_path = data_dir+\"/data_test_spm_4000.pkl\"\n",
    "full_data = pd.read_pickle(data_train_path, 'gzip')\n",
    "full_data_test = pd.read_pickle(data_test_path, 'gzip')"
=======
    "data_dir = os.getenv('HOME')+'/aiffel/aiffelthon/meta' # 파일 경로 지정\n",
    "data_train_path = data_dir+\"/train_v_final_0313.csv\"\n",
    "data_test_path = data_dir+\"/test_v_final_0313.csv\"\n",
    "full_data = pd.read_csv(data_train_path)\n",
    "full_data_test = pd.read_csv(data_test_path)"
   ]
  },
  {
   "cell_type": "code",
   "execution_count": 119,
   "id": "4dc858a8",
   "metadata": {},
   "outputs": [
    {
     "data": {
      "text/html": [
       "<div>\n",
       "<style scoped>\n",
       "    .dataframe tbody tr th:only-of-type {\n",
       "        vertical-align: middle;\n",
       "    }\n",
       "\n",
       "    .dataframe tbody tr th {\n",
       "        vertical-align: top;\n",
       "    }\n",
       "\n",
       "    .dataframe thead th {\n",
       "        text-align: right;\n",
       "    }\n",
       "</style>\n",
       "<table border=\"1\" class=\"dataframe\">\n",
       "  <thead>\n",
       "    <tr style=\"text-align: right;\">\n",
       "      <th></th>\n",
       "      <th>reg</th>\n",
       "      <th>topic</th>\n",
       "      <th>eng</th>\n",
       "      <th>dial</th>\n",
       "      <th>tok_len</th>\n",
       "      <th>tok_cat</th>\n",
       "    </tr>\n",
       "  </thead>\n",
       "  <tbody>\n",
       "    <tr>\n",
       "      <th>0</th>\n",
       "      <td>jd</td>\n",
       "      <td>역사</td>\n",
       "      <td>I've changed my mind a little bit.</td>\n",
       "      <td>생각이 쪼금씩 바뀌드라고</td>\n",
       "      <td>10</td>\n",
       "      <td>0</td>\n",
       "    </tr>\n",
       "    <tr>\n",
       "      <th>1</th>\n",
       "      <td>jd</td>\n",
       "      <td>가족</td>\n",
       "      <td>You know what? Foreigners still get used to it.</td>\n",
       "      <td>웜마 알겄는가 애국인들이 그또 달 적응하고</td>\n",
       "      <td>17</td>\n",
       "      <td>1</td>\n",
       "    </tr>\n",
       "    <tr>\n",
       "      <th>2</th>\n",
       "      <td>jd</td>\n",
       "      <td>건강</td>\n",
       "      <td>All of a sudden, I think I've ripped off my ap...</td>\n",
       "      <td>아으 갑자기 에전에 맹장 뜯은 게잉 생각난디야.</td>\n",
       "      <td>22</td>\n",
       "      <td>2</td>\n",
       "    </tr>\n",
       "    <tr>\n",
       "      <th>3</th>\n",
       "      <td>jd</td>\n",
       "      <td>스타일</td>\n",
       "      <td>I have a lot of ideas about getting older in a...</td>\n",
       "      <td>보먼은 좀 품위 있게 나이 들어가야 되겠단 싱각을 참 마이 해요잉.</td>\n",
       "      <td>19</td>\n",
       "      <td>1</td>\n",
       "    </tr>\n",
       "    <tr>\n",
       "      <th>4</th>\n",
       "      <td>jd</td>\n",
       "      <td>먹거리</td>\n",
       "      <td>It's a little bit of a tastey, but still...</td>\n",
       "      <td>약깐 좀 약깐 맛이가 쪼까 머시기 카긴 한디 그또</td>\n",
       "      <td>18</td>\n",
       "      <td>1</td>\n",
       "    </tr>\n",
       "  </tbody>\n",
       "</table>\n",
       "</div>"
      ],
      "text/plain": [
       "  reg topic                                                eng  \\\n",
       "0  jd    역사                 I've changed my mind a little bit.   \n",
       "1  jd    가족    You know what? Foreigners still get used to it.   \n",
       "2  jd    건강  All of a sudden, I think I've ripped off my ap...   \n",
       "3  jd   스타일  I have a lot of ideas about getting older in a...   \n",
       "4  jd   먹거리        It's a little bit of a tastey, but still...   \n",
       "\n",
       "                                     dial  tok_len  tok_cat  \n",
       "0                          생각이 쪼금씩 바뀌드라고        10        0  \n",
       "1                웜마 알겄는가 애국인들이 그또 달 적응하고        17        1  \n",
       "2             아으 갑자기 에전에 맹장 뜯은 게잉 생각난디야.        22        2  \n",
       "3  보먼은 좀 품위 있게 나이 들어가야 되겠단 싱각을 참 마이 해요잉.        19        1  \n",
       "4            약깐 좀 약깐 맛이가 쪼까 머시기 카긴 한디 그또        18        1  "
      ]
     },
     "execution_count": 119,
     "metadata": {},
     "output_type": "execute_result"
    }
   ],
   "source": [
    "full_data.head()"
   ]
  },
  {
   "cell_type": "code",
   "execution_count": 120,
   "id": "e7b92ab7",
   "metadata": {},
   "outputs": [
    {
     "data": {
      "text/html": [
       "<div>\n",
       "<style scoped>\n",
       "    .dataframe tbody tr th:only-of-type {\n",
       "        vertical-align: middle;\n",
       "    }\n",
       "\n",
       "    .dataframe tbody tr th {\n",
       "        vertical-align: top;\n",
       "    }\n",
       "\n",
       "    .dataframe thead th {\n",
       "        text-align: right;\n",
       "    }\n",
       "</style>\n",
       "<table border=\"1\" class=\"dataframe\">\n",
       "  <thead>\n",
       "    <tr style=\"text-align: right;\">\n",
       "      <th></th>\n",
       "      <th>reg</th>\n",
       "      <th>topic</th>\n",
       "      <th>eng</th>\n",
       "      <th>dial</th>\n",
       "      <th>tok_len</th>\n",
       "      <th>tok_cat</th>\n",
       "    </tr>\n",
       "  </thead>\n",
       "  <tbody>\n",
       "    <tr>\n",
       "      <th>0</th>\n",
       "      <td>jd</td>\n",
       "      <td>군대</td>\n",
       "      <td>Kids, when I was at work, they came over and a...</td>\n",
       "      <td>애기들 그~ 내 헐 띠 일헐 띠 와가지고 밥 묵은 거이 보므  끄꼬 나가 아주머니들...</td>\n",
       "      <td>472</td>\n",
       "      <td>8</td>\n",
       "    </tr>\n",
       "    <tr>\n",
       "      <th>1</th>\n",
       "      <td>jd</td>\n",
       "      <td>아르바이트</td>\n",
       "      <td>It's too hard. I've been thinking a lot about ...</td>\n",
       "      <td>싸람들이 꺼내 갈은 곳도 앞으로 땡기고 요게 하도 힘들은 거야.  지끔 아따 이릏게...</td>\n",
       "      <td>485</td>\n",
       "      <td>8</td>\n",
       "    </tr>\n",
       "    <tr>\n",
       "      <th>2</th>\n",
       "      <td>jd</td>\n",
       "      <td>건강</td>\n",
       "      <td>You have to move very much and eat without gre...</td>\n",
       "      <td>겁나게 움직이고 혀야 되고잉 또잉 뭐~ 밥도 기름진 거이 안 묵고 혀야 되는디</td>\n",
       "      <td>14</td>\n",
       "      <td>1</td>\n",
       "    </tr>\n",
       "    <tr>\n",
       "      <th>3</th>\n",
       "      <td>jd</td>\n",
       "      <td>영화</td>\n",
       "      <td>I don't know what to say. It's like watching a...</td>\n",
       "      <td>모라 허지 아담 샌들러 나오는 영화는 좀 마이 본 편인 꺼 같아라  근디 영화잉 중...</td>\n",
       "      <td>206</td>\n",
       "      <td>7</td>\n",
       "    </tr>\n",
       "    <tr>\n",
       "      <th>4</th>\n",
       "      <td>jd</td>\n",
       "      <td>쇼핑</td>\n",
       "      <td>Or you know what the aunt wants to buy is some...</td>\n",
       "      <td>아니믄 알지라 이모가 사고 싶어하는 고 허벌나게 비싼 거이  언닌 글면은 겨울에 이...</td>\n",
       "      <td>221</td>\n",
       "      <td>7</td>\n",
       "    </tr>\n",
       "  </tbody>\n",
       "</table>\n",
       "</div>"
      ],
      "text/plain": [
       "  reg  topic                                                eng  \\\n",
       "0  jd     군대  Kids, when I was at work, they came over and a...   \n",
       "1  jd  아르바이트  It's too hard. I've been thinking a lot about ...   \n",
       "2  jd     건강  You have to move very much and eat without gre...   \n",
       "3  jd     영화  I don't know what to say. It's like watching a...   \n",
       "4  jd     쇼핑  Or you know what the aunt wants to buy is some...   \n",
       "\n",
       "                                                dial  tok_len  tok_cat  \n",
       "0  애기들 그~ 내 헐 띠 일헐 띠 와가지고 밥 묵은 거이 보므  끄꼬 나가 아주머니들...      472        8  \n",
       "1  싸람들이 꺼내 갈은 곳도 앞으로 땡기고 요게 하도 힘들은 거야.  지끔 아따 이릏게...      485        8  \n",
       "2       겁나게 움직이고 혀야 되고잉 또잉 뭐~ 밥도 기름진 거이 안 묵고 혀야 되는디        14        1  \n",
       "3  모라 허지 아담 샌들러 나오는 영화는 좀 마이 본 편인 꺼 같아라  근디 영화잉 중...      206        7  \n",
       "4  아니믄 알지라 이모가 사고 싶어하는 고 허벌나게 비싼 거이  언닌 글면은 겨울에 이...      221        7  "
      ]
     },
     "execution_count": 120,
     "metadata": {},
     "output_type": "execute_result"
    }
   ],
   "source": [
    "full_data_test.head()"
   ]
  },
  {
   "cell_type": "code",
   "execution_count": 123,
   "id": "4cbefd68",
   "metadata": {},
   "outputs": [
    {
     "data": {
      "text/html": [
       "<div>\n",
       "<style scoped>\n",
       "    .dataframe tbody tr th:only-of-type {\n",
       "        vertical-align: middle;\n",
       "    }\n",
       "\n",
       "    .dataframe tbody tr th {\n",
       "        vertical-align: top;\n",
       "    }\n",
       "\n",
       "    .dataframe thead th {\n",
       "        text-align: right;\n",
       "    }\n",
       "</style>\n",
       "<table border=\"1\" class=\"dataframe\">\n",
       "  <thead>\n",
       "    <tr style=\"text-align: right;\">\n",
       "      <th></th>\n",
       "      <th>reg</th>\n",
       "      <th>topic</th>\n",
       "      <th>eng</th>\n",
       "      <th>dial</th>\n",
       "      <th>tok_len</th>\n",
       "      <th>tok_cat</th>\n",
       "    </tr>\n",
       "  </thead>\n",
       "  <tbody>\n",
       "    <tr>\n",
       "      <th>0</th>\n",
       "      <td>kw</td>\n",
       "      <td>가족</td>\n",
       "      <td>To lie, you have to be polite.</td>\n",
       "      <td>거지뿌래이을 할려면 쫌 성의 있이 하던지.</td>\n",
       "      <td>12</td>\n",
       "      <td>0</td>\n",
       "    </tr>\n",
       "    <tr>\n",
       "      <th>1</th>\n",
       "      <td>cc</td>\n",
       "      <td>연애/결혼</td>\n",
       "      <td>I thought it was right for parents to raise an...</td>\n",
       "      <td>부모가 책임감을 가주구 쫌 경제적으로도 여유가 있을 띠 아이를 기르 키우는게 맞다구...</td>\n",
       "      <td>26</td>\n",
       "      <td>2</td>\n",
       "    </tr>\n",
       "    <tr>\n",
       "      <th>2</th>\n",
       "      <td>jd</td>\n",
       "      <td>먹거리</td>\n",
       "      <td>But that's what I'm saying.</td>\n",
       "      <td>긍게 그거이 또잉 근디</td>\n",
       "      <td>12</td>\n",
       "      <td>0</td>\n",
       "    </tr>\n",
       "    <tr>\n",
       "      <th>3</th>\n",
       "      <td>kw</td>\n",
       "      <td>영화</td>\n",
       "      <td>Russian elections were just decorative.</td>\n",
       "      <td>러시아의 선거는 오갈단지 장식된 것에 불과했어.</td>\n",
       "      <td>12</td>\n",
       "      <td>0</td>\n",
       "    </tr>\n",
       "    <tr>\n",
       "      <th>4</th>\n",
       "      <td>gs</td>\n",
       "      <td>다이어트</td>\n",
       "      <td>So the results were recorded and I always did ...</td>\n",
       "      <td>그서 쫌 그기 또 성과가 기록이 돼가주꼬 맨날천날 했었었노.  알제 걍 진심이대이 ...</td>\n",
       "      <td>150</td>\n",
       "      <td>6</td>\n",
       "    </tr>\n",
       "    <tr>\n",
       "      <th>...</th>\n",
       "      <td>...</td>\n",
       "      <td>...</td>\n",
       "      <td>...</td>\n",
       "      <td>...</td>\n",
       "      <td>...</td>\n",
       "      <td>...</td>\n",
       "    </tr>\n",
       "    <tr>\n",
       "      <th>9995</th>\n",
       "      <td>gs</td>\n",
       "      <td>여행지(국내/해외)</td>\n",
       "      <td>Its hard to go I can follow you through the pa...</td>\n",
       "      <td>그리 힘들 기 갈 꺼 머 있노 패키지로 따라가머 될 낀데</td>\n",
       "      <td>14</td>\n",
       "      <td>1</td>\n",
       "    </tr>\n",
       "    <tr>\n",
       "      <th>9996</th>\n",
       "      <td>kw</td>\n",
       "      <td>가족</td>\n",
       "      <td>What's wrong with you?</td>\n",
       "      <td>저냑 뭐러 잔모 먹었어?</td>\n",
       "      <td>10</td>\n",
       "      <td>0</td>\n",
       "    </tr>\n",
       "    <tr>\n",
       "      <th>9997</th>\n",
       "      <td>jd</td>\n",
       "      <td>성격</td>\n",
       "      <td>I didnt do that when I was in elementary school</td>\n",
       "      <td>에~ 초등학교 땐 안 그랬었단 말이여 나가 마잉 초등학교 땐</td>\n",
       "      <td>12</td>\n",
       "      <td>0</td>\n",
       "    </tr>\n",
       "    <tr>\n",
       "      <th>9998</th>\n",
       "      <td>kw</td>\n",
       "      <td>가족</td>\n",
       "      <td>But you said you'd punish him if you met him, ...</td>\n",
       "      <td>근디 재기 요 선상 만나믄 혼내준다더니 혼내기는커녕 느머 친하더라.  누우 친구구 ...</td>\n",
       "      <td>394</td>\n",
       "      <td>8</td>\n",
       "    </tr>\n",
       "    <tr>\n",
       "      <th>9999</th>\n",
       "      <td>kw</td>\n",
       "      <td>드라마</td>\n",
       "      <td>You broke a couple of nosebleeds back then, di...</td>\n",
       "      <td>재기 고때 쌍코피 터졌지?</td>\n",
       "      <td>18</td>\n",
       "      <td>1</td>\n",
       "    </tr>\n",
       "  </tbody>\n",
       "</table>\n",
       "<p>10000 rows × 6 columns</p>\n",
       "</div>"
      ],
      "text/plain": [
       "     reg       topic                                                eng  \\\n",
       "0     kw          가족                     To lie, you have to be polite.   \n",
       "1     cc       연애/결혼  I thought it was right for parents to raise an...   \n",
       "2     jd         먹거리                        But that's what I'm saying.   \n",
       "3     kw          영화            Russian elections were just decorative.   \n",
       "4     gs        다이어트  So the results were recorded and I always did ...   \n",
       "...   ..         ...                                                ...   \n",
       "9995  gs  여행지(국내/해외)  Its hard to go I can follow you through the pa...   \n",
       "9996  kw          가족                             What's wrong with you?   \n",
       "9997  jd          성격    I didnt do that when I was in elementary school   \n",
       "9998  kw          가족  But you said you'd punish him if you met him, ...   \n",
       "9999  kw         드라마  You broke a couple of nosebleeds back then, di...   \n",
       "\n",
       "                                                   dial  tok_len  tok_cat  \n",
       "0                              거지뿌래이을 할려면 쫌 성의 있이 하던지.        12        0  \n",
       "1     부모가 책임감을 가주구 쫌 경제적으로도 여유가 있을 띠 아이를 기르 키우는게 맞다구...       26        2  \n",
       "2                                         긍게 그거이 또잉 근디        12        0  \n",
       "3                           러시아의 선거는 오갈단지 장식된 것에 불과했어.        12        0  \n",
       "4     그서 쫌 그기 또 성과가 기록이 돼가주꼬 맨날천날 했었었노.  알제 걍 진심이대이 ...      150        6  \n",
       "...                                                 ...      ...      ...  \n",
       "9995                   그리 힘들 기 갈 꺼 머 있노 패키지로 따라가머 될 낀데        14        1  \n",
       "9996                                     저냑 뭐러 잔모 먹었어?        10        0  \n",
       "9997                 에~ 초등학교 땐 안 그랬었단 말이여 나가 마잉 초등학교 땐        12        0  \n",
       "9998  근디 재기 요 선상 만나믄 혼내준다더니 혼내기는커녕 느머 친하더라.  누우 친구구 ...      394        8  \n",
       "9999                                    재기 고때 쌍코피 터졌지?        18        1  \n",
       "\n",
       "[10000 rows x 6 columns]"
      ]
     },
     "execution_count": 123,
     "metadata": {},
     "output_type": "execute_result"
    }
   ],
   "source": [
    "#for test\n",
    "full_data = full_data.sample(10000, random_state=1).reset_index(drop=True)\n",
    "full_data"
   ]
  },
  {
   "cell_type": "code",
   "execution_count": 125,
   "id": "37eba9d4",
   "metadata": {},
   "outputs": [
    {
     "data": {
      "text/html": [
       "<div>\n",
       "<style scoped>\n",
       "    .dataframe tbody tr th:only-of-type {\n",
       "        vertical-align: middle;\n",
       "    }\n",
       "\n",
       "    .dataframe tbody tr th {\n",
       "        vertical-align: top;\n",
       "    }\n",
       "\n",
       "    .dataframe thead th {\n",
       "        text-align: right;\n",
       "    }\n",
       "</style>\n",
       "<table border=\"1\" class=\"dataframe\">\n",
       "  <thead>\n",
       "    <tr style=\"text-align: right;\">\n",
       "      <th></th>\n",
       "      <th>reg</th>\n",
       "      <th>topic</th>\n",
       "      <th>eng</th>\n",
       "      <th>dial</th>\n",
       "      <th>tok_len</th>\n",
       "      <th>tok_cat</th>\n",
       "    </tr>\n",
       "  </thead>\n",
       "  <tbody>\n",
       "    <tr>\n",
       "      <th>0</th>\n",
       "      <td>cc</td>\n",
       "      <td>회사/학교</td>\n",
       "      <td>So here I am, sitting in front of you, in fron...</td>\n",
       "      <td>그서 지랑 저가 요기 앞에가 긍까 뒤에가 앉구 친구가유 앞에가 앉구 자습을 주는디</td>\n",
       "      <td>39</td>\n",
       "      <td>4</td>\n",
       "    </tr>\n",
       "    <tr>\n",
       "      <th>1</th>\n",
       "      <td>kw</td>\n",
       "      <td>연애/결혼</td>\n",
       "      <td>What else? She's crying. She's mad again. It's...</td>\n",
       "      <td>딴 무신 일이요?  어멍이 우이까 또 화날라 그러네.  구십만 원인데 삼십프로 할인...</td>\n",
       "      <td>110</td>\n",
       "      <td>6</td>\n",
       "    </tr>\n",
       "    <tr>\n",
       "      <th>2</th>\n",
       "      <td>kw</td>\n",
       "      <td>가족</td>\n",
       "      <td>Give the dog to me. You two have your own way....</td>\n",
       "      <td>개케 저한데 주시고 두 분은 알아가주고 갈 질 가시데이죠.  왜서 왜서 그른 말씸을...</td>\n",
       "      <td>83</td>\n",
       "      <td>5</td>\n",
       "    </tr>\n",
       "    <tr>\n",
       "      <th>3</th>\n",
       "      <td>jd</td>\n",
       "      <td>선물</td>\n",
       "      <td>I bought and gave you long johns but as you ge...</td>\n",
       "      <td>뭐~ 내복도 사갖고 드리고잉 뭐~ 그랬는디 인제 나이 드실수록 인제 어무니 아부지도...</td>\n",
       "      <td>25</td>\n",
       "      <td>2</td>\n",
       "    </tr>\n",
       "    <tr>\n",
       "      <th>4</th>\n",
       "      <td>gs</td>\n",
       "      <td>계절</td>\n",
       "      <td>If the number of confirmed cases decreases so ...</td>\n",
       "      <td>확진자가 겁나 쭐어서 일상적인 여행이 가능한 수치가 된다믄</td>\n",
       "      <td>25</td>\n",
       "      <td>2</td>\n",
       "    </tr>\n",
       "    <tr>\n",
       "      <th>...</th>\n",
       "      <td>...</td>\n",
       "      <td>...</td>\n",
       "      <td>...</td>\n",
       "      <td>...</td>\n",
       "      <td>...</td>\n",
       "      <td>...</td>\n",
       "    </tr>\n",
       "    <tr>\n",
       "      <th>495</th>\n",
       "      <td>kw</td>\n",
       "      <td>가족</td>\n",
       "      <td>How did he have a baby in a stranger's place a...</td>\n",
       "      <td>어째께나 초산인데 어태 낯선 곳테서 혼재 아를 낳았대요?  앉자 구만 부애 풀어라 ...</td>\n",
       "      <td>92</td>\n",
       "      <td>5</td>\n",
       "    </tr>\n",
       "    <tr>\n",
       "      <th>496</th>\n",
       "      <td>kw</td>\n",
       "      <td>연애/결혼</td>\n",
       "      <td>I can't believe you're doing this. You want to...</td>\n",
       "      <td>지굼 헝이 이러시는 것두 느머 보여요. 지랑 함 해보시겠다는 거예요?  운젠가 낼 ...</td>\n",
       "      <td>371</td>\n",
       "      <td>8</td>\n",
       "    </tr>\n",
       "    <tr>\n",
       "      <th>497</th>\n",
       "      <td>gs</td>\n",
       "      <td>반려동물</td>\n",
       "      <td>It's gonna cost you a lot of money, and it's g...</td>\n",
       "      <td>돈도 걍 많이 들겠대이 그제 돈도 마이 들 끼꼬  인대이 반반이긴 캤는데 의사쌤이 ...</td>\n",
       "      <td>130</td>\n",
       "      <td>6</td>\n",
       "    </tr>\n",
       "    <tr>\n",
       "      <th>498</th>\n",
       "      <td>cc</td>\n",
       "      <td>음악</td>\n",
       "      <td>So I dont like hiphop that much and not rappin...</td>\n",
       "      <td>그러다보니께 먼가 랩이 대한 쫌 내는 힙합을 그릏게 좋아해지 않구 랩을 좋아하던 않...</td>\n",
       "      <td>81</td>\n",
       "      <td>5</td>\n",
       "    </tr>\n",
       "    <tr>\n",
       "      <th>499</th>\n",
       "      <td>cc</td>\n",
       "      <td>음악</td>\n",
       "      <td>Something like Not Today so the songs we know ...</td>\n",
       "      <td>어~ 머 낫 투데이 겉은 긍까 사실은 우리가 흔하게 알고서는 있는 노래들이 아마 인...</td>\n",
       "      <td>248</td>\n",
       "      <td>8</td>\n",
       "    </tr>\n",
       "  </tbody>\n",
       "</table>\n",
       "<p>500 rows × 6 columns</p>\n",
       "</div>"
      ],
      "text/plain": [
       "    reg  topic                                                eng  \\\n",
       "0    cc  회사/학교  So here I am, sitting in front of you, in fron...   \n",
       "1    kw  연애/결혼  What else? She's crying. She's mad again. It's...   \n",
       "2    kw     가족  Give the dog to me. You two have your own way....   \n",
       "3    jd     선물  I bought and gave you long johns but as you ge...   \n",
       "4    gs     계절  If the number of confirmed cases decreases so ...   \n",
       "..   ..    ...                                                ...   \n",
       "495  kw     가족  How did he have a baby in a stranger's place a...   \n",
       "496  kw  연애/결혼  I can't believe you're doing this. You want to...   \n",
       "497  gs   반려동물  It's gonna cost you a lot of money, and it's g...   \n",
       "498  cc     음악  So I dont like hiphop that much and not rappin...   \n",
       "499  cc     음악  Something like Not Today so the songs we know ...   \n",
       "\n",
       "                                                  dial  tok_len  tok_cat  \n",
       "0       그서 지랑 저가 요기 앞에가 긍까 뒤에가 앉구 친구가유 앞에가 앉구 자습을 주는디        39        4  \n",
       "1    딴 무신 일이요?  어멍이 우이까 또 화날라 그러네.  구십만 원인데 삼십프로 할인...      110        6  \n",
       "2    개케 저한데 주시고 두 분은 알아가주고 갈 질 가시데이죠.  왜서 왜서 그른 말씸을...       83        5  \n",
       "3    뭐~ 내복도 사갖고 드리고잉 뭐~ 그랬는디 인제 나이 드실수록 인제 어무니 아부지도...       25        2  \n",
       "4                    확진자가 겁나 쭐어서 일상적인 여행이 가능한 수치가 된다믄        25        2  \n",
       "..                                                 ...      ...      ...  \n",
       "495  어째께나 초산인데 어태 낯선 곳테서 혼재 아를 낳았대요?  앉자 구만 부애 풀어라 ...       92        5  \n",
       "496  지굼 헝이 이러시는 것두 느머 보여요. 지랑 함 해보시겠다는 거예요?  운젠가 낼 ...      371        8  \n",
       "497  돈도 걍 많이 들겠대이 그제 돈도 마이 들 끼꼬  인대이 반반이긴 캤는데 의사쌤이 ...      130        6  \n",
       "498  그러다보니께 먼가 랩이 대한 쫌 내는 힙합을 그릏게 좋아해지 않구 랩을 좋아하던 않...       81        5  \n",
       "499  어~ 머 낫 투데이 겉은 긍까 사실은 우리가 흔하게 알고서는 있는 노래들이 아마 인...      248        8  \n",
       "\n",
       "[500 rows x 6 columns]"
      ]
     },
     "execution_count": 125,
     "metadata": {},
     "output_type": "execute_result"
    }
   ],
   "source": [
    "#for test\n",
    "full_data_test = full_data_test.sample(500, random_state=1).reset_index(drop=True)\n",
    "full_data_test"
   ]
  },
  {
   "cell_type": "code",
   "execution_count": 126,
   "id": "583b734d",
   "metadata": {},
   "outputs": [],
   "source": [
    "# full_data=pd.concat([full_data, full_data_test], axis=0)"
>>>>>>> 15d789c7df9f076903fba9a10fccd7605db40e4d
   ]
  },
  {
   "cell_type": "code",
<<<<<<< HEAD
   "execution_count": 3,
   "id": "0da9e73e",
=======
   "execution_count": 127,
   "id": "f6ef8e8f",
>>>>>>> 15d789c7df9f076903fba9a10fccd7605db40e4d
   "metadata": {},
   "outputs": [
    {
     "name": "stdout",
     "output_type": "stream",
     "text": [
      "<class 'pandas.core.frame.DataFrame'>\n",
<<<<<<< HEAD
      "RangeIndex: 1229210 entries, 0 to 1229209\n",
      "Data columns (total 6 columns):\n",
      " #   Column      Non-Null Count    Dtype \n",
      "---  ------      --------------    ----- \n",
      " 0   toks_en     1229210 non-null  object\n",
      " 1   toks_dec    1229210 non-null  object\n",
      " 2   source_txt  1229210 non-null  object\n",
      " 3   target_txt  1229210 non-null  object\n",
      " 4   topic       1229210 non-null  object\n",
      " 5   reg         1229210 non-null  object\n",
      "dtypes: object(6)\n",
      "memory usage: 56.3+ MB\n"
=======
      "RangeIndex: 10000 entries, 0 to 9999\n",
      "Data columns (total 6 columns):\n",
      " #   Column   Non-Null Count  Dtype \n",
      "---  ------   --------------  ----- \n",
      " 0   reg      10000 non-null  object\n",
      " 1   topic    10000 non-null  object\n",
      " 2   eng      10000 non-null  object\n",
      " 3   dial     10000 non-null  object\n",
      " 4   tok_len  10000 non-null  int64 \n",
      " 5   tok_cat  10000 non-null  int64 \n",
      "dtypes: int64(2), object(4)\n",
      "memory usage: 468.9+ KB\n"
>>>>>>> 15d789c7df9f076903fba9a10fccd7605db40e4d
     ]
    }
   ],
   "source": [
<<<<<<< HEAD
    "full_data.info()"
=======
    "full_data.info() #full_data: 1229211, full_data_test: 500"
>>>>>>> 15d789c7df9f076903fba9a10fccd7605db40e4d
   ]
  },
  {
   "cell_type": "code",
<<<<<<< HEAD
   "execution_count": 4,
   "id": "9d2a5703",
=======
   "execution_count": 128,
   "id": "a9c01ac7",
>>>>>>> 15d789c7df9f076903fba9a10fccd7605db40e4d
   "metadata": {},
   "outputs": [
    {
     "name": "stdout",
     "output_type": "stream",
     "text": [
      "<class 'pandas.core.frame.DataFrame'>\n",
<<<<<<< HEAD
      "RangeIndex: 1500 entries, 0 to 1499\n",
      "Data columns (total 6 columns):\n",
      " #   Column      Non-Null Count  Dtype \n",
      "---  ------      --------------  ----- \n",
      " 0   toks_en     1500 non-null   object\n",
      " 1   toks_dec    1500 non-null   object\n",
      " 2   source_txt  1500 non-null   object\n",
      " 3   target_txt  1500 non-null   object\n",
      " 4   topic       1500 non-null   object\n",
      " 5   reg         1500 non-null   object\n",
      "dtypes: object(6)\n",
      "memory usage: 70.4+ KB\n"
=======
      "RangeIndex: 500 entries, 0 to 499\n",
      "Data columns (total 6 columns):\n",
      " #   Column   Non-Null Count  Dtype \n",
      "---  ------   --------------  ----- \n",
      " 0   reg      500 non-null    object\n",
      " 1   topic    500 non-null    object\n",
      " 2   eng      500 non-null    object\n",
      " 3   dial     500 non-null    object\n",
      " 4   tok_len  500 non-null    int64 \n",
      " 5   tok_cat  500 non-null    int64 \n",
      "dtypes: int64(2), object(4)\n",
      "memory usage: 23.6+ KB\n"
>>>>>>> 15d789c7df9f076903fba9a10fccd7605db40e4d
     ]
    }
   ],
   "source": [
    "full_data_test.info()"
   ]
  },
  {
   "cell_type": "code",
<<<<<<< HEAD
   "execution_count": 5,
   "id": "da7ee9be",
=======
   "execution_count": 129,
   "id": "c0a21c2b",
   "metadata": {},
   "outputs": [
    {
     "data": {
      "text/plain": [
       "reg        0\n",
       "topic      0\n",
       "eng        0\n",
       "dial       0\n",
       "tok_len    0\n",
       "tok_cat    0\n",
       "dtype: int64"
      ]
     },
     "execution_count": 129,
     "metadata": {},
     "output_type": "execute_result"
    }
   ],
   "source": [
    "full_data.isnull().sum()"
   ]
  },
  {
   "cell_type": "code",
   "execution_count": 130,
   "id": "c9035136",
   "metadata": {},
   "outputs": [
    {
     "data": {
      "text/plain": [
       "reg        0\n",
       "topic      0\n",
       "eng        0\n",
       "dial       0\n",
       "tok_len    0\n",
       "tok_cat    0\n",
       "dtype: int64"
      ]
     },
     "execution_count": 130,
     "metadata": {},
     "output_type": "execute_result"
    }
   ],
   "source": [
    "full_data_test.isnull().sum()"
   ]
  },
  {
   "cell_type": "code",
   "execution_count": 96,
   "id": "83a83de9",
   "metadata": {},
   "outputs": [],
   "source": [
    "full_data['eng_length'] = full_data['eng'].apply(lambda x : len(str(x).split()))\n",
    "full_data['dial_length'] = full_data['dial'].apply(lambda x : len(str(x).split()))\n",
    "# full_data['eng_c_length'] = full_data['eng'].apply(lambda x : len(str(x)))\n",
    "# full_data['dial_c_length'] = full_data['dial'].apply(lambda x : len(str(x)))"
   ]
  },
  {
   "cell_type": "code",
   "execution_count": 134,
   "id": "603886f2",
>>>>>>> 15d789c7df9f076903fba9a10fccd7605db40e4d
   "metadata": {},
   "outputs": [],
   "source": [
    "regs = full_data.reg.unique()"
   ]
  },
  {
   "cell_type": "code",
<<<<<<< HEAD
   "execution_count": 6,
   "id": "1e1aba69",
   "metadata": {},
   "outputs": [],
   "source": [
    "full_data['tok_len'] = full_data['toks_en'].apply(lambda x : len(x))"
=======
   "execution_count": 137,
   "id": "679082ab",
   "metadata": {},
   "outputs": [
    {
     "data": {
      "image/png": "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\n",
      "text/plain": [
       "<Figure size 432x288 with 1 Axes>"
      ]
     },
     "metadata": {
      "needs_background": "light"
     },
     "output_type": "display_data"
    }
   ],
   "source": [
    "import seaborn as sns\n",
    "for reg in regs :\n",
    "    sns.kdeplot(x='tok_len',data = full_data.loc[full_data['reg']==reg], label =reg)\n",
    "plt.legend()\n",
    "plt.show()\n",
    "#     print(f'Dial_{reg} :', count)"
   ]
  },
  {
   "cell_type": "markdown",
   "id": "f931ebe6",
   "metadata": {},
   "source": [
    "Translation correction : \"I don't know. I don't know.\""
   ]
  },
  {
   "cell_type": "code",
   "execution_count": 138,
   "id": "b0efe6de",
   "metadata": {},
   "outputs": [
    {
     "data": {
      "text/html": [
       "<div>\n",
       "<style scoped>\n",
       "    .dataframe tbody tr th:only-of-type {\n",
       "        vertical-align: middle;\n",
       "    }\n",
       "\n",
       "    .dataframe tbody tr th {\n",
       "        vertical-align: top;\n",
       "    }\n",
       "\n",
       "    .dataframe thead th {\n",
       "        text-align: right;\n",
       "    }\n",
       "</style>\n",
       "<table border=\"1\" class=\"dataframe\">\n",
       "  <thead>\n",
       "    <tr style=\"text-align: right;\">\n",
       "      <th></th>\n",
       "      <th>reg</th>\n",
       "      <th>topic</th>\n",
       "      <th>eng</th>\n",
       "      <th>dial</th>\n",
       "      <th>tok_len</th>\n",
       "      <th>tok_cat</th>\n",
       "    </tr>\n",
       "  </thead>\n",
       "  <tbody>\n",
       "    <tr>\n",
       "      <th>296</th>\n",
       "      <td>gs</td>\n",
       "      <td>자격증</td>\n",
       "      <td>It's just a little bit of an aside. If I look ...</td>\n",
       "      <td>쫌 치우친 과목이거든예 뭐~  자격증 따느 기 쫌 느무 쓸 쓸데없이 비용이 느무 마...</td>\n",
       "      <td>237</td>\n",
       "      <td>7</td>\n",
       "    </tr>\n",
       "    <tr>\n",
       "      <th>330</th>\n",
       "      <td>jd</td>\n",
       "      <td>회사/학교</td>\n",
       "      <td>Was your uniform pretty? Yeah how much I was s...</td>\n",
       "      <td>교복은 이뻤어잉?  그래만나서 얼만취 그~ 겁나게 거이  올래 일고 시 보라 했는디...</td>\n",
       "      <td>494</td>\n",
       "      <td>8</td>\n",
       "    </tr>\n",
       "    <tr>\n",
       "      <th>357</th>\n",
       "      <td>jj</td>\n",
       "      <td>가족</td>\n",
       "      <td>Im taking out all the small things. I don't kn...</td>\n",
       "      <td>잡담한 거는이 다이 뺌수게.  무신 물회나 탕 된장이나 허곡 경 헤그네  그래. 가...</td>\n",
       "      <td>101</td>\n",
       "      <td>6</td>\n",
       "    </tr>\n",
       "  </tbody>\n",
       "</table>\n",
       "</div>"
      ],
      "text/plain": [
       "    reg  topic                                                eng  \\\n",
       "296  gs    자격증  It's just a little bit of an aside. If I look ...   \n",
       "330  jd  회사/학교  Was your uniform pretty? Yeah how much I was s...   \n",
       "357  jj     가족  Im taking out all the small things. I don't kn...   \n",
       "\n",
       "                                                  dial  tok_len  tok_cat  \n",
       "296  쫌 치우친 과목이거든예 뭐~  자격증 따느 기 쫌 느무 쓸 쓸데없이 비용이 느무 마...      237        7  \n",
       "330  교복은 이뻤어잉?  그래만나서 얼만취 그~ 겁나게 거이  올래 일고 시 보라 했는디...      494        8  \n",
       "357  잡담한 거는이 다이 뺌수게.  무신 물회나 탕 된장이나 허곡 경 헤그네  그래. 가...      101        6  "
      ]
     },
     "execution_count": 138,
     "metadata": {},
     "output_type": "execute_result"
    }
   ],
   "source": [
    "full_data_test.loc[full_data_test['eng'].str.contains(\"I don't know. I don't know\")]"
   ]
  },
  {
   "cell_type": "code",
   "execution_count": 139,
   "id": "bf42b2f2",
   "metadata": {},
   "outputs": [
    {
     "data": {
      "text/html": [
       "<div>\n",
       "<style scoped>\n",
       "    .dataframe tbody tr th:only-of-type {\n",
       "        vertical-align: middle;\n",
       "    }\n",
       "\n",
       "    .dataframe tbody tr th {\n",
       "        vertical-align: top;\n",
       "    }\n",
       "\n",
       "    .dataframe thead th {\n",
       "        text-align: right;\n",
       "    }\n",
       "</style>\n",
       "<table border=\"1\" class=\"dataframe\">\n",
       "  <thead>\n",
       "    <tr style=\"text-align: right;\">\n",
       "      <th></th>\n",
       "      <th>reg</th>\n",
       "      <th>topic</th>\n",
       "      <th>eng</th>\n",
       "      <th>dial</th>\n",
       "      <th>tok_len</th>\n",
       "      <th>tok_cat</th>\n",
       "    </tr>\n",
       "  </thead>\n",
       "  <tbody>\n",
       "    <tr>\n",
       "      <th>196</th>\n",
       "      <td>jj</td>\n",
       "      <td>가족</td>\n",
       "      <td>I'm gonna stab you in the eye. I didnt know wh...</td>\n",
       "      <td>눈 찔렁으네  이게이 어떵 해사 될지를 몰랑 고데기 가져왔더라고?  중학교 상 학년...</td>\n",
       "      <td>668</td>\n",
       "      <td>8</td>\n",
       "    </tr>\n",
       "    <tr>\n",
       "      <th>573</th>\n",
       "      <td>gs</td>\n",
       "      <td>자격증</td>\n",
       "      <td>I don't know what you said. I don't know. I do...</td>\n",
       "      <td>언니야가 말했던 뭐~ 고런 한식 자격증 뭐~</td>\n",
       "      <td>31</td>\n",
       "      <td>3</td>\n",
       "    </tr>\n",
       "    <tr>\n",
       "      <th>1445</th>\n",
       "      <td>kw</td>\n",
       "      <td>가족</td>\n",
       "      <td>Whats going on? If you were my daughter, I'd b...</td>\n",
       "      <td>누우 무신 일이야?  나 딸레미 같았으문 내 아쭈 혼냈을 거야.  하구 싶은 말이나...</td>\n",
       "      <td>257</td>\n",
       "      <td>8</td>\n",
       "    </tr>\n",
       "    <tr>\n",
       "      <th>2771</th>\n",
       "      <td>jj</td>\n",
       "      <td>회사/학교</td>\n",
       "      <td>I don't know. I don't know. I don't know. I do...</td>\n",
       "      <td>몸도 망가지고이</td>\n",
       "      <td>28</td>\n",
       "      <td>3</td>\n",
       "    </tr>\n",
       "    <tr>\n",
       "      <th>3926</th>\n",
       "      <td>kw</td>\n",
       "      <td>연애/결혼</td>\n",
       "      <td>When I was going to look at it I pretended to ...</td>\n",
       "      <td>보그라 나래비 -때- 땐 한움씨 대범한 척 보그라 주다가  나두 -올- 올 핸 별 ...</td>\n",
       "      <td>190</td>\n",
       "      <td>7</td>\n",
       "    </tr>\n",
       "    <tr>\n",
       "      <th>5824</th>\n",
       "      <td>gs</td>\n",
       "      <td>방송/연예</td>\n",
       "      <td>Because at the time, when I think about all th...</td>\n",
       "      <td>왜냐믄 꼬 당시에 여대이 아이돌 고로 생각하믄 약깐 소녀시대 키싱유 불르꼬  꼬 뮤...</td>\n",
       "      <td>155</td>\n",
       "      <td>7</td>\n",
       "    </tr>\n",
       "    <tr>\n",
       "      <th>6294</th>\n",
       "      <td>jd</td>\n",
       "      <td>스포츠/레저</td>\n",
       "      <td>They also have malicious comments and such swe...</td>\n",
       "      <td>그분들도 그~ 악플도 달리고 그른 달달한 말이여.  그려 가꼬 고등학교 고 마잉 야...</td>\n",
       "      <td>1018</td>\n",
       "      <td>9</td>\n",
       "    </tr>\n",
       "    <tr>\n",
       "      <th>9776</th>\n",
       "      <td>jj</td>\n",
       "      <td>방송/연예</td>\n",
       "      <td>I don't know where I was right now. So it was ...</td>\n",
       "      <td>시방 티도 안남서 어디여 했주만은 모르겐  게난 겁나 힘들었댄 거 찍으멍 못 불르는...</td>\n",
       "      <td>96</td>\n",
       "      <td>5</td>\n",
       "    </tr>\n",
       "  </tbody>\n",
       "</table>\n",
       "</div>"
      ],
      "text/plain": [
       "     reg   topic                                                eng  \\\n",
       "196   jj      가족  I'm gonna stab you in the eye. I didnt know wh...   \n",
       "573   gs     자격증  I don't know what you said. I don't know. I do...   \n",
       "1445  kw      가족  Whats going on? If you were my daughter, I'd b...   \n",
       "2771  jj   회사/학교  I don't know. I don't know. I don't know. I do...   \n",
       "3926  kw   연애/결혼  When I was going to look at it I pretended to ...   \n",
       "5824  gs   방송/연예  Because at the time, when I think about all th...   \n",
       "6294  jd  스포츠/레저  They also have malicious comments and such swe...   \n",
       "9776  jj   방송/연예  I don't know where I was right now. So it was ...   \n",
       "\n",
       "                                                   dial  tok_len  tok_cat  \n",
       "196   눈 찔렁으네  이게이 어떵 해사 될지를 몰랑 고데기 가져왔더라고?  중학교 상 학년...      668        8  \n",
       "573                           언니야가 말했던 뭐~ 고런 한식 자격증 뭐~        31        3  \n",
       "1445  누우 무신 일이야?  나 딸레미 같았으문 내 아쭈 혼냈을 거야.  하구 싶은 말이나...      257        8  \n",
       "2771                                          몸도 망가지고이        28        3  \n",
       "3926  보그라 나래비 -때- 땐 한움씨 대범한 척 보그라 주다가  나두 -올- 올 핸 별 ...      190        7  \n",
       "5824  왜냐믄 꼬 당시에 여대이 아이돌 고로 생각하믄 약깐 소녀시대 키싱유 불르꼬  꼬 뮤...      155        7  \n",
       "6294  그분들도 그~ 악플도 달리고 그른 달달한 말이여.  그려 가꼬 고등학교 고 마잉 야...     1018        9  \n",
       "9776  시방 티도 안남서 어디여 했주만은 모르겐  게난 겁나 힘들었댄 거 찍으멍 못 불르는...       96        5  "
      ]
     },
     "execution_count": 139,
     "metadata": {},
     "output_type": "execute_result"
    }
   ],
   "source": [
    "full_data.loc[full_data['eng'].str.contains(\"I don't know. I don't know. I don't know.\")]"
   ]
  },
  {
   "cell_type": "code",
   "execution_count": 142,
   "id": "c4254bf8",
   "metadata": {},
   "outputs": [
    {
     "data": {
      "text/plain": [
       "reg\n",
       "cc    68.903697\n",
       "gs    67.599832\n",
       "jd    64.421136\n",
       "jj    53.202715\n",
       "kw    55.499016\n",
       "Name: tok_len, dtype: float64"
      ]
     },
     "execution_count": 142,
     "metadata": {},
     "output_type": "execute_result"
    }
   ],
   "source": [
    "full_data.groupby(full_data['reg'])['tok_len'].mean()"
   ]
  },
  {
   "cell_type": "code",
   "execution_count": 25,
   "id": "b5c5a30c",
   "metadata": {},
   "outputs": [],
   "source": [
    "# eng_data = full_data[['eng', 'eng_length']]\n",
    "# eng_data"
   ]
  },
  {
   "cell_type": "code",
   "execution_count": 26,
   "id": "8c815b90",
   "metadata": {},
   "outputs": [],
   "source": [
    "# dial_data = full_data[['reg', 'dial', 'dial_length']]\n",
    "# dial_data"
   ]
  },
  {
   "cell_type": "code",
   "execution_count": 143,
   "id": "a931fce7",
   "metadata": {},
   "outputs": [
    {
     "data": {
      "text/plain": [
       "0                  <kw> To lie, you have to be polite.\n",
       "1    <cc> I thought it was right for parents to rai...\n",
       "2                     <jd> But that's what I'm saying.\n",
       "3         <kw> Russian elections were just decorative.\n",
       "4    <gs> So the results were recorded and I always...\n",
       "5    <jj> So if you try to do it you wont be able t...\n",
       "6    <cc> So when someone says it's summer, what ar...\n",
       "7    <jj> We have to go We think we have to go Whil...\n",
       "8                               <jj> Oh thats so funny\n",
       "9    <gs> That's why the whole family wants to eat,...\n",
       "Name: reg_eng, dtype: object"
      ]
     },
     "execution_count": 143,
     "metadata": {},
     "output_type": "execute_result"
    }
   ],
   "source": [
    "full_data[\"reg_eng\"] = \"<\" + full_data[\"reg\"] +\"> \"+full_data[\"eng\"]\n",
    "full_data[\"reg_eng\"][:10]"
>>>>>>> 15d789c7df9f076903fba9a10fccd7605db40e4d
   ]
  },
  {
   "cell_type": "code",
<<<<<<< HEAD
   "execution_count": 7,
   "id": "78e3fe2b",
=======
   "execution_count": 144,
   "id": "baf29f32",
>>>>>>> 15d789c7df9f076903fba9a10fccd7605db40e4d
   "metadata": {},
   "outputs": [
    {
     "data": {
<<<<<<< HEAD
      "image/png": "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",
      "text/plain": [
       "<Figure size 640x480 with 1 Axes>"
      ]
     },
     "metadata": {},
=======
      "text/plain": [
       "0    <cc> So here I am, sitting in front of you, in...\n",
       "1    <kw> What else? She's crying. She's mad again....\n",
       "2    <kw> Give the dog to me. You two have your own...\n",
       "3    <jd> I bought and gave you long johns but as y...\n",
       "4    <gs> If the number of confirmed cases decrease...\n",
       "5    <cc> After that there are Namwon Loach Soup in...\n",
       "6    <gs> You said you dont want to do it so tell m...\n",
       "7    <gs> Do I have to get married and walk this ha...\n",
       "8    <kw> It's all good, and, oh, I can't choose. S...\n",
       "9    <kw> He's out here in front of the mills of Da...\n",
       "Name: reg_eng, dtype: object"
      ]
     },
     "execution_count": 144,
     "metadata": {},
     "output_type": "execute_result"
    }
   ],
   "source": [
    "full_data_test[\"reg_eng\"] = \"<\" + full_data_test[\"reg\"] +\"> \"+full_data_test[\"eng\"]\n",
    "full_data_test[\"reg_eng\"][:10]"
   ]
  },
  {
   "cell_type": "code",
   "execution_count": 145,
   "id": "922ddee3",
   "metadata": {},
   "outputs": [],
   "source": [
    "# # 1. 모든 입력을 소문자로 변환합니다.\n",
    "# # 2. 알파벳, 문장부호, 한글만 남기고 모두 제거합니다.\n",
    "# # 3. 문장부호 양옆에 공백을 추가합니다.\n",
    "# # 4. 문장 앞뒤의 불필요한 공백을 제거합니다.\n",
    "\n",
    "def preprocess_sentence(sentence):\n",
    "\n",
    "#     length = len(sentence)\n",
    "#     match = re.search(r'(.+)\\1{3,}', sentence) \n",
    "#     if match or length == 0:\n",
    "#         return None\n",
    "\n",
    "    sentence = sentence.lower()\n",
    "    sentence = re.sub(r\"([?.!,])\", r\" \\1 \", sentence)\n",
    "    sentence = re.sub(r'[\" \"]+', \" \", sentence)\n",
    "    sentence = re.sub(r\"[^a-zA-Z?.!<>가-힣ㄱ-ㅎㅏ-ㅣ]+\", \" \", sentence)\n",
    "    sentence = sentence.strip()\n",
    "\n",
    "    return sentence"
   ]
  },
  {
   "cell_type": "code",
   "execution_count": 146,
   "id": "5691601d",
   "metadata": {},
   "outputs": [],
   "source": [
    "# encoder corpus\n",
    "enc_corpus = full_data['reg_eng'].apply(lambda x : preprocess_sentence(x)).sort_index()"
   ]
  },
  {
   "cell_type": "code",
   "execution_count": 147,
   "id": "d89cd65f",
   "metadata": {},
   "outputs": [],
   "source": [
    "# encoder test corpus\n",
    "enc_corpus_test = full_data_test['reg_eng'].apply(lambda x : preprocess_sentence(x)).sort_index()"
   ]
  },
  {
   "cell_type": "code",
   "execution_count": 148,
   "id": "2f0e8b8b",
   "metadata": {},
   "outputs": [],
   "source": [
    "# decoder corpus\n",
    "dec_corpus = full_data['dial'].apply(lambda x : preprocess_sentence(x)).sort_index()"
   ]
  },
  {
   "cell_type": "code",
   "execution_count": 149,
   "id": "f6e241aa",
   "metadata": {},
   "outputs": [],
   "source": [
    "# decoder corpus test\n",
    "dec_corpus_test = full_data_test['dial'].apply(lambda x : preprocess_sentence(x)).sort_index()"
   ]
  },
  {
   "cell_type": "code",
   "execution_count": 150,
   "id": "4250a276",
   "metadata": {},
   "outputs": [
    {
     "name": "stdout",
     "output_type": "stream",
     "text": [
      "문장의 최단 길이: 2\n",
      "문장의 최장 길이: 796\n",
      "문장의 평균 길이: 43\n"
     ]
    },
    {
     "data": {
      "image/png": "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\n",
      "text/plain": [
       "<Figure size 432x288 with 1 Axes>"
      ]
     },
     "metadata": {
      "needs_background": "light"
     },
>>>>>>> 15d789c7df9f076903fba9a10fccd7605db40e4d
     "output_type": "display_data"
    }
   ],
   "source": [
<<<<<<< HEAD
    "import seaborn as sns\n",
    "for reg in regs :\n",
    "    sns.kdeplot(x='tok_len',data = full_data.loc[full_data['reg']==reg], label =reg)\n",
    "plt.legend()\n",
    "plt.show()\n",
    "#     print(f'Dial_{reg} :', count)"
=======
    "# enc_corpus 통계\n",
    "\n",
    "min_len = 999\n",
    "max_len = 0\n",
    "sum_len = 0\n",
    "\n",
    "\n",
    "for sen in enc_corpus:\n",
    "    length = len(sen.split())\n",
    "    if min_len > length: min_len = length\n",
    "    if max_len < length: max_len = length\n",
    "    sum_len += length\n",
    "\n",
    "print(\"문장의 최단 길이:\", min_len)\n",
    "print(\"문장의 최장 길이:\", max_len)\n",
    "print(\"문장의 평균 길이:\", sum_len // len(enc_corpus))\n",
    "\n",
    "sentence_length = np.zeros((max_len), dtype=int)\n",
    "\n",
    "#총 max_len의 배열을 만든 후, raw 문장을 돌면서 각 문장별 길이를 sentence_length의 len(sen) 인덱스마다  계속 더해가면서 counting\n",
    "for sen in enc_corpus:\n",
    "    sentence_length[len(str(sen).split())-1] += 1\n",
    "\n",
    "plt.bar(range(max_len), sentence_length, width=1.0)\n",
    "plt.title(\"Sentence Length Distribution\")\n",
    "plt.show()"
   ]
  },
  {
   "cell_type": "code",
   "execution_count": 151,
   "id": "b78a8724",
   "metadata": {},
   "outputs": [
    {
     "name": "stdout",
     "output_type": "stream",
     "text": [
      "문장의 최단 길이: 1\n",
      "문장의 최장 길이: 657\n",
      "문장의 평균 길이: 29\n"
     ]
    },
    {
     "data": {
      "image/png": "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\n",
      "text/plain": [
       "<Figure size 432x288 with 1 Axes>"
      ]
     },
     "metadata": {
      "needs_background": "light"
     },
     "output_type": "display_data"
    }
   ],
   "source": [
    "# dec_corpus 통계\n",
    "\n",
    "min_len = 999\n",
    "max_len = 0\n",
    "sum_len = 0\n",
    "\n",
    "\n",
    "for sen in dec_corpus:\n",
    "    length = len(str(sen).split())\n",
    "    if min_len > length: min_len = length\n",
    "    if max_len < length: max_len = length\n",
    "    sum_len += length\n",
    "\n",
    "print(\"문장의 최단 길이:\", min_len)\n",
    "print(\"문장의 최장 길이:\", max_len)\n",
    "print(\"문장의 평균 길이:\", sum_len // len(dec_corpus))\n",
    "\n",
    "sentence_length = np.zeros((max_len), dtype=int)\n",
    "\n",
    "#총 max_len의 배열을 만든 후, raw 문장을 돌면서 각 문장별 길이를 sentence_length의 len(sen) 인덱스마다  계속 더해가면서 counting\n",
    "for sen in dec_corpus:\n",
    "    sentence_length[len(str(sen).split())-1] += 1\n",
    "\n",
    "plt.bar(range(max_len), sentence_length, width=1.0)\n",
    "plt.title(\"Sentence Length Distribution\")\n",
    "plt.show()"
   ]
  },
  {
   "cell_type": "code",
   "execution_count": 152,
   "id": "2071159c",
   "metadata": {},
   "outputs": [
    {
     "data": {
      "text/plain": [
       "10000"
      ]
     },
     "execution_count": 152,
     "metadata": {},
     "output_type": "execute_result"
    }
   ],
   "source": [
    "len(enc_corpus)"
   ]
  },
  {
   "cell_type": "code",
   "execution_count": 153,
   "id": "0b596959",
   "metadata": {},
   "outputs": [
    {
     "data": {
      "text/plain": [
       "10000"
      ]
     },
     "execution_count": 153,
     "metadata": {},
     "output_type": "execute_result"
    }
   ],
   "source": [
    "len(dec_corpus)"
   ]
  },
  {
   "cell_type": "code",
   "execution_count": 154,
   "id": "ca020925",
   "metadata": {},
   "outputs": [],
   "source": [
    "# #훈련 및 테스트셋 분리\n",
    "# enc_corpus=enc_corpus[:-100]\n",
    "# enc_corpus_test = enc_corpus[-100:]\n",
    "# dec_corpus=dec_corpus[:-100]\n",
    "# dec_corpus_test = dec_corpus[-100:]"
   ]
  },
  {
   "cell_type": "code",
   "execution_count": 155,
   "id": "66fc0e75",
   "metadata": {},
   "outputs": [
    {
     "name": "stdout",
     "output_type": "stream",
     "text": [
      "(10000,)\n",
      "(500,)\n",
      "(10000,)\n",
      "(500,)\n"
     ]
    }
   ],
   "source": [
    "print(enc_corpus.shape)\n",
    "print(enc_corpus_test.shape)\n",
    "print(dec_corpus.shape)\n",
    "print(dec_corpus_test.shape)"
   ]
  },
  {
   "cell_type": "markdown",
   "id": "7061d60e",
   "metadata": {},
   "source": [
    "# Step 2. 데이터 정제 및 토큰화"
   ]
  },
  {
   "cell_type": "code",
   "execution_count": 156,
   "id": "c8db5fe4",
   "metadata": {},
   "outputs": [
    {
     "name": "stdout",
     "output_type": "stream",
     "text": [
      "10000\n",
      "500\n"
     ]
    }
   ],
   "source": [
    "# Train 데이터 정제 및 토큰화\n",
    "def clean_corpus(enc_corpus, dec_corpus):\n",
    "\n",
    "    assert len(enc_corpus) == len(dec_corpus) # enc_corpus, dec_corpus가 같은 갯수라는 것을 검증받기 위해 적용\n",
    "\n",
    "    cleaned_corpus = list(set(zip(enc_corpus, dec_corpus)))  # 중복된 데이터 제거\n",
    "    \n",
    "    return cleaned_corpus\n",
    "\n",
    "cleaned_corpus = clean_corpus(enc_corpus, dec_corpus)\n",
    "cleaned_corpus_test = clean_corpus(enc_corpus_test, dec_corpus_test)\n",
    "print(len(cleaned_corpus))\n",
    "print(len(cleaned_corpus_test))"
   ]
  },
  {
   "cell_type": "code",
   "execution_count": 157,
   "id": "f4dea348",
   "metadata": {},
   "outputs": [],
   "source": [
    "# <PAD> : 0 / <BOS> : 1 / <EOS> : 2 / <UNK> : 3\n",
    "# <jj> : 4 / <jd> : 5 / <gs> : 6 / <cc> : 7 / <kw> : 8\n",
    "\n",
    "# Sentencepiece를 활용하여 학습한 tokenizer를 생성\n",
    "def generate_tokenizer(corpus, vocab_size, lang=\"en\", pad_id=0, bos_id=1, eos_id=2, unk_id=3):\n",
    "\n",
    "    temp_file = os.getenv('HOME') + f'/aiffel/aiffelthon/corpus_{lang}_r0.txt'     # corpus를 받아 txt파일로 저장\n",
    "    \n",
    "    with open(temp_file, 'w') as f:\n",
    "        for row in corpus:\n",
    "            f.write(str(row) + '\\n')\n",
    "    \n",
    "    # Sentencepiece를 이용해 \n",
    "    spm.SentencePieceTrainer.Train(\n",
    "        f'--input={temp_file} --model_type=bpe --pad_id={pad_id} --bos_id={bos_id} --eos_id={eos_id} \\\n",
    "        --unk_id={unk_id} --model_prefix=spm{lang}_test_r0 --vocab_size={vocab_size} \\\n",
    "        --user_defined_symbols=<jj>,<jd>,<gs>,<cc>,<kw> --remove_extra_whitespaces=false'   # model_r0\n",
    "    )\n",
    "    tokenizer = spm.SentencePieceProcessor()\n",
    "    tokenizer.Load(f'spm{lang}_test_r0.model') # model_r0\n",
    "\n",
    "    return tokenizer"
   ]
  },
  {
   "cell_type": "code",
   "execution_count": 158,
   "id": "2a535545",
   "metadata": {},
   "outputs": [
    {
     "name": "stderr",
     "output_type": "stream",
     "text": [
      "sentencepiece_trainer.cc(177) LOG(INFO) Running command: --input=/aiffel/aiffel/aiffelthon/corpus_enc_r0.txt --model_type=bpe --pad_id=0 --bos_id=1 --eos_id=2         --unk_id=3 --model_prefix=spmenc_test_r0 --vocab_size=4009         --user_defined_symbols=<jj>,<jd>,<gs>,<cc>,<kw> --remove_extra_whitespaces=false\n",
      "sentencepiece_trainer.cc(77) LOG(INFO) Starts training with : \n",
      "trainer_spec {\n",
      "  input: /aiffel/aiffel/aiffelthon/corpus_enc_r0.txt\n",
      "  input_format: \n",
      "  model_prefix: spmenc_test_r0\n",
      "  model_type: BPE\n",
      "  vocab_size: 4009\n",
      "  self_test_sample_size: 0\n",
      "  character_coverage: 0.9995\n",
      "  input_sentence_size: 0\n",
      "  shuffle_input_sentence: 1\n",
      "  seed_sentencepiece_size: 1000000\n",
      "  shrinking_factor: 0.75\n",
      "  max_sentence_length: 4192\n",
      "  num_threads: 16\n",
      "  num_sub_iterations: 2\n",
      "  max_sentencepiece_length: 16\n",
      "  split_by_unicode_script: 1\n",
      "  split_by_number: 1\n",
      "  split_by_whitespace: 1\n",
      "  split_digits: 0\n",
      "  treat_whitespace_as_suffix: 0\n",
      "  allow_whitespace_only_pieces: 0\n",
      "  user_defined_symbols: <jj>\n",
      "  user_defined_symbols: <jd>\n",
      "  user_defined_symbols: <gs>\n",
      "  user_defined_symbols: <cc>\n",
      "  user_defined_symbols: <kw>\n",
      "  required_chars: \n",
      "  byte_fallback: 0\n",
      "  vocabulary_output_piece_score: 1\n",
      "  train_extremely_large_corpus: 0\n",
      "  hard_vocab_limit: 1\n",
      "  use_all_vocab: 0\n",
      "  unk_id: 3\n",
      "  bos_id: 1\n",
      "  eos_id: 2\n",
      "  pad_id: 0\n",
      "  unk_piece: <unk>\n",
      "  bos_piece: <s>\n",
      "  eos_piece: </s>\n",
      "  pad_piece: <pad>\n",
      "  unk_surface:  ⁇ \n",
      "}\n",
      "normalizer_spec {\n",
      "  name: nmt_nfkc\n",
      "  add_dummy_prefix: 1\n",
      "  remove_extra_whitespaces: 0\n",
      "  escape_whitespaces: 1\n",
      "  normalization_rule_tsv: \n",
      "}\n",
      "denormalizer_spec {}\n",
      "trainer_interface.cc(329) LOG(INFO) SentenceIterator is not specified. Using MultiFileSentenceIterator.\n",
      "trainer_interface.cc(178) LOG(INFO) Loading corpus: /aiffel/aiffel/aiffelthon/corpus_enc_r0.txt\n",
      "trainer_interface.cc(385) LOG(INFO) Loaded all 10000 sentences\n",
      "trainer_interface.cc(400) LOG(INFO) Adding meta_piece: <pad>\n",
      "trainer_interface.cc(400) LOG(INFO) Adding meta_piece: <s>\n",
      "trainer_interface.cc(400) LOG(INFO) Adding meta_piece: </s>\n",
      "trainer_interface.cc(400) LOG(INFO) Adding meta_piece: <unk>\n",
      "trainer_interface.cc(400) LOG(INFO) Adding meta_piece: <jj>\n",
      "trainer_interface.cc(400) LOG(INFO) Adding meta_piece: <jd>\n",
      "trainer_interface.cc(400) LOG(INFO) Adding meta_piece: <gs>\n",
      "trainer_interface.cc(400) LOG(INFO) Adding meta_piece: <cc>\n",
      "trainer_interface.cc(400) LOG(INFO) Adding meta_piece: <kw>\n",
      "trainer_interface.cc(405) LOG(INFO) Normalizing sentences...\n",
      "trainer_interface.cc(466) LOG(INFO) all chars count=1925513\n",
      "trainer_interface.cc(477) LOG(INFO) Done: 99.9737% characters are covered.\n",
      "trainer_interface.cc(487) LOG(INFO) Alphabet size=28\n",
      "trainer_interface.cc(488) LOG(INFO) Final character coverage=0.999737\n",
      "trainer_interface.cc(520) LOG(INFO) Done! preprocessed 10000 sentences.\n",
      "trainer_interface.cc(526) LOG(INFO) Tokenizing input sentences with whitespace: 10000\n",
      "trainer_interface.cc(537) LOG(INFO) Done! 11900\n",
      "bpe_model_trainer.cc(167) LOG(INFO) Updating active symbols. max_freq=59493 min_freq=1\n",
      "bpe_model_trainer.cc(258) LOG(INFO) Added: freq=15870 size=20 all=974 active=945 piece=at\n",
      "bpe_model_trainer.cc(258) LOG(INFO) Added: freq=7113 size=40 all=1652 active=1623 piece=ll\n",
      "bpe_model_trainer.cc(258) LOG(INFO) Added: freq=4945 size=60 all=2406 active=2377 piece=is\n",
      "bpe_model_trainer.cc(258) LOG(INFO) Added: freq=3457 size=80 all=2929 active=2900 piece=out\n",
      "bpe_model_trainer.cc(258) LOG(INFO) Added: freq=2668 size=100 all=3457 active=3428 piece=▁st\n",
      "bpe_model_trainer.cc(167) LOG(INFO) Updating active symbols. max_freq=2649 min_freq=83\n",
      "bpe_model_trainer.cc(258) LOG(INFO) Added: freq=2112 size=120 all=3950 active=1472 piece=▁an\n",
      "bpe_model_trainer.cc(258) LOG(INFO) Added: freq=1726 size=140 all=4441 active=1963 piece=▁bec\n",
      "bpe_model_trainer.cc(258) LOG(INFO) Added: freq=1396 size=160 all=4801 active=2323 piece=▁ch\n",
      "bpe_model_trainer.cc(258) LOG(INFO) Added: freq=1194 size=180 all=5235 active=2757 piece=ge\n",
      "bpe_model_trainer.cc(258) LOG(INFO) Added: freq=1022 size=200 all=5548 active=3070 piece=▁really\n",
      "bpe_model_trainer.cc(167) LOG(INFO) Updating active symbols. max_freq=1006 min_freq=88\n",
      "bpe_model_trainer.cc(258) LOG(INFO) Added: freq=907 size=220 all=5893 active=1346 piece=king\n",
      "bpe_model_trainer.cc(258) LOG(INFO) Added: freq=784 size=240 all=6374 active=1827 piece=▁fe\n",
      "bpe_model_trainer.cc(258) LOG(INFO) Added: freq=708 size=260 all=6645 active=2098 piece=our\n",
      "bpe_model_trainer.cc(258) LOG(INFO) Added: freq=624 size=280 all=7135 active=2588 piece=▁sp\n",
      "bpe_model_trainer.cc(258) LOG(INFO) Added: freq=537 size=300 all=7391 active=2844 piece=ouse\n",
      "bpe_model_trainer.cc(167) LOG(INFO) Updating active symbols. max_freq=536 min_freq=78\n",
      "bpe_model_trainer.cc(258) LOG(INFO) Added: freq=508 size=320 all=7593 active=1191 piece=▁old\n",
      "bpe_model_trainer.cc(258) LOG(INFO) Added: freq=473 size=340 all=7744 active=1342 piece=ist\n",
      "bpe_model_trainer.cc(258) LOG(INFO) Added: freq=438 size=360 all=8085 active=1683 piece=▁tell\n",
      "bpe_model_trainer.cc(258) LOG(INFO) Added: freq=410 size=380 all=8308 active=1906 piece=▁try\n",
      "bpe_model_trainer.cc(258) LOG(INFO) Added: freq=373 size=400 all=8517 active=2115 piece=▁ke\n",
      "bpe_model_trainer.cc(167) LOG(INFO) Updating active symbols. max_freq=373 min_freq=69\n",
      "bpe_model_trainer.cc(258) LOG(INFO) Added: freq=346 size=420 all=8775 active=1251 piece=so\n",
      "bpe_model_trainer.cc(258) LOG(INFO) Added: freq=322 size=440 all=9114 active=1590 piece=▁told\n",
      "bpe_model_trainer.cc(258) LOG(INFO) Added: freq=292 size=460 all=9302 active=1778 piece=ts\n",
      "bpe_model_trainer.cc(258) LOG(INFO) Added: freq=277 size=480 all=9430 active=1906 piece=▁act\n",
      "bpe_model_trainer.cc(258) LOG(INFO) Added: freq=263 size=500 all=9595 active=2071 piece=▁looking\n",
      "bpe_model_trainer.cc(167) LOG(INFO) Updating active symbols. max_freq=262 min_freq=60\n",
      "bpe_model_trainer.cc(258) LOG(INFO) Added: freq=246 size=520 all=9859 active=1265 piece=▁toge\n",
      "bpe_model_trainer.cc(258) LOG(INFO) Added: freq=228 size=540 all=9958 active=1364 piece=ju\n",
      "bpe_model_trainer.cc(258) LOG(INFO) Added: freq=215 size=560 all=10061 active=1467 piece=by\n",
      "bpe_model_trainer.cc(258) LOG(INFO) Added: freq=206 size=580 all=10388 active=1794 piece=▁next\n",
      "bpe_model_trainer.cc(258) LOG(INFO) Added: freq=199 size=600 all=10536 active=1942 piece=▁alone\n",
      "bpe_model_trainer.cc(167) LOG(INFO) Updating active symbols. max_freq=198 min_freq=54\n",
      "bpe_model_trainer.cc(258) LOG(INFO) Added: freq=191 size=620 all=10695 active=1160 piece=▁dis\n",
      "bpe_model_trainer.cc(258) LOG(INFO) Added: freq=181 size=640 all=10925 active=1390 piece=▁times\n",
      "bpe_model_trainer.cc(258) LOG(INFO) Added: freq=175 size=660 all=11047 active=1512 piece=ady\n",
      "bpe_model_trainer.cc(258) LOG(INFO) Added: freq=167 size=680 all=11191 active=1656 piece=nder\n",
      "bpe_model_trainer.cc(258) LOG(INFO) Added: freq=161 size=700 all=11290 active=1755 piece=▁rec\n",
      "bpe_model_trainer.cc(167) LOG(INFO) Updating active symbols. max_freq=161 min_freq=49\n",
      "bpe_model_trainer.cc(258) LOG(INFO) Added: freq=155 size=720 all=11429 active=1131 piece=▁working\n",
      "bpe_model_trainer.cc(258) LOG(INFO) Added: freq=148 size=740 all=11529 active=1231 piece=▁win\n",
      "bpe_model_trainer.cc(258) LOG(INFO) Added: freq=143 size=760 all=11588 active=1290 piece=▁couldnt\n",
      "bpe_model_trainer.cc(258) LOG(INFO) Added: freq=137 size=780 all=11748 active=1450 piece=▁phone\n",
      "bpe_model_trainer.cc(258) LOG(INFO) Added: freq=132 size=800 all=11839 active=1541 piece=▁side\n",
      "bpe_model_trainer.cc(167) LOG(INFO) Updating active symbols. max_freq=132 min_freq=44\n",
      "bpe_model_trainer.cc(258) LOG(INFO) Added: freq=129 size=820 all=11875 active=1037 piece=▁looks\n",
      "bpe_model_trainer.cc(258) LOG(INFO) Added: freq=123 size=840 all=11991 active=1153 piece=ors\n",
      "bpe_model_trainer.cc(258) LOG(INFO) Added: freq=119 size=860 all=12152 active=1314 piece=▁case\n",
      "bpe_model_trainer.cc(258) LOG(INFO) Added: freq=114 size=880 all=12275 active=1437 piece=▁summer\n",
      "bpe_model_trainer.cc(258) LOG(INFO) Added: freq=109 size=900 all=12423 active=1585 piece=ical\n",
      "bpe_model_trainer.cc(167) LOG(INFO) Updating active symbols. max_freq=109 min_freq=40\n",
      "bpe_model_trainer.cc(258) LOG(INFO) Added: freq=107 size=920 all=12502 active=1059 piece=▁island\n",
      "bpe_model_trainer.cc(258) LOG(INFO) Added: freq=103 size=940 all=12620 active=1177 piece=zy\n",
      "bpe_model_trainer.cc(258) LOG(INFO) Added: freq=100 size=960 all=12711 active=1268 piece=orm\n",
      "bpe_model_trainer.cc(258) LOG(INFO) Added: freq=97 size=980 all=12804 active=1361 piece=uit\n",
      "bpe_model_trainer.cc(258) LOG(INFO) Added: freq=93 size=1000 all=12885 active=1442 piece=elt\n",
      "bpe_model_trainer.cc(167) LOG(INFO) Updating active symbols. max_freq=93 min_freq=36\n",
      "bpe_model_trainer.cc(258) LOG(INFO) Added: freq=92 size=1020 all=12974 active=1087 piece=▁anymore\n",
      "bpe_model_trainer.cc(258) LOG(INFO) Added: freq=90 size=1040 all=13090 active=1203 piece=uickly\n",
      "bpe_model_trainer.cc(258) LOG(INFO) Added: freq=88 size=1060 all=13173 active=1286 piece=▁med\n",
      "bpe_model_trainer.cc(258) LOG(INFO) Added: freq=86 size=1080 all=13270 active=1383 piece=▁covid\n",
      "bpe_model_trainer.cc(258) LOG(INFO) Added: freq=84 size=1100 all=13368 active=1481 piece=▁complete\n",
      "bpe_model_trainer.cc(167) LOG(INFO) Updating active symbols. max_freq=83 min_freq=32\n",
      "bpe_model_trainer.cc(258) LOG(INFO) Added: freq=82 size=1120 all=13498 active=1130 piece=▁theyre\n",
      "bpe_model_trainer.cc(258) LOG(INFO) Added: freq=79 size=1140 all=13596 active=1228 piece=▁des\n",
      "bpe_model_trainer.cc(258) LOG(INFO) Added: freq=77 size=1160 all=13664 active=1296 piece=▁stra\n",
      "bpe_model_trainer.cc(258) LOG(INFO) Added: freq=75 size=1180 all=13741 active=1373 piece=▁lose\n",
      "bpe_model_trainer.cc(258) LOG(INFO) Added: freq=73 size=1200 all=13840 active=1472 piece=▁exam\n",
      "bpe_model_trainer.cc(167) LOG(INFO) Updating active symbols. max_freq=73 min_freq=30\n",
      "bpe_model_trainer.cc(258) LOG(INFO) Added: freq=71 size=1220 all=13863 active=1020 piece=ons\n",
      "bpe_model_trainer.cc(258) LOG(INFO) Added: freq=69 size=1240 all=14016 active=1173 piece=▁angry\n",
      "bpe_model_trainer.cc(258) LOG(INFO) Added: freq=67 size=1260 all=14137 active=1294 piece=ward\n",
      "bpe_model_trainer.cc(258) LOG(INFO) Added: freq=66 size=1280 all=14213 active=1370 piece=▁weather\n",
      "bpe_model_trainer.cc(258) LOG(INFO) Added: freq=63 size=1300 all=14295 active=1452 piece=ork\n",
      "bpe_model_trainer.cc(167) LOG(INFO) Updating active symbols. max_freq=63 min_freq=27\n",
      "bpe_model_trainer.cc(258) LOG(INFO) Added: freq=62 size=1320 all=14373 active=1074 piece=▁black\n",
      "bpe_model_trainer.cc(258) LOG(INFO) Added: freq=60 size=1340 all=14501 active=1202 piece=uest\n",
      "bpe_model_trainer.cc(258) LOG(INFO) Added: freq=58 size=1360 all=14549 active=1250 piece=bo\n",
      "bpe_model_trainer.cc(258) LOG(INFO) Added: freq=57 size=1380 all=14651 active=1352 piece=ram\n",
      "bpe_model_trainer.cc(258) LOG(INFO) Added: freq=56 size=1400 all=14739 active=1440 piece=▁bra\n",
      "bpe_model_trainer.cc(167) LOG(INFO) Updating active symbols. max_freq=56 min_freq=25\n",
      "bpe_model_trainer.cc(258) LOG(INFO) Added: freq=56 size=1420 all=14783 active=1032 piece=▁grandfather\n",
      "bpe_model_trainer.cc(258) LOG(INFO) Added: freq=54 size=1440 all=14843 active=1092 piece=▁beh\n",
      "bpe_model_trainer.cc(258) LOG(INFO) Added: freq=53 size=1460 all=14905 active=1154 piece=▁hob\n",
      "bpe_model_trainer.cc(258) LOG(INFO) Added: freq=52 size=1480 all=14959 active=1208 piece=▁younger\n",
      "bpe_model_trainer.cc(258) LOG(INFO) Added: freq=51 size=1500 all=15086 active=1335 piece=▁church\n",
      "bpe_model_trainer.cc(167) LOG(INFO) Updating active symbols. max_freq=51 min_freq=23\n",
      "bpe_model_trainer.cc(258) LOG(INFO) Added: freq=50 size=1520 all=15160 active=1074 piece=▁embarr\n",
      "bpe_model_trainer.cc(258) LOG(INFO) Added: freq=49 size=1540 all=15267 active=1181 piece=▁white\n",
      "bpe_model_trainer.cc(258) LOG(INFO) Added: freq=48 size=1560 all=15333 active=1247 piece=▁between\n",
      "bpe_model_trainer.cc(258) LOG(INFO) Added: freq=47 size=1580 all=15431 active=1345 piece=▁check\n",
      "bpe_model_trainer.cc(258) LOG(INFO) Added: freq=46 size=1600 all=15460 active=1374 piece=ject\n",
      "bpe_model_trainer.cc(167) LOG(INFO) Updating active symbols. max_freq=46 min_freq=21\n",
      "bpe_model_trainer.cc(258) LOG(INFO) Added: freq=45 size=1620 all=15531 active=1062 piece=▁cent\n",
      "bpe_model_trainer.cc(258) LOG(INFO) Added: freq=44 size=1640 all=15556 active=1087 piece=ief\n",
      "bpe_model_trainer.cc(258) LOG(INFO) Added: freq=44 size=1660 all=15628 active=1159 piece=▁calling\n",
      "bpe_model_trainer.cc(258) LOG(INFO) Added: freq=42 size=1680 all=15635 active=1166 piece=cle\n",
      "bpe_model_trainer.cc(258) LOG(INFO) Added: freq=42 size=1700 all=15712 active=1243 piece=▁especially\n",
      "bpe_model_trainer.cc(167) LOG(INFO) Updating active symbols. max_freq=41 min_freq=20\n",
      "bpe_model_trainer.cc(258) LOG(INFO) Added: freq=41 size=1720 all=15755 active=1044 piece=▁sleeping\n",
      "bpe_model_trainer.cc(258) LOG(INFO) Added: freq=40 size=1740 all=15818 active=1107 piece=▁finish\n",
      "bpe_model_trainer.cc(258) LOG(INFO) Added: freq=39 size=1760 all=15879 active=1168 piece=▁paid\n",
      "bpe_model_trainer.cc(258) LOG(INFO) Added: freq=38 size=1780 all=15957 active=1246 piece=▁cute\n",
      "bpe_model_trainer.cc(258) LOG(INFO) Added: freq=37 size=1800 all=15964 active=1253 piece=he\n",
      "bpe_model_trainer.cc(167) LOG(INFO) Updating active symbols. max_freq=37 min_freq=19\n",
      "bpe_model_trainer.cc(258) LOG(INFO) Added: freq=37 size=1820 all=16052 active=1069 piece=▁cases\n",
      "bpe_model_trainer.cc(258) LOG(INFO) Added: freq=36 size=1840 all=16137 active=1154 piece=▁dam\n",
      "bpe_model_trainer.cc(258) LOG(INFO) Added: freq=35 size=1860 all=16199 active=1216 piece=▁eld\n",
      "bpe_model_trainer.cc(258) LOG(INFO) Added: freq=35 size=1880 all=16211 active=1228 piece=▁members\n",
      "bpe_model_trainer.cc(258) LOG(INFO) Added: freq=34 size=1900 all=16249 active=1266 piece=▁surger\n",
      "bpe_model_trainer.cc(167) LOG(INFO) Updating active symbols. max_freq=34 min_freq=17\n",
      "bpe_model_trainer.cc(258) LOG(INFO) Added: freq=33 size=1920 all=16323 active=1073 piece=▁det\n",
      "bpe_model_trainer.cc(258) LOG(INFO) Added: freq=33 size=1940 all=16366 active=1116 piece=▁dramas\n",
      "bpe_model_trainer.cc(258) LOG(INFO) Added: freq=32 size=1960 all=16409 active=1159 piece=▁sen\n",
      "bpe_model_trainer.cc(258) LOG(INFO) Added: freq=32 size=1980 all=16445 active=1195 piece=▁econom\n",
      "bpe_model_trainer.cc(258) LOG(INFO) Added: freq=31 size=2000 all=16489 active=1239 piece=ined\n",
      "bpe_model_trainer.cc(167) LOG(INFO) Updating active symbols. max_freq=31 min_freq=16\n",
      "bpe_model_trainer.cc(258) LOG(INFO) Added: freq=31 size=2020 all=16527 active=1026 piece=▁acting\n",
      "bpe_model_trainer.cc(258) LOG(INFO) Added: freq=30 size=2040 all=16553 active=1052 piece=ilo\n",
      "bpe_model_trainer.cc(258) LOG(INFO) Added: freq=30 size=2060 all=16653 active=1152 piece=▁shin\n",
      "bpe_model_trainer.cc(258) LOG(INFO) Added: freq=30 size=2080 all=16666 active=1165 piece=▁pictures\n",
      "bpe_model_trainer.cc(258) LOG(INFO) Added: freq=29 size=2100 all=16741 active=1240 piece=▁dogs\n",
      "bpe_model_trainer.cc(167) LOG(INFO) Updating active symbols. max_freq=29 min_freq=15\n",
      "bpe_model_trainer.cc(258) LOG(INFO) Added: freq=29 size=2120 all=16765 active=1025 piece=▁natural\n",
      "bpe_model_trainer.cc(258) LOG(INFO) Added: freq=28 size=2140 all=16807 active=1067 piece=▁loud\n",
      "bpe_model_trainer.cc(258) LOG(INFO) Added: freq=28 size=2160 all=16829 active=1089 piece=▁stopped\n",
      "bpe_model_trainer.cc(258) LOG(INFO) Added: freq=27 size=2180 all=16915 active=1175 piece=▁hab\n",
      "bpe_model_trainer.cc(258) LOG(INFO) Added: freq=27 size=2200 all=16958 active=1218 piece=▁novel\n",
      "bpe_model_trainer.cc(167) LOG(INFO) Updating active symbols. max_freq=27 min_freq=14\n",
      "bpe_model_trainer.cc(258) LOG(INFO) Added: freq=26 size=2220 all=17004 active=1045 piece=▁non\n",
      "bpe_model_trainer.cc(258) LOG(INFO) Added: freq=26 size=2240 all=17054 active=1095 piece=▁spent\n",
      "bpe_model_trainer.cc(258) LOG(INFO) Added: freq=26 size=2260 all=17049 active=1090 piece=▁thoughts\n",
      "bpe_model_trainer.cc(258) LOG(INFO) Added: freq=25 size=2280 all=17127 active=1168 piece=agram\n",
      "bpe_model_trainer.cc(258) LOG(INFO) Added: freq=25 size=2300 all=17148 active=1189 piece=▁grades\n",
      "bpe_model_trainer.cc(167) LOG(INFO) Updating active symbols. max_freq=25 min_freq=14\n",
      "bpe_model_trainer.cc(258) LOG(INFO) Added: freq=24 size=2320 all=17199 active=1052 piece=arch\n",
      "bpe_model_trainer.cc(258) LOG(INFO) Added: freq=24 size=2340 all=17244 active=1097 piece=▁americ\n",
      "bpe_model_trainer.cc(258) LOG(INFO) Added: freq=24 size=2360 all=17251 active=1104 piece=▁exercising\n",
      "bpe_model_trainer.cc(258) LOG(INFO) Added: freq=23 size=2380 all=17299 active=1152 piece=▁built\n",
      "bpe_model_trainer.cc(258) LOG(INFO) Added: freq=23 size=2400 all=17305 active=1158 piece=▁divorce\n",
      "bpe_model_trainer.cc(167) LOG(INFO) Updating active symbols. max_freq=23 min_freq=13\n",
      "bpe_model_trainer.cc(258) LOG(INFO) Added: freq=22 size=2420 all=17381 active=1077 piece=leep\n",
      "bpe_model_trainer.cc(258) LOG(INFO) Added: freq=22 size=2440 all=17419 active=1115 piece=▁activ\n",
      "bpe_model_trainer.cc(258) LOG(INFO) Added: freq=22 size=2460 all=17426 active=1122 piece=▁itself\n",
      "bpe_model_trainer.cc(258) LOG(INFO) Added: freq=21 size=2480 all=17455 active=1151 piece=bok\n",
      "bpe_model_trainer.cc(258) LOG(INFO) Added: freq=21 size=2500 all=17533 active=1229 piece=▁goal\n",
      "bpe_model_trainer.cc(167) LOG(INFO) Updating active symbols. max_freq=21 min_freq=12\n",
      "bpe_model_trainer.cc(258) LOG(INFO) Added: freq=21 size=2520 all=17544 active=1011 piece=▁lights\n",
      "bpe_model_trainer.cc(258) LOG(INFO) Added: freq=20 size=2540 all=17550 active=1017 piece=ata\n",
      "bpe_model_trainer.cc(258) LOG(INFO) Added: freq=20 size=2560 all=17651 active=1118 piece=▁mos\n",
      "bpe_model_trainer.cc(258) LOG(INFO) Added: freq=20 size=2580 all=17701 active=1168 piece=▁remo\n",
      "bpe_model_trainer.cc(258) LOG(INFO) Added: freq=20 size=2600 all=17710 active=1177 piece=▁piano\n",
      "bpe_model_trainer.cc(167) LOG(INFO) Updating active symbols. max_freq=20 min_freq=11\n",
      "bpe_model_trainer.cc(258) LOG(INFO) Added: freq=20 size=2620 all=17722 active=1013 piece=▁account\n",
      "bpe_model_trainer.cc(258) LOG(INFO) Added: freq=19 size=2640 all=17756 active=1047 piece=aked\n",
      "bpe_model_trainer.cc(258) LOG(INFO) Added: freq=19 size=2660 all=17834 active=1125 piece=▁epis\n",
      "bpe_model_trainer.cc(258) LOG(INFO) Added: freq=19 size=2680 all=17839 active=1130 piece=▁incre\n",
      "bpe_model_trainer.cc(258) LOG(INFO) Added: freq=19 size=2700 all=17843 active=1134 piece=▁yeshes\n",
      "bpe_model_trainer.cc(167) LOG(INFO) Updating active symbols. max_freq=19 min_freq=11\n",
      "bpe_model_trainer.cc(258) LOG(INFO) Added: freq=18 size=2720 all=17868 active=1026 piece=lid\n",
      "bpe_model_trainer.cc(258) LOG(INFO) Added: freq=18 size=2740 all=17946 active=1104 piece=alect\n",
      "bpe_model_trainer.cc(258) LOG(INFO) Added: freq=18 size=2760 all=17976 active=1134 piece=▁fault\n",
      "bpe_model_trainer.cc(258) LOG(INFO) Added: freq=18 size=2780 all=17976 active=1134 piece=▁sprout\n",
      "bpe_model_trainer.cc(258) LOG(INFO) Added: freq=17 size=2800 all=17967 active=1125 piece=dy\n",
      "bpe_model_trainer.cc(167) LOG(INFO) Updating active symbols. max_freq=17 min_freq=10\n",
      "bpe_model_trainer.cc(258) LOG(INFO) Added: freq=17 size=2820 all=18094 active=1124 piece=▁est\n",
      "bpe_model_trainer.cc(258) LOG(INFO) Added: freq=17 size=2840 all=18130 active=1160 piece=▁thro\n",
      "bpe_model_trainer.cc(258) LOG(INFO) Added: freq=17 size=2860 all=18136 active=1166 piece=▁threw\n",
      "bpe_model_trainer.cc(258) LOG(INFO) Added: freq=17 size=2880 all=18137 active=1167 piece=▁library\n",
      "bpe_model_trainer.cc(258) LOG(INFO) Added: freq=17 size=2900 all=18122 active=1152 piece=▁struggling\n",
      "bpe_model_trainer.cc(167) LOG(INFO) Updating active symbols. max_freq=17 min_freq=10\n",
      "bpe_model_trainer.cc(258) LOG(INFO) Added: freq=16 size=2920 all=18191 active=1070 piece=▁pun\n",
      "bpe_model_trainer.cc(258) LOG(INFO) Added: freq=16 size=2940 all=18224 active=1103 piece=▁sang\n",
      "bpe_model_trainer.cc(258) LOG(INFO) Added: freq=16 size=2960 all=18240 active=1119 piece=▁types\n",
      "bpe_model_trainer.cc(258) LOG(INFO) Added: freq=16 size=2980 all=18230 active=1109 piece=▁doctors\n",
      "bpe_model_trainer.cc(258) LOG(INFO) Added: freq=15 size=3000 all=18226 active=1105 piece=ki\n",
      "bpe_model_trainer.cc(167) LOG(INFO) Updating active symbols. max_freq=15 min_freq=9\n",
      "bpe_model_trainer.cc(258) LOG(INFO) Added: freq=15 size=3020 all=18297 active=1069 piece=▁ash\n",
      "bpe_model_trainer.cc(258) LOG(INFO) Added: freq=15 size=3040 all=18347 active=1119 piece=▁coll\n",
      "bpe_model_trainer.cc(258) LOG(INFO) Added: freq=15 size=3060 all=18359 active=1131 piece=▁hated\n",
      "bpe_model_trainer.cc(258) LOG(INFO) Added: freq=15 size=3080 all=18352 active=1124 piece=▁artific\n",
      "bpe_model_trainer.cc(258) LOG(INFO) Added: freq=15 size=3100 all=18338 active=1110 piece=▁broadcast\n",
      "bpe_model_trainer.cc(167) LOG(INFO) Updating active symbols. max_freq=15 min_freq=9\n",
      "bpe_model_trainer.cc(258) LOG(INFO) Added: freq=14 size=3120 all=18395 active=1056 piece=bean\n",
      "bpe_model_trainer.cc(258) LOG(INFO) Added: freq=14 size=3140 all=18459 active=1120 piece=▁tof\n",
      "bpe_model_trainer.cc(258) LOG(INFO) Added: freq=14 size=3160 all=18490 active=1151 piece=▁tour\n",
      "bpe_model_trainer.cc(258) LOG(INFO) Added: freq=14 size=3180 all=18492 active=1153 piece=▁garden\n",
      "bpe_model_trainer.cc(258) LOG(INFO) Added: freq=14 size=3200 all=18486 active=1147 piece=▁laughed\n",
      "bpe_model_trainer.cc(167) LOG(INFO) Updating active symbols. max_freq=14 min_freq=9\n",
      "bpe_model_trainer.cc(258) LOG(INFO) Added: freq=14 size=3220 all=18472 active=987 piece=▁mentioned\n",
      "bpe_model_trainer.cc(258) LOG(INFO) Added: freq=13 size=3240 all=18538 active=1053 piece=▁ban\n",
      "bpe_model_trainer.cc(258) LOG(INFO) Added: freq=13 size=3260 all=18582 active=1097 piece=▁comb\n",
      "bpe_model_trainer.cc(258) LOG(INFO) Added: freq=13 size=3280 all=18595 active=1110 piece=▁nurse\n",
      "bpe_model_trainer.cc(258) LOG(INFO) Added: freq=13 size=3300 all=18594 active=1109 piece=▁dollar\n",
      "bpe_model_trainer.cc(167) LOG(INFO) Updating active symbols. max_freq=13 min_freq=8\n",
      "bpe_model_trainer.cc(258) LOG(INFO) Added: freq=13 size=3320 all=18592 active=999 piece=▁alcohol\n",
      "bpe_model_trainer.cc(258) LOG(INFO) Added: freq=13 size=3340 all=18581 active=988 piece=▁breaking\n",
      "bpe_model_trainer.cc(258) LOG(INFO) Added: freq=13 size=3360 all=18565 active=972 piece=▁grandchildren\n",
      "bpe_model_trainer.cc(258) LOG(INFO) Added: freq=12 size=3380 all=18639 active=1046 piece=male\n",
      "bpe_model_trainer.cc(258) LOG(INFO) Added: freq=12 size=3400 all=18684 active=1091 piece=tions\n",
      "bpe_model_trainer.cc(167) LOG(INFO) Updating active symbols. max_freq=12 min_freq=8\n",
      "bpe_model_trainer.cc(258) LOG(INFO) Added: freq=12 size=3420 all=18693 active=1009 piece=▁port\n",
      "bpe_model_trainer.cc(258) LOG(INFO) Added: freq=12 size=3440 all=18710 active=1026 piece=▁idiot\n",
      "bpe_model_trainer.cc(258) LOG(INFO) Added: freq=12 size=3460 all=18704 active=1020 piece=▁iphone\n",
      "bpe_model_trainer.cc(258) LOG(INFO) Added: freq=12 size=3480 all=18694 active=1010 piece=▁glasses\n",
      "bpe_model_trainer.cc(258) LOG(INFO) Added: freq=12 size=3500 all=18684 active=1000 piece=▁answering\n",
      "bpe_model_trainer.cc(167) LOG(INFO) Updating active symbols. max_freq=12 min_freq=8\n",
      "bpe_model_trainer.cc(258) LOG(INFO) Added: freq=11 size=3520 all=18711 active=1028 piece=ops\n",
      "bpe_model_trainer.cc(258) LOG(INFO) Added: freq=11 size=3540 all=18753 active=1070 piece=▁kno\n",
      "bpe_model_trainer.cc(258) LOG(INFO) Added: freq=11 size=3560 all=18792 active=1109 piece=▁crow\n",
      "bpe_model_trainer.cc(258) LOG(INFO) Added: freq=11 size=3580 all=18797 active=1114 piece=▁sour\n",
      "bpe_model_trainer.cc(258) LOG(INFO) Added: freq=11 size=3600 all=18809 active=1126 piece=▁liver\n",
      "bpe_model_trainer.cc(167) LOG(INFO) Updating active symbols. max_freq=11 min_freq=7\n",
      "bpe_model_trainer.cc(258) LOG(INFO) Added: freq=11 size=3620 all=18805 active=996 piece=▁cotton\n",
      "bpe_model_trainer.cc(258) LOG(INFO) Added: freq=11 size=3640 all=18796 active=987 piece=▁fishing\n",
      "bpe_model_trainer.cc(258) LOG(INFO) Added: freq=11 size=3660 all=18785 active=976 piece=▁families\n",
      "bpe_model_trainer.cc(258) LOG(INFO) Added: freq=11 size=3680 all=18776 active=967 piece=▁impossible\n",
      "bpe_model_trainer.cc(258) LOG(INFO) Added: freq=10 size=3700 all=18807 active=998 piece=akes\n",
      "bpe_model_trainer.cc(167) LOG(INFO) Updating active symbols. max_freq=10 min_freq=7\n",
      "bpe_model_trainer.cc(258) LOG(INFO) Added: freq=10 size=3720 all=18869 active=1057 piece=▁hmm\n",
      "bpe_model_trainer.cc(258) LOG(INFO) Added: freq=10 size=3740 all=18891 active=1079 piece=ipped\n",
      "bpe_model_trainer.cc(258) LOG(INFO) Added: freq=10 size=3760 all=18921 active=1109 piece=▁knee\n",
      "bpe_model_trainer.cc(258) LOG(INFO) Added: freq=10 size=3780 all=18927 active=1115 piece=▁aband\n",
      "bpe_model_trainer.cc(258) LOG(INFO) Added: freq=10 size=3800 all=18925 active=1113 piece=▁shout\n",
      "bpe_model_trainer.cc(167) LOG(INFO) Updating active symbols. max_freq=10 min_freq=7\n",
      "bpe_model_trainer.cc(258) LOG(INFO) Added: freq=10 size=3820 all=18928 active=1003 piece=▁income\n",
      "bpe_model_trainer.cc(258) LOG(INFO) Added: freq=10 size=3840 all=18921 active=996 piece=▁individ\n",
      "bpe_model_trainer.cc(258) LOG(INFO) Added: freq=10 size=3860 all=18912 active=987 piece=▁eyebrows\n",
      "bpe_model_trainer.cc(258) LOG(INFO) Added: freq=10 size=3880 all=18899 active=974 piece=▁recognize\n",
      "bpe_model_trainer.cc(258) LOG(INFO) Added: freq=9 size=3900 all=18928 active=1003 piece=her\n",
      "bpe_model_trainer.cc(167) LOG(INFO) Updating active symbols. max_freq=9 min_freq=6\n",
      "bpe_model_trainer.cc(258) LOG(INFO) Added: freq=9 size=3920 all=18987 active=1054 piece=iced\n",
      "bpe_model_trainer.cc(258) LOG(INFO) Added: freq=9 size=3940 all=19037 active=1104 piece=▁gap\n",
      "bpe_model_trainer.cc(258) LOG(INFO) Added: freq=9 size=3960 all=19060 active=1127 piece=jured\n",
      "trainer_interface.cc(615) LOG(INFO) Saving model: spmenc_test_r0.model\n",
      "trainer_interface.cc(626) LOG(INFO) Saving vocabs: spmenc_test_r0.vocab\n"
     ]
    },
    {
     "name": "stderr",
     "output_type": "stream",
     "text": [
      "sentencepiece_trainer.cc(177) LOG(INFO) Running command: --input=/aiffel/aiffel/aiffelthon/corpus_dec_r0.txt --model_type=bpe --pad_id=0 --bos_id=1 --eos_id=2         --unk_id=3 --model_prefix=spmdec_test_r0 --vocab_size=4009         --user_defined_symbols=<jj>,<jd>,<gs>,<cc>,<kw> --remove_extra_whitespaces=false\n",
      "sentencepiece_trainer.cc(77) LOG(INFO) Starts training with : \n",
      "trainer_spec {\n",
      "  input: /aiffel/aiffel/aiffelthon/corpus_dec_r0.txt\n",
      "  input_format: \n",
      "  model_prefix: spmdec_test_r0\n",
      "  model_type: BPE\n",
      "  vocab_size: 4009\n",
      "  self_test_sample_size: 0\n",
      "  character_coverage: 0.9995\n",
      "  input_sentence_size: 0\n",
      "  shuffle_input_sentence: 1\n",
      "  seed_sentencepiece_size: 1000000\n",
      "  shrinking_factor: 0.75\n",
      "  max_sentence_length: 4192\n",
      "  num_threads: 16\n",
      "  num_sub_iterations: 2\n",
      "  max_sentencepiece_length: 16\n",
      "  split_by_unicode_script: 1\n",
      "  split_by_number: 1\n",
      "  split_by_whitespace: 1\n",
      "  split_digits: 0\n",
      "  treat_whitespace_as_suffix: 0\n",
      "  allow_whitespace_only_pieces: 0\n",
      "  user_defined_symbols: <jj>\n",
      "  user_defined_symbols: <jd>\n",
      "  user_defined_symbols: <gs>\n",
      "  user_defined_symbols: <cc>\n",
      "  user_defined_symbols: <kw>\n",
      "  required_chars: \n",
      "  byte_fallback: 0\n",
      "  vocabulary_output_piece_score: 1\n",
      "  train_extremely_large_corpus: 0\n",
      "  hard_vocab_limit: 1\n",
      "  use_all_vocab: 0\n",
      "  unk_id: 3\n",
      "  bos_id: 1\n",
      "  eos_id: 2\n",
      "  pad_id: 0\n",
      "  unk_piece: <unk>\n",
      "  bos_piece: <s>\n",
      "  eos_piece: </s>\n",
      "  pad_piece: <pad>\n",
      "  unk_surface:  ⁇ \n",
      "}\n",
      "normalizer_spec {\n",
      "  name: nmt_nfkc\n",
      "  add_dummy_prefix: 1\n",
      "  remove_extra_whitespaces: 0\n",
      "  escape_whitespaces: 1\n",
      "  normalization_rule_tsv: \n",
      "}\n",
      "denormalizer_spec {}\n",
      "trainer_interface.cc(329) LOG(INFO) SentenceIterator is not specified. Using MultiFileSentenceIterator.\n",
      "trainer_interface.cc(178) LOG(INFO) Loading corpus: /aiffel/aiffel/aiffelthon/corpus_dec_r0.txt\n",
      "trainer_interface.cc(356) LOG(WARNING) Found too long line (4435 > 4192).\n",
      "trainer_interface.cc(358) LOG(WARNING) Too long lines are skipped in the training.\n",
      "trainer_interface.cc(359) LOG(WARNING) The maximum length can be changed with --max_sentence_length=<size> flag.\n",
      "trainer_in"
     ]
    },
    {
     "data": {
      "text/plain": [
       "True"
      ]
     },
     "execution_count": 158,
     "metadata": {},
     "output_type": "execute_result"
    },
    {
     "name": "stderr",
     "output_type": "stream",
     "text": [
      "terface.cc(385) LOG(INFO) Loaded all 9972 sentences\n",
      "trainer_interface.cc(391) LOG(INFO) Skipped 28 too long sentences.\n",
      "trainer_interface.cc(400) LOG(INFO) Adding meta_piece: <pad>\n",
      "trainer_interface.cc(400) LOG(INFO) Adding meta_piece: <s>\n",
      "trainer_interface.cc(400) LOG(INFO) Adding meta_piece: </s>\n",
      "trainer_interface.cc(400) LOG(INFO) Adding meta_piece: <unk>\n",
      "trainer_interface.cc(400) LOG(INFO) Adding meta_piece: <jj>\n",
      "trainer_interface.cc(400) LOG(INFO) Adding meta_piece: <jd>\n",
      "trainer_interface.cc(400) LOG(INFO) Adding meta_piece: <gs>\n",
      "trainer_interface.cc(400) LOG(INFO) Adding meta_piece: <cc>\n",
      "trainer_interface.cc(400) LOG(INFO) Adding meta_piece: <kw>\n",
      "trainer_interface.cc(405) LOG(INFO) Normalizing sentences...\n",
      "trainer_interface.cc(466) LOG(INFO) all chars count=968982\n",
      "trainer_interface.cc(477) LOG(INFO) Done: 99.9503% characters are covered.\n",
      "trainer_interface.cc(487) LOG(INFO) Alphabet size=1516\n",
      "trainer_interface.cc(488) LOG(INFO) Final character coverage=0.999503\n",
      "trainer_interface.cc(520) LOG(INFO) Done! preprocessed 9972 sentences.\n",
      "trainer_interface.cc(526) LOG(INFO) Tokenizing input sentences with whitespace: 9972\n",
      "trainer_interface.cc(537) LOG(INFO) Done! 72338\n",
      "bpe_model_trainer.cc(167) LOG(INFO) Updating active symbols. max_freq=14217 min_freq=42\n",
      "bpe_model_trainer.cc(258) LOG(INFO) Added: freq=2425 size=20 all=46728 active=4698 piece=▁보\n",
      "bpe_model_trainer.cc(258) LOG(INFO) Added: freq=1451 size=40 all=48534 active=6504 piece=▁근디\n",
      "bpe_model_trainer.cc(258) LOG(INFO) Added: freq=1161 size=60 all=50308 active=8278 piece=▁울\n",
      "bpe_model_trainer.cc(258) LOG(INFO) Added: freq=928 size=80 all=51918 active=9888 piece=▁부\n",
      "bpe_model_trainer.cc(258) LOG(INFO) Added: freq=739 size=100 all=53339 active=11309 piece=▁거이\n",
      "bpe_model_trainer.cc(167) LOG(INFO) Updating active symbols. max_freq=735 min_freq=34\n",
      "bpe_model_trainer.cc(258) LOG(INFO) Added: freq=618 size=120 all=54428 active=3751 piece=▁이른\n",
      "bpe_model_trainer.cc(258) LOG(INFO) Added: freq=552 size=140 all=55481 active=4804 piece=▁전\n",
      "bpe_model_trainer.cc(258) LOG(INFO) Added: freq=517 size=160 all=56985 active=6308 piece=▁우리\n",
      "bpe_model_trainer.cc(258) LOG(INFO) Added: freq=473 size=180 all=58087 active=7410 piece=▁노\n",
      "bpe_model_trainer.cc(258) LOG(INFO) Added: freq=446 size=200 all=59210 active=8533 piece=▁헌\n",
      "bpe_model_trainer.cc(167) LOG(INFO) Updating active symbols. max_freq=445 min_freq=29\n",
      "bpe_model_trainer.cc(258) LOG(INFO) Added: freq=410 size=220 all=60211 active=3943 piece=▁인대이\n",
      "bpe_model_trainer.cc(258) LOG(INFO) Added: freq=384 size=240 all=60721 active=4453 piece=▁글\n",
      "bpe_model_trainer.cc(258) LOG(INFO) Added: freq=359 size=260 all=61797 active=5529 piece=▁에\n",
      "bpe_model_trainer.cc(258) LOG(INFO) Added: freq=339 size=280 all=62570 active=6302 piece=거이\n",
      "bpe_model_trainer.cc(258) LOG(INFO) Added: freq=310 size=300 all=63292 active=7024 piece=▁반\n",
      "bpe_model_trainer.cc(167) LOG(INFO) Updating active symbols. max_freq=309 min_freq=25\n",
      "bpe_model_trainer.cc(258) LOG(INFO) Added: freq=289 size=320 all=64133 active=3933 piece=▁곳\n",
      "bpe_model_trainer.cc(258) LOG(INFO) Added: freq=269 size=340 all=65137 active=4937 piece=▁관\n",
      "bpe_model_trainer.cc(258) LOG(INFO) Added: freq=251 size=360 all=66050 active=5850 piece=▁크\n",
      "bpe_model_trainer.cc(258) LOG(INFO) Added: freq=241 size=380 all=66808 active=6608 piece=▁게잉\n",
      "bpe_model_trainer.cc(258) LOG(INFO) Added: freq=223 size=400 all=67573 active=7373 piece=는거\n",
      "bpe_model_trainer.cc(167) LOG(INFO) Updating active symbols. max_freq=223 min_freq=23\n",
      "bpe_model_trainer.cc(258) LOG(INFO) Added: freq=210 size=420 all=68421 active=4120 piece=▁죽\n",
      "bpe_model_trainer.cc(258) LOG(INFO) Added: freq=202 size=440 all=68832 active=4531 piece=▁있슬\n",
      "bpe_model_trainer.cc(258) LOG(INFO) Added: freq=190 size=460 all=69366 active=5065 piece=▁이그\n",
      "bpe_model_trainer.cc(258) LOG(INFO) Added: freq=180 size=480 all=70060 active=5759 piece=습니다\n",
      "bpe_model_trainer.cc(258) LOG(INFO) Added: freq=174 size=500 all=70697 active=6396 piece=보다\n",
      "bpe_model_trainer.cc(167) LOG(INFO) Updating active symbols. max_freq=174 min_freq=21\n",
      "bpe_model_trainer.cc(258) LOG(INFO) Added: freq=166 size=520 all=71143 active=3905 piece=▁딸\n",
      "bpe_model_trainer.cc(258) LOG(INFO) Added: freq=159 size=540 all=71728 active=4490 piece=▁볼\n",
      "bpe_model_trainer.cc(258) LOG(INFO) Added: freq=154 size=560 all=72319 active=5081 piece=▁때이\n",
      "bpe_model_trainer.cc(258) LOG(INFO) Added: freq=147 size=580 all=72727 active=5489 piece=갖고\n",
      "bpe_model_trainer.cc(258) LOG(INFO) Added: freq=142 size=600 all=73226 active=5988 piece=▁허영\n",
      "bpe_model_trainer.cc(167) LOG(INFO) Updating active symbols. max_freq=141 min_freq=19\n",
      "bpe_model_trainer.cc(258) LOG(INFO) Added: freq=138 size=620 all=73669 active=4102 piece=▁깥은\n",
      "bpe_model_trainer.cc(258) LOG(INFO) Added: freq=134 size=640 all=74158 active=4591 piece=▁무시\n",
      "bpe_model_trainer.cc(258) LOG(INFO) Added: freq=129 size=660 all=74601 active=5034 piece=▁있었느\n",
      "bpe_model_trainer.cc(258) LOG(INFO) Added: freq=125 size=680 all=74986 active=5419 piece=▁태\n",
      "bpe_model_trainer.cc(258) LOG(INFO) Added: freq=122 size=700 all=75392 active=5825 piece=래비\n",
      "bpe_model_trainer.cc(167) LOG(INFO) Updating active symbols. max_freq=122 min_freq=18\n",
      "bpe_model_trainer.cc(258) LOG(INFO) Added: freq=119 size=720 all=75851 active=4224 piece=▁수도\n",
      "bpe_model_trainer.cc(258) LOG(INFO) Added: freq=116 size=740 all=76251 active=4624 piece=▁있나\n",
      "bpe_model_trainer.cc(258) LOG(INFO) Added: freq=113 size=760 all=76658 active=5031 piece=▁내를\n",
      "bpe_model_trainer.cc(258) LOG(INFO) Added: freq=109 size=780 all=77216 active=5589 piece=▁천\n",
      "bpe_model_trainer.cc(258) LOG(INFO) Added: freq=107 size=800 all=77675 active=6048 piece=▁거는이\n",
      "bpe_model_trainer.cc(167) LOG(INFO) Updating active symbols. max_freq=106 min_freq=17\n",
      "bpe_model_trainer.cc(258) LOG(INFO) Added: freq=103 size=820 all=78309 active=4518 piece=▁겨론\n",
      "bpe_model_trainer.cc(258) LOG(INFO) Added: freq=100 size=840 all=78600 active=4809 piece=▁갱\n",
      "bpe_model_trainer.cc(258) LOG(INFO) Added: freq=99 size=860 all=79117 active=5326 piece=▁우리가잉\n",
      "bpe_model_trainer.cc(258) LOG(INFO) Added: freq=96 size=880 all=79585 active=5794 piece=▁오늘\n",
      "bpe_model_trainer.cc(258) LOG(INFO) Added: freq=94 size=900 all=79967 active=6176 piece=▁스타\n",
      "bpe_model_trainer.cc(167) LOG(INFO) Updating active symbols. max_freq=94 min_freq=16\n",
      "bpe_model_trainer.cc(258) LOG(INFO) Added: freq=91 size=920 all=80276 active=4298 piece=정이\n",
      "bpe_model_trainer.cc(258) LOG(INFO) Added: freq=89 size=940 all=80655 active=4677 piece=▁꿈\n",
      "bpe_model_trainer.cc(258) LOG(INFO) Added: freq=87 size=960 all=81031 active=5053 piece=어나\n",
      "bpe_model_trainer.cc(258) LOG(INFO) Added: freq=85 size=980 all=81473 active=5495 piece=▁먹는\n",
      "bpe_model_trainer.cc(258) LOG(INFO) Added: freq=82 size=1000 all=81830 active=5852 piece=옵서\n",
      "bpe_model_trainer.cc(167) LOG(INFO) Updating active symbols. max_freq=82 min_freq=15\n",
      "bpe_model_trainer.cc(258) LOG(INFO) Added: freq=81 size=1020 all=82087 active=4345 piece=▁이시\n",
      "bpe_model_trainer.cc(258) LOG(INFO) Added: freq=80 size=1040 all=82351 active=4609 piece=▁경한디\n",
      "bpe_model_trainer.cc(258) LOG(INFO) Added: freq=78 size=1060 all=82694 active=4952 piece=도이\n",
      "bpe_model_trainer.cc(258) LOG(INFO) Added: freq=77 size=1080 all=83127 active=5385 piece=▁번이\n",
      "bpe_model_trainer.cc(258) LOG(INFO) Added: freq=75 size=1100 all=83377 active=5635 piece=데이\n",
      "bpe_model_trainer.cc(167) LOG(INFO) Updating active symbols. max_freq=75 min_freq=15\n",
      "bpe_model_trainer.cc(258) LOG(INFO) Added: freq=74 size=1120 all=83679 active=4442 piece=▁안되\n",
      "bpe_model_trainer.cc(258) LOG(INFO) Added: freq=72 size=1140 all=83903 active=4666 piece=▁투\n",
      "bpe_model_trainer.cc(258) LOG(INFO) Added: freq=71 size=1160 all=84345 active=5108 piece=▁사는\n",
      "bpe_model_trainer.cc(258) LOG(INFO) Added: freq=70 size=1180 all=84759 active=5522 piece=▁가가\n",
      "bpe_model_trainer.cc(258) LOG(INFO) Added: freq=69 size=1200 all=84994 active=5757 piece=▁같은디\n",
      "bpe_model_trainer.cc(167) LOG(INFO) Updating active symbols. max_freq=69 min_freq=14\n",
      "bpe_model_trainer.cc(258) LOG(INFO) Added: freq=68 size=1220 all=85372 active=4628 piece=가주꼬\n",
      "bpe_model_trainer.cc(258) LOG(INFO) Added: freq=67 size=1240 all=85564 active=4820 piece=미가\n",
      "bpe_model_trainer.cc(258) LOG(INFO) Added: freq=66 size=1260 all=86078 active=5334 piece=스럽\n",
      "bpe_model_trainer.cc(258) LOG(INFO) Added: freq=65 size=1280 all=86374 active=5630 piece=▁오날\n",
      "bpe_model_trainer.cc(258) LOG(INFO) Added: freq=64 size=1300 all=86588 active=5844 piece=▁엄마가\n",
      "bpe_model_trainer.cc(167) LOG(INFO) Updating active symbols. max_freq=64 min_freq=13\n",
      "bpe_model_trainer.cc(258) LOG(INFO) Added: freq=63 size=1320 all=86820 active=4562 piece=▁좋을\n",
      "bpe_model_trainer.cc(258) LOG(INFO) Added: freq=62 size=1340 all=87098 active=4840 piece=▁않으\n",
      "bpe_model_trainer.cc(258) LOG(INFO) Added: freq=60 size=1360 all=87298 active=5040 piece=▁흘\n",
      "bpe_model_trainer.cc(258) LOG(INFO) Added: freq=59 size=1380 all=87548 active=5290 piece=리에\n",
      "bpe_model_trainer.cc(258) LOG(INFO) Added: freq=58 size=1400 all=87792 active=5534 piece=▁끊\n",
      "bpe_model_trainer.cc(167) LOG(INFO) Updating active symbols. max_freq=58 min_freq=13\n",
      "bpe_model_trainer.cc(258) LOG(INFO) Added: freq=58 size=1420 all=88104 active=4679 piece=▁있으야\n",
      "bpe_model_trainer.cc(258) LOG(INFO) Added: freq=56 size=1440 all=88351 active=4926 piece=매이\n",
      "bpe_model_trainer.cc(258) LOG(INFO) Added: freq=55 size=1460 all=88594 active=5169 piece=르는\n",
      "bpe_model_trainer.cc(258) LOG(INFO) Added: freq=55 size=1480 all=88916 active=5491 piece=이라두\n",
      "bpe_model_trainer.cc(258) LOG(INFO) Added: freq=54 size=1500 all=89059 active=5634 piece=▁되노\n",
      "bpe_model_trainer.cc(167) LOG(INFO) Updating active symbols. max_freq=54 min_freq=13\n",
      "bpe_model_trainer.cc(258) LOG(INFO) Added: freq=53 size=1520 all=89292 active=4686 piece=▁에이\n"
     ]
    },
    {
     "name": "stderr",
     "output_type": "stream",
     "text": [
      "bpe_model_trainer.cc(258) LOG(INFO) Added: freq=52 size=1540 all=89702 active=5096 piece=자가\n",
      "bpe_model_trainer.cc(258) LOG(INFO) Added: freq=51 size=1560 all=90016 active=5410 piece=만한\n",
      "bpe_model_trainer.cc(258) LOG(INFO) Added: freq=51 size=1580 all=90255 active=5649 piece=▁친구들\n",
      "bpe_model_trainer.cc(258) LOG(INFO) Added: freq=50 size=1600 all=90556 active=5950 piece=▁머루\n",
      "bpe_model_trainer.cc(167) LOG(INFO) Updating active symbols. max_freq=50 min_freq=12\n",
      "bpe_model_trainer.cc(258) LOG(INFO) Added: freq=49 size=1620 all=90694 active=4666 piece=▁동네\n",
      "bpe_model_trainer.cc(258) LOG(INFO) Added: freq=48 size=1640 all=90904 active=4876 piece=놓고\n",
      "bpe_model_trainer.cc(258) LOG(INFO) Added: freq=48 size=1660 all=91116 active=5088 piece=▁하면은\n",
      "bpe_model_trainer.cc(258) LOG(INFO) Added: freq=47 size=1680 all=91483 active=5455 piece=▁운제\n",
      "bpe_model_trainer.cc(258) LOG(INFO) Added: freq=46 size=1700 all=91751 active=5723 piece=상을\n",
      "bpe_model_trainer.cc(167) LOG(INFO) Updating active symbols. max_freq=46 min_freq=12\n",
      "bpe_model_trainer.cc(258) LOG(INFO) Added: freq=46 size=1720 all=92011 active=4825 piece=▁오랜\n",
      "bpe_model_trainer.cc(258) LOG(INFO) Added: freq=45 size=1740 all=92185 active=4999 piece=▁푸\n",
      "bpe_model_trainer.cc(258) LOG(INFO) Added: freq=45 size=1760 all=92492 active=5306 piece=▁마라\n",
      "bpe_model_trainer.cc(258) LOG(INFO) Added: freq=44 size=1780 all=92697 active=5511 piece=마씨\n",
      "bpe_model_trainer.cc(258) LOG(INFO) Added: freq=44 size=1800 all=92973 active=5787 piece=▁어신\n",
      "bpe_model_trainer.cc(167) LOG(INFO) Updating active symbols. max_freq=44 min_freq=11\n",
      "bpe_model_trainer.cc(258) LOG(INFO) Added: freq=43 size=1820 all=93210 active=4881 piece=스로\n",
      "bpe_model_trainer.cc(258) LOG(INFO) Added: freq=43 size=1840 all=93374 active=5045 piece=▁계속이\n",
      "bpe_model_trainer.cc(258) LOG(INFO) Added: freq=42 size=1860 all=93624 active=5295 piece=하네\n",
      "bpe_model_trainer.cc(258) LOG(INFO) Added: freq=42 size=1880 all=93858 active=5529 piece=▁있자녀\n",
      "bpe_model_trainer.cc(258) LOG(INFO) Added: freq=41 size=1900 all=94044 active=5715 piece=▁으제\n",
      "bpe_model_trainer.cc(167) LOG(INFO) Updating active symbols. max_freq=41 min_freq=11\n",
      "bpe_model_trainer.cc(258) LOG(INFO) Added: freq=40 size=1920 all=94173 active=4831 piece=▁숙\n",
      "bpe_model_trainer.cc(258) LOG(INFO) Added: freq=40 size=1940 all=94487 active=5145 piece=▁도대\n",
      "bpe_model_trainer.cc(258) LOG(INFO) Added: freq=40 size=1960 all=94561 active=5219 piece=▁그르케\n",
      "bpe_model_trainer.cc(258) LOG(INFO) Added: freq=39 size=1980 all=94699 active=5357 piece=들의\n",
      "bpe_model_trainer.cc(258) LOG(INFO) Added: freq=39 size=2000 all=94940 active=5598 piece=▁안돼\n",
      "bpe_model_trainer.cc(167) LOG(INFO) Updating active symbols. max_freq=39 min_freq=11\n",
      "bpe_model_trainer.cc(258) LOG(INFO) Added: freq=39 size=2020 all=95105 active=4901 piece=더라고예\n",
      "bpe_model_trainer.cc(258) LOG(INFO) Added: freq=38 size=2040 all=95373 active=5169 piece=▁수영\n",
      "bpe_model_trainer.cc(258) LOG(INFO) Added: freq=37 size=2060 all=95541 active=5337 piece=▁댜\n",
      "bpe_model_trainer.cc(258) LOG(INFO) Added: freq=37 size=2080 all=95861 active=5657 piece=▁근강\n",
      "bpe_model_trainer.cc(258) LOG(INFO) Added: freq=37 size=2100 all=95989 active=5785 piece=▁하겠\n",
      "bpe_model_trainer.cc(167) LOG(INFO) Updating active symbols. max_freq=37 min_freq=10\n",
      "bpe_model_trainer.cc(258) LOG(INFO) Added: freq=36 size=2120 all=96247 active=5038 piece=불고\n",
      "bpe_model_trainer.cc(258) LOG(INFO) Added: freq=36 size=2140 all=96365 active=5156 piece=▁쇼핑\n",
      "bpe_model_trainer.cc(258) LOG(INFO) Added: freq=36 size=2160 all=96482 active=5273 piece=▁요즘게\n",
      "bpe_model_trainer.cc(258) LOG(INFO) Added: freq=35 size=2180 all=96671 active=5462 piece=렸어\n",
      "bpe_model_trainer.cc(258) LOG(INFO) Added: freq=35 size=2200 all=96923 active=5714 piece=▁설명\n",
      "bpe_model_trainer.cc(167) LOG(INFO) Updating active symbols. max_freq=35 min_freq=10\n",
      "bpe_model_trainer.cc(258) LOG(INFO) Added: freq=35 size=2220 all=9702"
     ]
    }
   ],
   "source": [
    "SRC_VOCAB_SIZE = TGT_VOCAB_SIZE = 4009\n",
    "\n",
    "enc_corpus = []\n",
    "dec_corpus = []\n",
    "\n",
    "for pair in cleaned_corpus:\n",
    "    e, d = pair[0], pair[1]\n",
    "    # enc, dec 분리\n",
    "    enc_corpus.append(e)\n",
    "    dec_corpus.append(d)\n",
    "\n",
    "#     enc_corpus.append(preprocess_sentence(e))\n",
    "#     dec_corpus.append(preprocess_sentence(d))\n",
    "\n",
    "enc_tokenizer = generate_tokenizer(enc_corpus, SRC_VOCAB_SIZE, \"enc\")\n",
    "dec_tokenizer = generate_tokenizer(dec_corpus, TGT_VOCAB_SIZE, \"dec\")\n",
    "dec_tokenizer.set_encode_extra_options(\"bos:eos\")"
   ]
  },
  {
   "cell_type": "code",
   "execution_count": 159,
   "id": "a772212d",
   "metadata": {},
   "outputs": [
    {
     "name": "stdout",
     "output_type": "stream",
     "text": [
      "['▁', '<kw>', '▁that', '▁s', '▁what', '▁they', '▁re', '▁talking', '▁about', '▁.']\n"
     ]
    }
   ],
   "source": [
    "print(enc_tokenizer.EncodeAsPieces(enc_corpus[200]))"
   ]
  },
  {
   "cell_type": "code",
   "execution_count": 160,
   "id": "53dff3aa",
   "metadata": {},
   "outputs": [
    {
     "name": "stdout",
     "output_type": "stream",
     "text": [
      "['<s>', '▁이기', '▁산', '골', '짝', '이', '에서', '▁캐', '온', '▁나', '물이', '래', '▁.', '</s>']\n"
     ]
    }
   ],
   "source": [
    "print(dec_tokenizer.EncodeAsPieces(dec_corpus[200]))"
>>>>>>> 15d789c7df9f076903fba9a10fccd7605db40e4d
   ]
  },
  {
   "cell_type": "code",
<<<<<<< HEAD
   "execution_count": 8,
   "id": "4faa51c6",
   "metadata": {},
   "outputs": [
    {
     "data": {
      "text/plain": [
       "reg\n",
       "cc    58.982203\n",
       "gs    54.768612\n",
       "jd    54.630054\n",
       "jj    42.597886\n",
       "kw    42.651872\n",
       "Name: tok_len, dtype: float64"
      ]
     },
     "execution_count": 8,
     "metadata": {},
     "output_type": "execute_result"
    }
   ],
   "source": [
    "full_data.groupby(full_data['reg'])['tok_len'].mean()"
   ]
  },
  {
   "cell_type": "markdown",
   "id": "611f3439",
   "metadata": {},
   "source": [
    "# Step 2. 데이터 정제 및 토큰화"
=======
   "execution_count": 161,
   "id": "54f27844",
   "metadata": {},
   "outputs": [
    {
     "name": "stdout",
     "output_type": "stream",
     "text": [
      "[3981, 8, 47, 13, 104, 174, 63, 437, 143, 16]\n"
     ]
    }
   ],
   "source": [
    "print(enc_tokenizer.EncodeAsIds(enc_corpus[200]))"
   ]
  },
  {
   "cell_type": "code",
   "execution_count": 162,
   "id": "ecef652d",
   "metadata": {},
   "outputs": [
    {
     "name": "stdout",
     "output_type": "stream",
     "text": [
      "[1, 307, 462, 2854, 2783, 2494, 71, 360, 2814, 18, 2190, 2547, 9, 2]\n"
     ]
    }
   ],
   "source": [
    "print(dec_tokenizer.EncodeAsIds(dec_corpus[200]))"
>>>>>>> 15d789c7df9f076903fba9a10fccd7605db40e4d
   ]
  },
  {
   "cell_type": "code",
<<<<<<< HEAD
   "execution_count": 9,
   "id": "3262a106",
=======
   "execution_count": 163,
   "id": "32192d02",
>>>>>>> 15d789c7df9f076903fba9a10fccd7605db40e4d
   "metadata": {},
   "outputs": [
    {
     "data": {
<<<<<<< HEAD
=======
      "application/vnd.jupyter.widget-view+json": {
       "model_id": "d1c17cea72fd41db90c0e6046737007f",
       "version_major": 2,
       "version_minor": 0
      },
>>>>>>> 15d789c7df9f076903fba9a10fccd7605db40e4d
      "text/plain": [
       "True"
      ]
     },
     "execution_count": 9,
     "metadata": {},
<<<<<<< HEAD
     "output_type": "execute_result"
    }
   ],
   "source": [
    "SRC_VOCAB_SIZE = 4009\n",
    "TGT_VOCAB_SIZE = 4009\n",
=======
     "output_type": "display_data"
    },
    {
     "data": {
      "application/vnd.jupyter.widget-view+json": {
       "model_id": "8b5ac4214a3d42258927da0d0cfdd665",
       "version_major": 2,
       "version_minor": 0
      },
      "text/plain": [
       "  0%|          | 0/500 [00:00<?, ?it/s]"
      ]
     },
     "metadata": {},
     "output_type": "display_data"
    }
   ],
   "source": [
    "# 토크나이저를 활용해 토큰의 길이가 >5 이상인 데이터를 선별하여 src_corpus 와 tgt_corpus 를 각각 구축하고, 텐서 enc_train 과 dec_train 으로 변환\n",
    "src_corpus = [] #영어\n",
    "tgt_corpus = [] #사투리\n",
    "src_valid_corpus = [] #영어\n",
    "tgt_valid_corpus = [] #사투리\n",
>>>>>>> 15d789c7df9f076903fba9a10fccd7605db40e4d
    "\n",
    "enc_tokenizer = spm.SentencePieceProcessor()\n",
    "enc_tokenizer.Load('spm_enc_v.model')\n",
    "\n",
    "dec_tokenizer = spm.SentencePieceProcessor()\n",
    "dec_tokenizer.Load('spm_dec_v.model')\n",
    "\n",
<<<<<<< HEAD
    "dec_tokenizer.set_encode_extra_options(\"bos:eos\")"
   ]
  },
  {
   "cell_type": "code",
   "execution_count": 10,
   "id": "c65f6687",
   "metadata": {},
   "outputs": [],
   "source": [
    "src_corpus = full_data['toks_en'].values\n",
    "tgt_corpus = full_data['toks_dec'].values\n",
    "src_valid_corpus = full_data_test['toks_en'].values\n",
    "tgt_valid_corpus = full_data_test['toks_dec'].values"
=======
    "# 토큰의 길이가 xxx 이하인 문장만 남깁니다. \n",
    "for idx in tqdm(range(len(enc_corpus_test))):\n",
    "    src = enc_tokenizer.EncodeAsIds(str(enc_corpus_test[idx]))\n",
    "    tgt = dec_tokenizer.EncodeAsIds(str(dec_corpus_test[idx]))\n",
    "    \n",
    "    if len(src) >= 5 : \n",
    "        src_valid_corpus.append(src)\n",
    "        tgt_valid_corpus.append(tgt)\n",
    "        \n",
    "# 패딩처리를 완료하여 학습용 데이터를 완성합니다. \n",
    "enc_train = tf.keras.preprocessing.sequence.pad_sequences(src_corpus, padding='post', maxlen=256)\n",
    "dec_train = tf.keras.preprocessing.sequence.pad_sequences(tgt_corpus, padding='post', maxlen=256)\n",
    "enc_test = tf.keras.preprocessing.sequence.pad_sequences(src_valid_corpus, padding='post', maxlen=256)\n",
    "dec_test = tf.keras.preprocessing.sequence.pad_sequences(tgt_valid_corpus, padding='post', maxlen=256)"
>>>>>>> 15d789c7df9f076903fba9a10fccd7605db40e4d
   ]
  },
  {
   "cell_type": "code",
<<<<<<< HEAD
   "execution_count": 11,
   "id": "608c73a2",
=======
   "execution_count": 164,
   "id": "31568138",
>>>>>>> 15d789c7df9f076903fba9a10fccd7605db40e4d
   "metadata": {},
   "outputs": [],
   "source": [
    "# 패딩처리를 완료하여 학습용 데이터를 완성합니다. \n",
    "max_len = 256\n",
    "enc_train = tf.keras.preprocessing.sequence.pad_sequences(src_corpus, padding='post', maxlen=max_len)\n",
    "dec_train = tf.keras.preprocessing.sequence.pad_sequences(tgt_corpus, padding='post', maxlen=max_len)\n",
    "enc_test = tf.keras.preprocessing.sequence.pad_sequences(src_valid_corpus, padding='post', maxlen=max_len)\n",
    "dec_test = tf.keras.preprocessing.sequence.pad_sequences(tgt_valid_corpus, padding='post', maxlen=max_len)"
   ]
  },
  {
   "cell_type": "code",
<<<<<<< HEAD
   "execution_count": 12,
   "id": "80b1df5a",
=======
   "execution_count": 165,
   "id": "1b25019f",
>>>>>>> 15d789c7df9f076903fba9a10fccd7605db40e4d
   "metadata": {},
   "outputs": [
    {
     "name": "stdout",
     "output_type": "stream",
     "text": [
<<<<<<< HEAD
      "(1229210, 256)\n",
      "(1229210, 256)\n",
      "(1500, 256)\n",
      "(1500, 256)\n"
=======
      "(9972, 256)\n",
      "(9972, 256)\n",
      "(500, 256)\n",
      "(500, 256)\n"
>>>>>>> 15d789c7df9f076903fba9a10fccd7605db40e4d
     ]
    }
   ],
   "source": [
    "# enc, dec 의 seq_length는 달라도 상관없음.\n",
    "print(enc_train.shape)\n",
    "print(dec_train.shape)\n",
    "print(enc_test.shape)\n",
    "print(dec_test.shape)"
   ]
  },
  {
   "cell_type": "markdown",
<<<<<<< HEAD
   "id": "e7168160",
=======
   "id": "11e944cd",
>>>>>>> 15d789c7df9f076903fba9a10fccd7605db40e4d
   "metadata": {},
   "source": [
    "# Step 3. 모델불러오기"
   ]
  },
  {
   "cell_type": "code",
<<<<<<< HEAD
   "execution_count": 13,
   "id": "a2cff2a7",
=======
   "execution_count": 166,
   "id": "49551c5e",
   "metadata": {},
   "outputs": [],
   "source": [
    "# !pip install wandb"
   ]
  },
  {
   "cell_type": "code",
   "execution_count": 167,
   "id": "72597afb",
>>>>>>> 15d789c7df9f076903fba9a10fccd7605db40e4d
   "metadata": {},
   "outputs": [
    {
     "name": "stderr",
     "output_type": "stream",
     "text": [
<<<<<<< HEAD
      "\u001b[34m\u001b[1mwandb\u001b[0m: Currently logged in as: \u001b[33mseuyon0101\u001b[0m. Use \u001b[1m`wandb login --relogin`\u001b[0m to force relogin\n"
=======
      "\u001b[34m\u001b[1mwandb\u001b[0m: \u001b[33mWARNING\u001b[0m Calling wandb.login() after wandb.init() has no effect.\n"
>>>>>>> 15d789c7df9f076903fba9a10fccd7605db40e4d
     ]
    },
    {
     "data": {
      "text/plain": [
       "True"
      ]
     },
<<<<<<< HEAD
     "execution_count": 13,
=======
     "execution_count": 167,
>>>>>>> 15d789c7df9f076903fba9a10fccd7605db40e4d
     "metadata": {},
     "output_type": "execute_result"
    }
   ],
   "source": [
    "import wandb\n",
    "wandb.login()"
   ]
  },
  {
   "cell_type": "code",
<<<<<<< HEAD
   "execution_count": 14,
   "id": "03a59a40",
   "metadata": {},
   "outputs": [
    {
     "name": "stderr",
     "output_type": "stream",
     "text": [
      "\u001b[34m\u001b[1mwandb\u001b[0m: Currently logged in as: \u001b[33mseuyon0101\u001b[0m (\u001b[33msaturi\u001b[0m). Use \u001b[1m`wandb login --relogin`\u001b[0m to force relogin\n"
     ]
=======
   "execution_count": 168,
   "id": "47b45d78",
   "metadata": {},
   "outputs": [
    {
     "data": {
      "text/html": [
       "Finishing last run (ID:62d8htee) before initializing another..."
      ],
      "text/plain": [
       "<IPython.core.display.HTML object>"
      ]
     },
     "metadata": {},
     "output_type": "display_data"
>>>>>>> 15d789c7df9f076903fba9a10fccd7605db40e4d
    },
    {
     "data": {
      "text/html": [
<<<<<<< HEAD
       "wandb version 0.14.0 is available!  To upgrade, please run:\n",
       " $ pip install wandb --upgrade"
      ],
      "text/plain": [
       "<IPython.core.display.HTML object>"
      ]
     },
     "metadata": {},
     "output_type": "display_data"
    },
    {
     "data": {
      "text/html": [
       "Tracking run with wandb version 0.13.11"
=======
       "Waiting for W&B process to finish... <strong style=\"color:green\">(success).</strong>"
>>>>>>> 15d789c7df9f076903fba9a10fccd7605db40e4d
      ],
      "text/plain": [
       "<IPython.core.display.HTML object>"
      ]
     },
     "metadata": {},
     "output_type": "display_data"
    },
    {
     "data": {
      "text/html": [
<<<<<<< HEAD
       "Run data is saved locally in <code>/home/seuyon0101/aiffel/saturi/notebook/Model/wandb/run-20230315_150034-cg09jnoa</code>"
=======
       " View run <strong style=\"color:#cdcd00\">magic-dragon-5</strong> at: <a href='https://wandb.ai/saturi/PRJ_saturi_model_exp/runs/62d8htee' target=\"_blank\">https://wandb.ai/saturi/PRJ_saturi_model_exp/runs/62d8htee</a><br/>Synced 5 W&B file(s), 0 media file(s), 0 artifact file(s) and 0 other file(s)"
>>>>>>> 15d789c7df9f076903fba9a10fccd7605db40e4d
      ],
      "text/plain": [
       "<IPython.core.display.HTML object>"
      ]
     },
     "metadata": {},
     "output_type": "display_data"
    },
    {
     "data": {
      "text/html": [
<<<<<<< HEAD
       "Syncing run <strong><a href='https://wandb.ai/saturi/PRJ_saturi_model_exp1/runs/cg09jnoa' target=\"_blank\">golden-morning-1</a></strong> to <a href='https://wandb.ai/saturi/PRJ_saturi_model_exp1' target=\"_blank\">Weights & Biases</a> (<a href='https://wandb.me/run' target=\"_blank\">docs</a>)<br/>"
=======
       "Find logs at: <code>./wandb/run-20230313_030126-62d8htee/logs</code>"
>>>>>>> 15d789c7df9f076903fba9a10fccd7605db40e4d
      ],
      "text/plain": [
       "<IPython.core.display.HTML object>"
      ]
     },
     "metadata": {},
     "output_type": "display_data"
    },
    {
     "data": {
      "text/html": [
<<<<<<< HEAD
       " View project at <a href='https://wandb.ai/saturi/PRJ_saturi_model_exp1' target=\"_blank\">https://wandb.ai/saturi/PRJ_saturi_model_exp1</a>"
=======
       "Successfully finished last run (ID:62d8htee). Initializing new run:<br/>"
      ],
      "text/plain": [
       "<IPython.core.display.HTML object>"
      ]
     },
     "metadata": {},
     "output_type": "display_data"
    },
    {
     "data": {
      "application/vnd.jupyter.widget-view+json": {
       "model_id": "0a53a1a9077d42d59fcaf72685885ab5",
       "version_major": 2,
       "version_minor": 0
      },
      "text/plain": [
       "VBox(children=(Label(value='Waiting for wandb.init()...\\r'), FloatProgress(value=0.01666963153335625, max=1.0)…"
      ]
     },
     "metadata": {},
     "output_type": "display_data"
    },
    {
     "data": {
      "text/html": [
       "Tracking run with wandb version 0.13.11"
      ],
      "text/plain": [
       "<IPython.core.display.HTML object>"
      ]
     },
     "metadata": {},
     "output_type": "display_data"
    },
    {
     "data": {
      "text/html": [
       "Run data is saved locally in <code>/aiffel/aiffel/saturi/notebook/Model/wandb/run-20230313_054557-k2lbnoga</code>"
      ],
      "text/plain": [
       "<IPython.core.display.HTML object>"
      ]
     },
     "metadata": {},
     "output_type": "display_data"
    },
    {
     "data": {
      "text/html": [
       "Syncing run <strong><a href='https://wandb.ai/saturi/PRJ_saturi_model_exp/runs/k2lbnoga' target=\"_blank\">fluent-waterfall-6</a></strong> to <a href='https://wandb.ai/saturi/PRJ_saturi_model_exp' target=\"_blank\">Weights & Biases</a> (<a href='https://wandb.me/run' target=\"_blank\">docs</a>)<br/>"
      ],
      "text/plain": [
       "<IPython.core.display.HTML object>"
      ]
     },
     "metadata": {},
     "output_type": "display_data"
    },
    {
     "data": {
      "text/html": [
       " View project at <a href='https://wandb.ai/saturi/PRJ_saturi_model_exp' target=\"_blank\">https://wandb.ai/saturi/PRJ_saturi_model_exp</a>"
>>>>>>> 15d789c7df9f076903fba9a10fccd7605db40e4d
      ],
      "text/plain": [
       "<IPython.core.display.HTML object>"
      ]
     },
     "metadata": {},
     "output_type": "display_data"
    },
    {
     "data": {
      "text/html": [
<<<<<<< HEAD
       " View run at <a href='https://wandb.ai/saturi/PRJ_saturi_model_exp1/runs/cg09jnoa' target=\"_blank\">https://wandb.ai/saturi/PRJ_saturi_model_exp1/runs/cg09jnoa</a>"
=======
       " View run at <a href='https://wandb.ai/saturi/PRJ_saturi_model_exp/runs/k2lbnoga' target=\"_blank\">https://wandb.ai/saturi/PRJ_saturi_model_exp/runs/k2lbnoga</a>"
>>>>>>> 15d789c7df9f076903fba9a10fccd7605db40e4d
      ],
      "text/plain": [
       "<IPython.core.display.HTML object>"
      ]
     },
     "metadata": {},
     "output_type": "display_data"
    }
   ],
   "source": [
    "#wandb 설정\n",
    "run  = wandb.init(project = 'PRJ_saturi_model_exp1',\n",
    "                 entity = 'saturi',\n",
    "                 config = {\n",
    "                     'model_name':'Vanilla_Transformer_bpe_40009',\n",
<<<<<<< HEAD
    "                     'n_layers':6,\n",
    "                     'd_model':512,\n",
=======
    "                     'n_layers':4,\n",
    "                     'd_model':256,\n",
>>>>>>> 15d789c7df9f076903fba9a10fccd7605db40e4d
    "                     'n_heads':8,\n",
    "                     'd_ff':2048,\n",
    "                     'src_vocab_size':SRC_VOCAB_SIZE,\n",
    "                     'tgt_vocab_size':TGT_VOCAB_SIZE,\n",
<<<<<<< HEAD
    "                     'pos_len':max_len,\n",
=======
    "                     'pos_len':256,\n",
>>>>>>> 15d789c7df9f076903fba9a10fccd7605db40e4d
    "                     'dropout':0.2,\n",
    "                     'shared':True,\n",
    "                     'batch_size':32,\n",
    "                     'warmups' : 4000,\n",
    "                     'epochs':1,\n",
    "                     'optimizer' :'ADAM',\n",
    "                     'loss' : 'SparseCategoricalCrossentropy',\n",
    "                     'metric' : 'bleu'\n",
    "                     \n",
    "                 })\n",
    "config = wandb.config"
   ]
  },
  {
   "cell_type": "code",
<<<<<<< HEAD
   "execution_count": 15,
   "id": "57e75244",
=======
   "execution_count": 169,
   "id": "0dfbc023",
>>>>>>> 15d789c7df9f076903fba9a10fccd7605db40e4d
   "metadata": {},
   "outputs": [],
   "source": [
    "import sys\n",
    "sys.path.insert(0,os.getenv('HOME') + '/aiffel/saturi/MODEL/') # vanilla transformer 파일경로에서 불러오기 위해 설정\n",
    "sys.path.insert(0,os.getenv('HOME') + '/aiffel/saturi/PRE/')\n",
    "sys.path.insert(0,os.getenv('HOME') + '/aiffel/saturi/POST/')"
   ]
  },
  {
   "cell_type": "code",
<<<<<<< HEAD
   "execution_count": 16,
   "id": "b789e356",
=======
   "execution_count": 170,
   "id": "90122081",
>>>>>>> 15d789c7df9f076903fba9a10fccd7605db40e4d
   "metadata": {},
   "outputs": [
    {
     "name": "stderr",
     "output_type": "stream",
     "text": [
      "2023-03-15 15:00:39.350358: I tensorflow/stream_executor/cuda/cuda_gpu_executor.cc:936] successful NUMA node read from SysFS had negative value (-1), but there must be at least one NUMA node, so returning NUMA node zero\n",
      "2023-03-15 15:00:39.393193: I tensorflow/stream_executor/cuda/cuda_gpu_executor.cc:936] successful NUMA node read from SysFS had negative value (-1), but there must be at least one NUMA node, so returning NUMA node zero\n",
      "2023-03-15 15:00:39.393435: I tensorflow/stream_executor/cuda/cuda_gpu_executor.cc:936] successful NUMA node read from SysFS had negative value (-1), but there must be at least one NUMA node, so returning NUMA node zero\n",
      "2023-03-15 15:00:39.394062: I tensorflow/core/platform/cpu_feature_guard.cc:151] This TensorFlow binary is optimized with oneAPI Deep Neural Network Library (oneDNN) to use the following CPU instructions in performance-critical operations:  AVX2 FMA\n",
      "To enable them in other operations, rebuild TensorFlow with the appropriate compiler flags.\n",
      "2023-03-15 15:00:39.394820: I tensorflow/stream_executor/cuda/cuda_gpu_executor.cc:936] successful NUMA node read from SysFS had negative value (-1), but there must be at least one NUMA node, so returning NUMA node zero\n",
      "2023-03-15 15:00:39.395051: I tensorflow/stream_executor/cuda/cuda_gpu_executor.cc:936] successful NUMA node read from SysFS had negative value (-1), but there must be at least one NUMA node, so returning NUMA node zero\n",
      "2023-03-15 15:00:39.395252: I tensorflow/stream_executor/cuda/cuda_gpu_executor.cc:936] successful NUMA node read from SysFS had negative value (-1), but there must be at least one NUMA node, so returning NUMA node zero\n",
      "2023-03-15 15:00:40.179644: I tensorflow/stream_executor/cuda/cuda_gpu_executor.cc:936] successful NUMA node read from SysFS had negative value (-1), but there must be at least one NUMA node, so returning NUMA node zero\n",
      "2023-03-15 15:00:40.179950: I tensorflow/stream_executor/cuda/cuda_gpu_executor.cc:936] successful NUMA node read from SysFS had negative value (-1), but there must be at least one NUMA node, so returning NUMA node zero\n",
      "2023-03-15 15:00:40.180205: I tensorflow/stream_executor/cuda/cuda_gpu_executor.cc:936] successful NUMA node read from SysFS had negative value (-1), but there must be at least one NUMA node, so returning NUMA node zero\n",
      "2023-03-15 15:00:40.180392: I tensorflow/core/common_runtime/gpu/gpu_device.cc:1525] Created device /job:localhost/replica:0/task:0/device:GPU:0 with 14628 MB memory:  -> device: 0, name: Tesla V100-SXM2-16GB, pci bus id: 0000:00:04.0, compute capability: 7.0\n"
     ]
    }
   ],
   "source": [
    "from vanilla_transformer import Transformer, generate_masks\n",
    "\n",
    "transformer = Transformer(\n",
    "    n_layers=config.n_layers,\n",
    "    d_model=config.d_model,\n",
    "    n_heads=config.n_heads,\n",
    "    d_ff=config.d_ff,\n",
    "    src_vocab_size=config.src_vocab_size,\n",
    "    tgt_vocab_size=config.tgt_vocab_size,\n",
    "    pos_len=config.pos_len,\n",
    "    dropout=config.dropout,\n",
    "    shared=config.shared\n",
    ")"
   ]
  },
  {
   "cell_type": "markdown",
<<<<<<< HEAD
   "id": "9d97901b",
=======
   "id": "95870eb0",
>>>>>>> 15d789c7df9f076903fba9a10fccd7605db40e4d
   "metadata": {},
   "source": [
    "##  Learning Rate Scheduler를 선언하고, 이를 포함하는 Adam Optimizer를 선언"
   ]
  },
  {
   "cell_type": "code",
<<<<<<< HEAD
   "execution_count": 17,
   "id": "632d68ee",
=======
   "execution_count": 171,
   "id": "2b3de471",
>>>>>>> 15d789c7df9f076903fba9a10fccd7605db40e4d
   "metadata": {},
   "outputs": [],
   "source": [
    "class LearningRateScheduler(tf.keras.optimizers.schedules.LearningRateSchedule):\n",
    "    def __init__(self, d_model, warmup_steps=config.warmups):\n",
    "        super(LearningRateScheduler, self).__init__()\n",
    "        self.d_model = d_model\n",
    "        self.warmup_steps = warmup_steps\n",
    "    \n",
    "    def __call__(self, step):\n",
    "        arg1 = step ** np.array(-0.5)\n",
    "        arg2 = step * np.array(self.warmup_steps ** -1.5)\n",
    "        \n",
    "        return np.array(self.d_model ** -0.5) * tf.math.minimum(arg1, arg2)"
   ]
  },
  {
   "cell_type": "code",
   "execution_count": 18,
   "id": "e396a104",
   "metadata": {},
   "outputs": [],
   "source": [
    "learningrate = LearningRateScheduler(256)"
   ]
  },
  {
   "cell_type": "code",
<<<<<<< HEAD
   "execution_count": 19,
   "id": "39809827",
=======
   "execution_count": 172,
   "id": "fb5d4835",
>>>>>>> 15d789c7df9f076903fba9a10fccd7605db40e4d
   "metadata": {},
   "outputs": [],
   "source": [
    "optimizer = tf.keras.optimizers.Adam(learningrate, beta_1=0.9, beta_2=0.98, epsilon=1e-9)"
   ]
  },
  {
   "cell_type": "markdown",
<<<<<<< HEAD
   "id": "271704b6",
=======
   "id": "6691ccac",
>>>>>>> 15d789c7df9f076903fba9a10fccd7605db40e4d
   "metadata": {},
   "source": [
    "## Loss 함수를 정의\n"
   ]
  },
  {
   "cell_type": "code",
<<<<<<< HEAD
   "execution_count": 20,
   "id": "cbb1a607",
=======
   "execution_count": 173,
   "id": "b37c4c0b",
>>>>>>> 15d789c7df9f076903fba9a10fccd7605db40e4d
   "metadata": {},
   "outputs": [],
   "source": [
    "# Loss 함수 정의\n",
    "loss_object = tf.keras.losses.SparseCategoricalCrossentropy(from_logits=True, reduction='none')\n",
    "\n",
    "def loss_function(real, pred):\n",
    "    mask = tf.math.logical_not(tf.math.equal(real, 0))\n",
    "    loss_ = loss_object(real, pred)\n",
    "\n",
    "    # Masking 되지 않은 입력의 개수로 Scaling하는 과정\n",
    "    mask = tf.cast(mask, dtype=loss_.dtype)\n",
    "    loss_ *= mask\n",
    "\n",
    "    return tf.reduce_sum(loss_)/tf.reduce_sum(mask)"
   ]
  },
  {
   "cell_type": "markdown",
<<<<<<< HEAD
   "id": "f855be81",
=======
   "id": "b693b9c3",
>>>>>>> 15d789c7df9f076903fba9a10fccd7605db40e4d
   "metadata": {},
   "source": [
    "## train_step 함수를 정의\n"
   ]
  },
  {
   "cell_type": "code",
<<<<<<< HEAD
   "execution_count": 21,
   "id": "37e39401",
=======
   "execution_count": 174,
   "id": "731ec635",
>>>>>>> 15d789c7df9f076903fba9a10fccd7605db40e4d
   "metadata": {},
   "outputs": [],
   "source": [
    "@tf.function()\n",
    "def train_step(src, tgt, model, optimizer):\n",
    "    gold = tgt[:, 1:]\n",
    "        \n",
    "    enc_mask, dec_enc_mask, dec_mask = generate_masks(src, tgt)\n",
    "\n",
    "    # 계산된 loss에 tf.GradientTape()를 적용해 학습을 진행합니다.\n",
    "    with tf.GradientTape() as tape:\n",
    "        predictions, enc_attns, dec_attns, dec_enc_attns = model(src, tgt, enc_mask, dec_enc_mask, dec_mask)\n",
    "        loss = loss_function(gold, predictions[:, :-1])\n",
    "\n",
    "    # 최종적으로 optimizer.apply_gradients()가 사용됩니다. \n",
    "    gradients = tape.gradient(loss, model.trainable_variables)    \n",
    "    optimizer.apply_gradients(zip(gradients, model.trainable_variables))\n",
    "    \n",
<<<<<<< HEAD
    "    \n",
    "    return loss, enc_attns, dec_attns, dec_enc_attns, predictions"
   ]
  },
  {
   "cell_type": "code",
   "execution_count": 22,
   "id": "fbd1631e",
   "metadata": {},
   "outputs": [],
   "source": [
    "# Validating the model\n",
    "@tf.function\n",
    "def model_validate(src, tgt, model):\n",
    "    gold = tgt[:, 1:]\n",
    "        \n",
    "    enc_mask, dec_enc_mask, dec_mask = generate_masks(src, tgt)\n",
    "    predictions, enc_attns, dec_attns, dec_enc_attns = model(src, tgt, enc_mask, dec_enc_mask, dec_mask)\n",
    "    v_loss = loss_function(gold, predictions[:, :-1])\n",
=======
>>>>>>> 15d789c7df9f076903fba9a10fccd7605db40e4d
    "    \n",
    "    return v_loss, predictions"
   ]
  },
  {
   "cell_type": "code",
<<<<<<< HEAD
   "execution_count": 25,
   "id": "925434ed",
=======
   "execution_count": 181,
   "id": "800e8977",
   "metadata": {},
   "outputs": [],
   "source": [
    "# Validating the model\n",
    "@tf.function\n",
    "def model_validate(src, tgt, model):\n",
    "    gold = tgt[:, 1:]\n",
    "        \n",
    "    enc_mask, dec_enc_mask, dec_mask = generate_masks(src, tgt)\n",
    "    predictions, enc_attns, dec_attns, dec_enc_attns = model(src, tgt, enc_mask, dec_enc_mask, dec_mask)\n",
    "    v_loss = loss_function(gold, predictions[:, :-1])\n",
    "    \n",
    "    return v_loss"
   ]
  },
  {
   "cell_type": "code",
   "execution_count": 182,
   "id": "4f08abfb",
>>>>>>> 15d789c7df9f076903fba9a10fccd7605db40e4d
   "metadata": {
    "scrolled": true
   },
   "outputs": [],
   "source": [
    "# 학습 매니저 설정\n",
    "from evaluation import evaluate, compute_metric\n",
    "\n",
    "def train_and_checkpoint(transformer, manager, EPOCHS):\n",
    "    ckpt.restore(manager.latest_checkpoint)\n",
    "    if manager.latest_checkpoint:\n",
    "        print(\"Restored from {}\".format(manager.latest_checkpoint))\n",
    "    \n",
    "    else:\n",
    "        print(\"Initializing from scratch.\")\n",
    "\n",
    "\n",
    "    for epoch in range(EPOCHS):\n",
    "        total_loss = 0\n",
    "        total_loss_val = 0\n",
<<<<<<< HEAD
    "        bleu_train = 0\n",
    "        bleu_valid = 0\n",
    "        \n",
=======
>>>>>>> 15d789c7df9f076903fba9a10fccd7605db40e4d
    "\n",
    "        idx_list = list(range(0, enc_train.shape[0], config.batch_size))\n",
    "        random.shuffle(idx_list)\n",
    "        t = tqdm(idx_list)\n",
    "        for (batch, idx) in enumerate(t):\n",
    "            batch_loss, enc_attns, dec_attns, dec_enc_attns, preds = train_step(enc_train[idx:idx+config.batch_size],\n",
    "                                                                         dec_train[idx:idx+config.batch_size],\n",
    "                                                                         transformer,\n",
    "                                                                         optimizer)\n",
    "\n",
    "            total_loss += batch_loss\n",
    "            \n",
    "            t.set_description_str('Epoch %2d' % (epoch + 1))\n",
<<<<<<< HEAD
    "            t.set_postfix_str('Loss %.4f' % (total_loss.numpy() / (batch + 1)))\n",
    "#             gold = dec_train[idx:idx+config.batch_size]\n",
    "#             bleu_train += compute_metric(preds,gold, dec_tokenizer)\n",
    "            \n",
    "            \n",
    "        #validation\n",
    "        for test_idx in range(0,enc_test.shape[0], config.batch_size) :\n",
    "            val_loss, val_preds = model_validate(enc_test[test_idx : test_idx + config.batch_size],\n",
    "                                      dec_test[test_idx : test_idx + config.batch_size],\n",
    "                                      transformer)\n",
    "            total_loss_val += val_loss\n",
    "            val_gold = dec_test[test_idx:test_idx+config.batch_size]\n",
    "            bleu_valid += compute_metric(val_preds.numpy(),val_gold,dec_tokenizer)\n",
    "\n",
    "        wandb.log({\"train_loss\": total_loss.numpy() / (len(t) + 1),\n",
    "                   \"valid_loss\" : total_loss_val.numpy() / enc_test.shape[0],\n",
    "                   \"valid_bleu\" : bleu_valid / enc_test.shape[0]})\n",
    "\n",
=======
    "            t.set_postfix_str('Loss %.4f' % (total_loss.numpy() / (batch + 1)))    \n",
    "        \n",
    "        \n",
    "        for test_idx in range(0,enc_test.shape[0], config.batch_size) :\n",
    "            val_loss = model_validate(enc_test[test_idx : test_idx + config.batch_size],\n",
    "                                      dec_test[test_idx : test_idx + config.batch_size],\n",
    "                                      transformer)\n",
    "            total_loss_val += val_loss\n",
    "            \n",
    "        wandb.log({\"train_loss\": total_loss.numpy(),\n",
    "                   \"valid_loss\" : total_loss_val.numpy()})\n",
    "\n",
    "        \n",
>>>>>>> 15d789c7df9f076903fba9a10fccd7605db40e4d
    "        save_path = manager.save()\n",
    "        print(\"Saved checkpoint for step {}: {}\".format(int(ckpt.step), save_path))\n",
    "        \n",
    "directory = os.getenv('HOME') + '/aiffel/MODEL/'\n",
    "ckpt = tf.train.Checkpoint(step = tf.Variable(1), optimizer = optimizer , transformer = transformer)\n",
<<<<<<< HEAD
    "manager = tf.train.CheckpointManager(ckpt, directory +'tf_ckpt_t4000_v1',max_to_keep=3)"
=======
    "manager = tf.train.CheckpointManager(ckpt, directory +'tf_ckpts_vt1_v2',max_to_keep=3)"
   ]
  },
  {
   "cell_type": "markdown",
   "id": "6f7a93a6",
   "metadata": {},
   "source": [
    "## Attention 시각화 함수"
   ]
  },
  {
   "cell_type": "code",
   "execution_count": 183,
   "id": "cca34515",
   "metadata": {},
   "outputs": [],
   "source": [
    "# Attention 시각화 함수\n",
    "import seaborn\n",
    "\n",
    "def visualize_attention(src, tgt, enc_attns, dec_attns, dec_enc_attns):\n",
    "    def draw(data, ax, x=\"auto\", y=\"auto\"):\n",
    "        seaborn.heatmap(data, \n",
    "                        square=True,\n",
    "                        vmin=0.0, vmax=1.0, \n",
    "                        cbar=False, ax=ax,\n",
    "                        xticklabels=x,\n",
    "                        yticklabels=y)\n",
    "        \n",
    "    for layer in range(0, 2, 1):\n",
    "        fig, axs = plt.subplots(1, 4, figsize=(20, 10))\n",
    "        print(\"Encoder Layer\", layer + 1)\n",
    "        for h in range(4):\n",
    "            draw(enc_attns[layer][0, h, :len(src), :len(src)], axs[h], src, src)\n",
    "        plt.show()\n",
    "        \n",
    "    for layer in range(0, 2, 1):\n",
    "        fig, axs = plt.subplots(1, 4, figsize=(20, 10))\n",
    "        print(\"Decoder Self Layer\", layer+1)\n",
    "        for h in range(4):\n",
    "            draw(dec_attns[layer][0, h, :len(tgt), :len(tgt)], axs[h], tgt, tgt)\n",
    "        plt.show()\n",
    "\n",
    "        print(\"Decoder Src Layer\", layer+1)\n",
    "        fig, axs = plt.subplots(1, 4, figsize=(20, 10))\n",
    "        for h in range(4):\n",
    "            draw(dec_enc_attns[layer][0, h, :len(tgt), :len(src)], axs[h], src, tgt)\n",
    "        plt.show()"
   ]
  },
  {
   "cell_type": "markdown",
   "id": "a204e08f",
   "metadata": {},
   "source": [
    "## 번역생성함수"
   ]
  },
  {
   "cell_type": "code",
   "execution_count": 184,
   "id": "4e3e4775",
   "metadata": {},
   "outputs": [],
   "source": [
    "# 번역 생성 함수\n",
    "def evaluate(sentence, model, src_tokenizer, tgt_tokenizer):\n",
    "    sentence = preprocess_sentence(sentence)\n",
    "    pieces = src_tokenizer.encode_as_pieces(sentence)\n",
    "    tokens = src_tokenizer.encode_as_ids(sentence)\n",
    "\n",
    "    _input = tf.keras.preprocessing.sequence.pad_sequences([tokens], maxlen=enc_train.shape[-1], padding='post')\n",
    "\n",
    "    ids = []\n",
    "\n",
    "    output = tf.expand_dims([tgt_tokenizer.bos_id()], 0)\n",
    "    for i in range(dec_train.shape[-1]):\n",
    "        enc_padding_mask, combined_mask, dec_padding_mask = generate_masks(_input, output)\n",
    "        \n",
    "\n",
    "        predictions, enc_attns, dec_attns, dec_enc_attns = model(_input, output, enc_padding_mask, combined_mask, dec_padding_mask)\n",
    "        \n",
    "        predicted_id = tf.argmax(tf.math.softmax(predictions, axis=-1)[0, -1]).numpy().item()\n",
    "        if tgt_tokenizer.eos_id() == predicted_id:\n",
    "            result = tgt_tokenizer.decode_ids(ids)\n",
    "            return pieces, result, enc_attns, dec_attns, dec_enc_attns\n",
    "\n",
    "        ids.append(predicted_id)\n",
    "        output = tf.concat([output, tf.expand_dims([predicted_id], 0)], axis=-1)\n",
    "    result = tgt_tokenizer.decode_ids(ids)\n",
    "    return pieces, result, enc_attns, dec_attns, dec_enc_attns"
   ]
  },
  {
   "cell_type": "code",
   "execution_count": 185,
   "id": "0eebd997",
   "metadata": {},
   "outputs": [],
   "source": [
    "# 번역 생성 및 Attention 시각화 결합\n",
    "def translate(sentence, model, src_tokenizer, tgt_tokenizer, plot_attention=False):\n",
    "    pieces, result, enc_attns, dec_attns, dec_enc_attns = evaluate(sentence, model, src_tokenizer, tgt_tokenizer)\n",
    "    \n",
    "    print('Input: %s' % (sentence))\n",
    "    print('Predicted translation: {}'.format(result))\n",
    "\n",
    "    if plot_attention:\n",
    "        visualize_attention(pieces, result.split(), enc_attns, dec_attns, dec_enc_attns)\n",
    "  \n",
    "    return result"
>>>>>>> 15d789c7df9f076903fba9a10fccd7605db40e4d
   ]
  },
  {
   "cell_type": "markdown",
<<<<<<< HEAD
   "id": "9098bf50",
=======
   "id": "b6c2f0af",
>>>>>>> 15d789c7df9f076903fba9a10fccd7605db40e4d
   "metadata": {},
   "source": [
    "## 학습"
   ]
  },
  {
   "cell_type": "code",
<<<<<<< HEAD
   "execution_count": null,
   "id": "907cd63b",
=======
   "execution_count": 186,
   "id": "b31f1737",
>>>>>>> 15d789c7df9f076903fba9a10fccd7605db40e4d
   "metadata": {
    "scrolled": false
   },
   "outputs": [
    {
     "name": "stdout",
     "output_type": "stream",
     "text": [
      "Initializing from scratch.\n"
<<<<<<< HEAD
=======
     ]
    },
    {
     "data": {
      "application/vnd.jupyter.widget-view+json": {
       "model_id": "8784c6b656904a9587f421e2f8e4d01c",
       "version_major": 2,
       "version_minor": 0
      },
      "text/plain": [
       "  0%|          | 0/312 [00:00<?, ?it/s]"
      ]
     },
     "metadata": {},
     "output_type": "display_data"
    },
    {
     "name": "stdout",
     "output_type": "stream",
     "text": [
      "Saved checkpoint for step 1: /aiffel/aiffel/aiffelthon/tf_ckpts_vt1_v2/ckpt-1\n"
     ]
    },
    {
     "data": {
      "application/vnd.jupyter.widget-view+json": {
       "model_id": "ad01e4a3d9c241deaec397b607dd4a7b",
       "version_major": 2,
       "version_minor": 0
      },
      "text/plain": [
       "  0%|          | 0/312 [00:00<?, ?it/s]"
      ]
     },
     "metadata": {},
     "output_type": "display_data"
    },
    {
     "name": "stdout",
     "output_type": "stream",
     "text": [
      "Saved checkpoint for step 1: /aiffel/aiffel/aiffelthon/tf_ckpts_vt1_v2/ckpt-2\n"
>>>>>>> 15d789c7df9f076903fba9a10fccd7605db40e4d
     ]
    },
    {
     "data": {
      "application/vnd.jupyter.widget-view+json": {
<<<<<<< HEAD
       "model_id": "53ee6273da964408a85ec8fea603e3fe",
=======
       "model_id": "db935ff585ca4135bd77c10b903bf6d8",
>>>>>>> 15d789c7df9f076903fba9a10fccd7605db40e4d
       "version_major": 2,
       "version_minor": 0
      },
      "text/plain": [
<<<<<<< HEAD
       "  0%|          | 0/38413 [00:00<?, ?it/s]"
=======
       "  0%|          | 0/312 [00:00<?, ?it/s]"
>>>>>>> 15d789c7df9f076903fba9a10fccd7605db40e4d
      ]
     },
     "metadata": {},
     "output_type": "display_data"
    },
    {
     "name": "stdout",
     "output_type": "stream",
     "text": [
      "Saved checkpoint for step 1: /aiffel/aiffel/aiffelthon/tf_ckpts_vt1_v2/ckpt-3\n"
     ]
    }
   ],
   "source": [
    "train_and_checkpoint(transformer, manager, config.epochs)"
<<<<<<< HEAD
   ]
  },
  {
   "cell_type": "markdown",
   "id": "aba64304",
   "metadata": {},
   "source": [
    "# Step 5. 평가"
=======
>>>>>>> 15d789c7df9f076903fba9a10fccd7605db40e4d
   ]
  },
  {
   "cell_type": "code",
<<<<<<< HEAD
   "execution_count": null,
   "id": "3e5dffcc",
   "metadata": {},
   "outputs": [],
   "source": [
    "from evaluation import translate"
=======
   "execution_count": 189,
   "id": "8225b680",
   "metadata": {},
   "outputs": [
    {
     "name": "stdout",
     "output_type": "stream",
     "text": [
      "Input: <jj> Where are you going?\n",
      "Predicted translation: 거 거 ?\n",
      "Input: <jd> Where are you going?\n",
      "Predicted translation: 고 썬만만\n",
      "Input: <kw> Where are you going?\n",
      "Predicted translation: 지 자석이요 ?\n",
      "Input: <cc> Where are you going?\n",
      "Predicted translation: 어 가사이\n",
      "Input: <gs> Where are you going?\n",
      "Predicted translation: 그 쉰아 ?\n"
     ]
    }
   ],
   "source": [
    "examples = [\n",
    "    \"<jj> Where are you going?\",\n",
    "    \"<jd> Where are you going?\",\n",
    "    \"<kw> Where are you going?\",\n",
    "    \"<cc> Where are you going?\",\n",
    "    \"<gs> Where are you going?\"\n",
    "]\n",
    "\n",
    "for i in examples :\n",
    "    translate(i,transformer, enc_tokenizer, dec_tokenizer)"
>>>>>>> 15d789c7df9f076903fba9a10fccd7605db40e4d
   ]
  },
  {
   "cell_type": "code",
   "execution_count": null,
<<<<<<< HEAD
   "id": "c7abae72",
=======
   "id": "8ca67491",
>>>>>>> 15d789c7df9f076903fba9a10fccd7605db40e4d
   "metadata": {},
   "outputs": [],
   "source": [
    "examples = [\"<jj> what are you eating?\",'<cc> what are you eating?','<gs> what are you eating?','<jd> what are you eating?','<kw> what are you eating?']"
   ]
  },
  {
<<<<<<< HEAD
   "cell_type": "code",
   "execution_count": null,
   "id": "7fdab7f6",
=======
   "cell_type": "markdown",
   "id": "2dc17fc5",
>>>>>>> 15d789c7df9f076903fba9a10fccd7605db40e4d
   "metadata": {},
   "outputs": [],
   "source": [
    "for example in examples :\n",
    "    translate(example, transformer, enc_tokenizer, dec_tokenizer, max_len, verbose =True)"
   ]
  },
  {
<<<<<<< HEAD
   "cell_type": "code",
   "execution_count": null,
   "id": "895b3bd2",
=======
   "cell_type": "markdown",
   "id": "8e23285a",
>>>>>>> 15d789c7df9f076903fba9a10fccd7605db40e4d
   "metadata": {},
   "outputs": [],
   "source": [
    "src = enc_test[0:10]\n",
    "tgt = dec_test[0:10]\n",
    "enc_mask, dec_enc_mask, dec_mask = generate_masks(src[:10], tgt[:10])\n",
    "predictions, enc_attns, dec_attns, dec_enc_attns = transformer(src, tgt, enc_mask, dec_enc_mask, dec_mask)\n",
    "compute_metric(predictions, tgt, dec_tokenizer)"
   ]
  },
  {
   "cell_type": "code",
   "execution_count": null,
<<<<<<< HEAD
   "id": "d51ac12c",
=======
   "id": "5aae8b9b",
>>>>>>> 15d789c7df9f076903fba9a10fccd7605db40e4d
   "metadata": {},
   "outputs": [],
   "source": [
    "wandb.finish()"
   ]
  }
 ],
 "metadata": {
  "hide_input": false,
  "kernelspec": {
   "display_name": "Python 3 (ipykernel)",
   "language": "python",
   "name": "python3"
  },
  "language_info": {
   "codemirror_mode": {
    "name": "ipython",
    "version": 3
   },
   "file_extension": ".py",
   "mimetype": "text/x-python",
   "name": "python",
   "nbconvert_exporter": "python",
   "pygments_lexer": "ipython3",
   "version": "3.9.7"
  },
  "toc": {
   "base_numbering": 1,
   "nav_menu": {},
   "number_sections": true,
   "sideBar": true,
   "skip_h1_title": false,
   "title_cell": "Table of Contents",
   "title_sidebar": "Contents",
   "toc_cell": true,
   "toc_position": {
    "height": "670px",
    "left": "54px",
    "top": "208px",
    "width": "336px"
   },
   "toc_section_display": true,
   "toc_window_display": true
  },
  "varInspector": {
   "cols": {
    "lenName": 16,
    "lenType": 16,
    "lenVar": 40
   },
   "kernels_config": {
    "python": {
     "delete_cmd_postfix": "",
     "delete_cmd_prefix": "del ",
     "library": "var_list.py",
     "varRefreshCmd": "print(var_dic_list())"
    },
    "r": {
     "delete_cmd_postfix": ") ",
     "delete_cmd_prefix": "rm(",
     "library": "var_list.r",
     "varRefreshCmd": "cat(var_dic_list()) "
    }
   },
   "types_to_exclude": [
    "module",
    "function",
    "builtin_function_or_method",
    "instance",
    "_Feature"
   ],
   "window_display": false
  }
 },
 "nbformat": 4,
 "nbformat_minor": 5
}
