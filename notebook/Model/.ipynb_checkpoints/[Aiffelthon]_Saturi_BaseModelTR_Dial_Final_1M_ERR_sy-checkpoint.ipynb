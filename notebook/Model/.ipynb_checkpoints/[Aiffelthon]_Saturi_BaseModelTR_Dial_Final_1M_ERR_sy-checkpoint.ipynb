{
 "cells": [
  {
   "cell_type": "markdown",
   "id": "79b7e70c",
   "metadata": {
    "toc": true
   },
   "source": [
    "<h1>Table of Contents<span class=\"tocSkip\"></span></h1>\n",
    "<div class=\"toc\"><ul class=\"toc-item\"><li><span><a href=\"#Step-1.-데이터-다운로드\" data-toc-modified-id=\"Step-1.-데이터-다운로드-1\"><span class=\"toc-item-num\">1&nbsp;&nbsp;</span>Step 1. 데이터 다운로드</a></span></li><li><span><a href=\"#Step-2.-데이터-정제-및-토큰화\" data-toc-modified-id=\"Step-2.-데이터-정제-및-토큰화-2\"><span class=\"toc-item-num\">2&nbsp;&nbsp;</span>Step 2. 데이터 정제 및 토큰화</a></span></li><li><span><a href=\"#Step-3.-모델설계\" data-toc-modified-id=\"Step-3.-모델설계-3\"><span class=\"toc-item-num\">3&nbsp;&nbsp;</span>Step 3. 모델설계</a></span><ul class=\"toc-item\"><li><span><a href=\"#Positional-Encoding\" data-toc-modified-id=\"Positional-Encoding-3.1\"><span class=\"toc-item-num\">3.1&nbsp;&nbsp;</span>Positional Encoding</a></span></li><li><span><a href=\"#Multi-Head-Attention\" data-toc-modified-id=\"Multi-Head-Attention-3.2\"><span class=\"toc-item-num\">3.2&nbsp;&nbsp;</span>Multi-Head Attention</a></span></li><li><span><a href=\"#Position-wise-Feed-Forward-Network\" data-toc-modified-id=\"Position-wise-Feed-Forward-Network-3.3\"><span class=\"toc-item-num\">3.3&nbsp;&nbsp;</span>Position-wise Feed-Forward Network</a></span></li><li><span><a href=\"#Encoder-레이어-구현하기\" data-toc-modified-id=\"Encoder-레이어-구현하기-3.4\"><span class=\"toc-item-num\">3.4&nbsp;&nbsp;</span>Encoder 레이어 구현하기</a></span></li><li><span><a href=\"#Decoder-레이어-구현하기\" data-toc-modified-id=\"Decoder-레이어-구현하기-3.5\"><span class=\"toc-item-num\">3.5&nbsp;&nbsp;</span>Decoder 레이어 구현하기</a></span></li><li><span><a href=\"#Encoder와-Decoder-클래스를-정의\" data-toc-modified-id=\"Encoder와-Decoder-클래스를-정의-3.6\"><span class=\"toc-item-num\">3.6&nbsp;&nbsp;</span>Encoder와 Decoder 클래스를 정의</a></span></li><li><span><a href=\"#Transformer-완성하기\" data-toc-modified-id=\"Transformer-완성하기-3.7\"><span class=\"toc-item-num\">3.7&nbsp;&nbsp;</span>Transformer 완성하기</a></span></li><li><span><a href=\"#Mask\" data-toc-modified-id=\"Mask-3.8\"><span class=\"toc-item-num\">3.8&nbsp;&nbsp;</span>Mask</a></span></li></ul></li><li><span><a href=\"#Step-4.-훈련하기\" data-toc-modified-id=\"Step-4.-훈련하기-4\"><span class=\"toc-item-num\">4&nbsp;&nbsp;</span>Step 4. 훈련하기</a></span><ul class=\"toc-item\"><li><span><a href=\"#Learning-Rate-Scheduler를-선언하고,-이를-포함하는-Adam-Optimizer를-선언\" data-toc-modified-id=\"Learning-Rate-Scheduler를-선언하고,-이를-포함하는-Adam-Optimizer를-선언-4.1\"><span class=\"toc-item-num\">4.1&nbsp;&nbsp;</span>Learning Rate Scheduler를 선언하고, 이를 포함하는 Adam Optimizer를 선언</a></span></li><li><span><a href=\"#Loss-함수를-정의\" data-toc-modified-id=\"Loss-함수를-정의-4.2\"><span class=\"toc-item-num\">4.2&nbsp;&nbsp;</span>Loss 함수를 정의</a></span></li><li><span><a href=\"#train_step-함수를-정의\" data-toc-modified-id=\"train_step-함수를-정의-4.3\"><span class=\"toc-item-num\">4.3&nbsp;&nbsp;</span>train_step 함수를 정의</a></span></li><li><span><a href=\"#Attention-시각화-함수\" data-toc-modified-id=\"Attention-시각화-함수-4.4\"><span class=\"toc-item-num\">4.4&nbsp;&nbsp;</span>Attention 시각화 함수</a></span></li><li><span><a href=\"#번역생성함수\" data-toc-modified-id=\"번역생성함수-4.5\"><span class=\"toc-item-num\">4.5&nbsp;&nbsp;</span>번역생성함수</a></span></li><li><span><a href=\"#학습\" data-toc-modified-id=\"학습-4.6\"><span class=\"toc-item-num\">4.6&nbsp;&nbsp;</span>학습</a></span></li></ul></li><li><span><a href=\"#Step-5.-평가\" data-toc-modified-id=\"Step-5.-평가-5\"><span class=\"toc-item-num\">5&nbsp;&nbsp;</span>Step 5. 평가</a></span></li></ul></div>"
   ]
  },
  {
   "cell_type": "code",
   "execution_count": 1,
   "id": "891173ef",
   "metadata": {},
   "outputs": [],
   "source": [
    "# np.__version__\n",
    "# tf.__version__\n",
    "# !pip install -U numpy\n",
    "# !pip3 list"
   ]
  },
  {
   "cell_type": "code",
   "execution_count": 65,
   "id": "5600a0f9",
   "metadata": {},
   "outputs": [
    {
     "name": "stdout",
     "output_type": "stream",
     "text": [
      "2.6.0\n",
      "1.21.4\n"
     ]
    }
   ],
   "source": [
    "import tensorflow as tf\n",
    "import numpy as np\n",
    "import pandas as pd\n",
    "\n",
    "from sklearn.model_selection import train_test_split\n",
    "\n",
    "import matplotlib as mpl\n",
    "import matplotlib.ticker as ticker\n",
    "import matplotlib.pyplot as plt\n",
    "\n",
    "import time\n",
    "import re\n",
    "import os\n",
    "import io\n",
    "\n",
    "\n",
    "# from tqdm import tqdm_notebook \n",
    "from tqdm.notebook import tqdm \n",
    "import random\n",
    "\n",
    "import sentencepiece as spm\n",
    "from konlpy.tag import Mecab\n",
    "\n",
    "print(tf.__version__)\n",
    "print(np.__version__)"
   ]
  },
  {
   "cell_type": "markdown",
   "id": "6c15c160",
   "metadata": {},
   "source": [
    "# Step 1. 데이터 다운로드\n",
    "   "
   ]
  },
  {
   "cell_type": "code",
   "execution_count": 118,
   "id": "e797e6f5",
   "metadata": {},
   "outputs": [],
   "source": [
    "# train data load\n",
    "data_dir = os.getenv('HOME')+'/aiffel/aiffelthon/meta' # 파일 경로 지정\n",
    "data_train_path = data_dir+\"/train_v_final_0313.csv\"\n",
    "data_test_path = data_dir+\"/test_v_final_0313.csv\"\n",
    "full_data = pd.read_csv(data_train_path)\n",
    "full_data_test = pd.read_csv(data_test_path)"
   ]
  },
  {
   "cell_type": "code",
   "execution_count": 119,
   "id": "4dc858a8",
   "metadata": {},
   "outputs": [
    {
     "data": {
      "text/html": [
       "<div>\n",
       "<style scoped>\n",
       "    .dataframe tbody tr th:only-of-type {\n",
       "        vertical-align: middle;\n",
       "    }\n",
       "\n",
       "    .dataframe tbody tr th {\n",
       "        vertical-align: top;\n",
       "    }\n",
       "\n",
       "    .dataframe thead th {\n",
       "        text-align: right;\n",
       "    }\n",
       "</style>\n",
       "<table border=\"1\" class=\"dataframe\">\n",
       "  <thead>\n",
       "    <tr style=\"text-align: right;\">\n",
       "      <th></th>\n",
       "      <th>reg</th>\n",
       "      <th>topic</th>\n",
       "      <th>eng</th>\n",
       "      <th>dial</th>\n",
       "      <th>tok_len</th>\n",
       "      <th>tok_cat</th>\n",
       "    </tr>\n",
       "  </thead>\n",
       "  <tbody>\n",
       "    <tr>\n",
       "      <th>0</th>\n",
       "      <td>jd</td>\n",
       "      <td>역사</td>\n",
       "      <td>I've changed my mind a little bit.</td>\n",
       "      <td>생각이 쪼금씩 바뀌드라고</td>\n",
       "      <td>10</td>\n",
       "      <td>0</td>\n",
       "    </tr>\n",
       "    <tr>\n",
       "      <th>1</th>\n",
       "      <td>jd</td>\n",
       "      <td>가족</td>\n",
       "      <td>You know what? Foreigners still get used to it.</td>\n",
       "      <td>웜마 알겄는가 애국인들이 그또 달 적응하고</td>\n",
       "      <td>17</td>\n",
       "      <td>1</td>\n",
       "    </tr>\n",
       "    <tr>\n",
       "      <th>2</th>\n",
       "      <td>jd</td>\n",
       "      <td>건강</td>\n",
       "      <td>All of a sudden, I think I've ripped off my ap...</td>\n",
       "      <td>아으 갑자기 에전에 맹장 뜯은 게잉 생각난디야.</td>\n",
       "      <td>22</td>\n",
       "      <td>2</td>\n",
       "    </tr>\n",
       "    <tr>\n",
       "      <th>3</th>\n",
       "      <td>jd</td>\n",
       "      <td>스타일</td>\n",
       "      <td>I have a lot of ideas about getting older in a...</td>\n",
       "      <td>보먼은 좀 품위 있게 나이 들어가야 되겠단 싱각을 참 마이 해요잉.</td>\n",
       "      <td>19</td>\n",
       "      <td>1</td>\n",
       "    </tr>\n",
       "    <tr>\n",
       "      <th>4</th>\n",
       "      <td>jd</td>\n",
       "      <td>먹거리</td>\n",
       "      <td>It's a little bit of a tastey, but still...</td>\n",
       "      <td>약깐 좀 약깐 맛이가 쪼까 머시기 카긴 한디 그또</td>\n",
       "      <td>18</td>\n",
       "      <td>1</td>\n",
       "    </tr>\n",
       "  </tbody>\n",
       "</table>\n",
       "</div>"
      ],
      "text/plain": [
       "  reg topic                                                eng  \\\n",
       "0  jd    역사                 I've changed my mind a little bit.   \n",
       "1  jd    가족    You know what? Foreigners still get used to it.   \n",
       "2  jd    건강  All of a sudden, I think I've ripped off my ap...   \n",
       "3  jd   스타일  I have a lot of ideas about getting older in a...   \n",
       "4  jd   먹거리        It's a little bit of a tastey, but still...   \n",
       "\n",
       "                                     dial  tok_len  tok_cat  \n",
       "0                          생각이 쪼금씩 바뀌드라고        10        0  \n",
       "1                웜마 알겄는가 애국인들이 그또 달 적응하고        17        1  \n",
       "2             아으 갑자기 에전에 맹장 뜯은 게잉 생각난디야.        22        2  \n",
       "3  보먼은 좀 품위 있게 나이 들어가야 되겠단 싱각을 참 마이 해요잉.        19        1  \n",
       "4            약깐 좀 약깐 맛이가 쪼까 머시기 카긴 한디 그또        18        1  "
      ]
     },
     "execution_count": 119,
     "metadata": {},
     "output_type": "execute_result"
    }
   ],
   "source": [
    "full_data.head()"
   ]
  },
  {
   "cell_type": "code",
   "execution_count": 120,
   "id": "e7b92ab7",
   "metadata": {},
   "outputs": [
    {
     "data": {
      "text/html": [
       "<div>\n",
       "<style scoped>\n",
       "    .dataframe tbody tr th:only-of-type {\n",
       "        vertical-align: middle;\n",
       "    }\n",
       "\n",
       "    .dataframe tbody tr th {\n",
       "        vertical-align: top;\n",
       "    }\n",
       "\n",
       "    .dataframe thead th {\n",
       "        text-align: right;\n",
       "    }\n",
       "</style>\n",
       "<table border=\"1\" class=\"dataframe\">\n",
       "  <thead>\n",
       "    <tr style=\"text-align: right;\">\n",
       "      <th></th>\n",
       "      <th>reg</th>\n",
       "      <th>topic</th>\n",
       "      <th>eng</th>\n",
       "      <th>dial</th>\n",
       "      <th>tok_len</th>\n",
       "      <th>tok_cat</th>\n",
       "    </tr>\n",
       "  </thead>\n",
       "  <tbody>\n",
       "    <tr>\n",
       "      <th>0</th>\n",
       "      <td>jd</td>\n",
       "      <td>군대</td>\n",
       "      <td>Kids, when I was at work, they came over and a...</td>\n",
       "      <td>애기들 그~ 내 헐 띠 일헐 띠 와가지고 밥 묵은 거이 보므  끄꼬 나가 아주머니들...</td>\n",
       "      <td>472</td>\n",
       "      <td>8</td>\n",
       "    </tr>\n",
       "    <tr>\n",
       "      <th>1</th>\n",
       "      <td>jd</td>\n",
       "      <td>아르바이트</td>\n",
       "      <td>It's too hard. I've been thinking a lot about ...</td>\n",
       "      <td>싸람들이 꺼내 갈은 곳도 앞으로 땡기고 요게 하도 힘들은 거야.  지끔 아따 이릏게...</td>\n",
       "      <td>485</td>\n",
       "      <td>8</td>\n",
       "    </tr>\n",
       "    <tr>\n",
       "      <th>2</th>\n",
       "      <td>jd</td>\n",
       "      <td>건강</td>\n",
       "      <td>You have to move very much and eat without gre...</td>\n",
       "      <td>겁나게 움직이고 혀야 되고잉 또잉 뭐~ 밥도 기름진 거이 안 묵고 혀야 되는디</td>\n",
       "      <td>14</td>\n",
       "      <td>1</td>\n",
       "    </tr>\n",
       "    <tr>\n",
       "      <th>3</th>\n",
       "      <td>jd</td>\n",
       "      <td>영화</td>\n",
       "      <td>I don't know what to say. It's like watching a...</td>\n",
       "      <td>모라 허지 아담 샌들러 나오는 영화는 좀 마이 본 편인 꺼 같아라  근디 영화잉 중...</td>\n",
       "      <td>206</td>\n",
       "      <td>7</td>\n",
       "    </tr>\n",
       "    <tr>\n",
       "      <th>4</th>\n",
       "      <td>jd</td>\n",
       "      <td>쇼핑</td>\n",
       "      <td>Or you know what the aunt wants to buy is some...</td>\n",
       "      <td>아니믄 알지라 이모가 사고 싶어하는 고 허벌나게 비싼 거이  언닌 글면은 겨울에 이...</td>\n",
       "      <td>221</td>\n",
       "      <td>7</td>\n",
       "    </tr>\n",
       "  </tbody>\n",
       "</table>\n",
       "</div>"
      ],
      "text/plain": [
       "  reg  topic                                                eng  \\\n",
       "0  jd     군대  Kids, when I was at work, they came over and a...   \n",
       "1  jd  아르바이트  It's too hard. I've been thinking a lot about ...   \n",
       "2  jd     건강  You have to move very much and eat without gre...   \n",
       "3  jd     영화  I don't know what to say. It's like watching a...   \n",
       "4  jd     쇼핑  Or you know what the aunt wants to buy is some...   \n",
       "\n",
       "                                                dial  tok_len  tok_cat  \n",
       "0  애기들 그~ 내 헐 띠 일헐 띠 와가지고 밥 묵은 거이 보므  끄꼬 나가 아주머니들...      472        8  \n",
       "1  싸람들이 꺼내 갈은 곳도 앞으로 땡기고 요게 하도 힘들은 거야.  지끔 아따 이릏게...      485        8  \n",
       "2       겁나게 움직이고 혀야 되고잉 또잉 뭐~ 밥도 기름진 거이 안 묵고 혀야 되는디        14        1  \n",
       "3  모라 허지 아담 샌들러 나오는 영화는 좀 마이 본 편인 꺼 같아라  근디 영화잉 중...      206        7  \n",
       "4  아니믄 알지라 이모가 사고 싶어하는 고 허벌나게 비싼 거이  언닌 글면은 겨울에 이...      221        7  "
      ]
     },
     "execution_count": 120,
     "metadata": {},
     "output_type": "execute_result"
    }
   ],
   "source": [
    "full_data_test.head()"
   ]
  },
  {
   "cell_type": "code",
   "execution_count": 123,
   "id": "4cbefd68",
   "metadata": {},
   "outputs": [
    {
     "data": {
      "text/html": [
       "<div>\n",
       "<style scoped>\n",
       "    .dataframe tbody tr th:only-of-type {\n",
       "        vertical-align: middle;\n",
       "    }\n",
       "\n",
       "    .dataframe tbody tr th {\n",
       "        vertical-align: top;\n",
       "    }\n",
       "\n",
       "    .dataframe thead th {\n",
       "        text-align: right;\n",
       "    }\n",
       "</style>\n",
       "<table border=\"1\" class=\"dataframe\">\n",
       "  <thead>\n",
       "    <tr style=\"text-align: right;\">\n",
       "      <th></th>\n",
       "      <th>reg</th>\n",
       "      <th>topic</th>\n",
       "      <th>eng</th>\n",
       "      <th>dial</th>\n",
       "      <th>tok_len</th>\n",
       "      <th>tok_cat</th>\n",
       "    </tr>\n",
       "  </thead>\n",
       "  <tbody>\n",
       "    <tr>\n",
       "      <th>0</th>\n",
       "      <td>kw</td>\n",
       "      <td>가족</td>\n",
       "      <td>To lie, you have to be polite.</td>\n",
       "      <td>거지뿌래이을 할려면 쫌 성의 있이 하던지.</td>\n",
       "      <td>12</td>\n",
       "      <td>0</td>\n",
       "    </tr>\n",
       "    <tr>\n",
       "      <th>1</th>\n",
       "      <td>cc</td>\n",
       "      <td>연애/결혼</td>\n",
       "      <td>I thought it was right for parents to raise an...</td>\n",
       "      <td>부모가 책임감을 가주구 쫌 경제적으로도 여유가 있을 띠 아이를 기르 키우는게 맞다구...</td>\n",
       "      <td>26</td>\n",
       "      <td>2</td>\n",
       "    </tr>\n",
       "    <tr>\n",
       "      <th>2</th>\n",
       "      <td>jd</td>\n",
       "      <td>먹거리</td>\n",
       "      <td>But that's what I'm saying.</td>\n",
       "      <td>긍게 그거이 또잉 근디</td>\n",
       "      <td>12</td>\n",
       "      <td>0</td>\n",
       "    </tr>\n",
       "    <tr>\n",
       "      <th>3</th>\n",
       "      <td>kw</td>\n",
       "      <td>영화</td>\n",
       "      <td>Russian elections were just decorative.</td>\n",
       "      <td>러시아의 선거는 오갈단지 장식된 것에 불과했어.</td>\n",
       "      <td>12</td>\n",
       "      <td>0</td>\n",
       "    </tr>\n",
       "    <tr>\n",
       "      <th>4</th>\n",
       "      <td>gs</td>\n",
       "      <td>다이어트</td>\n",
       "      <td>So the results were recorded and I always did ...</td>\n",
       "      <td>그서 쫌 그기 또 성과가 기록이 돼가주꼬 맨날천날 했었었노.  알제 걍 진심이대이 ...</td>\n",
       "      <td>150</td>\n",
       "      <td>6</td>\n",
       "    </tr>\n",
       "    <tr>\n",
       "      <th>...</th>\n",
       "      <td>...</td>\n",
       "      <td>...</td>\n",
       "      <td>...</td>\n",
       "      <td>...</td>\n",
       "      <td>...</td>\n",
       "      <td>...</td>\n",
       "    </tr>\n",
       "    <tr>\n",
       "      <th>9995</th>\n",
       "      <td>gs</td>\n",
       "      <td>여행지(국내/해외)</td>\n",
       "      <td>Its hard to go I can follow you through the pa...</td>\n",
       "      <td>그리 힘들 기 갈 꺼 머 있노 패키지로 따라가머 될 낀데</td>\n",
       "      <td>14</td>\n",
       "      <td>1</td>\n",
       "    </tr>\n",
       "    <tr>\n",
       "      <th>9996</th>\n",
       "      <td>kw</td>\n",
       "      <td>가족</td>\n",
       "      <td>What's wrong with you?</td>\n",
       "      <td>저냑 뭐러 잔모 먹었어?</td>\n",
       "      <td>10</td>\n",
       "      <td>0</td>\n",
       "    </tr>\n",
       "    <tr>\n",
       "      <th>9997</th>\n",
       "      <td>jd</td>\n",
       "      <td>성격</td>\n",
       "      <td>I didnt do that when I was in elementary school</td>\n",
       "      <td>에~ 초등학교 땐 안 그랬었단 말이여 나가 마잉 초등학교 땐</td>\n",
       "      <td>12</td>\n",
       "      <td>0</td>\n",
       "    </tr>\n",
       "    <tr>\n",
       "      <th>9998</th>\n",
       "      <td>kw</td>\n",
       "      <td>가족</td>\n",
       "      <td>But you said you'd punish him if you met him, ...</td>\n",
       "      <td>근디 재기 요 선상 만나믄 혼내준다더니 혼내기는커녕 느머 친하더라.  누우 친구구 ...</td>\n",
       "      <td>394</td>\n",
       "      <td>8</td>\n",
       "    </tr>\n",
       "    <tr>\n",
       "      <th>9999</th>\n",
       "      <td>kw</td>\n",
       "      <td>드라마</td>\n",
       "      <td>You broke a couple of nosebleeds back then, di...</td>\n",
       "      <td>재기 고때 쌍코피 터졌지?</td>\n",
       "      <td>18</td>\n",
       "      <td>1</td>\n",
       "    </tr>\n",
       "  </tbody>\n",
       "</table>\n",
       "<p>10000 rows × 6 columns</p>\n",
       "</div>"
      ],
      "text/plain": [
       "     reg       topic                                                eng  \\\n",
       "0     kw          가족                     To lie, you have to be polite.   \n",
       "1     cc       연애/결혼  I thought it was right for parents to raise an...   \n",
       "2     jd         먹거리                        But that's what I'm saying.   \n",
       "3     kw          영화            Russian elections were just decorative.   \n",
       "4     gs        다이어트  So the results were recorded and I always did ...   \n",
       "...   ..         ...                                                ...   \n",
       "9995  gs  여행지(국내/해외)  Its hard to go I can follow you through the pa...   \n",
       "9996  kw          가족                             What's wrong with you?   \n",
       "9997  jd          성격    I didnt do that when I was in elementary school   \n",
       "9998  kw          가족  But you said you'd punish him if you met him, ...   \n",
       "9999  kw         드라마  You broke a couple of nosebleeds back then, di...   \n",
       "\n",
       "                                                   dial  tok_len  tok_cat  \n",
       "0                              거지뿌래이을 할려면 쫌 성의 있이 하던지.        12        0  \n",
       "1     부모가 책임감을 가주구 쫌 경제적으로도 여유가 있을 띠 아이를 기르 키우는게 맞다구...       26        2  \n",
       "2                                         긍게 그거이 또잉 근디        12        0  \n",
       "3                           러시아의 선거는 오갈단지 장식된 것에 불과했어.        12        0  \n",
       "4     그서 쫌 그기 또 성과가 기록이 돼가주꼬 맨날천날 했었었노.  알제 걍 진심이대이 ...      150        6  \n",
       "...                                                 ...      ...      ...  \n",
       "9995                   그리 힘들 기 갈 꺼 머 있노 패키지로 따라가머 될 낀데        14        1  \n",
       "9996                                     저냑 뭐러 잔모 먹었어?        10        0  \n",
       "9997                 에~ 초등학교 땐 안 그랬었단 말이여 나가 마잉 초등학교 땐        12        0  \n",
       "9998  근디 재기 요 선상 만나믄 혼내준다더니 혼내기는커녕 느머 친하더라.  누우 친구구 ...      394        8  \n",
       "9999                                    재기 고때 쌍코피 터졌지?        18        1  \n",
       "\n",
       "[10000 rows x 6 columns]"
      ]
     },
     "execution_count": 123,
     "metadata": {},
     "output_type": "execute_result"
    }
   ],
   "source": [
    "#for test\n",
    "full_data = full_data.sample(10000, random_state=1).reset_index(drop=True)\n",
    "full_data"
   ]
  },
  {
   "cell_type": "code",
   "execution_count": 125,
   "id": "37eba9d4",
   "metadata": {},
   "outputs": [
    {
     "data": {
      "text/html": [
       "<div>\n",
       "<style scoped>\n",
       "    .dataframe tbody tr th:only-of-type {\n",
       "        vertical-align: middle;\n",
       "    }\n",
       "\n",
       "    .dataframe tbody tr th {\n",
       "        vertical-align: top;\n",
       "    }\n",
       "\n",
       "    .dataframe thead th {\n",
       "        text-align: right;\n",
       "    }\n",
       "</style>\n",
       "<table border=\"1\" class=\"dataframe\">\n",
       "  <thead>\n",
       "    <tr style=\"text-align: right;\">\n",
       "      <th></th>\n",
       "      <th>reg</th>\n",
       "      <th>topic</th>\n",
       "      <th>eng</th>\n",
       "      <th>dial</th>\n",
       "      <th>tok_len</th>\n",
       "      <th>tok_cat</th>\n",
       "    </tr>\n",
       "  </thead>\n",
       "  <tbody>\n",
       "    <tr>\n",
       "      <th>0</th>\n",
       "      <td>cc</td>\n",
       "      <td>회사/학교</td>\n",
       "      <td>So here I am, sitting in front of you, in fron...</td>\n",
       "      <td>그서 지랑 저가 요기 앞에가 긍까 뒤에가 앉구 친구가유 앞에가 앉구 자습을 주는디</td>\n",
       "      <td>39</td>\n",
       "      <td>4</td>\n",
       "    </tr>\n",
       "    <tr>\n",
       "      <th>1</th>\n",
       "      <td>kw</td>\n",
       "      <td>연애/결혼</td>\n",
       "      <td>What else? She's crying. She's mad again. It's...</td>\n",
       "      <td>딴 무신 일이요?  어멍이 우이까 또 화날라 그러네.  구십만 원인데 삼십프로 할인...</td>\n",
       "      <td>110</td>\n",
       "      <td>6</td>\n",
       "    </tr>\n",
       "    <tr>\n",
       "      <th>2</th>\n",
       "      <td>kw</td>\n",
       "      <td>가족</td>\n",
       "      <td>Give the dog to me. You two have your own way....</td>\n",
       "      <td>개케 저한데 주시고 두 분은 알아가주고 갈 질 가시데이죠.  왜서 왜서 그른 말씸을...</td>\n",
       "      <td>83</td>\n",
       "      <td>5</td>\n",
       "    </tr>\n",
       "    <tr>\n",
       "      <th>3</th>\n",
       "      <td>jd</td>\n",
       "      <td>선물</td>\n",
       "      <td>I bought and gave you long johns but as you ge...</td>\n",
       "      <td>뭐~ 내복도 사갖고 드리고잉 뭐~ 그랬는디 인제 나이 드실수록 인제 어무니 아부지도...</td>\n",
       "      <td>25</td>\n",
       "      <td>2</td>\n",
       "    </tr>\n",
       "    <tr>\n",
       "      <th>4</th>\n",
       "      <td>gs</td>\n",
       "      <td>계절</td>\n",
       "      <td>If the number of confirmed cases decreases so ...</td>\n",
       "      <td>확진자가 겁나 쭐어서 일상적인 여행이 가능한 수치가 된다믄</td>\n",
       "      <td>25</td>\n",
       "      <td>2</td>\n",
       "    </tr>\n",
       "    <tr>\n",
       "      <th>...</th>\n",
       "      <td>...</td>\n",
       "      <td>...</td>\n",
       "      <td>...</td>\n",
       "      <td>...</td>\n",
       "      <td>...</td>\n",
       "      <td>...</td>\n",
       "    </tr>\n",
       "    <tr>\n",
       "      <th>495</th>\n",
       "      <td>kw</td>\n",
       "      <td>가족</td>\n",
       "      <td>How did he have a baby in a stranger's place a...</td>\n",
       "      <td>어째께나 초산인데 어태 낯선 곳테서 혼재 아를 낳았대요?  앉자 구만 부애 풀어라 ...</td>\n",
       "      <td>92</td>\n",
       "      <td>5</td>\n",
       "    </tr>\n",
       "    <tr>\n",
       "      <th>496</th>\n",
       "      <td>kw</td>\n",
       "      <td>연애/결혼</td>\n",
       "      <td>I can't believe you're doing this. You want to...</td>\n",
       "      <td>지굼 헝이 이러시는 것두 느머 보여요. 지랑 함 해보시겠다는 거예요?  운젠가 낼 ...</td>\n",
       "      <td>371</td>\n",
       "      <td>8</td>\n",
       "    </tr>\n",
       "    <tr>\n",
       "      <th>497</th>\n",
       "      <td>gs</td>\n",
       "      <td>반려동물</td>\n",
       "      <td>It's gonna cost you a lot of money, and it's g...</td>\n",
       "      <td>돈도 걍 많이 들겠대이 그제 돈도 마이 들 끼꼬  인대이 반반이긴 캤는데 의사쌤이 ...</td>\n",
       "      <td>130</td>\n",
       "      <td>6</td>\n",
       "    </tr>\n",
       "    <tr>\n",
       "      <th>498</th>\n",
       "      <td>cc</td>\n",
       "      <td>음악</td>\n",
       "      <td>So I dont like hiphop that much and not rappin...</td>\n",
       "      <td>그러다보니께 먼가 랩이 대한 쫌 내는 힙합을 그릏게 좋아해지 않구 랩을 좋아하던 않...</td>\n",
       "      <td>81</td>\n",
       "      <td>5</td>\n",
       "    </tr>\n",
       "    <tr>\n",
       "      <th>499</th>\n",
       "      <td>cc</td>\n",
       "      <td>음악</td>\n",
       "      <td>Something like Not Today so the songs we know ...</td>\n",
       "      <td>어~ 머 낫 투데이 겉은 긍까 사실은 우리가 흔하게 알고서는 있는 노래들이 아마 인...</td>\n",
       "      <td>248</td>\n",
       "      <td>8</td>\n",
       "    </tr>\n",
       "  </tbody>\n",
       "</table>\n",
       "<p>500 rows × 6 columns</p>\n",
       "</div>"
      ],
      "text/plain": [
       "    reg  topic                                                eng  \\\n",
       "0    cc  회사/학교  So here I am, sitting in front of you, in fron...   \n",
       "1    kw  연애/결혼  What else? She's crying. She's mad again. It's...   \n",
       "2    kw     가족  Give the dog to me. You two have your own way....   \n",
       "3    jd     선물  I bought and gave you long johns but as you ge...   \n",
       "4    gs     계절  If the number of confirmed cases decreases so ...   \n",
       "..   ..    ...                                                ...   \n",
       "495  kw     가족  How did he have a baby in a stranger's place a...   \n",
       "496  kw  연애/결혼  I can't believe you're doing this. You want to...   \n",
       "497  gs   반려동물  It's gonna cost you a lot of money, and it's g...   \n",
       "498  cc     음악  So I dont like hiphop that much and not rappin...   \n",
       "499  cc     음악  Something like Not Today so the songs we know ...   \n",
       "\n",
       "                                                  dial  tok_len  tok_cat  \n",
       "0       그서 지랑 저가 요기 앞에가 긍까 뒤에가 앉구 친구가유 앞에가 앉구 자습을 주는디        39        4  \n",
       "1    딴 무신 일이요?  어멍이 우이까 또 화날라 그러네.  구십만 원인데 삼십프로 할인...      110        6  \n",
       "2    개케 저한데 주시고 두 분은 알아가주고 갈 질 가시데이죠.  왜서 왜서 그른 말씸을...       83        5  \n",
       "3    뭐~ 내복도 사갖고 드리고잉 뭐~ 그랬는디 인제 나이 드실수록 인제 어무니 아부지도...       25        2  \n",
       "4                    확진자가 겁나 쭐어서 일상적인 여행이 가능한 수치가 된다믄        25        2  \n",
       "..                                                 ...      ...      ...  \n",
       "495  어째께나 초산인데 어태 낯선 곳테서 혼재 아를 낳았대요?  앉자 구만 부애 풀어라 ...       92        5  \n",
       "496  지굼 헝이 이러시는 것두 느머 보여요. 지랑 함 해보시겠다는 거예요?  운젠가 낼 ...      371        8  \n",
       "497  돈도 걍 많이 들겠대이 그제 돈도 마이 들 끼꼬  인대이 반반이긴 캤는데 의사쌤이 ...      130        6  \n",
       "498  그러다보니께 먼가 랩이 대한 쫌 내는 힙합을 그릏게 좋아해지 않구 랩을 좋아하던 않...       81        5  \n",
       "499  어~ 머 낫 투데이 겉은 긍까 사실은 우리가 흔하게 알고서는 있는 노래들이 아마 인...      248        8  \n",
       "\n",
       "[500 rows x 6 columns]"
      ]
     },
     "execution_count": 125,
     "metadata": {},
     "output_type": "execute_result"
    }
   ],
   "source": [
    "#for test\n",
    "full_data_test = full_data_test.sample(500, random_state=1).reset_index(drop=True)\n",
    "full_data_test"
   ]
  },
  {
   "cell_type": "code",
   "execution_count": 126,
   "id": "583b734d",
   "metadata": {},
   "outputs": [],
   "source": [
    "# full_data=pd.concat([full_data, full_data_test], axis=0)"
   ]
  },
  {
   "cell_type": "code",
   "execution_count": 127,
   "id": "f6ef8e8f",
   "metadata": {},
   "outputs": [
    {
     "name": "stdout",
     "output_type": "stream",
     "text": [
      "<class 'pandas.core.frame.DataFrame'>\n",
      "RangeIndex: 10000 entries, 0 to 9999\n",
      "Data columns (total 6 columns):\n",
      " #   Column   Non-Null Count  Dtype \n",
      "---  ------   --------------  ----- \n",
      " 0   reg      10000 non-null  object\n",
      " 1   topic    10000 non-null  object\n",
      " 2   eng      10000 non-null  object\n",
      " 3   dial     10000 non-null  object\n",
      " 4   tok_len  10000 non-null  int64 \n",
      " 5   tok_cat  10000 non-null  int64 \n",
      "dtypes: int64(2), object(4)\n",
      "memory usage: 468.9+ KB\n"
     ]
    }
   ],
   "source": [
    "full_data.info() #full_data: 1229211, full_data_test: 500"
   ]
  },
  {
   "cell_type": "code",
   "execution_count": 128,
   "id": "a9c01ac7",
   "metadata": {},
   "outputs": [
    {
     "name": "stdout",
     "output_type": "stream",
     "text": [
      "<class 'pandas.core.frame.DataFrame'>\n",
      "RangeIndex: 500 entries, 0 to 499\n",
      "Data columns (total 6 columns):\n",
      " #   Column   Non-Null Count  Dtype \n",
      "---  ------   --------------  ----- \n",
      " 0   reg      500 non-null    object\n",
      " 1   topic    500 non-null    object\n",
      " 2   eng      500 non-null    object\n",
      " 3   dial     500 non-null    object\n",
      " 4   tok_len  500 non-null    int64 \n",
      " 5   tok_cat  500 non-null    int64 \n",
      "dtypes: int64(2), object(4)\n",
      "memory usage: 23.6+ KB\n"
     ]
    }
   ],
   "source": [
    "full_data_test.info()"
   ]
  },
  {
   "cell_type": "code",
   "execution_count": 129,
   "id": "c0a21c2b",
   "metadata": {},
   "outputs": [
    {
     "data": {
      "text/plain": [
       "reg        0\n",
       "topic      0\n",
       "eng        0\n",
       "dial       0\n",
       "tok_len    0\n",
       "tok_cat    0\n",
       "dtype: int64"
      ]
     },
     "execution_count": 129,
     "metadata": {},
     "output_type": "execute_result"
    }
   ],
   "source": [
    "full_data.isnull().sum()"
   ]
  },
  {
   "cell_type": "code",
   "execution_count": 130,
   "id": "c9035136",
   "metadata": {},
   "outputs": [
    {
     "data": {
      "text/plain": [
       "reg        0\n",
       "topic      0\n",
       "eng        0\n",
       "dial       0\n",
       "tok_len    0\n",
       "tok_cat    0\n",
       "dtype: int64"
      ]
     },
     "execution_count": 130,
     "metadata": {},
     "output_type": "execute_result"
    }
   ],
   "source": [
    "full_data_test.isnull().sum()"
   ]
  },
  {
   "cell_type": "code",
   "execution_count": 96,
   "id": "83a83de9",
   "metadata": {},
   "outputs": [],
   "source": [
    "full_data['eng_length'] = full_data['eng'].apply(lambda x : len(str(x).split()))\n",
    "full_data['dial_length'] = full_data['dial'].apply(lambda x : len(str(x).split()))\n",
    "# full_data['eng_c_length'] = full_data['eng'].apply(lambda x : len(str(x)))\n",
    "# full_data['dial_c_length'] = full_data['dial'].apply(lambda x : len(str(x)))"
   ]
  },
  {
   "cell_type": "code",
   "execution_count": 134,
   "id": "603886f2",
   "metadata": {},
   "outputs": [],
   "source": [
    "regs = full_data.reg.unique()"
   ]
  },
  {
   "cell_type": "code",
   "execution_count": 137,
   "id": "679082ab",
   "metadata": {},
   "outputs": [
    {
     "data": {
      "image/png": "[encoded data removed]",
      "text/plain": [
       "<Figure size 432x288 with 1 Axes>"
      ]
     },
     "metadata": {
      "needs_background": "light"
     },
     "output_type": "display_data"
    }
   ],
   "source": [
    "import seaborn as sns\n",
    "for reg in regs :\n",
    "    sns.kdeplot(x='tok_len',data = full_data.loc[full_data['reg']==reg], label =reg)\n",
    "plt.legend()\n",
    "plt.show()\n",
    "#     print(f'Dial_{reg} :', count)"
   ]
  },
  {
   "cell_type": "markdown",
   "id": "f931ebe6",
   "metadata": {},
   "source": [
    "Translation correction : \"I don't know. I don't know.\""
   ]
  },
  {
   "cell_type": "code",
   "execution_count": 138,
   "id": "b0efe6de",
   "metadata": {},
   "outputs": [
    {
     "data": {
      "text/html": [
       "<div>\n",
       "<style scoped>\n",
       "    .dataframe tbody tr th:only-of-type {\n",
       "        vertical-align: middle;\n",
       "    }\n",
       "\n",
       "    .dataframe tbody tr th {\n",
       "        vertical-align: top;\n",
       "    }\n",
       "\n",
       "    .dataframe thead th {\n",
       "        text-align: right;\n",
       "    }\n",
       "</style>\n",
       "<table border=\"1\" class=\"dataframe\">\n",
       "  <thead>\n",
       "    <tr style=\"text-align: right;\">\n",
       "      <th></th>\n",
       "      <th>reg</th>\n",
       "      <th>topic</th>\n",
       "      <th>eng</th>\n",
       "      <th>dial</th>\n",
       "      <th>tok_len</th>\n",
       "      <th>tok_cat</th>\n",
       "    </tr>\n",
       "  </thead>\n",
       "  <tbody>\n",
       "    <tr>\n",
       "      <th>296</th>\n",
       "      <td>gs</td>\n",
       "      <td>자격증</td>\n",
       "      <td>It's just a little bit of an aside. If I look ...</td>\n",
       "      <td>쫌 치우친 과목이거든예 뭐~  자격증 따느 기 쫌 느무 쓸 쓸데없이 비용이 느무 마...</td>\n",
       "      <td>237</td>\n",
       "      <td>7</td>\n",
       "    </tr>\n",
       "    <tr>\n",
       "      <th>330</th>\n",
       "      <td>jd</td>\n",
       "      <td>회사/학교</td>\n",
       "      <td>Was your uniform pretty? Yeah how much I was s...</td>\n",
       "      <td>교복은 이뻤어잉?  그래만나서 얼만취 그~ 겁나게 거이  올래 일고 시 보라 했는디...</td>\n",
       "      <td>494</td>\n",
       "      <td>8</td>\n",
       "    </tr>\n",
       "    <tr>\n",
       "      <th>357</th>\n",
       "      <td>jj</td>\n",
       "      <td>가족</td>\n",
       "      <td>Im taking out all the small things. I don't kn...</td>\n",
       "      <td>잡담한 거는이 다이 뺌수게.  무신 물회나 탕 된장이나 허곡 경 헤그네  그래. 가...</td>\n",
       "      <td>101</td>\n",
       "      <td>6</td>\n",
       "    </tr>\n",
       "  </tbody>\n",
       "</table>\n",
       "</div>"
      ],
      "text/plain": [
       "    reg  topic                                                eng  \\\n",
       "296  gs    자격증  It's just a little bit of an aside. If I look ...   \n",
       "330  jd  회사/학교  Was your uniform pretty? Yeah how much I was s...   \n",
       "357  jj     가족  Im taking out all the small things. I don't kn...   \n",
       "\n",
       "                                                  dial  tok_len  tok_cat  \n",
       "296  쫌 치우친 과목이거든예 뭐~  자격증 따느 기 쫌 느무 쓸 쓸데없이 비용이 느무 마...      237        7  \n",
       "330  교복은 이뻤어잉?  그래만나서 얼만취 그~ 겁나게 거이  올래 일고 시 보라 했는디...      494        8  \n",
       "357  잡담한 거는이 다이 뺌수게.  무신 물회나 탕 된장이나 허곡 경 헤그네  그래. 가...      101        6  "
      ]
     },
     "execution_count": 138,
     "metadata": {},
     "output_type": "execute_result"
    }
   ],
   "source": [
    "full_data_test.loc[full_data_test['eng'].str.contains(\"I don't know. I don't know\")]"
   ]
  },
  {
   "cell_type": "code",
   "execution_count": 139,
   "id": "bf42b2f2",
   "metadata": {},
   "outputs": [
    {
     "data": {
      "text/html": [
       "<div>\n",
       "<style scoped>\n",
       "    .dataframe tbody tr th:only-of-type {\n",
       "        vertical-align: middle;\n",
       "    }\n",
       "\n",
       "    .dataframe tbody tr th {\n",
       "        vertical-align: top;\n",
       "    }\n",
       "\n",
       "    .dataframe thead th {\n",
       "        text-align: right;\n",
       "    }\n",
       "</style>\n",
       "<table border=\"1\" class=\"dataframe\">\n",
       "  <thead>\n",
       "    <tr style=\"text-align: right;\">\n",
       "      <th></th>\n",
       "      <th>reg</th>\n",
       "      <th>topic</th>\n",
       "      <th>eng</th>\n",
       "      <th>dial</th>\n",
       "      <th>tok_len</th>\n",
       "      <th>tok_cat</th>\n",
       "    </tr>\n",
       "  </thead>\n",
       "  <tbody>\n",
       "    <tr>\n",
       "      <th>196</th>\n",
       "      <td>jj</td>\n",
       "      <td>가족</td>\n",
       "      <td>I'm gonna stab you in the eye. I didnt know wh...</td>\n",
       "      <td>눈 찔렁으네  이게이 어떵 해사 될지를 몰랑 고데기 가져왔더라고?  중학교 상 학년...</td>\n",
       "      <td>668</td>\n",
       "      <td>8</td>\n",
       "    </tr>\n",
       "    <tr>\n",
       "      <th>573</th>\n",
       "      <td>gs</td>\n",
       "      <td>자격증</td>\n",
       "      <td>I don't know what you said. I don't know. I do...</td>\n",
       "      <td>언니야가 말했던 뭐~ 고런 한식 자격증 뭐~</td>\n",
       "      <td>31</td>\n",
       "      <td>3</td>\n",
       "    </tr>\n",
       "    <tr>\n",
       "      <th>1445</th>\n",
       "      <td>kw</td>\n",
       "      <td>가족</td>\n",
       "      <td>Whats going on? If you were my daughter, I'd b...</td>\n",
       "      <td>누우 무신 일이야?  나 딸레미 같았으문 내 아쭈 혼냈을 거야.  하구 싶은 말이나...</td>\n",
       "      <td>257</td>\n",
       "      <td>8</td>\n",
       "    </tr>\n",
       "    <tr>\n",
       "      <th>2771</th>\n",
       "      <td>jj</td>\n",
       "      <td>회사/학교</td>\n",
       "      <td>I don't know. I don't know. I don't know. I do...</td>\n",
       "      <td>몸도 망가지고이</td>\n",
       "      <td>28</td>\n",
       "      <td>3</td>\n",
       "    </tr>\n",
       "    <tr>\n",
       "      <th>3926</th>\n",
       "      <td>kw</td>\n",
       "      <td>연애/결혼</td>\n",
       "      <td>When I was going to look at it I pretended to ...</td>\n",
       "      <td>보그라 나래비 -때- 땐 한움씨 대범한 척 보그라 주다가  나두 -올- 올 핸 별 ...</td>\n",
       "      <td>190</td>\n",
       "      <td>7</td>\n",
       "    </tr>\n",
       "    <tr>\n",
       "      <th>5824</th>\n",
       "      <td>gs</td>\n",
       "      <td>방송/연예</td>\n",
       "      <td>Because at the time, when I think about all th...</td>\n",
       "      <td>왜냐믄 꼬 당시에 여대이 아이돌 고로 생각하믄 약깐 소녀시대 키싱유 불르꼬  꼬 뮤...</td>\n",
       "      <td>155</td>\n",
       "      <td>7</td>\n",
       "    </tr>\n",
       "    <tr>\n",
       "      <th>6294</th>\n",
       "      <td>jd</td>\n",
       "      <td>스포츠/레저</td>\n",
       "      <td>They also have malicious comments and such swe...</td>\n",
       "      <td>그분들도 그~ 악플도 달리고 그른 달달한 말이여.  그려 가꼬 고등학교 고 마잉 야...</td>\n",
       "      <td>1018</td>\n",
       "      <td>9</td>\n",
       "    </tr>\n",
       "    <tr>\n",
       "      <th>9776</th>\n",
       "      <td>jj</td>\n",
       "      <td>방송/연예</td>\n",
       "      <td>I don't know where I was right now. So it was ...</td>\n",
       "      <td>시방 티도 안남서 어디여 했주만은 모르겐  게난 겁나 힘들었댄 거 찍으멍 못 불르는...</td>\n",
       "      <td>96</td>\n",
       "      <td>5</td>\n",
       "    </tr>\n",
       "  </tbody>\n",
       "</table>\n",
       "</div>"
      ],
      "text/plain": [
       "     reg   topic                                                eng  \\\n",
       "196   jj      가족  I'm gonna stab you in the eye. I didnt know wh...   \n",
       "573   gs     자격증  I don't know what you said. I don't know. I do...   \n",
       "1445  kw      가족  Whats going on? If you were my daughter, I'd b...   \n",
       "2771  jj   회사/학교  I don't know. I don't know. I don't know. I do...   \n",
       "3926  kw   연애/결혼  When I was going to look at it I pretended to ...   \n",
       "5824  gs   방송/연예  Because at the time, when I think about all th...   \n",
       "6294  jd  스포츠/레저  They also have malicious comments and such swe...   \n",
       "9776  jj   방송/연예  I don't know where I was right now. So it was ...   \n",
       "\n",
       "                                                   dial  tok_len  tok_cat  \n",
       "196   눈 찔렁으네  이게이 어떵 해사 될지를 몰랑 고데기 가져왔더라고?  중학교 상 학년...      668        8  \n",
       "573                           언니야가 말했던 뭐~ 고런 한식 자격증 뭐~        31        3  \n",
       "1445  누우 무신 일이야?  나 딸레미 같았으문 내 아쭈 혼냈을 거야.  하구 싶은 말이나...      257        8  \n",
       "2771                                          몸도 망가지고이        28        3  \n",
       "3926  보그라 나래비 -때- 땐 한움씨 대범한 척 보그라 주다가  나두 -올- 올 핸 별 ...      190        7  \n",
       "5824  왜냐믄 꼬 당시에 여대이 아이돌 고로 생각하믄 약깐 소녀시대 키싱유 불르꼬  꼬 뮤...      155        7  \n",
       "6294  그분들도 그~ 악플도 달리고 그른 달달한 말이여.  그려 가꼬 고등학교 고 마잉 야...     1018        9  \n",
       "9776  시방 티도 안남서 어디여 했주만은 모르겐  게난 겁나 힘들었댄 거 찍으멍 못 불르는...       96        5  "
      ]
     },
     "execution_count": 139,
     "metadata": {},
     "output_type": "execute_result"
    }
   ],
   "source": [
    "full_data.loc[full_data['eng'].str.contains(\"I don't know. I don't know. I don't know.\")]"
   ]
  },
  {
   "cell_type": "code",
   "execution_count": 142,
   "id": "c4254bf8",
   "metadata": {},
   "outputs": [
    {
     "data": {
      "text/plain": [
       "reg\n",
       "cc    68.903697\n",
       "gs    67.599832\n",
       "jd    64.421136\n",
       "jj    53.202715\n",
       "kw    55.499016\n",
       "Name: tok_len, dtype: float64"
      ]
     },
     "execution_count": 142,
     "metadata": {},
     "output_type": "execute_result"
    }
   ],
   "source": [
    "full_data.groupby(full_data['reg'])['tok_len'].mean()"
   ]
  },
  {
   "cell_type": "code",
   "execution_count": 25,
   "id": "b5c5a30c",
   "metadata": {},
   "outputs": [],
   "source": [
    "# eng_data = full_data[['eng', 'eng_length']]\n",
    "# eng_data"
   ]
  },
  {
   "cell_type": "code",
   "execution_count": 26,
   "id": "8c815b90",
   "metadata": {},
   "outputs": [],
   "source": [
    "# dial_data = full_data[['reg', 'dial', 'dial_length']]\n",
    "# dial_data"
   ]
  },
  {
   "cell_type": "code",
   "execution_count": 143,
   "id": "a931fce7",
   "metadata": {},
   "outputs": [
    {
     "data": {
      "text/plain": [
       "0                  <kw> To lie, you have to be polite.\n",
       "1    <cc> I thought it was right for parents to rai...\n",
       "2                     <jd> But that's what I'm saying.\n",
       "3         <kw> Russian elections were just decorative.\n",
       "4    <gs> So the results were recorded and I always...\n",
       "5    <jj> So if you try to do it you wont be able t...\n",
       "6    <cc> So when someone says it's summer, what ar...\n",
       "7    <jj> We have to go We think we have to go Whil...\n",
       "8                               <jj> Oh thats so funny\n",
       "9    <gs> That's why the whole family wants to eat,...\n",
       "Name: reg_eng, dtype: object"
      ]
     },
     "execution_count": 143,
     "metadata": {},
     "output_type": "execute_result"
    }
   ],
   "source": [
    "full_data[\"reg_eng\"] = \"<\" + full_data[\"reg\"] +\"> \"+full_data[\"eng\"]\n",
    "full_data[\"reg_eng\"][:10]"
   ]
  },
  {
   "cell_type": "code",
   "execution_count": 144,
   "id": "baf29f32",
   "metadata": {},
   "outputs": [
    {
     "data": {
      "text/plain": [
       "0    <cc> So here I am, sitting in front of you, in...\n",
       "1    <kw> What else? She's crying. She's mad again....\n",
       "2    <kw> Give the dog to me. You two have your own...\n",
       "3    <jd> I bought and gave you long johns but as y...\n",
       "4    <gs> If the number of confirmed cases decrease...\n",
       "5    <cc> After that there are Namwon Loach Soup in...\n",
       "6    <gs> You said you dont want to do it so tell m...\n",
       "7    <gs> Do I have to get married and walk this ha...\n",
       "8    <kw> It's all good, and, oh, I can't choose. S...\n",
       "9    <kw> He's out here in front of the mills of Da...\n",
       "Name: reg_eng, dtype: object"
      ]
     },
     "execution_count": 144,
     "metadata": {},
     "output_type": "execute_result"
    }
   ],
   "source": [
    "full_data_test[\"reg_eng\"] = \"<\" + full_data_test[\"reg\"] +\"> \"+full_data_test[\"eng\"]\n",
    "full_data_test[\"reg_eng\"][:10]"
   ]
  },
  {
   "cell_type": "code",
   "execution_count": 145,
   "id": "922ddee3",
   "metadata": {},
   "outputs": [],
   "source": [
    "# # 1. 모든 입력을 소문자로 변환합니다.\n",
    "# # 2. 알파벳, 문장부호, 한글만 남기고 모두 제거합니다.\n",
    "# # 3. 문장부호 양옆에 공백을 추가합니다.\n",
    "# # 4. 문장 앞뒤의 불필요한 공백을 제거합니다.\n",
    "\n",
    "def preprocess_sentence(sentence):\n",
    "\n",
    "#     length = len(sentence)\n",
    "#     match = re.search(r'(.+)\\1{3,}', sentence) \n",
    "#     if match or length == 0:\n",
    "#         return None\n",
    "\n",
    "    sentence = sentence.lower()\n",
    "    sentence = re.sub(r\"([?.!,])\", r\" \\1 \", sentence)\n",
    "    sentence = re.sub(r'[\" \"]+', \" \", sentence)\n",
    "    sentence = re.sub(r\"[^a-zA-Z?.!<>가-힣ㄱ-ㅎㅏ-ㅣ]+\", \" \", sentence)\n",
    "    sentence = sentence.strip()\n",
    "\n",
    "    return sentence"
   ]
  },
  {
   "cell_type": "code",
   "execution_count": 146,
   "id": "5691601d",
   "metadata": {},
   "outputs": [],
   "source": [
    "# encoder corpus\n",
    "enc_corpus = full_data['reg_eng'].apply(lambda x : preprocess_sentence(x)).sort_index()"
   ]
  },
  {
   "cell_type": "code",
   "execution_count": 147,
   "id": "d89cd65f",
   "metadata": {},
   "outputs": [],
   "source": [
    "# encoder test corpus\n",
    "enc_corpus_test = full_data_test['reg_eng'].apply(lambda x : preprocess_sentence(x)).sort_index()"
   ]
  },
  {
   "cell_type": "code",
   "execution_count": 148,
   "id": "2f0e8b8b",
   "metadata": {},
   "outputs": [],
   "source": [
    "# decoder corpus\n",
    "dec_corpus = full_data['dial'].apply(lambda x : preprocess_sentence(x)).sort_index()"
   ]
  },
  {
   "cell_type": "code",
   "execution_count": 149,
   "id": "f6e241aa",
   "metadata": {},
   "outputs": [],
   "source": [
    "# decoder corpus test\n",
    "dec_corpus_test = full_data_test['dial'].apply(lambda x : preprocess_sentence(x)).sort_index()"
   ]
  },
  {
   "cell_type": "code",
   "execution_count": 150,
   "id": "4250a276",
   "metadata": {},
   "outputs": [
    {
     "name": "stdout",
     "output_type": "stream",
     "text": [
      "문장의 최단 길이: 2\n",
      "문장의 최장 길이: 796\n",
      "문장의 평균 길이: 43\n"
     ]
    },
    {
     "data": {
      "image/png": "[encoded data removed]",
      "text/plain": [
       "<Figure size 432x288 with 1 Axes>"
      ]
     },
     "metadata": {
      "needs_background": "light"
     },
     "output_type": "display_data"
    }
   ],
   "source": [
    "# enc_corpus 통계\n",
    "\n",
    "min_len = 999\n",
    "max_len = 0\n",
    "sum_len = 0\n",
    "\n",
    "\n",
    "for sen in enc_corpus:\n",
    "    length = len(sen.split())\n",
    "    if min_len > length: min_len = length\n",
    "    if max_len < length: max_len = length\n",
    "    sum_len += length\n",
    "\n",
    "print(\"문장의 최단 길이:\", min_len)\n",
    "print(\"문장의 최장 길이:\", max_len)\n",
    "print(\"문장의 평균 길이:\", sum_len // len(enc_corpus))\n",
    "\n",
    "sentence_length = np.zeros((max_len), dtype=int)\n",
    "\n",
    "#총 max_len의 배열을 만든 후, raw 문장을 돌면서 각 문장별 길이를 sentence_length의 len(sen) 인덱스마다  계속 더해가면서 counting\n",
    "for sen in enc_corpus:\n",
    "    sentence_length[len(str(sen).split())-1] += 1\n",
    "\n",
    "plt.bar(range(max_len), sentence_length, width=1.0)\n",
    "plt.title(\"Sentence Length Distribution\")\n",
    "plt.show()"
   ]
  },
  {
   "cell_type": "code",
   "execution_count": 151,
   "id": "b78a8724",
   "metadata": {},
   "outputs": [
    {
     "name": "stdout",
     "output_type": "stream",
     "text": [
      "문장의 최단 길이: 1\n",
      "문장의 최장 길이: 657\n",
      "문장의 평균 길이: 29\n"
     ]
    },
    {
     "data": {
      "image/png": "[encoded data removed]",
      "text/plain": [
       "<Figure size 432x288 with 1 Axes>"
      ]
     },
     "metadata": {
      "needs_background": "light"
     },
     "output_type": "display_data"
    }
   ],
   "source": [
    "# dec_corpus 통계\n",
    "\n",
    "min_len = 999\n",
    "max_len = 0\n",
    "sum_len = 0\n",
    "\n",
    "\n",
    "for sen in dec_corpus:\n",
    "    length = len(str(sen).split())\n",
    "    if min_len > length: min_len = length\n",
    "    if max_len < length: max_len = length\n",
    "    sum_len += length\n",
    "\n",
    "print(\"문장의 최단 길이:\", min_len)\n",
    "print(\"문장의 최장 길이:\", max_len)\n",
    "print(\"문장의 평균 길이:\", sum_len // len(dec_corpus))\n",
    "\n",
    "sentence_length = np.zeros((max_len), dtype=int)\n",
    "\n",
    "#총 max_len의 배열을 만든 후, raw 문장을 돌면서 각 문장별 길이를 sentence_length의 len(sen) 인덱스마다  계속 더해가면서 counting\n",
    "for sen in dec_corpus:\n",
    "    sentence_length[len(str(sen).split())-1] += 1\n",
    "\n",
    "plt.bar(range(max_len), sentence_length, width=1.0)\n",
    "plt.title(\"Sentence Length Distribution\")\n",
    "plt.show()"
   ]
  },
  {
   "cell_type": "code",
   "execution_count": 152,
   "id": "2071159c",
   "metadata": {},
   "outputs": [
    {
     "data": {
      "text/plain": [
       "10000"
      ]
     },
     "execution_count": 152,
     "metadata": {},
     "output_type": "execute_result"
    }
   ],
   "source": [
    "len(enc_corpus)"
   ]
  },
  {
   "cell_type": "code",
   "execution_count": 153,
   "id": "0b596959",
   "metadata": {},
   "outputs": [
    {
     "data": {
      "text/plain": [
       "10000"
      ]
     },
     "execution_count": 153,
     "metadata": {},
     "output_type": "execute_result"
    }
   ],
   "source": [
    "len(dec_corpus)"
   ]
  },
  {
   "cell_type": "code",
   "execution_count": 154,
   "id": "ca020925",
   "metadata": {},
   "outputs": [],
   "source": [
    "# #훈련 및 테스트셋 분리\n",
    "# enc_corpus=enc_corpus[:-100]\n",
    "# enc_corpus_test = enc_corpus[-100:]\n",
    "# dec_corpus=dec_corpus[:-100]\n",
    "# dec_corpus_test = dec_corpus[-100:]"
   ]
  },
  {
   "cell_type": "code",
   "execution_count": 155,
   "id": "66fc0e75",
   "metadata": {},
   "outputs": [
    {
     "name": "stdout",
     "output_type": "stream",
     "text": [
      "(10000,)\n",
      "(500,)\n",
      "(10000,)\n",
      "(500,)\n"
     ]
    }
   ],
   "source": [
    "print(enc_corpus.shape)\n",
    "print(enc_corpus_test.shape)\n",
    "print(dec_corpus.shape)\n",
    "print(dec_corpus_test.shape)"
   ]
  },
  {
   "cell_type": "markdown",
   "id": "7061d60e",
   "metadata": {},
   "source": [
    "# Step 2. 데이터 정제 및 토큰화"
   ]
  },
  {
   "cell_type": "code",
   "execution_count": 156,
   "id": "c8db5fe4",
   "metadata": {},
   "outputs": [
    {
     "name": "stdout",
     "output_type": "stream",
     "text": [
      "10000\n",
      "500\n"
     ]
    }
   ],
   "source": [
    "# Train 데이터 정제 및 토큰화\n",
    "def clean_corpus(enc_corpus, dec_corpus):\n",
    "\n",
    "    assert len(enc_corpus) == len(dec_corpus) # enc_corpus, dec_corpus가 같은 갯수라는 것을 검증받기 위해 적용\n",
    "\n",
    "    cleaned_corpus = list(set(zip(enc_corpus, dec_corpus)))  # 중복된 데이터 제거\n",
    "    \n",
    "    return cleaned_corpus\n",
    "\n",
    "cleaned_corpus = clean_corpus(enc_corpus, dec_corpus)\n",
    "cleaned_corpus_test = clean_corpus(enc_corpus_test, dec_corpus_test)\n",
    "print(len(cleaned_corpus))\n",
    "print(len(cleaned_corpus_test))"
   ]
  },
  {
   "cell_type": "code",
   "execution_count": 157,
   "id": "f4dea348",
   "metadata": {},
   "outputs": [],
   "source": [
    "# <PAD> : 0 / <BOS> : 1 / <EOS> : 2 / <UNK> : 3\n",
    "# <jj> : 4 / <jd> : 5 / <gs> : 6 / <cc> : 7 / <kw> : 8\n",
    "\n",
    "# Sentencepiece를 활용하여 학습한 tokenizer를 생성\n",
    "def generate_tokenizer(corpus, vocab_size, lang=\"en\", pad_id=0, bos_id=1, eos_id=2, unk_id=3):\n",
    "\n",
    "    temp_file = os.getenv('HOME') + f'/aiffel/aiffelthon/corpus_{lang}_r0.txt'     # corpus를 받아 txt파일로 저장\n",
    "    \n",
    "    with open(temp_file, 'w') as f:\n",
    "        for row in corpus:\n",
    "            f.write(str(row) + '\\n')\n",
    "    \n",
    "    # Sentencepiece를 이용해 \n",
    "    spm.SentencePieceTrainer.Train(\n",
    "        f'--input={temp_file} --model_type=bpe --pad_id={pad_id} --bos_id={bos_id} --eos_id={eos_id} \\\n",
    "        --unk_id={unk_id} --model_prefix=spm{lang}_test_r0 --vocab_size={vocab_size} \\\n",
    "        --user_defined_symbols=<jj>,<jd>,<gs>,<cc>,<kw> --remove_extra_whitespaces=false'   # model_r0\n",
    "    )\n",
    "    tokenizer = spm.SentencePieceProcessor()\n",
    "    tokenizer.Load(f'spm{lang}_test_r0.model') # model_r0\n",
    "\n",
    "    return tokenizer"
   ]
  },
  {
   "cell_type": "code",
   "execution_count": 158,
   "id": "2a535545",
   "metadata": {},
   "outputs": [
    {
     "name": "stderr",
     "output_type": "stream",
     "text": [
      "sentencepiece_trainer.cc(177) LOG(INFO) Running command: --input=/aiffel/aiffel/aiffelthon/corpus_enc_r0.txt --model_type=bpe --pad_id=0 --bos_id=1 --eos_id=2         --unk_id=3 --model_prefix=spmenc_test_r0 --vocab_size=4009         --user_defined_symbols=<jj>,<jd>,<gs>,<cc>,<kw> --remove_extra_whitespaces=false\n",
      "sentencepiece_trainer.cc(77) LOG(INFO) Starts training with : \n",
      "trainer_spec {\n",
      "  input: /aiffel/aiffel/aiffelthon/corpus_enc_r0.txt\n",
      "  input_format: \n",
      "  model_prefix: spmenc_test_r0\n",
      "  model_type: BPE\n",
      "  vocab_size: 4009\n",
      "  self_test_sample_size: 0\n",
      "  character_coverage: 0.9995\n",
      "  input_sentence_size: 0\n",
      "  shuffle_input_sentence: 1\n",
      "  seed_sentencepiece_size: 1000000\n",
      "  shrinking_factor: 0.75\n",
      "  max_sentence_length: 4192\n",
      "  num_threads: 16\n",
      "  num_sub_iterations: 2\n",
      "  max_sentencepiece_length: 16\n",
      "  split_by_unicode_script: 1\n",
      "  split_by_number: 1\n",
      "  split_by_whitespace: 1\n",
      "  split_digits: 0\n",
      "  treat_whitespace_as_suffix: 0\n",
      "  allow_whitespace_only_pieces: 0\n",
      "  user_defined_symbols: <jj>\n",
      "  user_defined_symbols: <jd>\n",
      "  user_defined_symbols: <gs>\n",
      "  user_defined_symbols: <cc>\n",
      "  user_defined_symbols: <kw>\n",
      "  required_chars: \n",
      "  byte_fallback: 0\n",
      "  vocabulary_output_piece_score: 1\n",
      "  train_extremely_large_corpus: 0\n",
      "  hard_vocab_limit: 1\n",
      "  use_all_vocab: 0\n",
      "  unk_id: 3\n",
      "  bos_id: 1\n",
      "  eos_id: 2\n",
      "  pad_id: 0\n",
      "  unk_piece: <unk>\n",
      "  bos_piece: <s>\n",
      "  eos_piece: </s>\n",
      "  pad_piece: <pad>\n",
      "  unk_surface:  ⁇ \n",
      "}\n",
      "normalizer_spec {\n",
      "  name: nmt_nfkc\n",
      "  add_dummy_prefix: 1\n",
      "  remove_extra_whitespaces: 0\n",
      "  escape_whitespaces: 1\n",
      "  normalization_rule_tsv: \n",
      "}\n",
      "denormalizer_spec {}\n",
      "trainer_interface.cc(329) LOG(INFO) SentenceIterator is not specified. Using MultiFileSentenceIterator.\n",
      "trainer_interface.cc(178) LOG(INFO) Loading corpus: /aiffel/aiffel/aiffelthon/corpus_enc_r0.txt\n",
      "trainer_interface.cc(385) LOG(INFO) Loaded all 10000 sentences\n",
      "trainer_interface.cc(400) LOG(INFO) Adding meta_piece: <pad>\n",
      "trainer_interface.cc(400) LOG(INFO) Adding meta_piece: <s>\n",
      "trainer_interface.cc(400) LOG(INFO) Adding meta_piece: </s>\n",
      "trainer_interface.cc(400) LOG(INFO) Adding meta_piece: <unk>\n",
      "trainer_interface.cc(400) LOG(INFO) Adding meta_piece: <jj>\n",
      "trainer_interface.cc(400) LOG(INFO) Adding meta_piece: <jd>\n",
      "trainer_interface.cc(400) LOG(INFO) Adding meta_piece: <gs>\n",
      "trainer_interface.cc(400) LOG(INFO) Adding meta_piece: <cc>\n",
      "trainer_interface.cc(400) LOG(INFO) Adding meta_piece: <kw>\n",
      "trainer_interface.cc(405) LOG(INFO) Normalizing sentences...\n",
      "trainer_interface.cc(466) LOG(INFO) all chars count=1925513\n",
      "trainer_interface.cc(477) LOG(INFO) Done: 99.9737% characters are covered.\n",
      "trainer_interface.cc(487) LOG(INFO) Alphabet size=28\n",
      "trainer_interface.cc(488) LOG(INFO) Final character coverage=0.999737\n",
      "trainer_interface.cc(520) LOG(INFO) Done! preprocessed 10000 sentences.\n",
      "trainer_interface.cc(526) LOG(INFO) Tokenizing input sentences with whitespace: 10000\n",
      "trainer_interface.cc(537) LOG(INFO) Done! 11900\n",
      "bpe_model_trainer.cc(167) LOG(INFO) Updating active symbols. max_freq=59493 min_freq=1\n",
      "bpe_model_trainer.cc(258) LOG(INFO) Added: freq=15870 size=20 all=974 active=945 piece=at\n",
      "bpe_model_trainer.cc(258) LOG(INFO) Added: freq=7113 size=40 all=1652 active=1623 piece=ll\n",
      "bpe_model_trainer.cc(258) LOG(INFO) Added: freq=4945 size=60 all=2406 active=2377 piece=is\n",
      "bpe_model_trainer.cc(258) LOG(INFO) Added: freq=3457 size=80 all=2929 active=2900 piece=out\n",
      "bpe_model_trainer.cc(258) LOG(INFO) Added: freq=2668 size=100 all=3457 active=3428 piece=▁st\n",
      "bpe_model_trainer.cc(167) LOG(INFO) Updating active symbols. max_freq=2649 min_freq=83\n",
      "bpe_model_trainer.cc(258) LOG(INFO) Added: freq=2112 size=120 all=3950 active=1472 piece=▁an\n",
      "bpe_model_trainer.cc(258) LOG(INFO) Added: freq=1726 size=140 all=4441 active=1963 piece=▁bec\n",
      "bpe_model_trainer.cc(258) LOG(INFO) Added: freq=1396 size=160 all=4801 active=2323 piece=▁ch\n",
      "bpe_model_trainer.cc(258) LOG(INFO) Added: freq=1194 size=180 all=5235 active=2757 piece=ge\n",
      "bpe_model_trainer.cc(258) LOG(INFO) Added: freq=1022 size=200 all=5548 active=3070 piece=▁really\n",
      "bpe_model_trainer.cc(167) LOG(INFO) Updating active symbols. max_freq=1006 min_freq=88\n",
      "bpe_model_trainer.cc(258) LOG(INFO) Added: freq=907 size=220 all=5893 active=1346 piece=king\n",
      "bpe_model_trainer.cc(258) LOG(INFO) Added: freq=784 size=240 all=6374 active=1827 piece=▁fe\n",
      "bpe_model_trainer.cc(258) LOG(INFO) Added: freq=708 size=260 all=6645 active=2098 piece=our\n",
      "bpe_model_trainer.cc(258) LOG(INFO) Added: freq=624 size=280 all=7135 active=2588 piece=▁sp\n",
      "bpe_model_trainer.cc(258) LOG(INFO) Added: freq=537 size=300 all=7391 active=2844 piece=ouse\n",
      "bpe_model_trainer.cc(167) LOG(INFO) Updating active symbols. max_freq=536 min_freq=78\n",
      "bpe_model_trainer.cc(258) LOG(INFO) Added: freq=508 size=320 all=7593 active=1191 piece=▁old\n",
      "bpe_model_trainer.cc(258) LOG(INFO) Added: freq=473 size=340 all=7744 active=1342 piece=ist\n",
      "bpe_model_trainer.cc(258) LOG(INFO) Added: freq=438 size=360 all=8085 active=1683 piece=▁tell\n",
      "bpe_model_trainer.cc(258) LOG(INFO) Added: freq=410 size=380 all=8308 active=1906 piece=▁try\n",
      "bpe_model_trainer.cc(258) LOG(INFO) Added: freq=373 size=400 all=8517 active=2115 piece=▁ke\n",
      "bpe_model_trainer.cc(167) LOG(INFO) Updating active symbols. max_freq=373 min_freq=69\n",
      "bpe_model_trainer.cc(258) LOG(INFO) Added: freq=346 size=420 all=8775 active=1251 piece=so\n",
      "bpe_model_trainer.cc(258) LOG(INFO) Added: freq=322 size=440 all=9114 active=1590 piece=▁told\n",
      "bpe_model_trainer.cc(258) LOG(INFO) Added: freq=292 size=460 all=9302 active=1778 piece=ts\n",
      "bpe_model_trainer.cc(258) LOG(INFO) Added: freq=277 size=480 all=9430 active=1906 piece=▁act\n",
      "bpe_model_trainer.cc(258) LOG(INFO) Added: freq=263 size=500 all=9595 active=2071 piece=▁looking\n",
      "bpe_model_trainer.cc(167) LOG(INFO) Updating active symbols. max_freq=262 min_freq=60\n",
      "bpe_model_trainer.cc(258) LOG(INFO) Added: freq=246 size=520 all=9859 active=1265 piece=▁toge\n",
      "bpe_model_trainer.cc(258) LOG(INFO) Added: freq=228 size=540 all=9958 active=1364 piece=ju\n",
      "bpe_model_trainer.cc(258) LOG(INFO) Added: freq=215 size=560 all=10061 active=1467 piece=by\n",
      "bpe_model_trainer.cc(258) LOG(INFO) Added: freq=206 size=580 all=10388 active=1794 piece=▁next\n",
      "bpe_model_trainer.cc(258) LOG(INFO) Added: freq=199 size=600 all=10536 active=1942 piece=▁alone\n",
      "bpe_model_trainer.cc(167) LOG(INFO) Updating active symbols. max_freq=198 min_freq=54\n",
      "bpe_model_trainer.cc(258) LOG(INFO) Added: freq=191 size=620 all=10695 active=1160 piece=▁dis\n",
      "bpe_model_trainer.cc(258) LOG(INFO) Added: freq=181 size=640 all=10925 active=1390 piece=▁times\n",
      "bpe_model_trainer.cc(258) LOG(INFO) Added: freq=175 size=660 all=11047 active=1512 piece=ady\n",
      "bpe_model_trainer.cc(258) LOG(INFO) Added: freq=167 size=680 all=11191 active=1656 piece=nder\n",
      "bpe_model_trainer.cc(258) LOG(INFO) Added: freq=161 size=700 all=11290 active=1755 piece=▁rec\n",
      "bpe_model_trainer.cc(167) LOG(INFO) Updating active symbols. max_freq=161 min_freq=49\n",
      "bpe_model_trainer.cc(258) LOG(INFO) Added: freq=155 size=720 all=11429 active=1131 piece=▁working\n",
      "bpe_model_trainer.cc(258) LOG(INFO) Added: freq=148 size=740 all=11529 active=1231 piece=▁win\n",
      "bpe_model_trainer.cc(258) LOG(INFO) Added: freq=143 size=760 all=11588 active=1290 piece=▁couldnt\n",
      "bpe_model_trainer.cc(258) LOG(INFO) Added: freq=137 size=780 all=11748 active=1450 piece=▁phone\n",
      "bpe_model_trainer.cc(258) LOG(INFO) Added: freq=132 size=800 all=11839 active=1541 piece=▁side\n",
      "bpe_model_trainer.cc(167) LOG(INFO) Updating active symbols. max_freq=132 min_freq=44\n",
      "bpe_model_trainer.cc(258) LOG(INFO) Added: freq=129 size=820 all=11875 active=1037 piece=▁looks\n",
      "bpe_model_trainer.cc(258) LOG(INFO) Added: freq=123 size=840 all=11991 active=1153 piece=ors\n",
      "bpe_model_trainer.cc(258) LOG(INFO) Added: freq=119 size=860 all=12152 active=1314 piece=▁case\n",
      "bpe_model_trainer.cc(258) LOG(INFO) Added: freq=114 size=880 all=12275 active=1437 piece=▁summer\n",
      "bpe_model_trainer.cc(258) LOG(INFO) Added: freq=109 size=900 all=12423 active=1585 piece=ical\n",
      "bpe_model_trainer.cc(167) LOG(INFO) Updating active symbols. max_freq=109 min_freq=40\n",
      "bpe_model_trainer.cc(258) LOG(INFO) Added: freq=107 size=920 all=12502 active=1059 piece=▁island\n",
      "bpe_model_trainer.cc(258) LOG(INFO) Added: freq=103 size=940 all=12620 active=1177 piece=zy\n",
      "bpe_model_trainer.cc(258) LOG(INFO) Added: freq=100 size=960 all=12711 active=1268 piece=orm\n",
      "bpe_model_trainer.cc(258) LOG(INFO) Added: freq=97 size=980 all=12804 active=1361 piece=uit\n",
      "bpe_model_trainer.cc(258) LOG(INFO) Added: freq=93 size=1000 all=12885 active=1442 piece=elt\n",
      "bpe_model_trainer.cc(167) LOG(INFO) Updating active symbols. max_freq=93 min_freq=36\n",
      "bpe_model_trainer.cc(258) LOG(INFO) Added: freq=92 size=1020 all=12974 active=1087 piece=▁anymore\n",
      "bpe_model_trainer.cc(258) LOG(INFO) Added: freq=90 size=1040 all=13090 active=1203 piece=uickly\n",
      "bpe_model_trainer.cc(258) LOG(INFO) Added: freq=88 size=1060 all=13173 active=1286 piece=▁med\n",
      "bpe_model_trainer.cc(258) LOG(INFO) Added: freq=86 size=1080 all=13270 active=1383 piece=▁covid\n",
      "bpe_model_trainer.cc(258) LOG(INFO) Added: freq=84 size=1100 all=13368 active=1481 piece=▁complete\n",
      "bpe_model_trainer.cc(167) LOG(INFO) Updating active symbols. max_freq=83 min_freq=32\n",
      "bpe_model_trainer.cc(258) LOG(INFO) Added: freq=82 size=1120 all=13498 active=1130 piece=▁theyre\n",
      "bpe_model_trainer.cc(258) LOG(INFO) Added: freq=79 size=1140 all=13596 active=1228 piece=▁des\n",
      "bpe_model_trainer.cc(258) LOG(INFO) Added: freq=77 size=1160 all=13664 active=1296 piece=▁stra\n",
      "bpe_model_trainer.cc(258) LOG(INFO) Added: freq=75 size=1180 all=13741 active=1373 piece=▁lose\n",
      "bpe_model_trainer.cc(258) LOG(INFO) Added: freq=73 size=1200 all=13840 active=1472 piece=▁exam\n",
      "bpe_model_trainer.cc(167) LOG(INFO) Updating active symbols. max_freq=73 min_freq=30\n",
      "bpe_model_trainer.cc(258) LOG(INFO) Added: freq=71 size=1220 all=13863 active=1020 piece=ons\n",
      "bpe_model_trainer.cc(258) LOG(INFO) Added: freq=69 size=1240 all=14016 active=1173 piece=▁angry\n",
      "bpe_model_trainer.cc(258) LOG(INFO) Added: freq=67 size=1260 all=14137 active=1294 piece=ward\n",
      "bpe_model_trainer.cc(258) LOG(INFO) Added: freq=66 size=1280 all=14213 active=1370 piece=▁weather\n",
      "bpe_model_trainer.cc(258) LOG(INFO) Added: freq=63 size=1300 all=14295 active=1452 piece=ork\n",
      "bpe_model_trainer.cc(167) LOG(INFO) Updating active symbols. max_freq=63 min_freq=27\n",
      "bpe_model_trainer.cc(258) LOG(INFO) Added: freq=62 size=1320 all=14373 active=1074 piece=▁black\n",
      "bpe_model_trainer.cc(258) LOG(INFO) Added: freq=60 size=1340 all=14501 active=1202 piece=uest\n",
      "bpe_model_trainer.cc(258) LOG(INFO) Added: freq=58 size=1360 all=14549 active=1250 piece=bo\n",
      "bpe_model_trainer.cc(258) LOG(INFO) Added: freq=57 size=1380 all=14651 active=1352 piece=ram\n",
      "bpe_model_trainer.cc(258) LOG(INFO) Added: freq=56 size=1400 all=14739 active=1440 piece=▁bra\n",
      "bpe_model_trainer.cc(167) LOG(INFO) Updating active symbols. max_freq=56 min_freq=25\n",
      "bpe_model_trainer.cc(258) LOG(INFO) Added: freq=56 size=1420 all=14783 active=1032 piece=▁grandfather\n",
      "bpe_model_trainer.cc(258) LOG(INFO) Added: freq=54 size=1440 all=14843 active=1092 piece=▁beh\n",
      "bpe_model_trainer.cc(258) LOG(INFO) Added: freq=53 size=1460 all=14905 active=1154 piece=▁hob\n",
      "bpe_model_trainer.cc(258) LOG(INFO) Added: freq=52 size=1480 all=14959 active=1208 piece=▁younger\n",
      "bpe_model_trainer.cc(258) LOG(INFO) Added: freq=51 size=1500 all=15086 active=1335 piece=▁church\n",
      "bpe_model_trainer.cc(167) LOG(INFO) Updating active symbols. max_freq=51 min_freq=23\n",
      "bpe_model_trainer.cc(258) LOG(INFO) Added: freq=50 size=1520 all=15160 active=1074 piece=▁embarr\n",
      "bpe_model_trainer.cc(258) LOG(INFO) Added: freq=49 size=1540 all=15267 active=1181 piece=▁white\n",
      "bpe_model_trainer.cc(258) LOG(INFO) Added: freq=48 size=1560 all=15333 active=1247 piece=▁between\n",
      "bpe_model_trainer.cc(258) LOG(INFO) Added: freq=47 size=1580 all=15431 active=1345 piece=▁check\n",
      "bpe_model_trainer.cc(258) LOG(INFO) Added: freq=46 size=1600 all=15460 active=1374 piece=ject\n",
      "bpe_model_trainer.cc(167) LOG(INFO) Updating active symbols. max_freq=46 min_freq=21\n",
      "bpe_model_trainer.cc(258) LOG(INFO) Added: freq=45 size=1620 all=15531 active=1062 piece=▁cent\n",
      "bpe_model_trainer.cc(258) LOG(INFO) Added: freq=44 size=1640 all=15556 active=1087 piece=ief\n",
      "bpe_model_trainer.cc(258) LOG(INFO) Added: freq=44 size=1660 all=15628 active=1159 piece=▁calling\n",
      "bpe_model_trainer.cc(258) LOG(INFO) Added: freq=42 size=1680 all=15635 active=1166 piece=cle\n",
      "bpe_model_trainer.cc(258) LOG(INFO) Added: freq=42 size=1700 all=15712 active=1243 piece=▁especially\n",
      "bpe_model_trainer.cc(167) LOG(INFO) Updating active symbols. max_freq=41 min_freq=20\n",
      "bpe_model_trainer.cc(258) LOG(INFO) Added: freq=41 size=1720 all=15755 active=1044 piece=▁sleeping\n",
      "bpe_model_trainer.cc(258) LOG(INFO) Added: freq=40 size=1740 all=15818 active=1107 piece=▁finish\n",
      "bpe_model_trainer.cc(258) LOG(INFO) Added: freq=39 size=1760 all=15879 active=1168 piece=▁paid\n",
      "bpe_model_trainer.cc(258) LOG(INFO) Added: freq=38 size=1780 all=15957 active=1246 piece=▁cute\n",
      "bpe_model_trainer.cc(258) LOG(INFO) Added: freq=37 size=1800 all=15964 active=1253 piece=he\n",
      "bpe_model_trainer.cc(167) LOG(INFO) Updating active symbols. max_freq=37 min_freq=19\n",
      "bpe_model_trainer.cc(258) LOG(INFO) Added: freq=37 size=1820 all=16052 active=1069 piece=▁cases\n",
      "bpe_model_trainer.cc(258) LOG(INFO) Added: freq=36 size=1840 all=16137 active=1154 piece=▁dam\n",
      "bpe_model_trainer.cc(258) LOG(INFO) Added: freq=35 size=1860 all=16199 active=1216 piece=▁eld\n",
      "bpe_model_trainer.cc(258) LOG(INFO) Added: freq=35 size=1880 all=16211 active=1228 piece=▁members\n",
      "bpe_model_trainer.cc(258) LOG(INFO) Added: freq=34 size=1900 all=16249 active=1266 piece=▁surger\n",
      "bpe_model_trainer.cc(167) LOG(INFO) Updating active symbols. max_freq=34 min_freq=17\n",
      "bpe_model_trainer.cc(258) LOG(INFO) Added: freq=33 size=1920 all=16323 active=1073 piece=▁det\n",
      "bpe_model_trainer.cc(258) LOG(INFO) Added: freq=33 size=1940 all=16366 active=1116 piece=▁dramas\n",
      "bpe_model_trainer.cc(258) LOG(INFO) Added: freq=32 size=1960 all=16409 active=1159 piece=▁sen\n",
      "bpe_model_trainer.cc(258) LOG(INFO) Added: freq=32 size=1980 all=16445 active=1195 piece=▁econom\n",
      "bpe_model_trainer.cc(258) LOG(INFO) Added: freq=31 size=2000 all=16489 active=1239 piece=ined\n",
      "bpe_model_trainer.cc(167) LOG(INFO) Updating active symbols. max_freq=31 min_freq=16\n",
      "bpe_model_trainer.cc(258) LOG(INFO) Added: freq=31 size=2020 all=16527 active=1026 piece=▁acting\n",
      "bpe_model_trainer.cc(258) LOG(INFO) Added: freq=30 size=2040 all=16553 active=1052 piece=ilo\n",
      "bpe_model_trainer.cc(258) LOG(INFO) Added: freq=30 size=2060 all=16653 active=1152 piece=▁shin\n",
      "bpe_model_trainer.cc(258) LOG(INFO) Added: freq=30 size=2080 all=16666 active=1165 piece=▁pictures\n",
      "bpe_model_trainer.cc(258) LOG(INFO) Added: freq=29 size=2100 all=16741 active=1240 piece=▁dogs\n",
      "bpe_model_trainer.cc(167) LOG(INFO) Updating active symbols. max_freq=29 min_freq=15\n",
      "bpe_model_trainer.cc(258) LOG(INFO) Added: freq=29 size=2120 all=16765 active=1025 piece=▁natural\n",
      "bpe_model_trainer.cc(258) LOG(INFO) Added: freq=28 size=2140 all=16807 active=1067 piece=▁loud\n",
      "bpe_model_trainer.cc(258) LOG(INFO) Added: freq=28 size=2160 all=16829 active=1089 piece=▁stopped\n",
      "bpe_model_trainer.cc(258) LOG(INFO) Added: freq=27 size=2180 all=16915 active=1175 piece=▁hab\n",
      "bpe_model_trainer.cc(258) LOG(INFO) Added: freq=27 size=2200 all=16958 active=1218 piece=▁novel\n",
      "bpe_model_trainer.cc(167) LOG(INFO) Updating active symbols. max_freq=27 min_freq=14\n",
      "bpe_model_trainer.cc(258) LOG(INFO) Added: freq=26 size=2220 all=17004 active=1045 piece=▁non\n",
      "bpe_model_trainer.cc(258) LOG(INFO) Added: freq=26 size=2240 all=17054 active=1095 piece=▁spent\n",
      "bpe_model_trainer.cc(258) LOG(INFO) Added: freq=26 size=2260 all=17049 active=1090 piece=▁thoughts\n",
      "bpe_model_trainer.cc(258) LOG(INFO) Added: freq=25 size=2280 all=17127 active=1168 piece=agram\n",
      "bpe_model_trainer.cc(258) LOG(INFO) Added: freq=25 size=2300 all=17148 active=1189 piece=▁grades\n",
      "bpe_model_trainer.cc(167) LOG(INFO) Updating active symbols. max_freq=25 min_freq=14\n",
      "bpe_model_trainer.cc(258) LOG(INFO) Added: freq=24 size=2320 all=17199 active=1052 piece=arch\n",
      "bpe_model_trainer.cc(258) LOG(INFO) Added: freq=24 size=2340 all=17244 active=1097 piece=▁americ\n",
      "bpe_model_trainer.cc(258) LOG(INFO) Added: freq=24 size=2360 all=17251 active=1104 piece=▁exercising\n",
      "bpe_model_trainer.cc(258) LOG(INFO) Added: freq=23 size=2380 all=17299 active=1152 piece=▁built\n",
      "bpe_model_trainer.cc(258) LOG(INFO) Added: freq=23 size=2400 all=17305 active=1158 piece=▁divorce\n",
      "bpe_model_trainer.cc(167) LOG(INFO) Updating active symbols. max_freq=23 min_freq=13\n",
      "bpe_model_trainer.cc(258) LOG(INFO) Added: freq=22 size=2420 all=17381 active=1077 piece=leep\n",
      "bpe_model_trainer.cc(258) LOG(INFO) Added: freq=22 size=2440 all=17419 active=1115 piece=▁activ\n",
      "bpe_model_trainer.cc(258) LOG(INFO) Added: freq=22 size=2460 all=17426 active=1122 piece=▁itself\n",
      "bpe_model_trainer.cc(258) LOG(INFO) Added: freq=21 size=2480 all=17455 active=1151 piece=bok\n",
      "bpe_model_trainer.cc(258) LOG(INFO) Added: freq=21 size=2500 all=17533 active=1229 piece=▁goal\n",
      "bpe_model_trainer.cc(167) LOG(INFO) Updating active symbols. max_freq=21 min_freq=12\n",
      "bpe_model_trainer.cc(258) LOG(INFO) Added: freq=21 size=2520 all=17544 active=1011 piece=▁lights\n",
      "bpe_model_trainer.cc(258) LOG(INFO) Added: freq=20 size=2540 all=17550 active=1017 piece=ata\n",
      "bpe_model_trainer.cc(258) LOG(INFO) Added: freq=20 size=2560 all=17651 active=1118 piece=▁mos\n",
      "bpe_model_trainer.cc(258) LOG(INFO) Added: freq=20 size=2580 all=17701 active=1168 piece=▁remo\n",
      "bpe_model_trainer.cc(258) LOG(INFO) Added: freq=20 size=2600 all=17710 active=1177 piece=▁piano\n",
      "bpe_model_trainer.cc(167) LOG(INFO) Updating active symbols. max_freq=20 min_freq=11\n",
      "bpe_model_trainer.cc(258) LOG(INFO) Added: freq=20 size=2620 all=17722 active=1013 piece=▁account\n",
      "bpe_model_trainer.cc(258) LOG(INFO) Added: freq=19 size=2640 all=17756 active=1047 piece=aked\n",
      "bpe_model_trainer.cc(258) LOG(INFO) Added: freq=19 size=2660 all=17834 active=1125 piece=▁epis\n",
      "bpe_model_trainer.cc(258) LOG(INFO) Added: freq=19 size=2680 all=17839 active=1130 piece=▁incre\n",
      "bpe_model_trainer.cc(258) LOG(INFO) Added: freq=19 size=2700 all=17843 active=1134 piece=▁yeshes\n",
      "bpe_model_trainer.cc(167) LOG(INFO) Updating active symbols. max_freq=19 min_freq=11\n",
      "bpe_model_trainer.cc(258) LOG(INFO) Added: freq=18 size=2720 all=17868 active=1026 piece=lid\n",
      "bpe_model_trainer.cc(258) LOG(INFO) Added: freq=18 size=2740 all=17946 active=1104 piece=alect\n",
      "bpe_model_trainer.cc(258) LOG(INFO) Added: freq=18 size=2760 all=17976 active=1134 piece=▁fault\n",
      "bpe_model_trainer.cc(258) LOG(INFO) Added: freq=18 size=2780 all=17976 active=1134 piece=▁sprout\n",
      "bpe_model_trainer.cc(258) LOG(INFO) Added: freq=17 size=2800 all=17967 active=1125 piece=dy\n",
      "bpe_model_trainer.cc(167) LOG(INFO) Updating active symbols. max_freq=17 min_freq=10\n",
      "bpe_model_trainer.cc(258) LOG(INFO) Added: freq=17 size=2820 all=18094 active=1124 piece=▁est\n",
      "bpe_model_trainer.cc(258) LOG(INFO) Added: freq=17 size=2840 all=18130 active=1160 piece=▁thro\n",
      "bpe_model_trainer.cc(258) LOG(INFO) Added: freq=17 size=2860 all=18136 active=1166 piece=▁threw\n",
      "bpe_model_trainer.cc(258) LOG(INFO) Added: freq=17 size=2880 all=18137 active=1167 piece=▁library\n",
      "bpe_model_trainer.cc(258) LOG(INFO) Added: freq=17 size=2900 all=18122 active=1152 piece=▁struggling\n",
      "bpe_model_trainer.cc(167) LOG(INFO) Updating active symbols. max_freq=17 min_freq=10\n",
      "bpe_model_trainer.cc(258) LOG(INFO) Added: freq=16 size=2920 all=18191 active=1070 piece=▁pun\n",
      "bpe_model_trainer.cc(258) LOG(INFO) Added: freq=16 size=2940 all=18224 active=1103 piece=▁sang\n",
      "bpe_model_trainer.cc(258) LOG(INFO) Added: freq=16 size=2960 all=18240 active=1119 piece=▁types\n",
      "bpe_model_trainer.cc(258) LOG(INFO) Added: freq=16 size=2980 all=18230 active=1109 piece=▁doctors\n",
      "bpe_model_trainer.cc(258) LOG(INFO) Added: freq=15 size=3000 all=18226 active=1105 piece=ki\n",
      "bpe_model_trainer.cc(167) LOG(INFO) Updating active symbols. max_freq=15 min_freq=9\n",
      "bpe_model_trainer.cc(258) LOG(INFO) Added: freq=15 size=3020 all=18297 active=1069 piece=▁ash\n",
      "bpe_model_trainer.cc(258) LOG(INFO) Added: freq=15 size=3040 all=18347 active=1119 piece=▁coll\n",
      "bpe_model_trainer.cc(258) LOG(INFO) Added: freq=15 size=3060 all=18359 active=1131 piece=▁hated\n",
      "bpe_model_trainer.cc(258) LOG(INFO) Added: freq=15 size=3080 all=18352 active=1124 piece=▁artific\n",
      "bpe_model_trainer.cc(258) LOG(INFO) Added: freq=15 size=3100 all=18338 active=1110 piece=▁broadcast\n",
      "bpe_model_trainer.cc(167) LOG(INFO) Updating active symbols. max_freq=15 min_freq=9\n",
      "bpe_model_trainer.cc(258) LOG(INFO) Added: freq=14 size=3120 all=18395 active=1056 piece=bean\n",
      "bpe_model_trainer.cc(258) LOG(INFO) Added: freq=14 size=3140 all=18459 active=1120 piece=▁tof\n",
      "bpe_model_trainer.cc(258) LOG(INFO) Added: freq=14 size=3160 all=18490 active=1151 piece=▁tour\n",
      "bpe_model_trainer.cc(258) LOG(INFO) Added: freq=14 size=3180 all=18492 active=1153 piece=▁garden\n",
      "bpe_model_trainer.cc(258) LOG(INFO) Added: freq=14 size=3200 all=18486 active=1147 piece=▁laughed\n",
      "bpe_model_trainer.cc(167) LOG(INFO) Updating active symbols. max_freq=14 min_freq=9\n",
      "bpe_model_trainer.cc(258) LOG(INFO) Added: freq=14 size=3220 all=18472 active=987 piece=▁mentioned\n",
      "bpe_model_trainer.cc(258) LOG(INFO) Added: freq=13 size=3240 all=18538 active=1053 piece=▁ban\n",
      "bpe_model_trainer.cc(258) LOG(INFO) Added: freq=13 size=3260 all=18582 active=1097 piece=▁comb\n",
      "bpe_model_trainer.cc(258) LOG(INFO) Added: freq=13 size=3280 all=18595 active=1110 piece=▁nurse\n",
      "bpe_model_trainer.cc(258) LOG(INFO) Added: freq=13 size=3300 all=18594 active=1109 piece=▁dollar\n",
      "bpe_model_trainer.cc(167) LOG(INFO) Updating active symbols. max_freq=13 min_freq=8\n",
      "bpe_model_trainer.cc(258) LOG(INFO) Added: freq=13 size=3320 all=18592 active=999 piece=▁alcohol\n",
      "bpe_model_trainer.cc(258) LOG(INFO) Added: freq=13 size=3340 all=18581 active=988 piece=▁breaking\n",
      "bpe_model_trainer.cc(258) LOG(INFO) Added: freq=13 size=3360 all=18565 active=972 piece=▁grandchildren\n",
      "bpe_model_trainer.cc(258) LOG(INFO) Added: freq=12 size=3380 all=18639 active=1046 piece=male\n",
      "bpe_model_trainer.cc(258) LOG(INFO) Added: freq=12 size=3400 all=18684 active=1091 piece=tions\n",
      "bpe_model_trainer.cc(167) LOG(INFO) Updating active symbols. max_freq=12 min_freq=8\n",
      "bpe_model_trainer.cc(258) LOG(INFO) Added: freq=12 size=3420 all=18693 active=1009 piece=▁port\n",
      "bpe_model_trainer.cc(258) LOG(INFO) Added: freq=12 size=3440 all=18710 active=1026 piece=▁idiot\n",
      "bpe_model_trainer.cc(258) LOG(INFO) Added: freq=12 size=3460 all=18704 active=1020 piece=▁iphone\n",
      "bpe_model_trainer.cc(258) LOG(INFO) Added: freq=12 size=3480 all=18694 active=1010 piece=▁glasses\n",
      "bpe_model_trainer.cc(258) LOG(INFO) Added: freq=12 size=3500 all=18684 active=1000 piece=▁answering\n",
      "bpe_model_trainer.cc(167) LOG(INFO) Updating active symbols. max_freq=12 min_freq=8\n",
      "bpe_model_trainer.cc(258) LOG(INFO) Added: freq=11 size=3520 all=18711 active=1028 piece=ops\n",
      "bpe_model_trainer.cc(258) LOG(INFO) Added: freq=11 size=3540 all=18753 active=1070 piece=▁kno\n",
      "bpe_model_trainer.cc(258) LOG(INFO) Added: freq=11 size=3560 all=18792 active=1109 piece=▁crow\n",
      "bpe_model_trainer.cc(258) LOG(INFO) Added: freq=11 size=3580 all=18797 active=1114 piece=▁sour\n",
      "bpe_model_trainer.cc(258) LOG(INFO) Added: freq=11 size=3600 all=18809 active=1126 piece=▁liver\n",
      "bpe_model_trainer.cc(167) LOG(INFO) Updating active symbols. max_freq=11 min_freq=7\n",
      "bpe_model_trainer.cc(258) LOG(INFO) Added: freq=11 size=3620 all=18805 active=996 piece=▁cotton\n",
      "bpe_model_trainer.cc(258) LOG(INFO) Added: freq=11 size=3640 all=18796 active=987 piece=▁fishing\n",
      "bpe_model_trainer.cc(258) LOG(INFO) Added: freq=11 size=3660 all=18785 active=976 piece=▁families\n",
      "bpe_model_trainer.cc(258) LOG(INFO) Added: freq=11 size=3680 all=18776 active=967 piece=▁impossible\n",
      "bpe_model_trainer.cc(258) LOG(INFO) Added: freq=10 size=3700 all=18807 active=998 piece=akes\n",
      "bpe_model_trainer.cc(167) LOG(INFO) Updating active symbols. max_freq=10 min_freq=7\n",
      "bpe_model_trainer.cc(258) LOG(INFO) Added: freq=10 size=3720 all=18869 active=1057 piece=▁hmm\n",
      "bpe_model_trainer.cc(258) LOG(INFO) Added: freq=10 size=3740 all=18891 active=1079 piece=ipped\n",
      "bpe_model_trainer.cc(258) LOG(INFO) Added: freq=10 size=3760 all=18921 active=1109 piece=▁knee\n",
      "bpe_model_trainer.cc(258) LOG(INFO) Added: freq=10 size=3780 all=18927 active=1115 piece=▁aband\n",
      "bpe_model_trainer.cc(258) LOG(INFO) Added: freq=10 size=3800 all=18925 active=1113 piece=▁shout\n",
      "bpe_model_trainer.cc(167) LOG(INFO) Updating active symbols. max_freq=10 min_freq=7\n",
      "bpe_model_trainer.cc(258) LOG(INFO) Added: freq=10 size=3820 all=18928 active=1003 piece=▁income\n",
      "bpe_model_trainer.cc(258) LOG(INFO) Added: freq=10 size=3840 all=18921 active=996 piece=▁individ\n",
      "bpe_model_trainer.cc(258) LOG(INFO) Added: freq=10 size=3860 all=18912 active=987 piece=▁eyebrows\n",
      "bpe_model_trainer.cc(258) LOG(INFO) Added: freq=10 size=3880 all=18899 active=974 piece=▁recognize\n",
      "bpe_model_trainer.cc(258) LOG(INFO) Added: freq=9 size=3900 all=18928 active=1003 piece=her\n",
      "bpe_model_trainer.cc(167) LOG(INFO) Updating active symbols. max_freq=9 min_freq=6\n",
      "bpe_model_trainer.cc(258) LOG(INFO) Added: freq=9 size=3920 all=18987 active=1054 piece=iced\n",
      "bpe_model_trainer.cc(258) LOG(INFO) Added: freq=9 size=3940 all=19037 active=1104 piece=▁gap\n",
      "bpe_model_trainer.cc(258) LOG(INFO) Added: freq=9 size=3960 all=19060 active=1127 piece=jured\n",
      "trainer_interface.cc(615) LOG(INFO) Saving model: spmenc_test_r0.model\n",
      "trainer_interface.cc(626) LOG(INFO) Saving vocabs: spmenc_test_r0.vocab\n"
     ]
    },
    {
     "name": "stderr",
     "output_type": "stream",
     "text": [
      "sentencepiece_trainer.cc(177) LOG(INFO) Running command: --input=/aiffel/aiffel/aiffelthon/corpus_dec_r0.txt --model_type=bpe --pad_id=0 --bos_id=1 --eos_id=2         --unk_id=3 --model_prefix=spmdec_test_r0 --vocab_size=4009         --user_defined_symbols=<jj>,<jd>,<gs>,<cc>,<kw> --remove_extra_whitespaces=false\n",
      "sentencepiece_trainer.cc(77) LOG(INFO) Starts training with : \n",
      "trainer_spec {\n",
      "  input: /aiffel/aiffel/aiffelthon/corpus_dec_r0.txt\n",
      "  input_format: \n",
      "  model_prefix: spmdec_test_r0\n",
      "  model_type: BPE\n",
      "  vocab_size: 4009\n",
      "  self_test_sample_size: 0\n",
      "  character_coverage: 0.9995\n",
      "  input_sentence_size: 0\n",
      "  shuffle_input_sentence: 1\n",
      "  seed_sentencepiece_size: 1000000\n",
      "  shrinking_factor: 0.75\n",
      "  max_sentence_length: 4192\n",
      "  num_threads: 16\n",
      "  num_sub_iterations: 2\n",
      "  max_sentencepiece_length: 16\n",
      "  split_by_unicode_script: 1\n",
      "  split_by_number: 1\n",
      "  split_by_whitespace: 1\n",
      "  split_digits: 0\n",
      "  treat_whitespace_as_suffix: 0\n",
      "  allow_whitespace_only_pieces: 0\n",
      "  user_defined_symbols: <jj>\n",
      "  user_defined_symbols: <jd>\n",
      "  user_defined_symbols: <gs>\n",
      "  user_defined_symbols: <cc>\n",
      "  user_defined_symbols: <kw>\n",
      "  required_chars: \n",
      "  byte_fallback: 0\n",
      "  vocabulary_output_piece_score: 1\n",
      "  train_extremely_large_corpus: 0\n",
      "  hard_vocab_limit: 1\n",
      "  use_all_vocab: 0\n",
      "  unk_id: 3\n",
      "  bos_id: 1\n",
      "  eos_id: 2\n",
      "  pad_id: 0\n",
      "  unk_piece: <unk>\n",
      "  bos_piece: <s>\n",
      "  eos_piece: </s>\n",
      "  pad_piece: <pad>\n",
      "  unk_surface:  ⁇ \n",
      "}\n",
      "normalizer_spec {\n",
      "  name: nmt_nfkc\n",
      "  add_dummy_prefix: 1\n",
      "  remove_extra_whitespaces: 0\n",
      "  escape_whitespaces: 1\n",
      "  normalization_rule_tsv: \n",
      "}\n",
      "denormalizer_spec {}\n",
      "trainer_interface.cc(329) LOG(INFO) SentenceIterator is not specified. Using MultiFileSentenceIterator.\n",
      "trainer_interface.cc(178) LOG(INFO) Loading corpus: /aiffel/aiffel/aiffelthon/corpus_dec_r0.txt\n",
      "trainer_interface.cc(356) LOG(WARNING) Found too long line (4435 > 4192).\n",
      "trainer_interface.cc(358) LOG(WARNING) Too long lines are skipped in the training.\n",
      "trainer_interface.cc(359) LOG(WARNING) The maximum length can be changed with --max_sentence_length=<size> flag.\n",
      "trainer_in"
     ]
    },
    {
     "data": {
      "text/plain": [
       "True"
      ]
     },
     "execution_count": 158,
     "metadata": {},
     "output_type": "execute_result"
    },
    {
     "name": "stderr",
     "output_type": "stream",
     "text": [
      "terface.cc(385) LOG(INFO) Loaded all 9972 sentences\n",
      "trainer_interface.cc(391) LOG(INFO) Skipped 28 too long sentences.\n",
      "trainer_interface.cc(400) LOG(INFO) Adding meta_piece: <pad>\n",
      "trainer_interface.cc(400) LOG(INFO) Adding meta_piece: <s>\n",
      "trainer_interface.cc(400) LOG(INFO) Adding meta_piece: </s>\n",
      "trainer_interface.cc(400) LOG(INFO) Adding meta_piece: <unk>\n",
      "trainer_interface.cc(400) LOG(INFO) Adding meta_piece: <jj>\n",
      "trainer_interface.cc(400) LOG(INFO) Adding meta_piece: <jd>\n",
      "trainer_interface.cc(400) LOG(INFO) Adding meta_piece: <gs>\n",
      "trainer_interface.cc(400) LOG(INFO) Adding meta_piece: <cc>\n",
      "trainer_interface.cc(400) LOG(INFO) Adding meta_piece: <kw>\n",
      "trainer_interface.cc(405) LOG(INFO) Normalizing sentences...\n",
      "trainer_interface.cc(466) LOG(INFO) all chars count=968982\n",
      "trainer_interface.cc(477) LOG(INFO) Done: 99.9503% characters are covered.\n",
      "trainer_interface.cc(487) LOG(INFO) Alphabet size=1516\n",
      "trainer_interface.cc(488) LOG(INFO) Final character coverage=0.999503\n",
      "trainer_interface.cc(520) LOG(INFO) Done! preprocessed 9972 sentences.\n",
      "trainer_interface.cc(526) LOG(INFO) Tokenizing input sentences with whitespace: 9972\n",
      "trainer_interface.cc(537) LOG(INFO) Done! 72338\n",
      "bpe_model_trainer.cc(167) LOG(INFO) Updating active symbols. max_freq=14217 min_freq=42\n",
      "bpe_model_trainer.cc(258) LOG(INFO) Added: freq=2425 size=20 all=46728 active=4698 piece=▁보\n",
      "bpe_model_trainer.cc(258) LOG(INFO) Added: freq=1451 size=40 all=48534 active=6504 piece=▁근디\n",
      "bpe_model_trainer.cc(258) LOG(INFO) Added: freq=1161 size=60 all=50308 active=8278 piece=▁울\n",
      "bpe_model_trainer.cc(258) LOG(INFO) Added: freq=928 size=80 all=51918 active=9888 piece=▁부\n",
      "bpe_model_trainer.cc(258) LOG(INFO) Added: freq=739 size=100 all=53339 active=11309 piece=▁거이\n",
      "bpe_model_trainer.cc(167) LOG(INFO) Updating active symbols. max_freq=735 min_freq=34\n",
      "bpe_model_trainer.cc(258) LOG(INFO) Added: freq=618 size=120 all=54428 active=3751 piece=▁이른\n",
      "bpe_model_trainer.cc(258) LOG(INFO) Added: freq=552 size=140 all=55481 active=4804 piece=▁전\n",
      "bpe_model_trainer.cc(258) LOG(INFO) Added: freq=517 size=160 all=56985 active=6308 piece=▁우리\n",
      "bpe_model_trainer.cc(258) LOG(INFO) Added: freq=473 size=180 all=58087 active=7410 piece=▁노\n",
      "bpe_model_trainer.cc(258) LOG(INFO) Added: freq=446 size=200 all=59210 active=8533 piece=▁헌\n",
      "bpe_model_trainer.cc(167) LOG(INFO) Updating active symbols. max_freq=445 min_freq=29\n",
      "bpe_model_trainer.cc(258) LOG(INFO) Added: freq=410 size=220 all=60211 active=3943 piece=▁인대이\n",
      "bpe_model_trainer.cc(258) LOG(INFO) Added: freq=384 size=240 all=60721 active=4453 piece=▁글\n",
      "bpe_model_trainer.cc(258) LOG(INFO) Added: freq=359 size=260 all=61797 active=5529 piece=▁에\n",
      "bpe_model_trainer.cc(258) LOG(INFO) Added: freq=339 size=280 all=62570 active=6302 piece=거이\n",
      "bpe_model_trainer.cc(258) LOG(INFO) Added: freq=310 size=300 all=63292 active=7024 piece=▁반\n",
      "bpe_model_trainer.cc(167) LOG(INFO) Updating active symbols. max_freq=309 min_freq=25\n",
      "bpe_model_trainer.cc(258) LOG(INFO) Added: freq=289 size=320 all=64133 active=3933 piece=▁곳\n",
      "bpe_model_trainer.cc(258) LOG(INFO) Added: freq=269 size=340 all=65137 active=4937 piece=▁관\n",
      "bpe_model_trainer.cc(258) LOG(INFO) Added: freq=251 size=360 all=66050 active=5850 piece=▁크\n",
      "bpe_model_trainer.cc(258) LOG(INFO) Added: freq=241 size=380 all=66808 active=6608 piece=▁게잉\n",
      "bpe_model_trainer.cc(258) LOG(INFO) Added: freq=223 size=400 all=67573 active=7373 piece=는거\n",
      "bpe_model_trainer.cc(167) LOG(INFO) Updating active symbols. max_freq=223 min_freq=23\n",
      "bpe_model_trainer.cc(258) LOG(INFO) Added: freq=210 size=420 all=68421 active=4120 piece=▁죽\n",
      "bpe_model_trainer.cc(258) LOG(INFO) Added: freq=202 size=440 all=68832 active=4531 piece=▁있슬\n",
      "bpe_model_trainer.cc(258) LOG(INFO) Added: freq=190 size=460 all=69366 active=5065 piece=▁이그\n",
      "bpe_model_trainer.cc(258) LOG(INFO) Added: freq=180 size=480 all=70060 active=5759 piece=습니다\n",
      "bpe_model_trainer.cc(258) LOG(INFO) Added: freq=174 size=500 all=70697 active=6396 piece=보다\n",
      "bpe_model_trainer.cc(167) LOG(INFO) Updating active symbols. max_freq=174 min_freq=21\n",
      "bpe_model_trainer.cc(258) LOG(INFO) Added: freq=166 size=520 all=71143 active=3905 piece=▁딸\n",
      "bpe_model_trainer.cc(258) LOG(INFO) Added: freq=159 size=540 all=71728 active=4490 piece=▁볼\n",
      "bpe_model_trainer.cc(258) LOG(INFO) Added: freq=154 size=560 all=72319 active=5081 piece=▁때이\n",
      "bpe_model_trainer.cc(258) LOG(INFO) Added: freq=147 size=580 all=72727 active=5489 piece=갖고\n",
      "bpe_model_trainer.cc(258) LOG(INFO) Added: freq=142 size=600 all=73226 active=5988 piece=▁허영\n",
      "bpe_model_trainer.cc(167) LOG(INFO) Updating active symbols. max_freq=141 min_freq=19\n",
      "bpe_model_trainer.cc(258) LOG(INFO) Added: freq=138 size=620 all=73669 active=4102 piece=▁깥은\n",
      "bpe_model_trainer.cc(258) LOG(INFO) Added: freq=134 size=640 all=74158 active=4591 piece=▁무시\n",
      "bpe_model_trainer.cc(258) LOG(INFO) Added: freq=129 size=660 all=74601 active=5034 piece=▁있었느\n",
      "bpe_model_trainer.cc(258) LOG(INFO) Added: freq=125 size=680 all=74986 active=5419 piece=▁태\n",
      "bpe_model_trainer.cc(258) LOG(INFO) Added: freq=122 size=700 all=75392 active=5825 piece=래비\n",
      "bpe_model_trainer.cc(167) LOG(INFO) Updating active symbols. max_freq=122 min_freq=18\n",
      "bpe_model_trainer.cc(258) LOG(INFO) Added: freq=119 size=720 all=75851 active=4224 piece=▁수도\n",
      "bpe_model_trainer.cc(258) LOG(INFO) Added: freq=116 size=740 all=76251 active=4624 piece=▁있나\n",
      "bpe_model_trainer.cc(258) LOG(INFO) Added: freq=113 size=760 all=76658 active=5031 piece=▁내를\n",
      "bpe_model_trainer.cc(258) LOG(INFO) Added: freq=109 size=780 all=77216 active=5589 piece=▁천\n",
      "bpe_model_trainer.cc(258) LOG(INFO) Added: freq=107 size=800 all=77675 active=6048 piece=▁거는이\n",
      "bpe_model_trainer.cc(167) LOG(INFO) Updating active symbols. max_freq=106 min_freq=17\n",
      "bpe_model_trainer.cc(258) LOG(INFO) Added: freq=103 size=820 all=78309 active=4518 piece=▁겨론\n",
      "bpe_model_trainer.cc(258) LOG(INFO) Added: freq=100 size=840 all=78600 active=4809 piece=▁갱\n",
      "bpe_model_trainer.cc(258) LOG(INFO) Added: freq=99 size=860 all=79117 active=5326 piece=▁우리가잉\n",
      "bpe_model_trainer.cc(258) LOG(INFO) Added: freq=96 size=880 all=79585 active=5794 piece=▁오늘\n",
      "bpe_model_trainer.cc(258) LOG(INFO) Added: freq=94 size=900 all=79967 active=6176 piece=▁스타\n",
      "bpe_model_trainer.cc(167) LOG(INFO) Updating active symbols. max_freq=94 min_freq=16\n",
      "bpe_model_trainer.cc(258) LOG(INFO) Added: freq=91 size=920 all=80276 active=4298 piece=정이\n",
      "bpe_model_trainer.cc(258) LOG(INFO) Added: freq=89 size=940 all=80655 active=4677 piece=▁꿈\n",
      "bpe_model_trainer.cc(258) LOG(INFO) Added: freq=87 size=960 all=81031 active=5053 piece=어나\n",
      "bpe_model_trainer.cc(258) LOG(INFO) Added: freq=85 size=980 all=81473 active=5495 piece=▁먹는\n",
      "bpe_model_trainer.cc(258) LOG(INFO) Added: freq=82 size=1000 all=81830 active=5852 piece=옵서\n",
      "bpe_model_trainer.cc(167) LOG(INFO) Updating active symbols. max_freq=82 min_freq=15\n",
      "bpe_model_trainer.cc(258) LOG(INFO) Added: freq=81 size=1020 all=82087 active=4345 piece=▁이시\n",
      "bpe_model_trainer.cc(258) LOG(INFO) Added: freq=80 size=1040 all=82351 active=4609 piece=▁경한디\n",
      "bpe_model_trainer.cc(258) LOG(INFO) Added: freq=78 size=1060 all=82694 active=4952 piece=도이\n",
      "bpe_model_trainer.cc(258) LOG(INFO) Added: freq=77 size=1080 all=83127 active=5385 piece=▁번이\n",
      "bpe_model_trainer.cc(258) LOG(INFO) Added: freq=75 size=1100 all=83377 active=5635 piece=데이\n",
      "bpe_model_trainer.cc(167) LOG(INFO) Updating active symbols. max_freq=75 min_freq=15\n",
      "bpe_model_trainer.cc(258) LOG(INFO) Added: freq=74 size=1120 all=83679 active=4442 piece=▁안되\n",
      "bpe_model_trainer.cc(258) LOG(INFO) Added: freq=72 size=1140 all=83903 active=4666 piece=▁투\n",
      "bpe_model_trainer.cc(258) LOG(INFO) Added: freq=71 size=1160 all=84345 active=5108 piece=▁사는\n",
      "bpe_model_trainer.cc(258) LOG(INFO) Added: freq=70 size=1180 all=84759 active=5522 piece=▁가가\n",
      "bpe_model_trainer.cc(258) LOG(INFO) Added: freq=69 size=1200 all=84994 active=5757 piece=▁같은디\n",
      "bpe_model_trainer.cc(167) LOG(INFO) Updating active symbols. max_freq=69 min_freq=14\n",
      "bpe_model_trainer.cc(258) LOG(INFO) Added: freq=68 size=1220 all=85372 active=4628 piece=가주꼬\n",
      "bpe_model_trainer.cc(258) LOG(INFO) Added: freq=67 size=1240 all=85564 active=4820 piece=미가\n",
      "bpe_model_trainer.cc(258) LOG(INFO) Added: freq=66 size=1260 all=86078 active=5334 piece=스럽\n",
      "bpe_model_trainer.cc(258) LOG(INFO) Added: freq=65 size=1280 all=86374 active=5630 piece=▁오날\n",
      "bpe_model_trainer.cc(258) LOG(INFO) Added: freq=64 size=1300 all=86588 active=5844 piece=▁엄마가\n",
      "bpe_model_trainer.cc(167) LOG(INFO) Updating active symbols. max_freq=64 min_freq=13\n",
      "bpe_model_trainer.cc(258) LOG(INFO) Added: freq=63 size=1320 all=86820 active=4562 piece=▁좋을\n",
      "bpe_model_trainer.cc(258) LOG(INFO) Added: freq=62 size=1340 all=87098 active=4840 piece=▁않으\n",
      "bpe_model_trainer.cc(258) LOG(INFO) Added: freq=60 size=1360 all=87298 active=5040 piece=▁흘\n",
      "bpe_model_trainer.cc(258) LOG(INFO) Added: freq=59 size=1380 all=87548 active=5290 piece=리에\n",
      "bpe_model_trainer.cc(258) LOG(INFO) Added: freq=58 size=1400 all=87792 active=5534 piece=▁끊\n",
      "bpe_model_trainer.cc(167) LOG(INFO) Updating active symbols. max_freq=58 min_freq=13\n",
      "bpe_model_trainer.cc(258) LOG(INFO) Added: freq=58 size=1420 all=88104 active=4679 piece=▁있으야\n",
      "bpe_model_trainer.cc(258) LOG(INFO) Added: freq=56 size=1440 all=88351 active=4926 piece=매이\n",
      "bpe_model_trainer.cc(258) LOG(INFO) Added: freq=55 size=1460 all=88594 active=5169 piece=르는\n",
      "bpe_model_trainer.cc(258) LOG(INFO) Added: freq=55 size=1480 all=88916 active=5491 piece=이라두\n",
      "bpe_model_trainer.cc(258) LOG(INFO) Added: freq=54 size=1500 all=89059 active=5634 piece=▁되노\n",
      "bpe_model_trainer.cc(167) LOG(INFO) Updating active symbols. max_freq=54 min_freq=13\n",
      "bpe_model_trainer.cc(258) LOG(INFO) Added: freq=53 size=1520 all=89292 active=4686 piece=▁에이\n"
     ]
    },
    {
     "name": "stderr",
     "output_type": "stream",
     "text": [
      "bpe_model_trainer.cc(258) LOG(INFO) Added: freq=52 size=1540 all=89702 active=5096 piece=자가\n",
      "bpe_model_trainer.cc(258) LOG(INFO) Added: freq=51 size=1560 all=90016 active=5410 piece=만한\n",
      "bpe_model_trainer.cc(258) LOG(INFO) Added: freq=51 size=1580 all=90255 active=5649 piece=▁친구들\n",
      "bpe_model_trainer.cc(258) LOG(INFO) Added: freq=50 size=1600 all=90556 active=5950 piece=▁머루\n",
      "bpe_model_trainer.cc(167) LOG(INFO) Updating active symbols. max_freq=50 min_freq=12\n",
      "bpe_model_trainer.cc(258) LOG(INFO) Added: freq=49 size=1620 all=90694 active=4666 piece=▁동네\n",
      "bpe_model_trainer.cc(258) LOG(INFO) Added: freq=48 size=1640 all=90904 active=4876 piece=놓고\n",
      "bpe_model_trainer.cc(258) LOG(INFO) Added: freq=48 size=1660 all=91116 active=5088 piece=▁하면은\n",
      "bpe_model_trainer.cc(258) LOG(INFO) Added: freq=47 size=1680 all=91483 active=5455 piece=▁운제\n",
      "bpe_model_trainer.cc(258) LOG(INFO) Added: freq=46 size=1700 all=91751 active=5723 piece=상을\n",
      "bpe_model_trainer.cc(167) LOG(INFO) Updating active symbols. max_freq=46 min_freq=12\n",
      "bpe_model_trainer.cc(258) LOG(INFO) Added: freq=46 size=1720 all=92011 active=4825 piece=▁오랜\n",
      "bpe_model_trainer.cc(258) LOG(INFO) Added: freq=45 size=1740 all=92185 active=4999 piece=▁푸\n",
      "bpe_model_trainer.cc(258) LOG(INFO) Added: freq=45 size=1760 all=92492 active=5306 piece=▁마라\n",
      "bpe_model_trainer.cc(258) LOG(INFO) Added: freq=44 size=1780 all=92697 active=5511 piece=마씨\n",
      "bpe_model_trainer.cc(258) LOG(INFO) Added: freq=44 size=1800 all=92973 active=5787 piece=▁어신\n",
      "bpe_model_trainer.cc(167) LOG(INFO) Updating active symbols. max_freq=44 min_freq=11\n",
      "bpe_model_trainer.cc(258) LOG(INFO) Added: freq=43 size=1820 all=93210 active=4881 piece=스로\n",
      "bpe_model_trainer.cc(258) LOG(INFO) Added: freq=43 size=1840 all=93374 active=5045 piece=▁계속이\n",
      "bpe_model_trainer.cc(258) LOG(INFO) Added: freq=42 size=1860 all=93624 active=5295 piece=하네\n",
      "bpe_model_trainer.cc(258) LOG(INFO) Added: freq=42 size=1880 all=93858 active=5529 piece=▁있자녀\n",
      "bpe_model_trainer.cc(258) LOG(INFO) Added: freq=41 size=1900 all=94044 active=5715 piece=▁으제\n",
      "bpe_model_trainer.cc(167) LOG(INFO) Updating active symbols. max_freq=41 min_freq=11\n",
      "bpe_model_trainer.cc(258) LOG(INFO) Added: freq=40 size=1920 all=94173 active=4831 piece=▁숙\n",
      "bpe_model_trainer.cc(258) LOG(INFO) Added: freq=40 size=1940 all=94487 active=5145 piece=▁도대\n",
      "bpe_model_trainer.cc(258) LOG(INFO) Added: freq=40 size=1960 all=94561 active=5219 piece=▁그르케\n",
      "bpe_model_trainer.cc(258) LOG(INFO) Added: freq=39 size=1980 all=94699 active=5357 piece=들의\n",
      "bpe_model_trainer.cc(258) LOG(INFO) Added: freq=39 size=2000 all=94940 active=5598 piece=▁안돼\n",
      "bpe_model_trainer.cc(167) LOG(INFO) Updating active symbols. max_freq=39 min_freq=11\n",
      "bpe_model_trainer.cc(258) LOG(INFO) Added: freq=39 size=2020 all=95105 active=4901 piece=더라고예\n",
      "bpe_model_trainer.cc(258) LOG(INFO) Added: freq=38 size=2040 all=95373 active=5169 piece=▁수영\n",
      "bpe_model_trainer.cc(258) LOG(INFO) Added: freq=37 size=2060 all=95541 active=5337 piece=▁댜\n",
      "bpe_model_trainer.cc(258) LOG(INFO) Added: freq=37 size=2080 all=95861 active=5657 piece=▁근강\n",
      "bpe_model_trainer.cc(258) LOG(INFO) Added: freq=37 size=2100 all=95989 active=5785 piece=▁하겠\n",
      "bpe_model_trainer.cc(167) LOG(INFO) Updating active symbols. max_freq=37 min_freq=10\n",
      "bpe_model_trainer.cc(258) LOG(INFO) Added: freq=36 size=2120 all=96247 active=5038 piece=불고\n",
      "bpe_model_trainer.cc(258) LOG(INFO) Added: freq=36 size=2140 all=96365 active=5156 piece=▁쇼핑\n",
      "bpe_model_trainer.cc(258) LOG(INFO) Added: freq=36 size=2160 all=96482 active=5273 piece=▁요즘게\n",
      "bpe_model_trainer.cc(258) LOG(INFO) Added: freq=35 size=2180 all=96671 active=5462 piece=렸어\n",
      "bpe_model_trainer.cc(258) LOG(INFO) Added: freq=35 size=2200 all=96923 active=5714 piece=▁설명\n",
      "bpe_model_trainer.cc(167) LOG(INFO) Updating active symbols. max_freq=35 min_freq=10\n",
      "bpe_model_trainer.cc(258) LOG(INFO) Added: freq=35 size=2220 all=9702"
     ]
    }
   ],
   "source": [
    "SRC_VOCAB_SIZE = TGT_VOCAB_SIZE = 4009\n",
    "\n",
    "enc_corpus = []\n",
    "dec_corpus = []\n",
    "\n",
    "for pair in cleaned_corpus:\n",
    "    e, d = pair[0], pair[1]\n",
    "    # enc, dec 분리\n",
    "    enc_corpus.append(e)\n",
    "    dec_corpus.append(d)\n",
    "\n",
    "#     enc_corpus.append(preprocess_sentence(e))\n",
    "#     dec_corpus.append(preprocess_sentence(d))\n",
    "\n",
    "enc_tokenizer = generate_tokenizer(enc_corpus, SRC_VOCAB_SIZE, \"enc\")\n",
    "dec_tokenizer = generate_tokenizer(dec_corpus, TGT_VOCAB_SIZE, \"dec\")\n",
    "dec_tokenizer.set_encode_extra_options(\"bos:eos\")"
   ]
  },
  {
   "cell_type": "code",
   "execution_count": 159,
   "id": "a772212d",
   "metadata": {},
   "outputs": [
    {
     "name": "stdout",
     "output_type": "stream",
     "text": [
      "['▁', '<kw>', '▁that', '▁s', '▁what', '▁they', '▁re', '▁talking', '▁about', '▁.']\n"
     ]
    }
   ],
   "source": [
    "print(enc_tokenizer.EncodeAsPieces(enc_corpus[200]))"
   ]
  },
  {
   "cell_type": "code",
   "execution_count": 160,
   "id": "53dff3aa",
   "metadata": {},
   "outputs": [
    {
     "name": "stdout",
     "output_type": "stream",
     "text": [
      "['<s>', '▁이기', '▁산', '골', '짝', '이', '에서', '▁캐', '온', '▁나', '물이', '래', '▁.', '</s>']\n"
     ]
    }
   ],
   "source": [
    "print(dec_tokenizer.EncodeAsPieces(dec_corpus[200]))"
   ]
  },
  {
   "cell_type": "code",
   "execution_count": 161,
   "id": "54f27844",
   "metadata": {},
   "outputs": [
    {
     "name": "stdout",
     "output_type": "stream",
     "text": [
      "[3981, 8, 47, 13, 104, 174, 63, 437, 143, 16]\n"
     ]
    }
   ],
   "source": [
    "print(enc_tokenizer.EncodeAsIds(enc_corpus[200]))"
   ]
  },
  {
   "cell_type": "code",
   "execution_count": 162,
   "id": "ecef652d",
   "metadata": {},
   "outputs": [
    {
     "name": "stdout",
     "output_type": "stream",
     "text": [
      "[1, 307, 462, 2854, 2783, 2494, 71, 360, 2814, 18, 2190, 2547, 9, 2]\n"
     ]
    }
   ],
   "source": [
    "print(dec_tokenizer.EncodeAsIds(dec_corpus[200]))"
   ]
  },
  {
   "cell_type": "code",
   "execution_count": 163,
   "id": "32192d02",
   "metadata": {},
   "outputs": [
    {
     "data": {
      "application/vnd.jupyter.widget-view+json": {
       "model_id": "d1c17cea72fd41db90c0e6046737007f",
       "version_major": 2,
       "version_minor": 0
      },
      "text/plain": [
       "  0%|          | 0/10000 [00:00<?, ?it/s]"
      ]
     },
     "metadata": {},
     "output_type": "display_data"
    },
    {
     "data": {
      "application/vnd.jupyter.widget-view+json": {
       "model_id": "8b5ac4214a3d42258927da0d0cfdd665",
       "version_major": 2,
       "version_minor": 0
      },
      "text/plain": [
       "  0%|          | 0/500 [00:00<?, ?it/s]"
      ]
     },
     "metadata": {},
     "output_type": "display_data"
    }
   ],
   "source": [
    "# 토크나이저를 활용해 토큰의 길이가 >5 이상인 데이터를 선별하여 src_corpus 와 tgt_corpus 를 각각 구축하고, 텐서 enc_train 과 dec_train 으로 변환\n",
    "src_corpus = [] #영어\n",
    "tgt_corpus = [] #사투리\n",
    "src_valid_corpus = [] #영어\n",
    "tgt_valid_corpus = [] #사투리\n",
    "\n",
    "assert len(enc_corpus) == len(dec_corpus)\n",
    "\n",
    "# 토큰의 길이가 xxx 이하인 문장만 남깁니다. \n",
    "for idx in tqdm(range(len(enc_corpus))):\n",
    "    src = enc_tokenizer.EncodeAsIds(str(enc_corpus[idx]))\n",
    "    tgt = dec_tokenizer.EncodeAsIds(str(dec_corpus[idx]))\n",
    "    \n",
    "    if len(src) >= 5 : \n",
    "        src_corpus.append(src)\n",
    "        tgt_corpus.append(tgt)\n",
    "\n",
    "# 토큰의 길이가 xxx 이하인 문장만 남깁니다. \n",
    "for idx in tqdm(range(len(enc_corpus_test))):\n",
    "    src = enc_tokenizer.EncodeAsIds(str(enc_corpus_test[idx]))\n",
    "    tgt = dec_tokenizer.EncodeAsIds(str(dec_corpus_test[idx]))\n",
    "    \n",
    "    if len(src) >= 5 : \n",
    "        src_valid_corpus.append(src)\n",
    "        tgt_valid_corpus.append(tgt)\n",
    "        \n",
    "# 패딩처리를 완료하여 학습용 데이터를 완성합니다. \n",
    "enc_train = tf.keras.preprocessing.sequence.pad_sequences(src_corpus, padding='post', maxlen=256)\n",
    "dec_train = tf.keras.preprocessing.sequence.pad_sequences(tgt_corpus, padding='post', maxlen=256)\n",
    "enc_test = tf.keras.preprocessing.sequence.pad_sequences(src_valid_corpus, padding='post', maxlen=256)\n",
    "dec_test = tf.keras.preprocessing.sequence.pad_sequences(tgt_valid_corpus, padding='post', maxlen=256)"
   ]
  },
  {
   "cell_type": "code",
   "execution_count": 164,
   "id": "31568138",
   "metadata": {},
   "outputs": [],
   "source": [
    "# # 훈련 데이터와 검증 데이터로 분리하기\n",
    "# enc_train, enc_val, dec_train, dec_val = train_test_split(enc_data, dec_data, test_size=0.05)"
   ]
  },
  {
   "cell_type": "code",
   "execution_count": 165,
   "id": "1b25019f",
   "metadata": {},
   "outputs": [
    {
     "name": "stdout",
     "output_type": "stream",
     "text": [
      "(9972, 256)\n",
      "(9972, 256)\n",
      "(500, 256)\n",
      "(500, 256)\n"
     ]
    }
   ],
   "source": [
    "# enc, dec 의 seq_length는 달라도 상관없음.\n",
    "print(enc_train.shape)\n",
    "print(dec_train.shape)\n",
    "print(enc_test.shape)\n",
    "print(dec_test.shape)"
   ]
  },
  {
   "cell_type": "markdown",
   "id": "11e944cd",
   "metadata": {},
   "source": [
    "# Step 3. 모델불러오기"
   ]
  },
  {
   "cell_type": "code",
   "execution_count": 166,
   "id": "49551c5e",
   "metadata": {},
   "outputs": [],
   "source": [
    "# !pip install wandb"
   ]
  },
  {
   "cell_type": "code",
   "execution_count": 167,
   "id": "72597afb",
   "metadata": {},
   "outputs": [
    {
     "name": "stderr",
     "output_type": "stream",
     "text": [
      "\u001b[34m\u001b[1mwandb\u001b[0m: \u001b[33mWARNING\u001b[0m Calling wandb.login() after wandb.init() has no effect.\n"
     ]
    },
    {
     "data": {
      "text/plain": [
       "True"
      ]
     },
     "execution_count": 167,
     "metadata": {},
     "output_type": "execute_result"
    }
   ],
   "source": [
    "import wandb\n",
    "wandb.login()"
   ]
  },
  {
   "cell_type": "code",
   "execution_count": 168,
   "id": "47b45d78",
   "metadata": {},
   "outputs": [
    {
     "data": {
      "text/html": [
       "Finishing last run (ID:62d8htee) before initializing another..."
      ],
      "text/plain": [
       "<IPython.core.display.HTML object>"
      ]
     },
     "metadata": {},
     "output_type": "display_data"
    },
    {
     "data": {
      "text/html": [
       "Waiting for W&B process to finish... <strong style=\"color:green\">(success).</strong>"
      ],
      "text/plain": [
       "<IPython.core.display.HTML object>"
      ]
     },
     "metadata": {},
     "output_type": "display_data"
    },
    {
     "data": {
      "text/html": [
       " View run <strong style=\"color:#cdcd00\">magic-dragon-5</strong> at: <a href='https://wandb.ai/saturi/PRJ_saturi_model_exp/runs/62d8htee' target=\"_blank\">https://wandb.ai/saturi/PRJ_saturi_model_exp/runs/62d8htee</a><br/>Synced 5 W&B file(s), 0 media file(s), 0 artifact file(s) and 0 other file(s)"
      ],
      "text/plain": [
       "<IPython.core.display.HTML object>"
      ]
     },
     "metadata": {},
     "output_type": "display_data"
    },
    {
     "data": {
      "text/html": [
       "Find logs at: <code>./wandb/run-20230313_030126-62d8htee/logs</code>"
      ],
      "text/plain": [
       "<IPython.core.display.HTML object>"
      ]
     },
     "metadata": {},
     "output_type": "display_data"
    },
    {
     "data": {
      "text/html": [
       "Successfully finished last run (ID:62d8htee). Initializing new run:<br/>"
      ],
      "text/plain": [
       "<IPython.core.display.HTML object>"
      ]
     },
     "metadata": {},
     "output_type": "display_data"
    },
    {
     "data": {
      "application/vnd.jupyter.widget-view+json": {
       "model_id": "0a53a1a9077d42d59fcaf72685885ab5",
       "version_major": 2,
       "version_minor": 0
      },
      "text/plain": [
       "VBox(children=(Label(value='Waiting for wandb.init()...\\r'), FloatProgress(value=0.01666963153335625, max=1.0)…"
      ]
     },
     "metadata": {},
     "output_type": "display_data"
    },
    {
     "data": {
      "text/html": [
       "Tracking run with wandb version 0.13.11"
      ],
      "text/plain": [
       "<IPython.core.display.HTML object>"
      ]
     },
     "metadata": {},
     "output_type": "display_data"
    },
    {
     "data": {
      "text/html": [
       "Run data is saved locally in <code>/aiffel/aiffel/saturi/notebook/Model/wandb/run-20230313_054557-k2lbnoga</code>"
      ],
      "text/plain": [
       "<IPython.core.display.HTML object>"
      ]
     },
     "metadata": {},
     "output_type": "display_data"
    },
    {
     "data": {
      "text/html": [
       "Syncing run <strong><a href='https://wandb.ai/saturi/PRJ_saturi_model_exp/runs/k2lbnoga' target=\"_blank\">fluent-waterfall-6</a></strong> to <a href='https://wandb.ai/saturi/PRJ_saturi_model_exp' target=\"_blank\">Weights & Biases</a> (<a href='https://wandb.me/run' target=\"_blank\">docs</a>)<br/>"
      ],
      "text/plain": [
       "<IPython.core.display.HTML object>"
      ]
     },
     "metadata": {},
     "output_type": "display_data"
    },
    {
     "data": {
      "text/html": [
       " View project at <a href='https://wandb.ai/saturi/PRJ_saturi_model_exp' target=\"_blank\">https://wandb.ai/saturi/PRJ_saturi_model_exp</a>"
      ],
      "text/plain": [
       "<IPython.core.display.HTML object>"
      ]
     },
     "metadata": {},
     "output_type": "display_data"
    },
    {
     "data": {
      "text/html": [
       " View run at <a href='https://wandb.ai/saturi/PRJ_saturi_model_exp/runs/k2lbnoga' target=\"_blank\">https://wandb.ai/saturi/PRJ_saturi_model_exp/runs/k2lbnoga</a>"
      ],
      "text/plain": [
       "<IPython.core.display.HTML object>"
      ]
     },
     "metadata": {},
     "output_type": "display_data"
    }
   ],
   "source": [
    "#wandb 설정\n",
    "run  = wandb.init(project = 'PRJ_saturi_model_exp',\n",
    "                 entity = 'saturi',\n",
    "                 config = {\n",
    "                     'model_name':'Vanilla_Transformer_bpe_40009',\n",
    "                     'n_layers':4,\n",
    "                     'd_model':256,\n",
    "                     'n_heads':8,\n",
    "                     'd_ff':2048,\n",
    "                     'src_vocab_size':SRC_VOCAB_SIZE,\n",
    "                     'tgt_vocab_size':TGT_VOCAB_SIZE,\n",
    "                     'pos_len':256,\n",
    "                     'dropout':0.2,\n",
    "                     'shared':True,\n",
    "                     'batch_size':32,\n",
    "                     'warmups' : 4000,\n",
    "                     'epochs':3,\n",
    "                     'optimizer' :'ADAM',\n",
    "                     'loss' : 'SparseCategoricalCrossentropy',\n",
    "                     'metric' : 'bleu'\n",
    "                     \n",
    "                 })\n",
    "config = wandb.config"
   ]
  },
  {
   "cell_type": "code",
   "execution_count": 169,
   "id": "0dfbc023",
   "metadata": {},
   "outputs": [],
   "source": [
    "import sys\n",
    "sys.path.insert(0,os.getenv('HOME') + '/aiffel/saturi/MODEL/') # vanilla transformer 파일경로에서 불러오기 위해 설정"
   ]
  },
  {
   "cell_type": "code",
   "execution_count": 170,
   "id": "90122081",
   "metadata": {},
   "outputs": [],
   "source": [
    "from vanilla_transformer import Transformer, generate_masks\n",
    "\n",
    "transformer = Transformer(\n",
    "    n_layers=config.n_layers,\n",
    "    d_model=config.d_model,\n",
    "    n_heads=config.n_heads,\n",
    "    d_ff=config.d_ff,\n",
    "    src_vocab_size=config.src_vocab_size,\n",
    "    tgt_vocab_size=config.tgt_vocab_size,\n",
    "    pos_len=config.pos_len,\n",
    "    dropout=config.dropout,\n",
    "    shared=config.shared\n",
    ")"
   ]
  },
  {
   "cell_type": "markdown",
   "id": "95870eb0",
   "metadata": {},
   "source": [
    "##  Learning Rate Scheduler를 선언하고, 이를 포함하는 Adam Optimizer를 선언"
   ]
  },
  {
   "cell_type": "code",
   "execution_count": 171,
   "id": "2b3de471",
   "metadata": {},
   "outputs": [],
   "source": [
    "class LearningRateScheduler(tf.keras.optimizers.schedules.LearningRateSchedule):\n",
    "    def __init__(self, d_model, warmup_steps=config.warmups):\n",
    "        super(LearningRateScheduler, self).__init__()\n",
    "        self.d_model = d_model\n",
    "        self.warmup_steps = warmup_steps\n",
    "    \n",
    "    def __call__(self, step):\n",
    "        arg1 = step ** -0.5\n",
    "        arg2 = step * (self.warmup_steps ** -1.5)\n",
    "        \n",
    "        return (self.d_model ** -0.5) * tf.math.minimum(arg1, arg2)"
   ]
  },
  {
   "cell_type": "code",
   "execution_count": 172,
   "id": "fb5d4835",
   "metadata": {},
   "outputs": [],
   "source": [
    "learning_rate = LearningRateScheduler(512)\n",
    "optimizer = tf.keras.optimizers.Adam(learning_rate, beta_1=0.9, beta_2=0.98, epsilon=1e-9)"
   ]
  },
  {
   "cell_type": "markdown",
   "id": "6691ccac",
   "metadata": {},
   "source": [
    "## Loss 함수를 정의\n"
   ]
  },
  {
   "cell_type": "code",
   "execution_count": 173,
   "id": "b37c4c0b",
   "metadata": {},
   "outputs": [],
   "source": [
    "# Loss 함수 정의\n",
    "loss_object = tf.keras.losses.SparseCategoricalCrossentropy(from_logits=True, reduction='none')\n",
    "\n",
    "def loss_function(real, pred):\n",
    "    mask = tf.math.logical_not(tf.math.equal(real, 0))\n",
    "    loss_ = loss_object(real, pred)\n",
    "\n",
    "    # Masking 되지 않은 입력의 개수로 Scaling하는 과정\n",
    "    mask = tf.cast(mask, dtype=loss_.dtype)\n",
    "    loss_ *= mask\n",
    "\n",
    "    return tf.reduce_sum(loss_)/tf.reduce_sum(mask)"
   ]
  },
  {
   "cell_type": "markdown",
   "id": "b693b9c3",
   "metadata": {},
   "source": [
    "## train_step 함수를 정의\n"
   ]
  },
  {
   "cell_type": "code",
   "execution_count": 174,
   "id": "731ec635",
   "metadata": {},
   "outputs": [],
   "source": [
    "@tf.function()\n",
    "def train_step(src, tgt, model, optimizer):\n",
    "    gold = tgt[:, 1:]\n",
    "        \n",
    "    enc_mask, dec_enc_mask, dec_mask = generate_masks(src, tgt)\n",
    "\n",
    "    # 계산된 loss에 tf.GradientTape()를 적용해 학습을 진행합니다.\n",
    "    with tf.GradientTape() as tape:\n",
    "        predictions, enc_attns, dec_attns, dec_enc_attns = model(src, tgt, enc_mask, dec_enc_mask, dec_mask)\n",
    "        loss = loss_function(gold, predictions[:, :-1])\n",
    "\n",
    "    # 최종적으로 optimizer.apply_gradients()가 사용됩니다. \n",
    "    gradients = tape.gradient(loss, model.trainable_variables)    \n",
    "    optimizer.apply_gradients(zip(gradients, model.trainable_variables))\n",
    "    \n",
    "    \n",
    "    return loss, enc_attns, dec_attns, dec_enc_attns"
   ]
  },
  {
   "cell_type": "code",
   "execution_count": 181,
   "id": "800e8977",
   "metadata": {},
   "outputs": [],
   "source": [
    "# Validating the model\n",
    "@tf.function\n",
    "def model_validate(src, tgt, model):\n",
    "    gold = tgt[:, 1:]\n",
    "        \n",
    "    enc_mask, dec_enc_mask, dec_mask = generate_masks(src, tgt)\n",
    "    predictions, enc_attns, dec_attns, dec_enc_attns = model(src, tgt, enc_mask, dec_enc_mask, dec_mask)\n",
    "    v_loss = loss_function(gold, predictions[:, :-1])\n",
    "    \n",
    "    return v_loss"
   ]
  },
  {
   "cell_type": "code",
   "execution_count": 182,
   "id": "4f08abfb",
   "metadata": {
    "scrolled": true
   },
   "outputs": [],
   "source": [
    "# 학습 매니저 설정\n",
    "def train_and_checkpoint(transformer, manager, EPOCHS):\n",
    "    ckpt.restore(manager.latest_checkpoint)\n",
    "    if manager.latest_checkpoint:\n",
    "        print(\"Restored from {}\".format(manager.latest_checkpoint))\n",
    "    \n",
    "    else:\n",
    "        print(\"Initializing from scratch.\")\n",
    "\n",
    "\n",
    "    for epoch in range(EPOCHS):\n",
    "        total_loss = 0\n",
    "        total_loss_val = 0\n",
    "\n",
    "        idx_list = list(range(0, enc_train.shape[0], config.batch_size))\n",
    "        random.shuffle(idx_list)\n",
    "        t = tqdm(idx_list)\n",
    "\n",
    "        for (batch, idx) in enumerate(t):\n",
    "            batch_loss, enc_attns, dec_attns, dec_enc_attns = train_step(enc_train[idx:idx+config.batch_size],\n",
    "                                                                         dec_train[idx:idx+config.batch_size],\n",
    "                                                                         transformer,\n",
    "                                                                         optimizer)\n",
    "\n",
    "            total_loss += batch_loss\n",
    "            \n",
    "            t.set_description_str('Epoch %2d' % (epoch + 1))\n",
    "            t.set_postfix_str('Loss %.4f' % (total_loss.numpy() / (batch + 1)))    \n",
    "        \n",
    "        \n",
    "        for test_idx in range(0,enc_test.shape[0], config.batch_size) :\n",
    "            val_loss = model_validate(enc_test[test_idx : test_idx + config.batch_size],\n",
    "                                      dec_test[test_idx : test_idx + config.batch_size],\n",
    "                                      transformer)\n",
    "            total_loss_val += val_loss\n",
    "            \n",
    "        wandb.log({\"train_loss\": total_loss.numpy(),\n",
    "                   \"valid_loss\" : total_loss_val.numpy()})\n",
    "\n",
    "        \n",
    "        save_path = manager.save()\n",
    "        print(\"Saved checkpoint for step {}: {}\".format(int(ckpt.step), save_path))\n",
    "        \n",
    "directory = os.getenv('HOME') + '/aiffel/aiffelthon/'\n",
    "ckpt = tf.train.Checkpoint(step = tf.Variable(1), optimizer = optimizer , transformer = transformer)\n",
    "manager = tf.train.CheckpointManager(ckpt, directory +'tf_ckpts_vt1_v2',max_to_keep=3)"
   ]
  },
  {
   "cell_type": "markdown",
   "id": "6f7a93a6",
   "metadata": {},
   "source": [
    "## Attention 시각화 함수"
   ]
  },
  {
   "cell_type": "code",
   "execution_count": 183,
   "id": "cca34515",
   "metadata": {},
   "outputs": [],
   "source": [
    "# Attention 시각화 함수\n",
    "import seaborn\n",
    "\n",
    "def visualize_attention(src, tgt, enc_attns, dec_attns, dec_enc_attns):\n",
    "    def draw(data, ax, x=\"auto\", y=\"auto\"):\n",
    "        seaborn.heatmap(data, \n",
    "                        square=True,\n",
    "                        vmin=0.0, vmax=1.0, \n",
    "                        cbar=False, ax=ax,\n",
    "                        xticklabels=x,\n",
    "                        yticklabels=y)\n",
    "        \n",
    "    for layer in range(0, 2, 1):\n",
    "        fig, axs = plt.subplots(1, 4, figsize=(20, 10))\n",
    "        print(\"Encoder Layer\", layer + 1)\n",
    "        for h in range(4):\n",
    "            draw(enc_attns[layer][0, h, :len(src), :len(src)], axs[h], src, src)\n",
    "        plt.show()\n",
    "        \n",
    "    for layer in range(0, 2, 1):\n",
    "        fig, axs = plt.subplots(1, 4, figsize=(20, 10))\n",
    "        print(\"Decoder Self Layer\", layer+1)\n",
    "        for h in range(4):\n",
    "            draw(dec_attns[layer][0, h, :len(tgt), :len(tgt)], axs[h], tgt, tgt)\n",
    "        plt.show()\n",
    "\n",
    "        print(\"Decoder Src Layer\", layer+1)\n",
    "        fig, axs = plt.subplots(1, 4, figsize=(20, 10))\n",
    "        for h in range(4):\n",
    "            draw(dec_enc_attns[layer][0, h, :len(tgt), :len(src)], axs[h], src, tgt)\n",
    "        plt.show()"
   ]
  },
  {
   "cell_type": "markdown",
   "id": "a204e08f",
   "metadata": {},
   "source": [
    "## 번역생성함수"
   ]
  },
  {
   "cell_type": "code",
   "execution_count": 184,
   "id": "4e3e4775",
   "metadata": {},
   "outputs": [],
   "source": [
    "# 번역 생성 함수\n",
    "def evaluate(sentence, model, src_tokenizer, tgt_tokenizer):\n",
    "    sentence = preprocess_sentence(sentence)\n",
    "    pieces = src_tokenizer.encode_as_pieces(sentence)\n",
    "    tokens = src_tokenizer.encode_as_ids(sentence)\n",
    "\n",
    "    _input = tf.keras.preprocessing.sequence.pad_sequences([tokens], maxlen=enc_train.shape[-1], padding='post')\n",
    "\n",
    "    ids = []\n",
    "\n",
    "    output = tf.expand_dims([tgt_tokenizer.bos_id()], 0)\n",
    "    for i in range(dec_train.shape[-1]):\n",
    "        enc_padding_mask, combined_mask, dec_padding_mask = generate_masks(_input, output)\n",
    "        \n",
    "\n",
    "        predictions, enc_attns, dec_attns, dec_enc_attns = model(_input, output, enc_padding_mask, combined_mask, dec_padding_mask)\n",
    "        \n",
    "        predicted_id = tf.argmax(tf.math.softmax(predictions, axis=-1)[0, -1]).numpy().item()\n",
    "        if tgt_tokenizer.eos_id() == predicted_id:\n",
    "            result = tgt_tokenizer.decode_ids(ids)\n",
    "            return pieces, result, enc_attns, dec_attns, dec_enc_attns\n",
    "\n",
    "        ids.append(predicted_id)\n",
    "        output = tf.concat([output, tf.expand_dims([predicted_id], 0)], axis=-1)\n",
    "    result = tgt_tokenizer.decode_ids(ids)\n",
    "    return pieces, result, enc_attns, dec_attns, dec_enc_attns"
   ]
  },
  {
   "cell_type": "code",
   "execution_count": 185,
   "id": "0eebd997",
   "metadata": {},
   "outputs": [],
   "source": [
    "# 번역 생성 및 Attention 시각화 결합\n",
    "def translate(sentence, model, src_tokenizer, tgt_tokenizer, plot_attention=False):\n",
    "    pieces, result, enc_attns, dec_attns, dec_enc_attns = evaluate(sentence, model, src_tokenizer, tgt_tokenizer)\n",
    "    \n",
    "    print('Input: %s' % (sentence))\n",
    "    print('Predicted translation: {}'.format(result))\n",
    "\n",
    "    if plot_attention:\n",
    "        visualize_attention(pieces, result.split(), enc_attns, dec_attns, dec_enc_attns)\n",
    "  \n",
    "    return result"
   ]
  },
  {
   "cell_type": "markdown",
   "id": "b6c2f0af",
   "metadata": {},
   "source": [
    "## 학습"
   ]
  },
  {
   "cell_type": "code",
   "execution_count": 186,
   "id": "b31f1737",
   "metadata": {
    "scrolled": false
   },
   "outputs": [
    {
     "name": "stdout",
     "output_type": "stream",
     "text": [
      "Initializing from scratch.\n"
     ]
    },
    {
     "data": {
      "application/vnd.jupyter.widget-view+json": {
       "model_id": "8784c6b656904a9587f421e2f8e4d01c",
       "version_major": 2,
       "version_minor": 0
      },
      "text/plain": [
       "  0%|          | 0/312 [00:00<?, ?it/s]"
      ]
     },
     "metadata": {},
     "output_type": "display_data"
    },
    {
     "name": "stdout",
     "output_type": "stream",
     "text": [
      "Saved checkpoint for step 1: /aiffel/aiffel/aiffelthon/tf_ckpts_vt1_v2/ckpt-1\n"
     ]
    },
    {
     "data": {
      "application/vnd.jupyter.widget-view+json": {
       "model_id": "ad01e4a3d9c241deaec397b607dd4a7b",
       "version_major": 2,
       "version_minor": 0
      },
      "text/plain": [
       "  0%|          | 0/312 [00:00<?, ?it/s]"
      ]
     },
     "metadata": {},
     "output_type": "display_data"
    },
    {
     "name": "stdout",
     "output_type": "stream",
     "text": [
      "Saved checkpoint for step 1: /aiffel/aiffel/aiffelthon/tf_ckpts_vt1_v2/ckpt-2\n"
     ]
    },
    {
     "data": {
      "application/vnd.jupyter.widget-view+json": {
       "model_id": "db935ff585ca4135bd77c10b903bf6d8",
       "version_major": 2,
       "version_minor": 0
      },
      "text/plain": [
       "  0%|          | 0/312 [00:00<?, ?it/s]"
      ]
     },
     "metadata": {},
     "output_type": "display_data"
    },
    {
     "name": "stdout",
     "output_type": "stream",
     "text": [
      "Saved checkpoint for step 1: /aiffel/aiffel/aiffelthon/tf_ckpts_vt1_v2/ckpt-3\n"
     ]
    }
   ],
   "source": [
    "train_and_checkpoint(transformer, manager, config.epochs)"
   ]
  },
  {
   "cell_type": "code",
   "execution_count": 189,
   "id": "8225b680",
   "metadata": {},
   "outputs": [
    {
     "name": "stdout",
     "output_type": "stream",
     "text": [
      "Input: <jj> Where are you going?\n",
      "Predicted translation: 거 거 ?\n",
      "Input: <jd> Where are you going?\n",
      "Predicted translation: 고 썬만만\n",
      "Input: <kw> Where are you going?\n",
      "Predicted translation: 지 자석이요 ?\n",
      "Input: <cc> Where are you going?\n",
      "Predicted translation: 어 가사이\n",
      "Input: <gs> Where are you going?\n",
      "Predicted translation: 그 쉰아 ?\n"
     ]
    }
   ],
   "source": [
    "examples = [\n",
    "    \"<jj> Where are you going?\",\n",
    "    \"<jd> Where are you going?\",\n",
    "    \"<kw> Where are you going?\",\n",
    "    \"<cc> Where are you going?\",\n",
    "    \"<gs> Where are you going?\"\n",
    "]\n",
    "\n",
    "for i in examples :\n",
    "    translate(i,transformer, enc_tokenizer, dec_tokenizer)"
   ]
  },
  {
   "cell_type": "code",
   "execution_count": null,
   "id": "8ca67491",
   "metadata": {},
   "outputs": [],
   "source": [
    "wandb.finish()"
   ]
  },
  {
   "cell_type": "markdown",
   "id": "2dc17fc5",
   "metadata": {},
   "source": [
    "# Step 5. 평가"
   ]
  },
  {
   "cell_type": "markdown",
   "id": "8e23285a",
   "metadata": {},
   "source": [
    "### 아래 링크 참고해서 이 모듈로 metric 점수 구해주세요\n",
    "\n",
    "https://huggingface.co/spaces/evaluate-metric/sacrebleu"
   ]
  },
  {
   "cell_type": "code",
   "execution_count": null,
   "id": "5aae8b9b",
   "metadata": {},
   "outputs": [],
   "source": [
    "# !pip install sacrebleu\n",
    "# from datasets import load_metric\n",
    "\n",
    "# bleu = load_metric(\"sacrebleu\")\n",
    "# predictions = [[\"I\", \"have\", \"thirty\", \"six\", \"years\"]] \n",
    "# references = [\n",
    "#     [[\"I\", \"am\", \"thirty\", \"six\", \"years\", \"old\"], [\"I\", \"am\", \"thirty\", \"six\"]]\n",
    "# ]\n",
    "# bleu.compute(predictions=predictions, references=references)\n",
    "\n",
    "# # Bleu example\n",
    "# from datasets import load_metric\n",
    "\n",
    "# bleu = load_metric(\"bleu\")\n",
    "# #bleu = load_metric('sacrebleu')\n",
    "\n",
    "# reference = enc_corpus_test\n",
    "# predictions = translate(enc_corpus_test, reg, transformer, enc_tokenizer, dec_tokenizer)\n",
    "\n",
    "# bleu.compute(predictions=predictions, references=reference)"
   ]
  }
 ],
 "metadata": {
  "hide_input": false,
  "kernelspec": {
   "display_name": "Python 3 (ipykernel)",
   "language": "python",
   "name": "python3"
  },
  "language_info": {
   "codemirror_mode": {
    "name": "ipython",
    "version": 3
   },
   "file_extension": ".py",
   "mimetype": "text/x-python",
   "name": "python",
   "nbconvert_exporter": "python",
   "pygments_lexer": "ipython3",
   "version": "3.9.7"
  },
  "toc": {
   "base_numbering": 1,
   "nav_menu": {},
   "number_sections": true,
   "sideBar": true,
   "skip_h1_title": false,
   "title_cell": "Table of Contents",
   "title_sidebar": "Contents",
   "toc_cell": true,
   "toc_position": {
    "height": "670px",
    "left": "54px",
    "top": "208px",
    "width": "336px"
   },
   "toc_section_display": true,
   "toc_window_display": true
  },
  "varInspector": {
   "cols": {
    "lenName": 16,
    "lenType": 16,
    "lenVar": 40
   },
   "kernels_config": {
    "python": {
     "delete_cmd_postfix": "",
     "delete_cmd_prefix": "del ",
     "library": "var_list.py",
     "varRefreshCmd": "print(var_dic_list())"
    },
    "r": {
     "delete_cmd_postfix": ") ",
     "delete_cmd_prefix": "rm(",
     "library": "var_list.r",
     "varRefreshCmd": "cat(var_dic_list()) "
    }
   },
   "types_to_exclude": [
    "module",
    "function",
    "builtin_function_or_method",
    "instance",
    "_Feature"
   ],
   "window_display": false
  }
 },
 "nbformat": 4,
 "nbformat_minor": 5
}
