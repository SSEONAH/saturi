{
 "cells": [
  {
   "cell_type": "code",
   "execution_count": 2,
   "id": "e71a0b58",
   "metadata": {},
   "outputs": [
    {
     "name": "stdout",
     "output_type": "stream",
     "text": [
      "2.8.0\n",
      "1.5.3\n",
      "1.23.5\n"
     ]
    }
   ],
   "source": [
    "import warnings\n",
    "warnings.filterwarnings('ignore')\n",
    "\n",
    "import tensorflow as tf\n",
    "import numpy as np\n",
    "import pandas as pd\n",
    "\n",
    "import matplotlib as mpl\n",
    "import matplotlib.ticker as ticker\n",
    "import matplotlib.pyplot as plt\n",
    "\n",
    "import time\n",
    "import re\n",
    "import os\n",
    "import io\n",
    "\n",
    "\n",
    "# from tqdm import tqdm_notebook \n",
    "from tqdm.notebook import tqdm \n",
    "import random\n",
    "\n",
    "import sentencepiece as spm\n",
    "from konlpy.tag import Mecab\n",
    "\n",
    "print(tf.__version__)\n",
    "print(pd.__version__)\n",
    "print(np.__version__)"
   ]
  },
  {
   "cell_type": "markdown",
   "id": "eb7b55f7",
   "metadata": {},
   "source": [
    "# Step 1. 데이터 불러오기\n",
    "   "
   ]
  },
  {
   "cell_type": "code",
   "execution_count": 3,
   "id": "5e5620ba",
   "metadata": {},
   "outputs": [],
   "source": [
    "# # train data load\n",
    "data_dir = os.getenv('HOME')+'/aiffel/DATA' # 파일 경로 지정\n",
    "data_train_path = data_dir+\"/data_train_spm_4000_0317.pkl\"\n",
    "data_test_path = data_dir+\"/data_test_spm_4000_0317.pkl\"\n",
    "full_data = pd.read_pickle(data_train_path, 'gzip')\n",
    "full_data_test = pd.read_pickle(data_test_path, 'gzip')\n",
    "full_data_test['weight'] = full_data_test['tok_cat'].apply(lambda x : 14 - x)\n",
    "full_data_test = full_data_test.loc[full_data_test['tok_cat'] < 6].sample(n=250, weights = 'weight' ,random_state=6) # validation 시간이 너무 오래 걸림"
   ]
  },
  {
   "cell_type": "code",
   "execution_count": 4,
   "id": "0da9e73e",
   "metadata": {},
   "outputs": [
    {
     "name": "stdout",
     "output_type": "stream",
     "text": [
      "<class 'pandas.core.frame.DataFrame'>\n",
      "RangeIndex: 1340262 entries, 0 to 1340261\n",
      "Data columns (total 8 columns):\n",
      " #   Column    Non-Null Count    Dtype \n",
      "---  ------    --------------    ----- \n",
      " 0   reg       1340262 non-null  object\n",
      " 1   topic     1340262 non-null  object\n",
      " 2   eng       1340262 non-null  object\n",
      " 3   dial      1340262 non-null  object\n",
      " 4   tok_len   1340262 non-null  int64 \n",
      " 5   tok_cat   1340262 non-null  int64 \n",
      " 6   toks_en   1340262 non-null  object\n",
      " 7   toks_dec  1340262 non-null  object\n",
      "dtypes: int64(2), object(6)\n",
      "memory usage: 81.8+ MB\n"
     ]
    }
   ],
   "source": [
    "full_data.info()"
   ]
  },
  {
   "cell_type": "code",
   "execution_count": 5,
   "id": "9d2a5703",
   "metadata": {},
   "outputs": [
    {
     "name": "stdout",
     "output_type": "stream",
     "text": [
      "<class 'pandas.core.frame.DataFrame'>\n",
      "Int64Index: 250 entries, 1362 to 893\n",
      "Data columns (total 9 columns):\n",
      " #   Column    Non-Null Count  Dtype \n",
      "---  ------    --------------  ----- \n",
      " 0   reg       250 non-null    object\n",
      " 1   topic     250 non-null    object\n",
      " 2   eng       250 non-null    object\n",
      " 3   dial      250 non-null    object\n",
      " 4   tok_len   250 non-null    int64 \n",
      " 5   tok_cat   250 non-null    int64 \n",
      " 6   toks_en   250 non-null    object\n",
      " 7   toks_dec  250 non-null    object\n",
      " 8   weight    250 non-null    int64 \n",
      "dtypes: int64(3), object(6)\n",
      "memory usage: 19.5+ KB\n"
     ]
    }
   ],
   "source": [
    "full_data_test.info()"
   ]
  },
  {
   "cell_type": "code",
   "execution_count": 6,
   "id": "da7ee9be",
   "metadata": {},
   "outputs": [],
   "source": [
    "regs = full_data.reg.unique()"
   ]
  },
  {
   "cell_type": "code",
   "execution_count": 7,
   "id": "14b38b56",
   "metadata": {},
   "outputs": [
    {
     "data": {
      "image/png": "[encoded data removed]",
      "text/plain": [
       "<Figure size 640x480 with 1 Axes>"
      ]
     },
     "metadata": {},
     "output_type": "display_data"
    }
   ],
   "source": [
    "import seaborn as sns\n",
    "sns.histplot(x='tok_len',data = full_data, bins= 50,stat='probability' )\n",
    "plt.show()"
   ]
  },
  {
   "cell_type": "code",
   "execution_count": 8,
   "id": "4faa51c6",
   "metadata": {},
   "outputs": [
    {
     "data": {
      "text/plain": [
       "reg\n",
       "cc    43.703436\n",
       "gs    40.892672\n",
       "jd    41.953760\n",
       "jj    34.078127\n",
       "kw    34.169373\n",
       "Name: tok_len, dtype: float64"
      ]
     },
     "execution_count": 8,
     "metadata": {},
     "output_type": "execute_result"
    }
   ],
   "source": [
    "full_data.groupby(full_data['reg'])['tok_len'].mean()"
   ]
  },
  {
   "cell_type": "code",
   "execution_count": 168,
   "id": "db21e56d",
   "metadata": {},
   "outputs": [],
   "source": [
    "# full_data['len_cat'] = pd.qcut(full_data['tok_len'], [0,0.7,0.8,0.85,0.9,0.92,0.94,0.96,0.98,0.985,0.986,0.994,0.999,1],labels =[1,2,3,4,5,6,7,8,9,10,11,12,13])"
   ]
  },
  {
   "cell_type": "code",
   "execution_count": 9,
   "id": "3d589d3f",
   "metadata": {},
   "outputs": [
    {
     "data": {
      "text/plain": [
       "min     97\n",
       "max    109\n",
       "Name: tok_len, dtype: int64"
      ]
     },
     "execution_count": 9,
     "metadata": {},
     "output_type": "execute_result"
    }
   ],
   "source": [
    "full_data.loc[full_data['tok_cat']==5,'tok_len'].agg([min,max])"
   ]
  },
  {
   "cell_type": "code",
   "execution_count": 10,
   "id": "3262a106",
   "metadata": {},
   "outputs": [
    {
     "data": {
      "text/plain": [
       "True"
      ]
     },
     "execution_count": 10,
     "metadata": {},
     "output_type": "execute_result"
    }
   ],
   "source": [
    "SRC_VOCAB_SIZE = 4009\n",
    "TGT_VOCAB_SIZE = 4009\n",
    "\n",
    "enc_tokenizer = spm.SentencePieceProcessor()\n",
    "enc_tokenizer.Load('spm_enc_v.model')\n",
    "\n",
    "dec_tokenizer = spm.SentencePieceProcessor()\n",
    "dec_tokenizer.Load('spm_dec_v.model')\n",
    "\n",
    "dec_tokenizer.set_encode_extra_options(\"bos:eos\")"
   ]
  },
  {
   "cell_type": "markdown",
   "id": "e7168160",
   "metadata": {},
   "source": [
    "# Step 2. 모델불러오기"
   ]
  },
  {
   "cell_type": "code",
   "execution_count": 11,
   "id": "a2cff2a7",
   "metadata": {},
   "outputs": [
    {
     "name": "stderr",
     "output_type": "stream",
     "text": [
      "\u001b[34m\u001b[1mwandb\u001b[0m: Currently logged in as: \u001b[33mseuyon0101\u001b[0m. Use \u001b[1m`wandb login --relogin`\u001b[0m to force relogin\n"
     ]
    },
    {
     "data": {
      "text/plain": [
       "True"
      ]
     },
     "execution_count": 11,
     "metadata": {},
     "output_type": "execute_result"
    }
   ],
   "source": [
    "import wandb\n",
    "wandb.login()"
   ]
  },
  {
   "cell_type": "code",
   "execution_count": 38,
   "id": "03a59a40",
   "metadata": {},
   "outputs": [
    {
     "data": {
      "text/html": [
       "Finishing last run (ID:wv27onbm) before initializing another..."
      ],
      "text/plain": [
       "<IPython.core.display.HTML object>"
      ]
     },
     "metadata": {},
     "output_type": "display_data"
    },
    {
     "data": {
      "text/html": [
       "Waiting for W&B process to finish... <strong style=\"color:green\">(success).</strong>"
      ],
      "text/plain": [
       "<IPython.core.display.HTML object>"
      ]
     },
     "metadata": {},
     "output_type": "display_data"
    },
    {
     "data": {
      "text/html": [
       "<style>\n",
       "    table.wandb td:nth-child(1) { padding: 0 10px; text-align: left ; width: auto;} td:nth-child(2) {text-align: left ; width: 100%}\n",
       "    .wandb-row { display: flex; flex-direction: row; flex-wrap: wrap; justify-content: flex-start; width: 100% }\n",
       "    .wandb-col { display: flex; flex-direction: column; flex-basis: 100%; flex: 1; padding: 10px; }\n",
       "    </style>\n",
       "<div class=\"wandb-row\"><div class=\"wandb-col\"><h3>Run history:</h3><br/><table class=\"wandb\"><tr><td>bleu</td><td>▁</td></tr></table><br/></div><div class=\"wandb-col\"><h3>Run summary:</h3><br/><table class=\"wandb\"><tr><td>bleu</td><td>7.08609</td></tr></table><br/></div></div>"
      ],
      "text/plain": [
       "<IPython.core.display.HTML object>"
      ]
     },
     "metadata": {},
     "output_type": "display_data"
    },
    {
     "data": {
      "text/html": [
       " View run <strong style=\"color:#cdcd00\">snowy-dew-3</strong> at: <a href='https://wandb.ai/saturi/model_exp_spm4009_0317_v1/runs/wv27onbm' target=\"_blank\">https://wandb.ai/saturi/model_exp_spm4009_0317_v1/runs/wv27onbm</a><br/>Synced 6 W&B file(s), 0 media file(s), 0 artifact file(s) and 0 other file(s)"
      ],
      "text/plain": [
       "<IPython.core.display.HTML object>"
      ]
     },
     "metadata": {},
     "output_type": "display_data"
    },
    {
     "data": {
      "text/html": [
       "Find logs at: <code>./wandb/run-20230320_001157-wv27onbm/logs</code>"
      ],
      "text/plain": [
       "<IPython.core.display.HTML object>"
      ]
     },
     "metadata": {},
     "output_type": "display_data"
    },
    {
     "data": {
      "text/html": [
       "Successfully finished last run (ID:wv27onbm). Initializing new run:<br/>"
      ],
      "text/plain": [
       "<IPython.core.display.HTML object>"
      ]
     },
     "metadata": {},
     "output_type": "display_data"
    },
    {
     "data": {
      "text/html": [
       "wandb version 0.14.0 is available!  To upgrade, please run:\n",
       " $ pip install wandb --upgrade"
      ],
      "text/plain": [
       "<IPython.core.display.HTML object>"
      ]
     },
     "metadata": {},
     "output_type": "display_data"
    },
    {
     "data": {
      "text/html": [
       "Tracking run with wandb version 0.13.11"
      ],
      "text/plain": [
       "<IPython.core.display.HTML object>"
      ]
     },
     "metadata": {},
     "output_type": "display_data"
    },
    {
     "data": {
      "text/html": [
       "Run data is saved locally in <code>/home/seuyon0101/aiffel/saturi/notebook/Model/wandb/run-20230320_003437-fghsua65</code>"
      ],
      "text/plain": [
       "<IPython.core.display.HTML object>"
      ]
     },
     "metadata": {},
     "output_type": "display_data"
    },
    {
     "data": {
      "text/html": [
       "Syncing run <strong><a href='https://wandb.ai/saturi/model_exp_spm4009_0317_v1/runs/fghsua65' target=\"_blank\">lemon-sea-4</a></strong> to <a href='https://wandb.ai/saturi/model_exp_spm4009_0317_v1' target=\"_blank\">Weights & Biases</a> (<a href='https://wandb.me/run' target=\"_blank\">docs</a>)<br/>"
      ],
      "text/plain": [
       "<IPython.core.display.HTML object>"
      ]
     },
     "metadata": {},
     "output_type": "display_data"
    },
    {
     "data": {
      "text/html": [
       " View project at <a href='https://wandb.ai/saturi/model_exp_spm4009_0317_v1' target=\"_blank\">https://wandb.ai/saturi/model_exp_spm4009_0317_v1</a>"
      ],
      "text/plain": [
       "<IPython.core.display.HTML object>"
      ]
     },
     "metadata": {},
     "output_type": "display_data"
    },
    {
     "data": {
      "text/html": [
       " View run at <a href='https://wandb.ai/saturi/model_exp_spm4009_0317_v1/runs/fghsua65' target=\"_blank\">https://wandb.ai/saturi/model_exp_spm4009_0317_v1/runs/fghsua65</a>"
      ],
      "text/plain": [
       "<IPython.core.display.HTML object>"
      ]
     },
     "metadata": {},
     "output_type": "display_data"
    }
   ],
   "source": [
    "#wandb 설정\n",
    "run  = wandb.init(project = 'model_exp_spm4009_0317_v1',\n",
    "                 entity = 'saturi',\n",
    "                 config = {\n",
    "                     'model_name':'Vanilla_Transformer_bpe_40009',\n",
    "                     'n_layers':6,\n",
    "                     'd_model':512,\n",
    "                     'n_heads':8,\n",
    "                     'd_ff':2048,\n",
    "                     'src_vocab_size':SRC_VOCAB_SIZE,\n",
    "                     'tgt_vocab_size':TGT_VOCAB_SIZE,\n",
    "                     'pos_len': 512,\n",
    "                     'dropout':0.2,\n",
    "                     'shared':True,\n",
    "                     'warmups' : 4000,\n",
    "                     'epochs':1,\n",
    "                     'optimizer' :'ADAM',\n",
    "                     'loss' : 'SparseCategoricalCrossentropy',\n",
    "                     'metric' : 'bleu'\n",
    "                 })\n",
    "config = wandb.config"
   ]
  },
  {
   "cell_type": "code",
   "execution_count": 39,
   "id": "57e75244",
   "metadata": {},
   "outputs": [],
   "source": [
    "import sys\n",
    "sys.path.insert(0,os.getenv('HOME') + '/aiffel/saturi/MODEL/') # vanilla transformer 파일경로에서 불러오기 위해 설정\n",
    "sys.path.insert(0,os.getenv('HOME') + '/aiffel/saturi/PRE/')\n",
    "sys.path.insert(0,os.getenv('HOME') + '/aiffel/saturi/POST/')"
   ]
  },
  {
   "cell_type": "code",
   "execution_count": 40,
   "id": "b789e356",
   "metadata": {},
   "outputs": [],
   "source": [
    "from vanilla_transformer import Transformer, generate_masks\n",
    "\n",
    "transformer = Transformer(\n",
    "    n_layers=config.n_layers,\n",
    "    d_model=config.d_model,\n",
    "    n_heads=config.n_heads,\n",
    "    d_ff=config.d_ff,\n",
    "    src_vocab_size=config.src_vocab_size,\n",
    "    tgt_vocab_size=config.tgt_vocab_size,\n",
    "    pos_len=config.pos_len,\n",
    "    dropout=config.dropout,\n",
    "    shared=config.shared\n",
    ")"
   ]
  },
  {
   "cell_type": "markdown",
   "id": "9d97901b",
   "metadata": {},
   "source": [
    "##  Learning Rate Scheduler를 선언하고, 이를 포함하는 Adam Optimizer를 선언"
   ]
  },
  {
   "cell_type": "code",
   "execution_count": 41,
   "id": "632d68ee",
   "metadata": {},
   "outputs": [],
   "source": [
    "class LearningRateScheduler(tf.keras.optimizers.schedules.LearningRateSchedule):\n",
    "    def __init__(self, d_model, warmup_steps=config.warmups):\n",
    "        super(LearningRateScheduler, self).__init__()\n",
    "        self.d_model = d_model\n",
    "        self.warmup_steps = warmup_steps\n",
    "    \n",
    "    def __call__(self, step):\n",
    "        arg1 = step ** np.array(-0.5)\n",
    "        arg2 = step * np.array(self.warmup_steps ** -1.5)\n",
    "        \n",
    "        return np.array(self.d_model ** -0.5) * tf.math.minimum(arg1, arg2)"
   ]
  },
  {
   "cell_type": "code",
   "execution_count": 42,
   "id": "e396a104",
   "metadata": {},
   "outputs": [],
   "source": [
    "learningrate = LearningRateScheduler(512)"
   ]
  },
  {
   "cell_type": "code",
   "execution_count": 43,
   "id": "39809827",
   "metadata": {},
   "outputs": [],
   "source": [
    "optimizer = tf.keras.optimizers.Adam(learningrate, beta_1=0.9, beta_2=0.98, epsilon=1e-9)"
   ]
  },
  {
   "cell_type": "markdown",
   "id": "271704b6",
   "metadata": {},
   "source": [
    "## Loss 함수를 정의\n"
   ]
  },
  {
   "cell_type": "code",
   "execution_count": 44,
   "id": "cbb1a607",
   "metadata": {},
   "outputs": [],
   "source": [
    "# Loss 함수 정의\n",
    "loss_object = tf.keras.losses.SparseCategoricalCrossentropy(from_logits=True, reduction='none')\n",
    "\n",
    "def loss_function(real, pred):\n",
    "    mask = tf.math.logical_not(tf.math.equal(real, 0))\n",
    "    loss_ = loss_object(real, pred)\n",
    "\n",
    "    # Masking 되지 않은 입력의 개수로 Scaling하는 과정\n",
    "    mask = tf.cast(mask, dtype=loss_.dtype)\n",
    "    loss_ *= mask\n",
    "\n",
    "    return tf.reduce_sum(loss_)/tf.reduce_sum(mask)"
   ]
  },
  {
   "cell_type": "markdown",
   "id": "f855be81",
   "metadata": {},
   "source": [
    "## train_step 함수를 정의\n"
   ]
  },
  {
   "cell_type": "code",
   "execution_count": 45,
   "id": "37e39401",
   "metadata": {},
   "outputs": [],
   "source": [
    "@tf.function()\n",
    "def train_step(src, tgt, model, optimizer):\n",
    "    gold = tgt[:, 1:]\n",
    "        \n",
    "    enc_mask, dec_enc_mask, dec_mask = generate_masks(src, tgt)\n",
    "\n",
    "    # 계산된 loss에 tf.GradientTape()를 적용해 학습을 진행합니다.\n",
    "    with tf.GradientTape() as tape:\n",
    "        predictions, enc_attns, dec_attns, dec_enc_attns = model(src, tgt, enc_mask, dec_enc_mask, dec_mask)\n",
    "        loss = loss_function(gold, predictions[:, :-1])\n",
    "\n",
    "    # 최종적으로 optimizer.apply_gradients()가 사용됩니다. \n",
    "    gradients = tape.gradient(loss, model.trainable_variables)    \n",
    "    optimizer.apply_gradients(zip(gradients, model.trainable_variables))\n",
    "    \n",
    "    \n",
    "    return loss, enc_attns, dec_attns, dec_enc_attns, predictions"
   ]
  },
  {
   "cell_type": "code",
   "execution_count": 46,
   "id": "fbd1631e",
   "metadata": {},
   "outputs": [],
   "source": [
    "# Validating the model\n",
    "@tf.function\n",
    "def model_validate(src, tgt, model):\n",
    "    gold = tgt[:, 1:]\n",
    "        \n",
    "    enc_mask, dec_enc_mask, dec_mask = generate_masks(src, tgt)\n",
    "    predictions, enc_attns, dec_attns, dec_enc_attns = model(src, tgt, enc_mask, dec_enc_mask, dec_mask)\n",
    "    v_loss = loss_function(gold, predictions[:, :-1])\n",
    "    \n",
    "    return v_loss, predictions"
   ]
  },
  {
   "cell_type": "code",
   "execution_count": 47,
   "id": "925434ed",
   "metadata": {
    "scrolled": true
   },
   "outputs": [],
   "source": [
    "# 학습 매니저 설정\n",
    "from evaluation import evaluate, compute_metric\n",
    "\n",
    "def train_and_checkpoint(transformer, manager, EPOCHS):\n",
    "    ckpt.restore(manager.latest_checkpoint)\n",
    "    if manager.latest_checkpoint:\n",
    "        print(\"Restored from {}\".format(manager.latest_checkpoint))\n",
    "    \n",
    "    else:\n",
    "        print(\"Initializing from scratch.\")\n",
    "\n",
    "\n",
    "    for epoch in range(EPOCHS):\n",
    "        total_loss = 0\n",
    "        total_loss_val = 0\n",
    "        bleu_train = 0\n",
    "        bleu_valid = 0\n",
    "        \n",
    "\n",
    "        idx_list = list(range(0, enc_train.shape[0], batch_size))\n",
    "        random.shuffle(idx_list)\n",
    "        t = tqdm(idx_list)\n",
    "        for (batch, idx) in enumerate(t):\n",
    "            batch_loss, enc_attns, dec_attns, dec_enc_attns, preds = train_step(enc_train[idx:idx+batch_size],\n",
    "                                                                         dec_train[idx:idx+batch_size],\n",
    "                                                                         transformer,\n",
    "                                                                         optimizer)\n",
    "\n",
    "            total_loss += batch_loss\n",
    "            \n",
    "            t.set_description_str('Epoch %2d' % (epoch + 1))\n",
    "            t.set_postfix_str('Loss %.4f' % (total_loss.numpy() / (batch + 1)))\n",
    "            \n",
    "            \n",
    "        #validation\n",
    "        for test_idx in range(0,enc_test.shape[0], batch_size) :\n",
    "            val_loss, val_preds = model_validate(enc_test[test_idx : test_idx + batch_size],\n",
    "                                      dec_test[test_idx : test_idx + batch_size],\n",
    "                                      transformer)\n",
    "            total_loss_val += val_loss\n",
    "\n",
    "        wandb.log({\n",
    "                   \"train_loss\": total_loss.numpy() / (len(t) + 1),\n",
    "                   \"valid_loss\" : total_loss_val.numpy() / (enc_test.shape[0]//batch_size),\n",
    "                   })\n",
    "\n",
    "        save_path = manager.save()\n",
    "        print(\"Saved checkpoint for step {}: {}\".format(int(ckpt.step), save_path))\n",
    "        \n",
    "directory = os.getenv('HOME') + '/aiffel/MODEL/'\n",
    "ckpt = tf.train.Checkpoint(step = tf.Variable(1), optimizer = optimizer , transformer = transformer)\n",
    "manager = tf.train.CheckpointManager(ckpt, directory +'tf_spm4000_ckpt_0317v1',max_to_keep=3)"
   ]
  },
  {
   "cell_type": "markdown",
   "id": "9098bf50",
   "metadata": {},
   "source": [
    "## 학습"
   ]
  },
  {
   "cell_type": "code",
   "execution_count": 49,
   "id": "907cd63b",
   "metadata": {
    "scrolled": false
   },
   "outputs": [
    {
     "data": {
      "application/vnd.jupyter.widget-view+json": {
       "model_id": "506eea0a7d9b46f499db8d161495378d",
       "version_major": 2,
       "version_minor": 0
      },
      "text/plain": [
       "0it [00:00, ?it/s]"
      ]
     },
     "metadata": {},
     "output_type": "display_data"
    },
    {
     "name": "stdout",
     "output_type": "stream",
     "text": [
      "(945858, 31)\n",
      "(945858, 31)\n",
      "(250, 31)\n",
      "(250, 31)\n",
      "Restored from /home/seuyon0101/aiffel/MODEL/tf_spm4000_ckpt_0317v1/ckpt-26\n"
     ]
    },
    {
     "data": {
      "application/vnd.jupyter.widget-view+json": {
       "model_id": "1a0948720b194c4b8ca5207273363a12",
       "version_major": 2,
       "version_minor": 0
      },
      "text/plain": [
       "  0%|          | 0/29559 [00:00<?, ?it/s]"
      ]
     },
     "metadata": {},
     "output_type": "display_data"
    },
    {
     "name": "stdout",
     "output_type": "stream",
     "text": [
      "Saved checkpoint for step 1: /home/seuyon0101/aiffel/MODEL/tf_spm4000_ckpt_0317v1/ckpt-27\n",
      "(128889, 47)\n",
      "(128889, 47)\n",
      "(250, 47)\n",
      "(250, 47)\n",
      "Restored from /home/seuyon0101/aiffel/MODEL/tf_spm4000_ckpt_0317v1/ckpt-27\n"
     ]
    },
    {
     "data": {
      "application/vnd.jupyter.widget-view+json": {
       "model_id": "0f43e01965c54b218a4535774bd4de47",
       "version_major": 2,
       "version_minor": 0
      },
      "text/plain": [
       "  0%|          | 0/4028 [00:00<?, ?it/s]"
      ]
     },
     "metadata": {},
     "output_type": "display_data"
    },
    {
     "name": "stdout",
     "output_type": "stream",
     "text": [
      "Saved checkpoint for step 1: /home/seuyon0101/aiffel/MODEL/tf_spm4000_ckpt_0317v1/ckpt-28\n",
      "(66532, 69)\n",
      "(66532, 69)\n",
      "(250, 69)\n",
      "(250, 69)\n",
      "Restored from /home/seuyon0101/aiffel/MODEL/tf_spm4000_ckpt_0317v1/ckpt-28\n"
     ]
    },
    {
     "data": {
      "application/vnd.jupyter.widget-view+json": {
       "model_id": "2dabfc4f552d4fdba07793410077b530",
       "version_major": 2,
       "version_minor": 0
      },
      "text/plain": [
       "  0%|          | 0/2080 [00:00<?, ?it/s]"
      ]
     },
     "metadata": {},
     "output_type": "display_data"
    },
    {
     "name": "stdout",
     "output_type": "stream",
     "text": [
      "WARNING:tensorflow:5 out of the last 17 calls to <function model_validate at 0x7f74b00698b0> triggered tf.function retracing. Tracing is expensive and the excessive number of tracings could be due to (1) creating @tf.function repeatedly in a loop, (2) passing tensors with different shapes, (3) passing Python objects instead of tensors. For (1), please define your @tf.function outside of the loop. For (2), @tf.function has experimental_relax_shapes=True option that relaxes argument shapes that can avoid unnecessary retracing. For (3), please refer to https://www.tensorflow.org/guide/function#controlling_retracing and https://www.tensorflow.org/api_docs/python/tf/function for  more details.\n",
      "Saved checkpoint for step 1: /home/seuyon0101/aiffel/MODEL/tf_spm4000_ckpt_0317v1/ckpt-29\n",
      "(26620, 204)\n",
      "(26620, 204)\n",
      "(250, 204)\n",
      "(250, 204)\n",
      "Restored from /home/seuyon0101/aiffel/MODEL/tf_spm4000_ckpt_0317v1/ckpt-29\n"
     ]
    },
    {
     "data": {
      "application/vnd.jupyter.widget-view+json": {
       "model_id": "96b2f2e872434268988203b8b63ef021",
       "version_major": 2,
       "version_minor": 0
      },
      "text/plain": [
       "  0%|          | 0/832 [00:00<?, ?it/s]"
      ]
     },
     "metadata": {},
     "output_type": "display_data"
    },
    {
     "name": "stdout",
     "output_type": "stream",
     "text": [
      "WARNING:tensorflow:5 out of the last 17 calls to <function model_validate at 0x7f74b00698b0> triggered tf.function retracing. Tracing is expensive and the excessive number of tracings could be due to (1) creating @tf.function repeatedly in a loop, (2) passing tensors with different shapes, (3) passing Python objects instead of tensors. For (1), please define your @tf.function outside of the loop. For (2), @tf.function has experimental_relax_shapes=True option that relaxes argument shapes that can avoid unnecessary retracing. For (3), please refer to https://www.tensorflow.org/guide/function#controlling_retracing and https://www.tensorflow.org/api_docs/python/tf/function for  more details.\n",
      "Saved checkpoint for step 1: /home/seuyon0101/aiffel/MODEL/tf_spm4000_ckpt_0317v1/ckpt-30\n",
      "(67215, 96)\n",
      "(67215, 96)\n",
      "(250, 96)\n",
      "(250, 96)\n",
      "Restored from /home/seuyon0101/aiffel/MODEL/tf_spm4000_ckpt_0317v1/ckpt-30\n"
     ]
    },
    {
     "data": {
      "application/vnd.jupyter.widget-view+json": {
       "model_id": "95395205d2014c759e99e0572f77c615",
       "version_major": 2,
       "version_minor": 0
      },
      "text/plain": [
       "  0%|          | 0/2101 [00:00<?, ?it/s]"
      ]
     },
     "metadata": {},
     "output_type": "display_data"
    },
    {
     "name": "stdout",
     "output_type": "stream",
     "text": [
      "Saved checkpoint for step 1: /home/seuyon0101/aiffel/MODEL/tf_spm4000_ckpt_0317v1/ckpt-31\n",
      "(26786, 169)\n",
      "(26786, 169)\n",
      "(250, 169)\n",
      "(250, 169)\n",
      "Restored from /home/seuyon0101/aiffel/MODEL/tf_spm4000_ckpt_0317v1/ckpt-31\n"
     ]
    },
    {
     "data": {
      "application/vnd.jupyter.widget-view+json": {
       "model_id": "4595ec7e101045cdb1ff3275d95006f3",
       "version_major": 2,
       "version_minor": 0
      },
      "text/plain": [
       "  0%|          | 0/838 [00:00<?, ?it/s]"
      ]
     },
     "metadata": {},
     "output_type": "display_data"
    },
    {
     "name": "stdout",
     "output_type": "stream",
     "text": [
      "Saved checkpoint for step 1: /home/seuyon0101/aiffel/MODEL/tf_spm4000_ckpt_0317v1/ckpt-32\n",
      "(25911, 132)\n",
      "(25911, 132)\n",
      "(250, 132)\n",
      "(250, 132)\n",
      "Restored from /home/seuyon0101/aiffel/MODEL/tf_spm4000_ckpt_0317v1/ckpt-32\n"
     ]
    },
    {
     "data": {
      "application/vnd.jupyter.widget-view+json": {
       "model_id": "06fb6b65b77941a28211009c8ae18101",
       "version_major": 2,
       "version_minor": 0
      },
      "text/plain": [
       "  0%|          | 0/810 [00:00<?, ?it/s]"
      ]
     },
     "metadata": {},
     "output_type": "display_data"
    },
    {
     "name": "stdout",
     "output_type": "stream",
     "text": [
      "Saved checkpoint for step 1: /home/seuyon0101/aiffel/MODEL/tf_spm4000_ckpt_0317v1/ckpt-33\n",
      "(26258, 109)\n",
      "(26258, 109)\n",
      "(250, 109)\n",
      "(250, 109)\n",
      "Restored from /home/seuyon0101/aiffel/MODEL/tf_spm4000_ckpt_0317v1/ckpt-33\n"
     ]
    },
    {
     "data": {
      "application/vnd.jupyter.widget-view+json": {
       "model_id": "a151df18dd5e4d88a09c835208fc5e81",
       "version_major": 2,
       "version_minor": 0
      },
      "text/plain": [
       "  0%|          | 0/821 [00:00<?, ?it/s]"
      ]
     },
     "metadata": {},
     "output_type": "display_data"
    },
    {
     "name": "stdout",
     "output_type": "stream",
     "text": [
      "Saved checkpoint for step 1: /home/seuyon0101/aiffel/MODEL/tf_spm4000_ckpt_0317v1/ckpt-34\n",
      "(6512, 215)\n",
      "(6512, 215)\n",
      "(250, 215)\n",
      "(250, 215)\n",
      "Restored from /home/seuyon0101/aiffel/MODEL/tf_spm4000_ckpt_0317v1/ckpt-34\n"
     ]
    },
    {
     "data": {
      "application/vnd.jupyter.widget-view+json": {
       "model_id": "27cd163506b14b489e9886456f399d14",
       "version_major": 2,
       "version_minor": 0
      },
      "text/plain": [
       "  0%|          | 0/204 [00:00<?, ?it/s]"
      ]
     },
     "metadata": {},
     "output_type": "display_data"
    },
    {
     "name": "stdout",
     "output_type": "stream",
     "text": [
      "Saved checkpoint for step 1: /home/seuyon0101/aiffel/MODEL/tf_spm4000_ckpt_0317v1/ckpt-35\n",
      "(10625, 241)\n",
      "(10625, 241)\n",
      "(250, 241)\n",
      "(250, 241)\n",
      "Restored from /home/seuyon0101/aiffel/MODEL/tf_spm4000_ckpt_0317v1/ckpt-35\n"
     ]
    },
    {
     "data": {
      "application/vnd.jupyter.widget-view+json": {
       "model_id": "da8e06e4537d47d49097306ac865d856",
       "version_major": 2,
       "version_minor": 0
      },
      "text/plain": [
       "  0%|          | 0/333 [00:00<?, ?it/s]"
      ]
     },
     "metadata": {},
     "output_type": "display_data"
    },
    {
     "name": "stdout",
     "output_type": "stream",
     "text": [
      "Saved checkpoint for step 1: /home/seuyon0101/aiffel/MODEL/tf_spm4000_ckpt_0317v1/ckpt-36\n",
      "(1125, 217)\n",
      "(1125, 217)\n",
      "(250, 217)\n",
      "(250, 217)\n",
      "Restored from /home/seuyon0101/aiffel/MODEL/tf_spm4000_ckpt_0317v1/ckpt-36\n"
     ]
    },
    {
     "data": {
      "application/vnd.jupyter.widget-view+json": {
       "model_id": "95e597c152f64cc3bf59efc83a7dd11b",
       "version_major": 2,
       "version_minor": 0
      },
      "text/plain": [
       "  0%|          | 0/36 [00:00<?, ?it/s]"
      ]
     },
     "metadata": {},
     "output_type": "display_data"
    },
    {
     "name": "stdout",
     "output_type": "stream",
     "text": [
      "Saved checkpoint for step 1: /home/seuyon0101/aiffel/MODEL/tf_spm4000_ckpt_0317v1/ckpt-37\n",
      "(6638, 276)\n",
      "(6638, 276)\n",
      "(250, 276)\n",
      "(250, 276)\n",
      "Restored from /home/seuyon0101/aiffel/MODEL/tf_spm4000_ckpt_0317v1/ckpt-37\n"
     ]
    },
    {
     "data": {
      "application/vnd.jupyter.widget-view+json": {
       "model_id": "4cde9b355e46449c9be867999d6c38c6",
       "version_major": 2,
       "version_minor": 0
      },
      "text/plain": [
       "  0%|          | 0/208 [00:00<?, ?it/s]"
      ]
     },
     "metadata": {},
     "output_type": "display_data"
    },
    {
     "name": "stdout",
     "output_type": "stream",
     "text": [
      "Saved checkpoint for step 1: /home/seuyon0101/aiffel/MODEL/tf_spm4000_ckpt_0317v1/ckpt-38\n",
      "(1293, 396)\n",
      "(1293, 396)\n",
      "(250, 396)\n",
      "(250, 396)\n",
      "Restored from /home/seuyon0101/aiffel/MODEL/tf_spm4000_ckpt_0317v1/ckpt-38\n"
     ]
    },
    {
     "data": {
      "application/vnd.jupyter.widget-view+json": {
       "model_id": "8d032bcb43d248f8a35cd04cf1cbcffc",
       "version_major": 2,
       "version_minor": 0
      },
      "text/plain": [
       "  0%|          | 0/162 [00:00<?, ?it/s]"
      ]
     },
     "metadata": {},
     "output_type": "display_data"
    },
    {
     "name": "stdout",
     "output_type": "stream",
     "text": [
      "Saved checkpoint for step 1: /home/seuyon0101/aiffel/MODEL/tf_spm4000_ckpt_0317v1/ckpt-39\n"
     ]
    }
   ],
   "source": [
    "#bucketing and training\n",
    "\n",
    "batch_size = 32\n",
    "buckets = iter(full_data['tok_cat'].unique().tolist())\n",
    "\n",
    "for bucket in tqdm(buckets) :\n",
    "\n",
    "    src_corpus = full_data.loc[full_data['tok_cat']==bucket,'toks_en'].values\n",
    "    tgt_corpus = full_data.loc[full_data['tok_cat']==bucket,'toks_dec'].values\n",
    "    src_valid_corpus = full_data_test['toks_en'].values\n",
    "    tgt_valid_corpus = full_data_test['toks_dec'].values\n",
    "    max_len = full_data.loc[full_data['tok_cat']==bucket,'tok_len'].max()\n",
    "    \n",
    "    if max_len > 380 :\n",
    "        batch_size = 8\n",
    "        \n",
    "    if max_len > 512 : \n",
    "        max_len = 512\n",
    "        \n",
    "    enc_train = tf.keras.preprocessing.sequence.pad_sequences(src_corpus, padding='post', maxlen=max_len)\n",
    "    dec_train = tf.keras.preprocessing.sequence.pad_sequences(tgt_corpus, padding='post', maxlen=max_len)\n",
    "    enc_test = tf.keras.preprocessing.sequence.pad_sequences(src_valid_corpus, padding='post', maxlen=max_len)\n",
    "    dec_test = tf.keras.preprocessing.sequence.pad_sequences(tgt_valid_corpus, padding='post', maxlen=max_len)\n",
    "\n",
    "    print(enc_train.shape)\n",
    "    print(dec_train.shape)\n",
    "    print(enc_test.shape)\n",
    "    print(dec_test.shape)\n",
    "    \n",
    "    \n",
    "    #Train\n",
    "    train_and_checkpoint(transformer, manager, config.epochs)"
   ]
  },
  {
   "cell_type": "markdown",
   "id": "aba64304",
   "metadata": {},
   "source": [
    "# Step 3. 평가"
   ]
  },
  {
   "cell_type": "code",
   "execution_count": 50,
   "id": "3e5dffcc",
   "metadata": {},
   "outputs": [],
   "source": [
    "from evaluation import translate\n",
    "from time import perf_counter"
   ]
  },
  {
   "cell_type": "code",
   "execution_count": 51,
   "id": "c7abae72",
   "metadata": {},
   "outputs": [],
   "source": [
    "examples = [\"<jj> what are you doing?\",'<cc> what are you doing?','<gs> what are you doing?','<jd> what are you doing?','<kw> what are you doing?']"
   ]
  },
  {
   "cell_type": "code",
   "execution_count": 52,
   "id": "abe9cb76",
   "metadata": {},
   "outputs": [
    {
     "name": "stdout",
     "output_type": "stream",
     "text": [
      "Input: <jj> what are you doing?\n",
      "Predicted translation:  ⁇ 하 ⁇  햄수과\n",
      "Input: <cc> what are you doing?\n",
      "Predicted translation: 머 허냐 머 허냐 머\n",
      "Input: <gs> what are you doing?\n",
      "Predicted translation: 니 뭐 ⁇  내 뭐 ⁇  카느\n",
      "Input: <jd> what are you doing?\n",
      "Predicted translation: 뭐 ⁇   ⁇ 뭐 ⁇  뭐\n",
      "Input: <kw> what are you doing?\n",
      "Predicted translation: 지굼 뭐러 카는 짓이예요?\n",
      "5.34287596500053\n"
     ]
    }
   ],
   "source": [
    "start = perf_counter()\n",
    "for example in examples :\n",
    "    translate(example, transformer, enc_tokenizer, dec_tokenizer, verbose =True)\n",
    "print(perf_counter() - start)"
   ]
  },
  {
   "cell_type": "code",
   "execution_count": 53,
   "id": "ba16288f",
   "metadata": {},
   "outputs": [],
   "source": [
    "full_data_test.sort_values(by='tok_cat', inplace=True)"
   ]
  },
  {
   "cell_type": "code",
   "execution_count": 54,
   "id": "eb5ecef0",
   "metadata": {},
   "outputs": [],
   "source": [
    "test_text = full_data_test.eng.values\n",
    "test_tgt = full_data_test.dial.values"
   ]
  },
  {
   "cell_type": "code",
   "execution_count": 55,
   "id": "7162db0a",
   "metadata": {},
   "outputs": [
    {
     "data": {
      "application/vnd.jupyter.widget-view+json": {
       "model_id": "a6b218d0e6d44d6cbef9fd8912361d28",
       "version_major": 2,
       "version_minor": 0
      },
      "text/plain": [
       "  0%|          | 0/250 [00:00<?, ?it/s]"
      ]
     },
     "metadata": {},
     "output_type": "display_data"
    }
   ],
   "source": [
    "from datasets import load_metric\n",
    "bleu = load_metric(\"sacrebleu\")\n",
    "test_translate = []\n",
    "bleu_valid_score = []\n",
    "for i in tqdm(range(len(test_text))) :\n",
    "    trans = translate(test_text[i], transformer, enc_tokenizer, dec_tokenizer, verbose =False)\n",
    "    test_translate.append(trans)\n",
    "    label = dec_tokenizer.decode(test_tgt[i])\n",
    "    result = bleu.compute(predictions=[trans], references=[[label]], smooth_method='add-k')['score']\n",
    "    bleu_valid_score.append(result)"
   ]
  },
  {
   "cell_type": "code",
   "execution_count": 56,
   "id": "dd5ccfbc",
   "metadata": {},
   "outputs": [
    {
     "data": {
      "text/plain": [
       "6.712605518591825"
      ]
     },
     "execution_count": 56,
     "metadata": {},
     "output_type": "execute_result"
    }
   ],
   "source": [
    "sum(bleu_valid_score)/len(test_text)"
   ]
  },
  {
   "cell_type": "code",
   "execution_count": 57,
   "id": "ff04790c",
   "metadata": {},
   "outputs": [],
   "source": [
    "wandb.log({\"bleu\": sum(bleu_valid_score)/len(test_text)})"
   ]
  },
  {
   "cell_type": "code",
   "execution_count": 58,
   "id": "b82aef61",
   "metadata": {},
   "outputs": [],
   "source": [
    "full_data_test['bleu'] = np.array(bleu_valid_score)\n",
    "full_data_test['pred'] = test_translate"
   ]
  },
  {
   "cell_type": "code",
   "execution_count": 59,
   "id": "8e3888ec",
   "metadata": {},
   "outputs": [
    {
     "data": {
      "text/html": [
       "<div>\n",
       "<style scoped>\n",
       "    .dataframe tbody tr th:only-of-type {\n",
       "        vertical-align: middle;\n",
       "    }\n",
       "\n",
       "    .dataframe tbody tr th {\n",
       "        vertical-align: top;\n",
       "    }\n",
       "\n",
       "    .dataframe thead th {\n",
       "        text-align: right;\n",
       "    }\n",
       "</style>\n",
       "<table border=\"1\" class=\"dataframe\">\n",
       "  <thead>\n",
       "    <tr style=\"text-align: right;\">\n",
       "      <th></th>\n",
       "      <th>tok_cat</th>\n",
       "      <th>topic</th>\n",
       "      <th>reg</th>\n",
       "      <th>dial</th>\n",
       "      <th>pred</th>\n",
       "      <th>bleu</th>\n",
       "    </tr>\n",
       "  </thead>\n",
       "  <tbody>\n",
       "    <tr>\n",
       "      <th>1362</th>\n",
       "      <td>1</td>\n",
       "      <td>문학</td>\n",
       "      <td>kw</td>\n",
       "      <td>잘뭇허먼 컴 어인가에 거냥 방치돼서요.</td>\n",
       "      <td>앗사리  ⁇ 이 ⁇   ⁇ 이 ⁇</td>\n",
       "      <td>0.000000</td>\n",
       "    </tr>\n",
       "    <tr>\n",
       "      <th>866</th>\n",
       "      <td>1</td>\n",
       "      <td>가족</td>\n",
       "      <td>cc</td>\n",
       "      <td>열 불 딱지가 나가 내는 거여 개코 가가주구 검거지 구 찝어 던졌다니께 고기덩어리를...</td>\n",
       "      <td>⁇ 아 ⁇   ⁇ 아 ⁇   ⁇ 아 ⁇   ⁇ 아 ⁇   ⁇ 아 ⁇   ⁇ 아</td>\n",
       "      <td>0.000000</td>\n",
       "    </tr>\n",
       "    <tr>\n",
       "      <th>1188</th>\n",
       "      <td>1</td>\n",
       "      <td>역사</td>\n",
       "      <td>gs</td>\n",
       "      <td>우리나래이 랑 우리나래이 먼가 대께 될 꺼 겉은 나란데</td>\n",
       "      <td>뭐 ⁇   ⁇ 일 ⁇  일상 나라를 볼라꼬 나라를  ⁇</td>\n",
       "      <td>0.000000</td>\n",
       "    </tr>\n",
       "    <tr>\n",
       "      <th>223</th>\n",
       "      <td>1</td>\n",
       "      <td>드라마</td>\n",
       "      <td>jd</td>\n",
       "      <td>긍게 그~ 동물이라고 이르케 쩌그 아-는- 허는 게잉 아니여.</td>\n",
       "      <td>동물농장도 있고이 긍께 동물도 안  ⁇ 아 ⁇  안  ⁇ 아 ⁇</td>\n",
       "      <td>0.000000</td>\n",
       "    </tr>\n",
       "    <tr>\n",
       "      <th>411</th>\n",
       "      <td>1</td>\n",
       "      <td>회사/학교</td>\n",
       "      <td>jj</td>\n",
       "      <td>결국엔 말핸? 아방도 이해는 되는거라 근디 아방도 날 이해해줘야 되부는 거네.</td>\n",
       "      <td>이해했댄 이해했댄 이해했댄 이해했댄 이해했댄  아방이</td>\n",
       "      <td>0.000000</td>\n",
       "    </tr>\n",
       "    <tr>\n",
       "      <th>...</th>\n",
       "      <td>...</td>\n",
       "      <td>...</td>\n",
       "      <td>...</td>\n",
       "      <td>...</td>\n",
       "      <td>...</td>\n",
       "      <td>...</td>\n",
       "    </tr>\n",
       "    <tr>\n",
       "      <th>482</th>\n",
       "      <td>1</td>\n",
       "      <td>자동차/오토바이</td>\n",
       "      <td>jj</td>\n",
       "      <td>거 거 주술 생각이랑마랑</td>\n",
       "      <td>거  ⁇ 그 ⁇</td>\n",
       "      <td>31.947155</td>\n",
       "    </tr>\n",
       "    <tr>\n",
       "      <th>526</th>\n",
       "      <td>1</td>\n",
       "      <td>역사</td>\n",
       "      <td>jj</td>\n",
       "      <td>짐치 어떵들 이?</td>\n",
       "      <td>거기? 거기.</td>\n",
       "      <td>31.947155</td>\n",
       "    </tr>\n",
       "    <tr>\n",
       "      <th>860</th>\n",
       "      <td>1</td>\n",
       "      <td>자격증</td>\n",
       "      <td>cc</td>\n",
       "      <td>게 쫌 궁금혀.</td>\n",
       "      <td>그른 꺼 쫌 궁금혀.  그른 꺼이</td>\n",
       "      <td>33.265097</td>\n",
       "    </tr>\n",
       "    <tr>\n",
       "      <th>1273</th>\n",
       "      <td>1</td>\n",
       "      <td>드라마</td>\n",
       "      <td>kw</td>\n",
       "      <td>꿀 뭇나?</td>\n",
       "      <td>꿀두 먹나 꿀</td>\n",
       "      <td>48.549177</td>\n",
       "    </tr>\n",
       "    <tr>\n",
       "      <th>1416</th>\n",
       "      <td>1</td>\n",
       "      <td>가족</td>\n",
       "      <td>kw</td>\n",
       "      <td>이그 쫌 먹어봐.</td>\n",
       "      <td>이그 함 먹어봐.</td>\n",
       "      <td>50.000000</td>\n",
       "    </tr>\n",
       "  </tbody>\n",
       "</table>\n",
       "<p>250 rows × 6 columns</p>\n",
       "</div>"
      ],
      "text/plain": [
       "      tok_cat     topic reg  \\\n",
       "1362        1        문학  kw   \n",
       "866         1        가족  cc   \n",
       "1188        1        역사  gs   \n",
       "223         1       드라마  jd   \n",
       "411         1     회사/학교  jj   \n",
       "...       ...       ...  ..   \n",
       "482         1  자동차/오토바이  jj   \n",
       "526         1        역사  jj   \n",
       "860         1       자격증  cc   \n",
       "1273        1       드라마  kw   \n",
       "1416        1        가족  kw   \n",
       "\n",
       "                                                   dial  \\\n",
       "1362                             잘뭇허먼 컴 어인가에 거냥 방치돼서요.    \n",
       "866   열 불 딱지가 나가 내는 거여 개코 가가주구 검거지 구 찝어 던졌다니께 고기덩어리를...   \n",
       "1188                    우리나래이 랑 우리나래이 먼가 대께 될 꺼 겉은 나란데    \n",
       "223                 긍게 그~ 동물이라고 이르케 쩌그 아-는- 허는 게잉 아니여.    \n",
       "411        결국엔 말핸? 아방도 이해는 되는거라 근디 아방도 날 이해해줘야 되부는 거네.    \n",
       "...                                                 ...   \n",
       "482                                      거 거 주술 생각이랑마랑    \n",
       "526                                          짐치 어떵들 이?    \n",
       "860                                           게 쫌 궁금혀.    \n",
       "1273                                             꿀 뭇나?    \n",
       "1416                                         이그 쫌 먹어봐.    \n",
       "\n",
       "                                              pred       bleu  \n",
       "1362                          앗사리  ⁇ 이 ⁇   ⁇ 이 ⁇     0.000000  \n",
       "866    ⁇ 아 ⁇   ⁇ 아 ⁇   ⁇ 아 ⁇   ⁇ 아 ⁇   ⁇ 아 ⁇   ⁇ 아   0.000000  \n",
       "1188               뭐 ⁇   ⁇ 일 ⁇  일상 나라를 볼라꼬 나라를  ⁇    0.000000  \n",
       "223           동물농장도 있고이 긍께 동물도 안  ⁇ 아 ⁇  안  ⁇ 아 ⁇    0.000000  \n",
       "411                  이해했댄 이해했댄 이해했댄 이해했댄 이해했댄  아방이   0.000000  \n",
       "...                                            ...        ...  \n",
       "482                                      거  ⁇ 그 ⁇   31.947155  \n",
       "526                                       거기? 거기.   31.947155  \n",
       "860                             그른 꺼 쫌 궁금혀.  그른 꺼이  33.265097  \n",
       "1273                                       꿀두 먹나 꿀  48.549177  \n",
       "1416                                     이그 함 먹어봐.  50.000000  \n",
       "\n",
       "[250 rows x 6 columns]"
      ]
     },
     "execution_count": 59,
     "metadata": {},
     "output_type": "execute_result"
    }
   ],
   "source": [
    "full_data_test.loc[:,['tok_cat','topic','reg','dial','pred','bleu']].sort_values('bleu')"
   ]
  },
  {
   "cell_type": "code",
   "execution_count": 60,
   "id": "fe716d26",
   "metadata": {},
   "outputs": [],
   "source": [
    "data_dir = os.getenv('HOME')+'/aiffel/DATA' # 파일 경로 지정\n",
    "full_data_test.to_csv(data_dir + '/test_results_spm4000.csv')"
   ]
  },
  {
   "cell_type": "code",
   "execution_count": 61,
   "id": "d51ac12c",
   "metadata": {},
   "outputs": [
    {
     "data": {
      "text/html": [
       "Waiting for W&B process to finish... <strong style=\"color:green\">(success).</strong>"
      ],
      "text/plain": [
       "<IPython.core.display.HTML object>"
      ]
     },
     "metadata": {},
     "output_type": "display_data"
    },
    {
     "data": {
      "application/vnd.jupyter.widget-view+json": {
       "model_id": "7d5a772569864e928ad1e2ec559eab12",
       "version_major": 2,
       "version_minor": 0
      },
      "text/plain": [
       "VBox(children=(Label(value='0.002 MB of 0.002 MB uploaded (0.000 MB deduped)\\r'), FloatProgress(value=1.0, max…"
      ]
     },
     "metadata": {},
     "output_type": "display_data"
    },
    {
     "data": {
      "text/html": [
       "<style>\n",
       "    table.wandb td:nth-child(1) { padding: 0 10px; text-align: left ; width: auto;} td:nth-child(2) {text-align: left ; width: 100%}\n",
       "    .wandb-row { display: flex; flex-direction: row; flex-wrap: wrap; justify-content: flex-start; width: 100% }\n",
       "    .wandb-col { display: flex; flex-direction: column; flex-basis: 100%; flex: 1; padding: 10px; }\n",
       "    </style>\n",
       "<div class=\"wandb-row\"><div class=\"wandb-col\"><h3>Run history:</h3><br/><table class=\"wandb\"><tr><td>bleu</td><td>▁</td></tr><tr><td>train_loss</td><td>▂▃▃▆▁▂▄▂▅▅▅▆█</td></tr><tr><td>valid_loss</td><td>█▅▄▃▃▃▂▂▃▃▃▃▁</td></tr></table><br/></div><div class=\"wandb-col\"><h3>Run summary:</h3><br/><table class=\"wandb\"><tr><td>bleu</td><td>6.71261</td></tr><tr><td>train_loss</td><td>2.88517</td></tr><tr><td>valid_loss</td><td>2.68761</td></tr></table><br/></div></div>"
      ],
      "text/plain": [
       "<IPython.core.display.HTML object>"
      ]
     },
     "metadata": {},
     "output_type": "display_data"
    },
    {
     "data": {
      "text/html": [
       " View run <strong style=\"color:#cdcd00\">lemon-sea-4</strong> at: <a href='https://wandb.ai/saturi/model_exp_spm4009_0317_v1/runs/fghsua65' target=\"_blank\">https://wandb.ai/saturi/model_exp_spm4009_0317_v1/runs/fghsua65</a><br/>Synced 6 W&B file(s), 0 media file(s), 0 artifact file(s) and 0 other file(s)"
      ],
      "text/plain": [
       "<IPython.core.display.HTML object>"
      ]
     },
     "metadata": {},
     "output_type": "display_data"
    },
    {
     "data": {
      "text/html": [
       "Find logs at: <code>./wandb/run-20230320_003437-fghsua65/logs</code>"
      ],
      "text/plain": [
       "<IPython.core.display.HTML object>"
      ]
     },
     "metadata": {},
     "output_type": "display_data"
    }
   ],
   "source": [
    "wandb.finish()"
   ]
  }
 ],
 "metadata": {
  "hide_input": false,
  "kernelspec": {
   "display_name": "Python 3 (ipykernel)",
   "language": "python",
   "name": "python3"
  },
  "language_info": {
   "codemirror_mode": {
    "name": "ipython",
    "version": 3
   },
   "file_extension": ".py",
   "mimetype": "text/x-python",
   "name": "python",
   "nbconvert_exporter": "python",
   "pygments_lexer": "ipython3",
   "version": "3.9.7"
  },
  "toc": {
   "base_numbering": 1,
   "nav_menu": {},
   "number_sections": true,
   "sideBar": true,
   "skip_h1_title": false,
   "title_cell": "Table of Contents",
   "title_sidebar": "Contents",
   "toc_cell": true,
   "toc_position": {
    "height": "670px",
    "left": "54px",
    "top": "208px",
    "width": "336px"
   },
   "toc_section_display": true,
   "toc_window_display": true
  },
  "varInspector": {
   "cols": {
    "lenName": 16,
    "lenType": 16,
    "lenVar": 40
   },
   "kernels_config": {
    "python": {
     "delete_cmd_postfix": "",
     "delete_cmd_prefix": "del ",
     "library": "var_list.py",
     "varRefreshCmd": "print(var_dic_list())"
    },
    "r": {
     "delete_cmd_postfix": ") ",
     "delete_cmd_prefix": "rm(",
     "library": "var_list.r",
     "varRefreshCmd": "cat(var_dic_list()) "
    }
   },
   "types_to_exclude": [
    "module",
    "function",
    "builtin_function_or_method",
    "instance",
    "_Feature"
   ],
   "window_display": false
  }
 },
 "nbformat": 4,
 "nbformat_minor": 5
}
