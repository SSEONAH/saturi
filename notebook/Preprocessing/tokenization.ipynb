{
 "cells": [
  {
   "cell_type": "code",
   "execution_count": 1,
   "id": "def49c8d",
   "metadata": {},
   "outputs": [],
   "source": [
    "import pandas as pd\n",
    "import sentencepiece as spm\n",
    "import numpy as np\n",
    "import os\n",
    "from konlpy.tag import Mecab"
   ]
  },
  {
   "cell_type": "code",
   "execution_count": 2,
   "id": "6111e9a5",
   "metadata": {},
   "outputs": [],
   "source": [
    "dir_path = os.getenv(\"HOME\") +'/aiffel/DATA'"
   ]
  },
  {
   "cell_type": "code",
   "execution_count": 3,
   "id": "9431a0c1",
   "metadata": {},
   "outputs": [
    {
     "data": {
      "text/plain": [
       "['corpus_dec_8009.txt',\n",
       " 'data_train_spm_4000_0317.pkl',\n",
       " 'corpus_enc_8009.txt',\n",
       " 'test_results_spm4000.csv',\n",
       " 'test_v_final_0313.csv',\n",
       " 'train_v_final_0317.csv',\n",
       " 'corpus_dec_r0.txt',\n",
       " '.ipynb_checkpoints',\n",
       " 'data_test_spm_4000_0317.pkl',\n",
       " 'data_test_spm_4000.pkl',\n",
       " 'data_train_spm_4000.pkl',\n",
       " 'corpus_enc_r0.txt',\n",
       " 'train_v_final_0313.csv',\n",
       " 'test_v_final_0317.csv']"
      ]
     },
     "execution_count": 3,
     "metadata": {},
     "output_type": "execute_result"
    }
   ],
   "source": [
    "os.listdir(dir_path)"
   ]
  },
  {
   "cell_type": "code",
   "execution_count": 4,
   "id": "5394d0b3",
   "metadata": {},
   "outputs": [],
   "source": [
    "df_train=pd.read_csv(dir_path + '/train_v_final_0317.csv')\n",
    "df_test=pd.read_csv(dir_path + '/test_v_final_0317.csv')"
   ]
  },
  {
   "cell_type": "code",
   "execution_count": 5,
   "id": "53c20b2e",
   "metadata": {},
   "outputs": [],
   "source": [
    "mecab = Mecab()"
   ]
  },
  {
   "cell_type": "code",
   "execution_count": 9,
   "id": "9967d622",
   "metadata": {},
   "outputs": [],
   "source": [
    "import tqdm\n",
    "m_dial = []\n",
    "dial_text = df_train.dial.values\n",
    "for i in tqdm.tqdm(dial_text) :\n",
    "    temp_ = mecab.morphs(i)\n",
    "    m_dial.append(' '.join(temp_))"
   ]
  },
  {
   "cell_type": "code",
   "execution_count": 12,
   "id": "3df635f6",
   "metadata": {},
   "outputs": [],
   "source": [
    "def generate_tokenizer(corpus, vocab_size, lang=\"en\", pad_id=0, bos_id=1, eos_id=2, unk_id=3):\n",
    "\n",
    "    temp_file = os.getenv('HOME') + f'/aiffel/DATA/corpus_{lang}.txt'     # corpus를 받아 txt파일로 저장\n",
    "    \n",
    "    with open(temp_file, 'w') as f:\n",
    "        for row in corpus:\n",
    "            f.write(str(row) + '\\n')\n",
    "    \n",
    "    # Sentencepiece를 이용해 \n",
    "    spm.SentencePieceTrainer.Train(\n",
    "        f'--input={temp_file} --pad_id={pad_id} --bos_id={bos_id} --eos_id={eos_id} \\\n",
    "        --unk_id={unk_id} --model_prefix=spm_{lang} --vocab_size={vocab_size} --model_type=bpe \\\n",
    "        --user_defined_symbols=<jj>,<jd>,<gs>,<cc>,<kw>'   # model_r1\n",
    "    )\n",
    "    tokenizer = spm.SentencePieceProcessor()\n",
    "    tokenizer.Load(f'spm_{lang}.model') # model_r1\n",
    "\n",
    "    return tokenizer"
   ]
  },
  {
   "cell_type": "code",
   "execution_count": 13,
   "id": "4b05bed9",
   "metadata": {},
   "outputs": [
    {
     "name": "stderr",
     "output_type": "stream",
     "text": [
      "sentencepiece_trainer.cc(177) LOG(INFO) Running command: --input=/home/seuyon0101/aiffel/DATA/corpus_dec_mecab_4009.txt --pad_id=0 --bos_id=1 --eos_id=2         --unk_id=3 --model_prefix=spm_dec_mecab_4009 --vocab_size=4009 --model_type=bpe         --user_defined_symbols=<jj>,<jd>,<gs>,<cc>,<kw>\n",
      "sentencepiece_trainer.cc(77) LOG(INFO) Starts training with : \n",
      "trainer_spec {\n",
      "  input: /home/seuyon0101/aiffel/DATA/corpus_dec_mecab_4009.txt\n",
      "  input_format: \n",
      "  model_prefix: spm_dec_mecab_4009\n",
      "  model_type: BPE\n",
      "  vocab_size: 4009\n",
      "  self_test_sample_size: 0\n",
      "  character_coverage: 0.9995\n",
      "  input_sentence_size: 0\n",
      "  shuffle_input_sentence: 1\n",
      "  seed_sentencepiece_size: 1000000\n",
      "  shrinking_factor: 0.75\n",
      "  max_sentence_length: 4192\n",
      "  num_threads: 16\n",
      "  num_sub_iterations: 2\n",
      "  max_sentencepiece_length: 16\n",
      "  split_by_unicode_script: 1\n",
      "  split_by_number: 1\n",
      "  split_by_whitespace: 1\n",
      "  split_digits: 0\n",
      "  treat_whitespace_as_suffix: 0\n",
      "  allow_whitespace_only_pieces: 0\n",
      "  user_defined_symbols: <jj>\n",
      "  user_defined_symbols: <jd>\n",
      "  user_defined_symbols: <gs>\n",
      "  user_defined_symbols: <cc>\n",
      "  user_defined_symbols: <kw>\n",
      "  required_chars: \n",
      "  byte_fallback: 0\n",
      "  vocabulary_output_piece_score: 1\n",
      "  train_extremely_large_corpus: 0\n",
      "  hard_vocab_limit: 1\n",
      "  use_all_vocab: 0\n",
      "  unk_id: 3\n",
      "  bos_id: 1\n",
      "  eos_id: 2\n",
      "  pad_id: 0\n",
      "  unk_piece: <unk>\n",
      "  bos_piece: <s>\n",
      "  eos_piece: </s>\n",
      "  pad_piece: <pad>\n",
      "  unk_surface:  ⁇ \n",
      "  enable_differential_privacy: 0\n",
      "  differential_privacy_noise_level: 0\n",
      "  differential_privacy_clipping_threshold: 0\n",
      "}\n",
      "normalizer_spec {\n",
      "  name: nmt_nfkc\n",
      "  add_dummy_prefix: 1\n",
      "  remove_extra_whitespaces: 1\n",
      "  escape_whitespaces: 1\n",
      "  normalization_rule_tsv: \n",
      "}\n",
      "denormalizer_spec {}\n",
      "trainer_interface.cc(350) LOG(INFO) SentenceIterator is not specified. Using MultiFileSentenceIterator.\n",
      "trainer_interface.cc(181) LOG(INFO) Loading corpus: /home/seuyon0101/aiffel/DATA/corpus_dec_mecab_4009.txt\n",
      "trainer_interface.cc(143) LOG(INFO) Loaded 1000000 lines\n",
      "trainer_interface.cc(120) LOG(WARNING) Too many sentences are loaded! (1340262), which may slow down training.\n",
      "trainer_interface.cc(122) LOG(WARNING) Consider using --input_sentence_size=<size> and --shuffle_input_sentence=true.\n",
      "trainer_interface.cc(125) LOG(WARNING) They allow to randomly sample <size> sentences from the entire corpus.\n",
      "trainer_interface.cc(406) LOG(INFO) Loaded all 1340262 sentences\n",
      "trainer_interface.cc(422) LOG(INFO) Adding meta_piece: <pad>\n",
      "trainer_interface.cc(422) LOG(INFO) Adding meta_piece: <s>\n",
      "trainer_interface.cc(422) LOG(INFO) Adding meta_piece: </s>\n",
      "trainer_interface.cc(422) LOG(INFO) Adding meta_piece: <unk>\n",
      "trainer_interface.cc(422) LOG(INFO) Adding meta_piece: <jj>\n",
      "trainer_interface.cc(422) LOG(INFO) Adding meta_piece: <jd>\n",
      "trainer_interface.cc(422) LOG(INFO) Adding meta_piece: <gs>\n",
      "trainer_interface.cc(422) LOG(INFO) Adding meta_piece: <cc>\n",
      "trainer_interface.cc(422) LOG(INFO) Adding meta_piece: <kw>\n",
      "trainer_interface.cc(427) LOG(INFO) Normalizing sentences...\n",
      "trainer_interface.cc(536) LOG(INFO) all chars count=105373203\n",
      "trainer_interface.cc(547) LOG(INFO) Done: 99.95% characters are covered.\n",
      "trainer_interface.cc(557) LOG(INFO) Alphabet size=1531\n",
      "trainer_interface.cc(558) LOG(INFO) Final character coverage=0.9995\n",
      "trainer_interface.cc(590) LOG(INFO) Done! preprocessed 1340262 sentences.\n",
      "trainer_interface.cc(596) LOG(INFO) Tokenizing input sentences with whitespace: 1340262\n",
      "trainer_interface.cc(607) LOG(INFO) Done! 80509\n",
      "bpe_model_trainer.cc(167) LOG(INFO) Updating active symbols. max_freq=2294452 min_freq=1332\n",
      "bpe_model_trainer.cc(258) LOG(INFO) Added: freq=436023 size=20 all=62934 active=6447 piece=▁구\n",
      "bpe_model_trainer.cc(258) LOG(INFO) Added: freq=236911 size=40 all=65903 active=9416 piece=▁니\n",
      "bpe_model_trainer.cc(258) LOG(INFO) Added: freq=157612 size=60 all=68549 active=12062 piece=▁예\n",
      "bpe_model_trainer.cc(258) LOG(INFO) Added: freq=121870 size=80 all=70656 active=14169 piece=▁근디\n",
      "bpe_model_trainer.cc(258) LOG(INFO) Added: freq=99082 size=100 all=71547 active=15060 piece=▁맨\n",
      "bpe_model_trainer.cc(167) LOG(INFO) Updating active symbols. max_freq=98837 min_freq=991\n",
      "bpe_model_trainer.cc(258) LOG(INFO) Added: freq=81209 size=120 all=72697 active=4704 piece=▁가주\n",
      "bpe_model_trainer.cc(258) LOG(INFO) Added: freq=66365 size=140 all=74039 active=6046 piece=▁언\n",
      "bpe_model_trainer.cc(258) LOG(INFO) Added: freq=58850 size=160 all=76176 active=8183 piece=▁러\n",
      "bpe_model_trainer.cc(258) LOG(INFO) Added: freq=51529 size=180 all=77556 active=9563 piece=▁호\n",
      "bpe_model_trainer.cc(258) LOG(INFO) Added: freq=46848 size=200 all=79216 active=11223 piece=▁실\n",
      "bpe_model_trainer.cc(167) LOG(INFO) Updating active symbols. max_freq=46773 min_freq=827\n",
      "bpe_model_trainer.cc(258) LOG(INFO) Added: freq=42013 size=220 all=80622 active=5221 piece=▁니께\n",
      "bpe_model_trainer.cc(258) LOG(INFO) Added: freq=37825 size=240 all=81039 active=5638 piece=▁솔\n",
      "bpe_model_trainer.cc(258) LOG(INFO) Added: freq=34780 size=260 all=82275 active=6874 piece=▁갈\n",
      "bpe_model_trainer.cc(258) LOG(INFO) Added: freq=32076 size=280 all=83148 active=7747 piece=니까\n",
      "bpe_model_trainer.cc(258) LOG(INFO) Added: freq=29153 size=300 all=84306 active=8905 piece=▁왜서\n",
      "bpe_model_trainer.cc(167) LOG(INFO) Updating active symbols. max_freq=29000 min_freq=725\n",
      "bpe_model_trainer.cc(258) LOG(INFO) Added: freq=27471 size=320 all=84895 active=4805 piece=▁그렇\n",
      "bpe_model_trainer.cc(258) LOG(INFO) Added: freq=25982 size=340 all=85424 active=5334 piece=▁빠\n",
      "bpe_model_trainer.cc(258) LOG(INFO) Added: freq=24408 size=360 all=86205 active=6115 piece=▁암\n",
      "bpe_model_trainer.cc(258) LOG(INFO) Added: freq=21839 size=380 all=86638 active=6548 piece=▁화\n",
      "bpe_model_trainer.cc(258) LOG(INFO) Added: freq=19885 size=400 all=87353 active=7263 piece=▁부터\n",
      "bpe_model_trainer.cc(167) LOG(INFO) Updating active symbols. max_freq=19872 min_freq=666\n",
      "bpe_model_trainer.cc(258) LOG(INFO) Added: freq=18811 size=420 all=87816 active=4831 piece=▁넘\n",
      "bpe_model_trainer.cc(258) LOG(INFO) Added: freq=17736 size=440 all=88686 active=5701 piece=▁끼\n",
      "bpe_model_trainer.cc(258) LOG(INFO) Added: freq=17008 size=460 all=89204 active=6219 piece=▁고게\n",
      "bpe_model_trainer.cc(258) LOG(INFO) Added: freq=16044 size=480 all=89529 active=6544 piece=▁디게\n",
      "bpe_model_trainer.cc(258) LOG(INFO) Added: freq=15144 size=500 all=90062 active=7077 piece=▁겡\n",
      "bpe_model_trainer.cc(167) LOG(INFO) Updating active symbols. max_freq=15071 min_freq=622\n",
      "bpe_model_trainer.cc(258) LOG(INFO) Added: freq=13909 size=520 all=90548 active=4986 piece=▁체\n",
      "bpe_model_trainer.cc(258) LOG(INFO) Added: freq=13461 size=540 all=90868 active=5306 piece=▁들어가\n",
      "bpe_model_trainer.cc(258) LOG(INFO) Added: freq=12716 size=560 all=91287 active=5725 piece=▁등\n",
      "bpe_model_trainer.cc(258) LOG(INFO) Added: freq=12121 size=580 all=91812 active=6250 piece=▁*\n",
      "bpe_model_trainer.cc(258) LOG(INFO) Added: freq=11719 size=600 all=92377 active=6815 piece=▁항\n",
      "bpe_model_trainer.cc(167) LOG(INFO) Updating active symbols. max_freq=11712 min_freq=583\n",
      "bpe_model_trainer.cc(258) LOG(INFO) Added: freq=11376 size=620 all=92767 active=4965 piece=▁순\n",
      "bpe_model_trainer.cc(258) LOG(INFO) Added: freq=10847 size=640 all=93269 active=5467 piece=▁요즘\n",
      "bpe_model_trainer.cc(258) LOG(INFO) Added: freq=10500 size=660 all=93698 active=5896 piece=▁드라마\n",
      "bpe_model_trainer.cc(258) LOG(INFO) Added: freq=10055 size=680 all=94086 active=6284 piece=▁닌\n",
      "bpe_model_trainer.cc(258) LOG(INFO) Added: freq=9685 size=700 all=94384 active=6582 piece=▁봔\n",
      "bpe_model_trainer.cc(167) LOG(INFO) Updating active symbols. max_freq=9658 min_freq=558\n",
      "bpe_model_trainer.cc(258) LOG(INFO) Added: freq=9189 size=720 all=94656 active=4974 piece=▁셔\n",
      "bpe_model_trainer.cc(258) LOG(INFO) Added: freq=8916 size=740 all=94946 active=5264 piece=▁넨\n",
      "bpe_model_trainer.cc(258) LOG(INFO) Added: freq=8544 size=760 all=95207 active=5525 piece=▁쌔\n",
      "bpe_model_trainer.cc(258) LOG(INFO) Added: freq=8251 size=780 all=95391 active=5709 piece=▁아프\n",
      "bpe_model_trainer.cc(258) LOG(INFO) Added: freq=7879 size=800 all=95634 active=5952 piece=▁혼재\n",
      "bpe_model_trainer.cc(167) LOG(INFO) Updating active symbols. max_freq=7867 min_freq=530\n",
      "bpe_model_trainer.cc(258) LOG(INFO) Added: freq=7596 size=820 all=96017 active=5165 piece=▁잖여\n",
      "bpe_model_trainer.cc(258) LOG(INFO) Added: freq=7376 size=840 all=96175 active=5323 piece=▁혼자\n",
      "bpe_model_trainer.cc(258) LOG(INFO) Added: freq=7157 size=860 all=96389 active=5537 piece=▁침\n",
      "bpe_model_trainer.cc(258) LOG(INFO) Added: freq=7007 size=880 all=96498 active=5646 piece=▁석\n",
      "bpe_model_trainer.cc(258) LOG(INFO) Added: freq=6786 size=900 all=96711 active=5859 piece=▁찾아\n",
      "bpe_model_trainer.cc(167) LOG(INFO) Updating active symbols. max_freq=6774 min_freq=507\n",
      "bpe_model_trainer.cc(258) LOG(INFO) Added: freq=6538 size=920 all=96957 active=5062 piece=▁는가\n",
      "bpe_model_trainer.cc(258) LOG(INFO) Added: freq=6390 size=940 all=97168 active=5273 piece=▁푼\n",
      "bpe_model_trainer.cc(258) LOG(INFO) Added: freq=6207 size=960 all=97358 active=5463 piece=려고\n",
      "bpe_model_trainer.cc(258) LOG(INFO) Added: freq=6011 size=980 all=97637 active=5742 piece=다구\n",
      "bpe_model_trainer.cc(258) LOG(INFO) Added: freq=5858 size=1000 all=97835 active=5940 piece=▁짤\n",
      "bpe_model_trainer.cc(167) LOG(INFO) Updating active symbols. max_freq=5857 min_freq=485\n",
      "bpe_model_trainer.cc(258) LOG(INFO) Added: freq=5717 size=1020 all=98007 active=5043 piece=▁드만\n",
      "bpe_model_trainer.cc(258) LOG(INFO) Added: freq=5521 size=1040 all=98162 active=5198 piece=▁까장\n",
      "bpe_model_trainer.cc(258) LOG(INFO) Added: freq=5333 size=1060 all=98348 active=5384 piece=▁빌\n",
      "bpe_model_trainer.cc(258) LOG(INFO) Added: freq=5181 size=1080 all=98558 active=5594 piece=▁이카\n",
      "bpe_model_trainer.cc(258) LOG(INFO) Added: freq=5071 size=1100 all=98687 active=5723 piece=▁슨\n",
      "bpe_model_trainer.cc(167) LOG(INFO) Updating active symbols. max_freq=5065 min_freq=468\n",
      "bpe_model_trainer.cc(258) LOG(INFO) Added: freq=4934 size=1120 all=99054 active=5301 piece=▁시험\n",
      "bpe_model_trainer.cc(258) LOG(INFO) Added: freq=4759 size=1140 all=99217 active=5464 piece=▁동안\n",
      "bpe_model_trainer.cc(258) LOG(INFO) Added: freq=4657 size=1160 all=99354 active=5601 piece=▁이야\n",
      "bpe_model_trainer.cc(258) LOG(INFO) Added: freq=4562 size=1180 all=99406 active=5653 piece=▁원래\n",
      "bpe_model_trainer.cc(258) LOG(INFO) Added: freq=4455 size=1200 all=99437 active=5684 piece=▁업\n",
      "bpe_model_trainer.cc(167) LOG(INFO) Updating active symbols. max_freq=4455 min_freq=451\n",
      "bpe_model_trainer.cc(258) LOG(INFO) Added: freq=4370 size=1220 all=99754 active=5260 piece=▁벗\n",
      "bpe_model_trainer.cc(258) LOG(INFO) Added: freq=4317 size=1240 all=100082 active=5588 piece=▁뵈\n",
      "bpe_model_trainer.cc(258) LOG(INFO) Added: freq=4248 size=1260 all=100254 active=5760 piece=▁두어\n",
      "bpe_model_trainer.cc(258) LOG(INFO) Added: freq=4143 size=1280 all=100454 active=5960 piece=▁허지\n",
      "bpe_model_trainer.cc(258) LOG(INFO) Added: freq=4060 size=1300 all=100642 active=6148 piece=▁몰랐\n",
      "bpe_model_trainer.cc(167) LOG(INFO) Updating active symbols. max_freq=4060 min_freq=433\n",
      "bpe_model_trainer.cc(258) LOG(INFO) Added: freq=3939 size=1320 all=100817 active=5205 piece=▁고서\n",
      "bpe_model_trainer.cc(258) LOG(INFO) Added: freq=3863 size=1340 all=101021 active=5409 piece=▁해가\n",
      "bpe_model_trainer.cc(258) LOG(INFO) Added: freq=3788 size=1360 all=101127 active=5515 piece=▁워드\n",
      "bpe_model_trainer.cc(258) LOG(INFO) Added: freq=3715 size=1380 all=101257 active=5645 piece=▁쌀\n",
      "bpe_model_trainer.cc(258) LOG(INFO) Added: freq=3647 size=1400 all=101394 active=5782 piece=▁꼴\n",
      "bpe_model_trainer.cc(167) LOG(INFO) Updating active symbols. max_freq=3645 min_freq=417\n",
      "bpe_model_trainer.cc(258) LOG(INFO) Added: freq=3546 size=1420 all=101606 active=5266 piece=▁개인\n",
      "bpe_model_trainer.cc(258) LOG(INFO) Added: freq=3472 size=1440 all=101674 active=5334 piece=▁살아\n",
      "bpe_model_trainer.cc(258) LOG(INFO) Added: freq=3421 size=1460 all=101714 active=5374 piece=▁쉽\n",
      "bpe_model_trainer.cc(258) LOG(INFO) Added: freq=3359 size=1480 all=101843 active=5503 piece=▁@\n",
      "bpe_model_trainer.cc(258) LOG(INFO) Added: freq=3282 size=1500 all=102039 active=5699 piece=▁생각나\n",
      "bpe_model_trainer.cc(167) LOG(INFO) Updating active symbols. max_freq=3276 min_freq=405\n",
      "bpe_model_trainer.cc(258) LOG(INFO) Added: freq=3225 size=1520 all=102128 active=5191 piece=▁교수\n",
      "bpe_model_trainer.cc(258) LOG(INFO) Added: freq=3182 size=1540 all=102295 active=5358 piece=▁척\n",
      "bpe_model_trainer.cc(258) LOG(INFO) Added: freq=3136 size=1560 all=102374 active=5437 piece=▁으러\n",
      "bpe_model_trainer.cc(258) LOG(INFO) Added: freq=3056 size=1580 all=102453 active=5516 piece=▁린\n",
      "bpe_model_trainer.cc(258) LOG(INFO) Added: freq=3016 size=1600 all=102650 active=5713 piece=▁오새\n",
      "bpe_model_trainer.cc(167) LOG(INFO) Updating active symbols. max_freq=3015 min_freq=393\n",
      "bpe_model_trainer.cc(258) LOG(INFO) Added: freq=2981 size=1620 all=102853 active=5336 piece=▁추억\n",
      "bpe_model_trainer.cc(258) LOG(INFO) Added: freq=2941 size=1640 all=102966 active=5449 piece=▁서방\n",
      "bpe_model_trainer.cc(258) LOG(INFO) Added: freq=2916 size=1660 all=103005 active=5488 piece=▁부산\n",
      "bpe_model_trainer.cc(258) LOG(INFO) Added: freq=2884 size=1680 all=103196 active=5679 piece=▁이번\n",
      "bpe_model_trainer.cc(258) LOG(INFO) Added: freq=2837 size=1700 all=103223 active=5706 piece=▁수영\n",
      "bpe_model_trainer.cc(167) LOG(INFO) Updating active symbols. max_freq=2834 min_freq=382\n",
      "bpe_model_trainer.cc(258) LOG(INFO) Added: freq=2789 size=1720 all=103417 active=5352 piece=▁고람\n",
      "bpe_model_trainer.cc(258) LOG(INFO) Added: freq=2738 size=1740 all=103553 active=5488 piece=▁숩\n",
      "bpe_model_trainer.cc(258) LOG(INFO) Added: freq=2706 size=1760 all=103702 active=5637 piece=▁직업\n",
      "bpe_model_trainer.cc(258) LOG(INFO) Added: freq=2667 size=1780 all=103922 active=5857 piece=▁결국\n",
      "bpe_model_trainer.cc(258) LOG(INFO) Added: freq=2615 size=1800 all=104023 active=5958 piece=▁바루\n",
      "bpe_model_trainer.cc(167) LOG(INFO) Updating active symbols. max_freq=2612 min_freq=365\n",
      "bpe_model_trainer.cc(258) LOG(INFO) Added: freq=2578 size=1820 all=104074 active=5253 piece=▁대화\n",
      "bpe_model_trainer.cc(258) LOG(INFO) Added: freq=2544 size=1840 all=104246 active=5425 piece=사리\n",
      "bpe_model_trainer.cc(258) LOG(INFO) Added: freq=2507 size=1860 all=104398 active=5577 piece=▁어제\n",
      "bpe_model_trainer.cc(258) LOG(INFO) Added: freq=2481 size=1880 all=104470 active=5649 piece=▁우에\n",
      "bpe_model_trainer.cc(258) LOG(INFO) Added: freq=2449 size=1900 all=104518 active=5697 piece=▁현실\n",
      "bpe_model_trainer.cc(167) LOG(INFO) Updating active symbols. max_freq=2448 min_freq=356\n",
      "bpe_model_trainer.cc(258) LOG(INFO) Added: freq=2421 size=1920 all=104609 active=5316 piece=▁아니믄\n",
      "bpe_model_trainer.cc(258) LOG(INFO) Added: freq=2376 size=1940 all=104690 active=5397 piece=▁엘\n",
      "bpe_model_trainer.cc(258) LOG(INFO) Added: freq=2348 size=1960 all=104741 active=5448 piece=▁마대\n",
      "bpe_model_trainer.cc(258) LOG(INFO) Added: freq=2321 size=1980 all=104745 active=5452 piece=▁신발\n",
      "bpe_model_trainer.cc(258) LOG(INFO) Added: freq=2280 size=2000 all=104851 active=5558 piece=▁모시\n",
      "bpe_model_trainer.cc(167) LOG(INFO) Updating active symbols. max_freq=2278 min_freq=347\n",
      "bpe_model_trainer.cc(258) LOG(INFO) Added: freq=2248 size=2020 all=104988 active=5379 piece=▁아우\n",
      "bpe_model_trainer.cc(258) LOG(INFO) Added: freq=2210 size=2040 all=105087 active=5478 piece=▁그림\n",
      "bpe_model_trainer.cc(258) LOG(INFO) Added: freq=2182 size=2060 all=105156 active=5547 piece=▁글구\n",
      "bpe_model_trainer.cc(258) LOG(INFO) Added: freq=2146 size=2080 all=105201 active=5592 piece=▁국민\n",
      "bpe_model_trainer.cc(258) LOG(INFO) Added: freq=2125 size=2100 all=105223 active=5614 piece=▁갈라\n",
      "bpe_model_trainer.cc(167) LOG(INFO) Updating active symbols. max_freq=2125 min_freq=338\n",
      "bpe_model_trainer.cc(258) LOG(INFO) Added: freq=2102 size=2120 all=105272 active=5297 piece=▁직히\n",
      "bpe_model_trainer.cc(258) LOG(INFO) Added: freq=2077 size=2140 all=105369 active=5394 piece=마나\n",
      "bpe_model_trainer.cc(258) LOG(INFO) Added: freq=2047 size=2160 all=105437 active=5462 piece=▁느꼈\n",
      "bpe_model_trainer.cc(258) LOG(INFO) Added: freq=2028 size=2180 all=105516 active=5541 piece=▁드렸\n",
      "bpe_model_trainer.cc(258) LOG(INFO) Added: freq=1993 size=2200 all=105607 active=5632 piece=▁이혼\n",
      "bpe_model_trainer.cc(167) LOG(INFO) Updating active symbols. max_freq=1992 min_freq=331\n",
      "bpe_model_trainer.cc(258) LOG(INFO) Added: freq=1957 size=2220 all=105717 active=5389 piece=▁이뻐\n",
      "bpe_model_trainer.cc(258) LOG(INFO) Added: freq=1940 size=2240 all=105851 active=5523 piece=▁말꼬\n",
      "bpe_model_trainer.cc(258) LOG(INFO) Added: freq=1917 size=2260 all=105894 active=5566 piece=▁여섯\n",
      "bpe_model_trainer.cc(258) LOG(INFO) Added: freq=1889 size=2280 all=105965 active=5637 piece=▁작품\n",
      "bpe_model_trainer.cc(258) LOG(INFO) Added: freq=1866 size=2300 all=106123 active=5795 piece=▁놀이\n",
      "bpe_model_trainer.cc(167) LOG(INFO) Updating active symbols. max_freq=1864 min_freq=323\n",
      "bpe_model_trainer.cc(258) LOG(INFO) Added: freq=1839 size=2320 all=106155 active=5332 piece=▁지베\n",
      "bpe_model_trainer.cc(258) LOG(INFO) Added: freq=1814 size=2340 all=106243 active=5420 piece=▁껏\n",
      "bpe_model_trainer.cc(258) LOG(INFO) Added: freq=1784 size=2360 all=106355 active=5532 piece=▁불쌍\n",
      "bpe_model_trainer.cc(258) LOG(INFO) Added: freq=1756 size=2380 all=106376 active=5553 piece=▁괜잖\n",
      "bpe_model_trainer.cc(258) LOG(INFO) Added: freq=1739 size=2400 all=106437 active=5614 piece=▁힘드\n",
      "bpe_model_trainer.cc(167) LOG(INFO) Updating active symbols. max_freq=1739 min_freq=315\n",
      "bpe_model_trainer.cc(258) LOG(INFO) Added: freq=1726 size=2420 all=106545 active=5428 piece=▁모이\n",
      "bpe_model_trainer.cc(258) LOG(INFO) Added: freq=1712 size=2440 all=106598 active=5481 piece=▁헝\n",
      "bpe_model_trainer.cc(258) LOG(INFO) Added: freq=1694 size=2460 all=106696 active=5579 piece=댕기\n",
      "trainer_interface.cc(685) LOG(INFO) Saving model: spm_dec_mecab_4009.model\n",
      "trainer_interface.cc(697) LOG(INFO) Saving vocabs: spm_dec_mecab_4009.vocab\n"
     ]
    }
   ],
   "source": [
    "# enc_tokenizer = generate_tokenizer(df_train.dial.values, 4009, lang ='enc_8009')\n",
    "dec_tokenizer = generate_tokenizer(m_dial, 4009, lang = 'dec_mecab_4009')"
   ]
  },
  {
   "cell_type": "code",
   "execution_count": 14,
   "id": "17a52342",
   "metadata": {},
   "outputs": [
    {
     "data": {
      "text/plain": [
       "True"
      ]
     },
     "execution_count": 14,
     "metadata": {},
     "output_type": "execute_result"
    }
   ],
   "source": [
    "dir_path = os.getenv(\"HOME\") + '/aiffel/saturi/notebook/Model/'\n",
    "\n",
    "enc_tokenizer = spm.SentencePieceProcessor()\n",
    "enc_tokenizer.Load(dir_path + 'spm_enc_v.model')\n",
    "\n",
    "# dec_tokenizer = spm.SentencePieceProcessor()\n",
    "# dec_tokenizer.Load(dir_path + 'spm_dec_v.model')\n",
    "\n",
    "dec_tokenizer.set_encode_extra_options(\"bos:eos\")"
   ]
  },
  {
   "cell_type": "code",
   "execution_count": 15,
   "id": "8dc84523",
   "metadata": {},
   "outputs": [],
   "source": [
    "df_train['eng'] = '<'+df_train['reg']+'> ' + df_train['eng']\n",
    "df_test['eng'] = '<'+df_test['reg']+'> ' + df_test['eng']"
   ]
  },
  {
   "cell_type": "code",
   "execution_count": 16,
   "id": "203d2ace",
   "metadata": {},
   "outputs": [
    {
     "data": {
      "text/html": [
       "<div>\n",
       "<style scoped>\n",
       "    .dataframe tbody tr th:only-of-type {\n",
       "        vertical-align: middle;\n",
       "    }\n",
       "\n",
       "    .dataframe tbody tr th {\n",
       "        vertical-align: top;\n",
       "    }\n",
       "\n",
       "    .dataframe thead th {\n",
       "        text-align: right;\n",
       "    }\n",
       "</style>\n",
       "<table border=\"1\" class=\"dataframe\">\n",
       "  <thead>\n",
       "    <tr style=\"text-align: right;\">\n",
       "      <th></th>\n",
       "      <th>reg</th>\n",
       "      <th>topic</th>\n",
       "      <th>eng</th>\n",
       "      <th>dial</th>\n",
       "      <th>tok_len</th>\n",
       "      <th>tok_cat</th>\n",
       "    </tr>\n",
       "  </thead>\n",
       "  <tbody>\n",
       "    <tr>\n",
       "      <th>0</th>\n",
       "      <td>jd</td>\n",
       "      <td>역사</td>\n",
       "      <td>&lt;jd&gt; I've changed my mind a little bit.</td>\n",
       "      <td>생각이 쪼금씩 바뀌드라고</td>\n",
       "      <td>10</td>\n",
       "      <td>1</td>\n",
       "    </tr>\n",
       "    <tr>\n",
       "      <th>1</th>\n",
       "      <td>jd</td>\n",
       "      <td>가족</td>\n",
       "      <td>&lt;jd&gt; You know what? Foreigners still get used ...</td>\n",
       "      <td>웜마 알겄는가 애국인들이 그또 달 적응하고</td>\n",
       "      <td>17</td>\n",
       "      <td>1</td>\n",
       "    </tr>\n",
       "    <tr>\n",
       "      <th>2</th>\n",
       "      <td>jd</td>\n",
       "      <td>건강</td>\n",
       "      <td>&lt;jd&gt; All of a sudden, I think I've ripped off ...</td>\n",
       "      <td>아으 갑자기 에전에 맹장 뜯은 게잉 생각난디야.</td>\n",
       "      <td>22</td>\n",
       "      <td>1</td>\n",
       "    </tr>\n",
       "    <tr>\n",
       "      <th>3</th>\n",
       "      <td>jd</td>\n",
       "      <td>스타일</td>\n",
       "      <td>&lt;jd&gt; I have a lot of ideas about getting older...</td>\n",
       "      <td>보먼은 좀 품위 있게 나이 들어가야 되겠단 싱각을 참 마이 해요잉.</td>\n",
       "      <td>18</td>\n",
       "      <td>1</td>\n",
       "    </tr>\n",
       "    <tr>\n",
       "      <th>4</th>\n",
       "      <td>jd</td>\n",
       "      <td>먹거리</td>\n",
       "      <td>&lt;jd&gt; It's a little bit of a tastey, but still...</td>\n",
       "      <td>약깐 좀 약깐 맛이가 쪼까 머시기 카긴 한디 그또</td>\n",
       "      <td>18</td>\n",
       "      <td>1</td>\n",
       "    </tr>\n",
       "  </tbody>\n",
       "</table>\n",
       "</div>"
      ],
      "text/plain": [
       "  reg topic                                                eng  \\\n",
       "0  jd    역사            <jd> I've changed my mind a little bit.   \n",
       "1  jd    가족  <jd> You know what? Foreigners still get used ...   \n",
       "2  jd    건강  <jd> All of a sudden, I think I've ripped off ...   \n",
       "3  jd   스타일  <jd> I have a lot of ideas about getting older...   \n",
       "4  jd   먹거리   <jd> It's a little bit of a tastey, but still...   \n",
       "\n",
       "                                     dial  tok_len  tok_cat  \n",
       "0                          생각이 쪼금씩 바뀌드라고        10        1  \n",
       "1                웜마 알겄는가 애국인들이 그또 달 적응하고        17        1  \n",
       "2             아으 갑자기 에전에 맹장 뜯은 게잉 생각난디야.        22        1  \n",
       "3  보먼은 좀 품위 있게 나이 들어가야 되겠단 싱각을 참 마이 해요잉.        18        1  \n",
       "4            약깐 좀 약깐 맛이가 쪼까 머시기 카긴 한디 그또        18        1  "
      ]
     },
     "execution_count": 16,
     "metadata": {},
     "output_type": "execute_result"
    }
   ],
   "source": [
    "df_train.head()"
   ]
  },
  {
   "cell_type": "markdown",
   "id": "2d28ebe7",
   "metadata": {},
   "source": [
    " 0.   toks_en     \n",
    " 1.   toks_dec    \n",
    " 2.   source_txt  \n",
    " 3.   target_txt  \n",
    " 4.   topic       \n",
    " 5.   reg         "
   ]
  },
  {
   "cell_type": "code",
   "execution_count": 17,
   "id": "30de9f44",
   "metadata": {},
   "outputs": [
    {
     "data": {
      "text/plain": [
       "'생각이 쪼금씩 바뀌드라고 '"
      ]
     },
     "execution_count": 17,
     "metadata": {},
     "output_type": "execute_result"
    }
   ],
   "source": [
    "df_train.dial.values[0]"
   ]
  },
  {
   "cell_type": "code",
   "execution_count": 18,
   "id": "dc5a47dd",
   "metadata": {},
   "outputs": [
    {
     "data": {
      "text/plain": [
       "['<s>', '▁생각', '이', '▁쪼금', '씩', '▁바뀌', '드', '라고', '</s>']"
      ]
     },
     "execution_count": 18,
     "metadata": {},
     "output_type": "execute_result"
    }
   ],
   "source": [
    "dec_tokenizer.encode_as_pieces(df_train.dial.values[0])"
   ]
  },
  {
   "cell_type": "code",
   "execution_count": 19,
   "id": "30e3469f",
   "metadata": {},
   "outputs": [],
   "source": [
    "import tqdm\n",
    "def tokenize_data(df) :\n",
    "    dial_text = df['dial'].values\n",
    "    eng_text = df['eng'].values\n",
    "\n",
    "    toks_en = []\n",
    "    toks_dec = []\n",
    "\n",
    "    for i in tqdm.tqdm(range(len(df))) :\n",
    "        \n",
    "        en_tokenized = enc_tokenizer.encode(eng_text[i])\n",
    "        dial_tokenized = dec_tokenizer.encode(dial_text[i])\n",
    "        toks_en.append(en_tokenized)\n",
    "        toks_dec.append(dial_tokenized)\n",
    "    \n",
    "    df['toks_en'] = toks_en\n",
    "    df['toks_dec'] = toks_dec"
   ]
  },
  {
   "cell_type": "code",
   "execution_count": 20,
   "id": "39af5f68",
   "metadata": {},
   "outputs": [
    {
     "name": "stderr",
     "output_type": "stream",
     "text": [
      "100%|████████████████████████████████████████████████████████████████████| 1500/1500 [00:00<00:00, 3122.07it/s]\n",
      "100%|██████████████████████████████████████████████████████████████| 1340262/1340262 [03:03<00:00, 7321.60it/s]\n"
     ]
    }
   ],
   "source": [
    "for i in [df_test, df_train]:\n",
    "    tokenize_data(i)"
   ]
  },
  {
   "cell_type": "code",
   "execution_count": 21,
   "id": "e5ea2446",
   "metadata": {},
   "outputs": [],
   "source": [
    "dir_path = os.getenv(\"HOME\") +'/aiffel/DATA'\n",
    "df_train.to_pickle(dir_path + '/data_train_msp_4000_0320.pkl','gzip')\n",
    "df_test.to_pickle(dir_path + '/data_test_msp_4000_0320.pkl','gzip')"
   ]
  },
  {
   "cell_type": "code",
   "execution_count": null,
   "id": "a67bf919",
   "metadata": {},
   "outputs": [],
   "source": []
  }
 ],
 "metadata": {
  "kernelspec": {
   "display_name": "Python 3 (ipykernel)",
   "language": "python",
   "name": "python3"
  },
  "language_info": {
   "codemirror_mode": {
    "name": "ipython",
    "version": 3
   },
   "file_extension": ".py",
   "mimetype": "text/x-python",
   "name": "python",
   "nbconvert_exporter": "python",
   "pygments_lexer": "ipython3",
   "version": "3.9.7"
  }
 },
 "nbformat": 4,
 "nbformat_minor": 5
}
