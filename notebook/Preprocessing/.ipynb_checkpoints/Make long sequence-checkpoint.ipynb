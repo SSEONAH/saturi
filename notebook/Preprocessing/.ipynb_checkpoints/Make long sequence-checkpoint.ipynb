{
 "cells": [
  {
   "cell_type": "code",
   "execution_count": 1,
   "id": "504d738c",
   "metadata": {},
   "outputs": [],
   "source": [
    "import pandas as pd\n",
    "import numpy as np\n",
    "import os\n",
    "import matplotlib.pyplot as plt\n",
    "import re"
   ]
  },
  {
   "cell_type": "code",
   "execution_count": 2,
   "id": "a4199409",
   "metadata": {},
   "outputs": [],
   "source": [
    "directory = os.getenv('HOME') + '/aiffel/aiffelthon/meta/'"
   ]
  },
  {
   "cell_type": "code",
   "execution_count": 3,
   "id": "24933118",
   "metadata": {},
   "outputs": [
    {
     "data": {
      "text/plain": [
       "['reg_1.json',\n",
       " 'meta_data_included_raw_v2.csv',\n",
       " '.ipynb_checkpoints',\n",
       " 'meta_eng_raw_0306_v1.csv',\n",
       " 'kor_text.xlsx',\n",
       " 'reg_3.json',\n",
       " 'meta_data_included_raw.csv',\n",
       " 'meta_raw_eng_corrected_sts_v1.csv',\n",
       " 'meta_data_raw_eng_match_6m.csv',\n",
       " 'kor_text.txt',\n",
       " 'meta_raw_eng_sts_v1.csv',\n",
       " 'reg_4.json',\n",
       " 'meta_raw_eng_corrected_sts_v1_needs_correction_translated.xlsx',\n",
       " '사투리화_데이터셋_0309.csv',\n",
       " 'meta_raw_eng_corrected_sts_v1_needs_correction.xlsx',\n",
       " 'kw_t.json',\n",
       " 'reg_5.json',\n",
       " 'meta_raw_eng_corrected_sts_v_final.csv',\n",
       " 'meta_data_raw_0306.csv',\n",
       " 'reg_2.json',\n",
       " 'meta_raw_eng_corrected_sts_saturization_v_final.csv']"
      ]
     },
     "execution_count": 3,
     "metadata": {},
     "output_type": "execute_result"
    }
   ],
   "source": [
    "os.listdir(directory)"
   ]
  },
  {
   "cell_type": "code",
   "execution_count": 4,
   "id": "a715957c",
   "metadata": {},
   "outputs": [],
   "source": [
    "df = pd.read_csv(directory + 'meta_raw_eng_corrected_sts_saturization_v_final.csv',usecols=['reg','topic','sts','dial_edit_f2','eng'] )"
   ]
  },
  {
   "cell_type": "code",
   "execution_count": 5,
   "id": "d0501eef",
   "metadata": {},
   "outputs": [
    {
     "name": "stdout",
     "output_type": "stream",
     "text": [
      "<class 'pandas.core.frame.DataFrame'>\n",
      "RangeIndex: 949888 entries, 0 to 949887\n",
      "Data columns (total 5 columns):\n",
      " #   Column  Non-Null Count   Dtype  \n",
      "---  ------  --------------   -----  \n",
      " 0   reg     949888 non-null  object \n",
      " 1   topic   949888 non-null  object \n",
      " 2   eng     949888 non-null  object \n",
      " 3   sts     949888 non-null  float64\n",
      " 4   dial    949888 non-null  object \n",
      "dtypes: float64(1), object(4)\n",
      "memory usage: 36.2+ MB\n"
     ]
    }
   ],
   "source": [
    "df =df.rename(columns = {'dial_edit_f2':'dial'})\n",
    "df.info()"
   ]
  },
  {
   "cell_type": "code",
   "execution_count": 6,
   "id": "1e97b147",
   "metadata": {},
   "outputs": [
    {
     "data": {
      "text/html": [
       "<div>\n",
       "<style scoped>\n",
       "    .dataframe tbody tr th:only-of-type {\n",
       "        vertical-align: middle;\n",
       "    }\n",
       "\n",
       "    .dataframe tbody tr th {\n",
       "        vertical-align: top;\n",
       "    }\n",
       "\n",
       "    .dataframe thead th {\n",
       "        text-align: right;\n",
       "    }\n",
       "</style>\n",
       "<table border=\"1\" class=\"dataframe\">\n",
       "  <thead>\n",
       "    <tr style=\"text-align: right;\">\n",
       "      <th></th>\n",
       "      <th>reg</th>\n",
       "      <th>topic</th>\n",
       "      <th>eng</th>\n",
       "      <th>sts</th>\n",
       "      <th>dial</th>\n",
       "    </tr>\n",
       "  </thead>\n",
       "  <tbody>\n",
       "    <tr>\n",
       "      <th>0</th>\n",
       "      <td>jd</td>\n",
       "      <td>역사</td>\n",
       "      <td>I've changed my mind a little bit.</td>\n",
       "      <td>0.056177</td>\n",
       "      <td>생각이 쪼금씩 바뀌드라고</td>\n",
       "    </tr>\n",
       "    <tr>\n",
       "      <th>1</th>\n",
       "      <td>jd</td>\n",
       "      <td>가족</td>\n",
       "      <td>You know what? Foreigners still get used to it.</td>\n",
       "      <td>-0.006247</td>\n",
       "      <td>웜마 알겄는가 애국인들이 그또 달 적응하고</td>\n",
       "    </tr>\n",
       "    <tr>\n",
       "      <th>2</th>\n",
       "      <td>jd</td>\n",
       "      <td>건강</td>\n",
       "      <td>All of a sudden, I think I've ripped off my ap...</td>\n",
       "      <td>0.174105</td>\n",
       "      <td>아으 갑자기 에전에 맹장 뜯은 게잉 생각난디야.</td>\n",
       "    </tr>\n",
       "    <tr>\n",
       "      <th>3</th>\n",
       "      <td>jd</td>\n",
       "      <td>스타일</td>\n",
       "      <td>I have a lot of ideas about getting older in a...</td>\n",
       "      <td>0.120993</td>\n",
       "      <td>보먼은 좀 품위 있게 나이 들어가야 되겠단 싱각을 참 마이 해요잉.</td>\n",
       "    </tr>\n",
       "    <tr>\n",
       "      <th>4</th>\n",
       "      <td>jd</td>\n",
       "      <td>먹거리</td>\n",
       "      <td>It's a little bit of a tastey, but still...</td>\n",
       "      <td>0.256973</td>\n",
       "      <td>약깐 좀 약깐 맛이가 쪼까 머시기 카긴 한디 그또</td>\n",
       "    </tr>\n",
       "  </tbody>\n",
       "</table>\n",
       "</div>"
      ],
      "text/plain": [
       "  reg topic                                                eng       sts  \\\n",
       "0  jd    역사                 I've changed my mind a little bit.  0.056177   \n",
       "1  jd    가족    You know what? Foreigners still get used to it. -0.006247   \n",
       "2  jd    건강  All of a sudden, I think I've ripped off my ap...  0.174105   \n",
       "3  jd   스타일  I have a lot of ideas about getting older in a...  0.120993   \n",
       "4  jd   먹거리        It's a little bit of a tastey, but still...  0.256973   \n",
       "\n",
       "                                     dial  \n",
       "0                          생각이 쪼금씩 바뀌드라고   \n",
       "1                웜마 알겄는가 애국인들이 그또 달 적응하고   \n",
       "2             아으 갑자기 에전에 맹장 뜯은 게잉 생각난디야.   \n",
       "3  보먼은 좀 품위 있게 나이 들어가야 되겠단 싱각을 참 마이 해요잉.   \n",
       "4            약깐 좀 약깐 맛이가 쪼까 머시기 카긴 한디 그또   "
      ]
     },
     "execution_count": 6,
     "metadata": {},
     "output_type": "execute_result"
    }
   ],
   "source": [
    "df.head()"
   ]
  },
  {
   "cell_type": "code",
   "execution_count": 7,
   "id": "f2c332f8",
   "metadata": {},
   "outputs": [
    {
     "data": {
      "text/html": [
       "<div>\n",
       "<style scoped>\n",
       "    .dataframe tbody tr th:only-of-type {\n",
       "        vertical-align: middle;\n",
       "    }\n",
       "\n",
       "    .dataframe tbody tr th {\n",
       "        vertical-align: top;\n",
       "    }\n",
       "\n",
       "    .dataframe thead th {\n",
       "        text-align: right;\n",
       "    }\n",
       "</style>\n",
       "<table border=\"1\" class=\"dataframe\">\n",
       "  <thead>\n",
       "    <tr style=\"text-align: right;\">\n",
       "      <th></th>\n",
       "      <th>reg</th>\n",
       "      <th>topic</th>\n",
       "      <th>eng</th>\n",
       "      <th>sts</th>\n",
       "      <th>dial</th>\n",
       "    </tr>\n",
       "  </thead>\n",
       "  <tbody>\n",
       "    <tr>\n",
       "      <th>114345</th>\n",
       "      <td>gs</td>\n",
       "      <td>가족</td>\n",
       "      <td>If your parents get married and have a baby th...</td>\n",
       "      <td>0.388968</td>\n",
       "      <td>혹시 부모님이 이케 먼저 어무이 아부지를 결혼해가지꼬 애기를 낳으면은</td>\n",
       "    </tr>\n",
       "    <tr>\n",
       "      <th>114659</th>\n",
       "      <td>gs</td>\n",
       "      <td>가족</td>\n",
       "      <td>My son-in-law's been that long, and it's been ...</td>\n",
       "      <td>0.293017</td>\n",
       "      <td>울 사우가 그단세 꼬 끕으로 인대이 인연이 오래됐꼬 그단세 십 년이려느 세월이 글코...</td>\n",
       "    </tr>\n",
       "    <tr>\n",
       "      <th>115346</th>\n",
       "      <td>gs</td>\n",
       "      <td>가족</td>\n",
       "      <td>We share something together, we have this kind...</td>\n",
       "      <td>0.355215</td>\n",
       "      <td>그치 먼가 공유하꼬 이른 기 있어가 쫌 정이 쌓일 수 있는데 부모님은</td>\n",
       "    </tr>\n",
       "    <tr>\n",
       "      <th>115391</th>\n",
       "      <td>gs</td>\n",
       "      <td>가족</td>\n",
       "      <td>She's been here a lot, she's been there a lot,...</td>\n",
       "      <td>0.274996</td>\n",
       "      <td>제 친정엄마느 자주 왔대이 갈 수 있어도 니느 옆에 있으면서도 보제 카기도 글코 오...</td>\n",
       "    </tr>\n",
       "    <tr>\n",
       "      <th>115504</th>\n",
       "      <td>gs</td>\n",
       "      <td>가족</td>\n",
       "      <td>She's like, \"Why can't you be my mom?\"</td>\n",
       "      <td>0.248851</td>\n",
       "      <td>우째 시엄마가 친정엄마가 될 수 있노 이케 생각하잖아.</td>\n",
       "    </tr>\n",
       "    <tr>\n",
       "      <th>...</th>\n",
       "      <td>...</td>\n",
       "      <td>...</td>\n",
       "      <td>...</td>\n",
       "      <td>...</td>\n",
       "      <td>...</td>\n",
       "    </tr>\n",
       "    <tr>\n",
       "      <th>947314</th>\n",
       "      <td>gs</td>\n",
       "      <td>가족</td>\n",
       "      <td>Its you me again</td>\n",
       "      <td>0.218145</td>\n",
       "      <td>당신 나이꼬 인대이 또</td>\n",
       "    </tr>\n",
       "    <tr>\n",
       "      <th>947807</th>\n",
       "      <td>gs</td>\n",
       "      <td>가족</td>\n",
       "      <td>But my dad came a little late that day</td>\n",
       "      <td>0.229053</td>\n",
       "      <td>데 그날 아빠가 쫌 늦케 왔었거든.</td>\n",
       "    </tr>\n",
       "    <tr>\n",
       "      <th>947882</th>\n",
       "      <td>gs</td>\n",
       "      <td>가족</td>\n",
       "      <td>Theyarre saying that they told me to do it</td>\n",
       "      <td>0.352175</td>\n",
       "      <td>이기 부모님은 근꼬 어마느 해라꼬 해라꼬 막 그래 카는데</td>\n",
       "    </tr>\n",
       "    <tr>\n",
       "      <th>949007</th>\n",
       "      <td>gs</td>\n",
       "      <td>가족</td>\n",
       "      <td>If the two of you go out like this my younger ...</td>\n",
       "      <td>0.241196</td>\n",
       "      <td>이케 둘이 나가믄 저 동생이 키가 쫌 컸거든예 또래에 비해서?</td>\n",
       "    </tr>\n",
       "    <tr>\n",
       "      <th>949812</th>\n",
       "      <td>gs</td>\n",
       "      <td>가족</td>\n",
       "      <td>My grandfather hated his older uncle very much</td>\n",
       "      <td>0.234223</td>\n",
       "      <td>그~ 할배가 컨 삼촌을 억수로 싫어했꼬</td>\n",
       "    </tr>\n",
       "  </tbody>\n",
       "</table>\n",
       "<p>782 rows × 5 columns</p>\n",
       "</div>"
      ],
      "text/plain": [
       "       reg topic                                                eng       sts  \\\n",
       "114345  gs    가족  If your parents get married and have a baby th...  0.388968   \n",
       "114659  gs    가족  My son-in-law's been that long, and it's been ...  0.293017   \n",
       "115346  gs    가족  We share something together, we have this kind...  0.355215   \n",
       "115391  gs    가족  She's been here a lot, she's been there a lot,...  0.274996   \n",
       "115504  gs    가족             She's like, \"Why can't you be my mom?\"  0.248851   \n",
       "...     ..   ...                                                ...       ...   \n",
       "947314  gs    가족                                   Its you me again  0.218145   \n",
       "947807  gs    가족             But my dad came a little late that day  0.229053   \n",
       "947882  gs    가족         Theyarre saying that they told me to do it  0.352175   \n",
       "949007  gs    가족  If the two of you go out like this my younger ...  0.241196   \n",
       "949812  gs    가족     My grandfather hated his older uncle very much  0.234223   \n",
       "\n",
       "                                                     dial  \n",
       "114345            혹시 부모님이 이케 먼저 어무이 아부지를 결혼해가지꼬 애기를 낳으면은   \n",
       "114659  울 사우가 그단세 꼬 끕으로 인대이 인연이 오래됐꼬 그단세 십 년이려느 세월이 글코...  \n",
       "115346            그치 먼가 공유하꼬 이른 기 있어가 쫌 정이 쌓일 수 있는데 부모님은   \n",
       "115391  제 친정엄마느 자주 왔대이 갈 수 있어도 니느 옆에 있으면서도 보제 카기도 글코 오...  \n",
       "115504                    우째 시엄마가 친정엄마가 될 수 있노 이케 생각하잖아.   \n",
       "...                                                   ...  \n",
       "947314                                      당신 나이꼬 인대이 또   \n",
       "947807                               데 그날 아빠가 쫌 늦케 왔었거든.   \n",
       "947882                   이기 부모님은 근꼬 어마느 해라꼬 해라꼬 막 그래 카는데   \n",
       "949007                이케 둘이 나가믄 저 동생이 키가 쫌 컸거든예 또래에 비해서?   \n",
       "949812                             그~ 할배가 컨 삼촌을 억수로 싫어했꼬   \n",
       "\n",
       "[782 rows x 5 columns]"
      ]
     },
     "execution_count": 7,
     "metadata": {},
     "output_type": "execute_result"
    }
   ],
   "source": [
    "df[(df.sts > 0.2) & (df.reg == 'gs') & (df.topic == '가족')]"
   ]
  },
  {
   "cell_type": "code",
   "execution_count": 8,
   "id": "f3242294",
   "metadata": {},
   "outputs": [
    {
     "data": {
      "text/plain": [
       "True"
      ]
     },
     "execution_count": 8,
     "metadata": {},
     "output_type": "execute_result"
    }
   ],
   "source": [
    "import sentencepiece as spm\n",
    "\n",
    "en_tokenizer = spm.SentencePieceProcessor()\n",
    "en_tokenizer.Load(os.getenv('HOME') + '/aiffel/saturi/MODEL/spmen_r1.model')\n",
    "ko_tokenizer = spm.SentencePieceProcessor()\n",
    "ko_tokenizer.Load(os.getenv('HOME') + '/aiffel/saturi/MODEL/spmko_r1.model')"
   ]
  },
  {
   "cell_type": "code",
   "execution_count": 9,
   "id": "0525c763",
   "metadata": {},
   "outputs": [
    {
     "name": "stdout",
     "output_type": "stream",
     "text": [
      "3.014851485148515\n"
     ]
    }
   ],
   "source": [
    "test = df.iloc[:100].eng.values.tolist()\n",
    "tok_eng_len = 0\n",
    "char_len =0\n",
    "\n",
    "for i in test :\n",
    "    char_len += len(i)\n",
    "    tok_eng_len += len(en_tokenizer.encode_as_pieces(i))\n",
    "print(char_len/tok_eng_len)"
   ]
  },
  {
   "cell_type": "code",
   "execution_count": 10,
   "id": "04057095",
   "metadata": {},
   "outputs": [],
   "source": [
    "def create_long_seq(df, reg, topic, num_seq,seq_len,char_len) :\n",
    "    max_len = num_seq*seq_len*char_len\n",
    "\n",
    "    ds = df.loc[(df['reg'] == reg)&(df['topic'] == topic)&(df['sts'] > 0.1)].copy()\n",
    "    ds = ds.sample(frac=1, random_state=1)\n",
    "\n",
    "    test_text_dial = ds['dial'].values\n",
    "    test_text_eng = ds['eng'].values\n",
    "    test_iter_dial = iter(test_text_dial)\n",
    "    test_iter_eng = iter(test_text_eng)\n",
    "    \n",
    "    more_examples =True\n",
    "    \n",
    "    while more_examples :\n",
    "        \n",
    "        buffer_len = 0\n",
    "        buffer_eng = []\n",
    "        buffer_dial = []\n",
    "\n",
    "        while True :\n",
    "            try :\n",
    "                text_new_dial = next(test_iter_dial)\n",
    "                text_new_eng = next(test_iter_eng)\n",
    "                buffer_len += len(text_new_dial)\n",
    "                buffer_len += len(text_new_eng)\n",
    "\n",
    "                if max_len <= buffer_len :\n",
    "                    break\n",
    "                else :\n",
    "                    buffer_eng.append(text_new_eng)\n",
    "                    buffer_dial.append(text_new_dial)\n",
    "            except :\n",
    "                test_iter_dial = iter(test_text_dial)\n",
    "                test_iter_eng = iter(test_text_eng)\n",
    "\n",
    "        long_sentences = dict()\n",
    "        long_sentences['data'] = []\n",
    "\n",
    "        for seq_no in range(0,len(buffer_eng),num_seq):\n",
    "            lst_eng  = ''\n",
    "            lst_dial = ''\n",
    "            for k in range(seq_no-num_seq,seq_no) :\n",
    "                lst_eng += buffer_eng[k]+ ' '\n",
    "                lst_dial += buffer_dial[k]+ ' '\n",
    "\n",
    "            long_sentences['data'].append({'reg':reg, 'topic':topic,'eng':lst_eng,'dial':lst_dial})\n",
    "\n",
    "        for i in long_sentences['data'] :\n",
    "            yield i"
   ]
  },
  {
   "cell_type": "code",
   "execution_count": 15,
   "id": "12cb0a6a",
   "metadata": {},
   "outputs": [],
   "source": [
    "import tqdm\n",
    "\n",
    "def generate_long_sequences(df, regs, topics, seq_len, char_len):\n",
    "    long_sentences_final = dict()\n",
    "    long_sentences_final['data'] = []\n",
    "\n",
    "    for reg in regs :\n",
    "        for topic in topics :\n",
    "            num_long_sentences = len(df.loc[(df['reg'] == reg)&(df['topic'] == topic)]) // num_seq\n",
    "            print(num_long_sentences,end=' ')\n",
    "            if num_long_sentences >= 2:\n",
    "                gen = iter(create_long_seq(df, reg, topic, num_long_sentences, seq_len,char_len))\n",
    "            else :\n",
    "                continue\n",
    "            for i in tqdm.tqdm(range(num_long_sentences)) :\n",
    "                long_sentences_final['data'].append(next(gen))\n",
    "                \n",
    "    return long_sentences_final"
   ]
  },
  {
   "cell_type": "code",
   "execution_count": 12,
   "id": "d0f00ec0",
   "metadata": {},
   "outputs": [],
   "source": [
    "regs = df.reg.unique()\n",
    "topics = df.topic.unique()\n",
    "seq_len = 64\n",
    "char_len = 3\n",
    "num_seq = seq_len // 13 # 시퀀스 길이"
   ]
  },
  {
   "cell_type": "code",
   "execution_count": 13,
   "id": "a5a308f4",
   "metadata": {},
   "outputs": [],
   "source": [
    "df_test = df.sample(10000)"
   ]
  },
  {
   "cell_type": "code",
   "execution_count": 16,
   "id": "59d14466",
   "metadata": {},
   "outputs": [
    {
     "ename": "NameError",
     "evalue": "name 'num_long_sentences' is not defined",
     "output_type": "error",
     "traceback": [
      "\u001b[0;31m---------------------------------------------------------------------------\u001b[0m",
      "\u001b[0;31mNameError\u001b[0m                                 Traceback (most recent call last)",
      "\u001b[0;32m/tmp/ipykernel_2681/2162463180.py\u001b[0m in \u001b[0;36m<module>\u001b[0;34m\u001b[0m\n\u001b[0;32m----> 1\u001b[0;31m \u001b[0mgenerate_long_sequences\u001b[0m\u001b[0;34m(\u001b[0m\u001b[0mdf_test\u001b[0m\u001b[0;34m,\u001b[0m \u001b[0mregs\u001b[0m\u001b[0;34m,\u001b[0m \u001b[0mtopics\u001b[0m\u001b[0;34m,\u001b[0m \u001b[0mnum_long_sentences\u001b[0m\u001b[0;34m,\u001b[0m \u001b[0mseq_len\u001b[0m\u001b[0;34m,\u001b[0m\u001b[0mchar_len\u001b[0m\u001b[0;34m)\u001b[0m\u001b[0;34m\u001b[0m\u001b[0;34m\u001b[0m\u001b[0m\n\u001b[0m",
      "\u001b[0;31mNameError\u001b[0m: name 'num_long_sentences' is not defined"
     ]
    }
   ],
   "source": [
    "generate_long_sequences(df_test, regs, topics, num_long_sentences, seq_len,char_len)"
   ]
  },
  {
   "cell_type": "code",
   "execution_count": null,
   "id": "950a2c01",
   "metadata": {},
   "outputs": [],
   "source": [
    "len(long_sentences_final['data'])"
   ]
  },
  {
   "cell_type": "code",
   "execution_count": null,
   "id": "1f6c90c6",
   "metadata": {},
   "outputs": [],
   "source": [
    "long_df = pd.DataFrame(long_sentences_final['data'])"
   ]
  },
  {
   "cell_type": "code",
   "execution_count": null,
   "id": "39b69926",
   "metadata": {},
   "outputs": [],
   "source": [
    "long_df.reg.value_counts()"
   ]
  },
  {
   "cell_type": "code",
   "execution_count": null,
   "id": "5abb5a3b",
   "metadata": {},
   "outputs": [],
   "source": [
    "long_df.topic.value_counts().head(5)"
   ]
  },
  {
   "cell_type": "code",
   "execution_count": null,
   "id": "bf541100",
   "metadata": {},
   "outputs": [],
   "source": [
    "len(long_df.dial.values[0])//3"
   ]
  },
  {
   "cell_type": "code",
   "execution_count": null,
   "id": "96844d16",
   "metadata": {},
   "outputs": [],
   "source": [
    "colors = ['#0B1D77','#0045A5','#0A69C1','#198AC5','#27A9B5']"
   ]
  },
  {
   "cell_type": "code",
   "execution_count": null,
   "id": "cb2a5fac",
   "metadata": {},
   "outputs": [],
   "source": [
    "plt.rcParams.update({'font.family': 'NanumGothic'})\n",
    "data = long_df.reg.value_counts(normalize=True).round(2)\n",
    "fig, ax= plt.subplots()\n",
    "bar = ax.bar(data.index, data)\n",
    "ax.bar_label(bar, label_type ='center', color = 'white')\n",
    "plt.show()"
   ]
  },
  {
   "cell_type": "code",
   "execution_count": null,
   "id": "1f041955",
   "metadata": {},
   "outputs": [],
   "source": [
    "long_df.topic.value_counts(normalize=False).round(2)"
   ]
  },
  {
   "cell_type": "code",
   "execution_count": null,
   "id": "1321327c",
   "metadata": {},
   "outputs": [],
   "source": [
    "data = long_df.topic.value_counts(normalize=False).round(2)\n",
    "fig, ax= plt.subplots(figsize=(25,5))\n",
    "bar = ax.bar(data.index, data)\n",
    "ax.bar_label(bar, label_type ='center', color = 'white')\n",
    "plt.xticks(rotation=90)\n",
    "plt.show()"
   ]
  },
  {
   "cell_type": "code",
   "execution_count": null,
   "id": "85036dc9",
   "metadata": {},
   "outputs": [],
   "source": [
    "data"
   ]
  },
  {
   "cell_type": "code",
   "execution_count": null,
   "id": "1ca2c8fe",
   "metadata": {},
   "outputs": [],
   "source": [
    "data = long_df[long_df['topic'].str.contains(r\"(먹거리|가족|건강|연애/결혼|여행지(국내/해외))\", regex=True)]\n",
    "regs = data.reg.unique()\n",
    "data = data.groupby(by='reg')['topic'].value_counts(normalize=False).unstack()\n",
    "data.loc['cc'].sort_values(ascending=False).head(10)\n",
    "\n",
    "plt.figure(figsize=(15,10))\n",
    "for i,reg in enumerate(regs) :\n",
    "    ax = plt.subplot(3,2,i+1)\n",
    "    temp = data.loc[reg].sort_values(ascending=False).round(2).head(10)\n",
    "    bar = ax.bar(temp.index, temp, color=colors[i])\n",
    "    ax.bar_label(bar, label_type ='center', color = 'white')\n",
    "    plt.title(f\"top 10 topics : {reg}\")\n",
    "    plt.xticks(rotation=45)\n",
    "    \n",
    "plt.tight_layout()\n",
    "plt.show()"
   ]
  },
  {
   "cell_type": "code",
   "execution_count": null,
   "id": "884e555d",
   "metadata": {},
   "outputs": [],
   "source": [
    "data = long_df[long_df['topic'].str.contains(r\"(먹거리|가족|건강|연애/결혼|여행지(국내/해외))\", regex=True)]\n",
    "regs = data.reg.unique()\n",
    "data = data.groupby(by='reg')['topic'].value_counts(normalize=True).unstack()\n",
    "data.loc['cc'].sort_values(ascending=False).head(10)\n",
    "\n",
    "plt.figure(figsize=(15,10))\n",
    "for i,reg in enumerate(regs) :\n",
    "    ax = plt.subplot(3,2,i+1)\n",
    "    temp = data.loc[reg].sort_values(ascending=False).round(2).head(10)\n",
    "    bar = ax.bar(temp.index, temp, color=colors[i])\n",
    "    ax.bar_label(bar, label_type ='center', color = 'white')\n",
    "    plt.title(f\"top 10 topics : {reg}\")\n",
    "    plt.xticks(rotation=45)\n",
    "    \n",
    "plt.tight_layout()\n",
    "plt.show()"
   ]
  },
  {
   "cell_type": "code",
   "execution_count": null,
   "id": "d5ff799d",
   "metadata": {},
   "outputs": [],
   "source": [
    "# long_df.loc[long_df.dial.duplicated()==True]"
   ]
  }
 ],
 "metadata": {
  "kernelspec": {
   "display_name": "Python 3 (ipykernel)",
   "language": "python",
   "name": "python3"
  },
  "language_info": {
   "codemirror_mode": {
    "name": "ipython",
    "version": 3
   },
   "file_extension": ".py",
   "mimetype": "text/x-python",
   "name": "python",
   "nbconvert_exporter": "python",
   "pygments_lexer": "ipython3",
   "version": "3.9.7"
  }
 },
 "nbformat": 4,
 "nbformat_minor": 5
}
